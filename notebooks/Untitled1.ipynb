{
 "cells": [
  {
   "cell_type": "code",
   "execution_count": 1,
   "id": "2a0259eb-a8a0-43c5-bd36-5f9f59f1f299",
   "metadata": {},
   "outputs": [],
   "source": [
    "from torch.multiprocessing import Process"
   ]
  },
  {
   "cell_type": "code",
   "execution_count": 2,
   "id": "c064819b-a05d-437c-aabf-0cd2fe30cd0e",
   "metadata": {},
   "outputs": [
    {
     "data": {
      "text/plain": [
       "multiprocessing.context.Process"
      ]
     },
     "execution_count": 2,
     "metadata": {},
     "output_type": "execute_result"
    }
   ],
   "source": [
    "Process"
   ]
  },
  {
   "cell_type": "code",
   "execution_count": 3,
   "id": "67ad3fcc-bbfd-4ed9-8db2-2e0a7ae70268",
   "metadata": {},
   "outputs": [
    {
     "ename": "NameError",
     "evalue": "name 'Manager' is not defined",
     "output_type": "error",
     "traceback": [
      "\u001b[0;31m---------------------------------------------------------------------------\u001b[0m",
      "\u001b[0;31mNameError\u001b[0m                                 Traceback (most recent call last)",
      "Cell \u001b[0;32mIn[3], line 1\u001b[0m\n\u001b[0;32m----> 1\u001b[0m \u001b[43mManager\u001b[49m\n",
      "\u001b[0;31mNameError\u001b[0m: name 'Manager' is not defined"
     ]
    }
   ],
   "source": [
    "Manager"
   ]
  },
  {
   "cell_type": "code",
   "execution_count": null,
   "id": "746c203e-dc60-4450-bbec-809d96b1fcee",
   "metadata": {},
   "outputs": [],
   "source": []
  }
 ],
 "metadata": {
  "kernelspec": {
   "display_name": "Python 3 (ipykernel)",
   "language": "python",
   "name": "python3"
  },
  "language_info": {
   "codemirror_mode": {
    "name": "ipython",
    "version": 3
   },
   "file_extension": ".py",
   "mimetype": "text/x-python",
   "name": "python",
   "nbconvert_exporter": "python",
   "pygments_lexer": "ipython3",
   "version": "3.9.7"
  }
 },
 "nbformat": 4,
 "nbformat_minor": 5
}
