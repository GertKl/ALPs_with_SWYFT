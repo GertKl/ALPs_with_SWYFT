{
 "cells": [
  {
   "cell_type": "markdown",
   "id": "761ce862-fee5-492d-b86d-fce0fd1c30ec",
   "metadata": {},
   "source": [
    "# Setup"
   ]
  },
  {
   "cell_type": "markdown",
   "id": "97bbea55-f9dc-48fb-aaff-e85e8b5cfdc8",
   "metadata": {},
   "source": [
    "Running the simulations presumes the installation of specific packages, in particular Gammapy0.19. The easiest is maybe to simply recreate my conda environment, and run this notebook from there. Download the file env_swyft3-ext.yaml, and write the following in the terminal:\n",
    "\n",
    "```\n",
    "$conda env create --file env_swyft3-ext.yaml --name swyft3\n",
    "$conda activate swyft3\n",
    "```\n",
    "Then download the IRF file *Prod5-North-20deg-AverageAz-4LSTs09MSTs.180000s-v0.1.fits* and *ALP_quick_sim.py*. If you place them in the same directory as this notebook, you should be set to run. Otherwise adapt the paths in the following cell:\n"
   ]
  },
  {
   "cell_type": "code",
   "execution_count": 1,
   "id": "c771a600-14a7-4c4d-bd5b-2af4e64e55f6",
   "metadata": {},
   "outputs": [],
   "source": [
    "import os\n",
    "ALP_file_dir = os.path.dirname(os.getcwd())+\"/analysis_scripts/ALP_sim\"             # The directory where ALP_quick_sim.py is placed. Can be empty if it's in same folder as notebook. "
   ]
  },
  {
   "cell_type": "code",
   "execution_count": 2,
   "id": "994e03df-29b3-42c3-9455-01a2de2927f0",
   "metadata": {},
   "outputs": [],
   "source": [
    "import sys\n",
    "if ALP_file_dir: sys.path.append(ALP_file_dir)   #!!! Change path to location of differential_counts.py and ALP_sim.py\n",
    "from ALP_quick_sim import ALP_sim"
   ]
  },
  {
   "cell_type": "code",
   "execution_count": 3,
   "id": "171c30bd-8fde-4b36-807e-cacb6e292a43",
   "metadata": {},
   "outputs": [],
   "source": [
    "import numpy as np"
   ]
  },
  {
   "cell_type": "code",
   "execution_count": 4,
   "id": "9b0c061b-7184-4af4-ae1f-bc4f440cbd99",
   "metadata": {},
   "outputs": [],
   "source": [
    "import matplotlib.pyplot as plt"
   ]
  },
  {
   "cell_type": "code",
   "execution_count": 5,
   "id": "d48cc91f-99bb-4801-b8d0-606a0596dde8",
   "metadata": {},
   "outputs": [],
   "source": [
    "# import swyft.lightning as sl\n",
    "import swyft"
   ]
  },
  {
   "cell_type": "code",
   "execution_count": 6,
   "id": "03676462-5c2a-419c-8364-5bbd2f612591",
   "metadata": {},
   "outputs": [],
   "source": [
    "import torch\n",
    "import torch.distributions as td"
   ]
  },
  {
   "cell_type": "code",
   "execution_count": 7,
   "id": "3addefe4-0875-4176-8a24-73cb6dff7780",
   "metadata": {},
   "outputs": [],
   "source": [
    "import scipy.stats as scist"
   ]
  },
  {
   "cell_type": "code",
   "execution_count": 8,
   "id": "365b5896-a01d-41db-a6b2-b49d40409c70",
   "metadata": {},
   "outputs": [],
   "source": [
    "from joblib import Parallel, delayed"
   ]
  },
  {
   "cell_type": "code",
   "execution_count": 9,
   "id": "a3b231b3-dffa-468d-9a42-0813aeb529ee",
   "metadata": {},
   "outputs": [],
   "source": [
    "import copy"
   ]
  },
  {
   "cell_type": "code",
   "execution_count": 10,
   "id": "21d58f2a-82ea-4cf5-bed1-d0f3f97ac0e2",
   "metadata": {},
   "outputs": [],
   "source": [
    "A = ALP_sim(set_obs=False,set_null=False)"
   ]
  },
  {
   "cell_type": "markdown",
   "id": "ba1d1ff0-9496-4946-a3ed-d754706e2ebe",
   "metadata": {},
   "source": [
    "# Configuration"
   ]
  },
  {
   "cell_type": "code",
   "execution_count": 11,
   "id": "5aca913b-4a38-4645-a525-e2545dadd52b",
   "metadata": {},
   "outputs": [],
   "source": [
    "A.configure_model(\n",
    "    model=\"toy_poly\",\n",
    "    noise=\"gauss\",\n",
    "    sigma=0.2,\n",
    "    param_names = ['m','g','A'],\n",
    "    floor=None\n",
    ")"
   ]
  },
  {
   "cell_type": "code",
   "execution_count": null,
   "id": "b9616c46-3bbc-4485-8f4d-698504108010",
   "metadata": {},
   "outputs": [],
   "source": []
  },
  {
   "cell_type": "code",
   "execution_count": 12,
   "id": "ead41311-cdf2-40b4-9e38-28c907eab7a5",
   "metadata": {},
   "outputs": [
    {
     "data": {
      "text/plain": [
       "'gamma'"
      ]
     },
     "execution_count": 12,
     "metadata": {},
     "output_type": "execute_result"
    }
   ],
   "source": [
    "A._geom_type"
   ]
  },
  {
   "cell_type": "code",
   "execution_count": null,
   "id": "87f6c8e2-2ea6-43e0-b4df-4045b3e17cad",
   "metadata": {},
   "outputs": [],
   "source": []
  },
  {
   "cell_type": "code",
   "execution_count": 13,
   "id": "197161eb-cc49-4489-9377-1863bdb474b8",
   "metadata": {},
   "outputs": [
    {
     "name": "stdout",
     "output_type": "stream",
     "text": [
      "yoop\n"
     ]
    }
   ],
   "source": [
    "A.configure_obs(\n",
    "    nbins = 100,\n",
    "    emin = -1,\n",
    "    emax = 1,\n",
    "    geom = \"simple\"\n",
    ")"
   ]
  },
  {
   "cell_type": "code",
   "execution_count": 14,
   "id": "942ffc7e-e6ab-43e3-9cce-63ceaa8b82f7",
   "metadata": {},
   "outputs": [],
   "source": [
    "n_sim = 10_000\n",
    "\n",
    "bounds = [\n",
    "    [-1,1],\n",
    "    [-1,1],\n",
    "    [-1,1]\n",
    "]\n",
    "\n",
    "truth = [0.09762701, 0.43037873, 0.20552675]\n"
   ]
  },
  {
   "cell_type": "markdown",
   "id": "33f44b0a-89bd-4870-a595-d51023d2dcf7",
   "metadata": {},
   "source": [
    "# Simulation setup"
   ]
  },
  {
   "cell_type": "code",
   "execution_count": 15,
   "id": "b21bca98-ffac-4832-bb1f-e6850ed19340",
   "metadata": {},
   "outputs": [],
   "source": [
    "class ALP_SWYFT_Simulator(swyft.Simulator):\n",
    "    def __init__(self, A, bounds=None):\n",
    "        super().__init__()\n",
    "\n",
    "        self.transform_samples = swyft.to_numpy32\n",
    "        \n",
    "        self.A = copy.deepcopy(A)\n",
    "        self.bounds = bounds\n",
    "\n",
    "        self.samplers = []\n",
    "        for i,bound in enumerate(bounds):\n",
    "            self.samplers.append(scist.uniform(loc=bound[0], scale=bound[1]-bound[0]))\n",
    "            \n",
    "        \n",
    "    def sample_prior(self,):\n",
    "        param_sample = [sampler.rvs() for sampler in self.samplers]\n",
    "        return np.array(param_sample)\n",
    "\n",
    "    def generate_exp(self,vec):\n",
    "        exp = A.simulate(vec)['y']\n",
    "        return exp\n",
    "\n",
    "    def generate_data(self,exp,params):\n",
    "        data = A.noise({'y':exp},params)['y']\n",
    "        return data\n",
    "\n",
    "    def build(self, graph):\n",
    "        params = graph.node('params', self.sample_prior)\n",
    "        exp = graph.node('exp', self.generate_exp, params)\n",
    "        data = graph.node('data', self.generate_data,exp,params)\n",
    "        "
   ]
  },
  {
   "cell_type": "code",
   "execution_count": 16,
   "id": "5c98ddc7-d01d-4ecc-95e0-d1a7a7a168d8",
   "metadata": {},
   "outputs": [],
   "source": [
    "sim = ALP_SWYFT_Simulator(A, bounds)"
   ]
  },
  {
   "cell_type": "code",
   "execution_count": 17,
   "id": "8556e52e-8c2f-4b76-9582-7a74f5843ea8",
   "metadata": {},
   "outputs": [
    {
     "data": {
      "application/vnd.jupyter.widget-view+json": {
       "model_id": "1d75fe9babbf44b6a1207f9f2247b141",
       "version_major": 2,
       "version_minor": 0
      },
      "text/plain": [
       "  0%|          | 0/10000 [00:00<?, ?it/s]"
      ]
     },
     "metadata": {},
     "output_type": "display_data"
    }
   ],
   "source": [
    "samples = sim.sample(n_sim, targets=['data','exp','params'])"
   ]
  },
  {
   "cell_type": "code",
   "execution_count": 18,
   "id": "14c1ccdd-ef2a-40d5-a233-f7cc7beca61d",
   "metadata": {},
   "outputs": [],
   "source": [
    "obs_exp=sim.generate_exp(truth)\n",
    "obs_data = sim.generate_data(obs_exp,truth)\n",
    "obs = swyft.Sample(data=obs_data, exp=obs_exp, params=truth)"
   ]
  },
  {
   "cell_type": "code",
   "execution_count": 19,
   "id": "7bb7317c-4068-435c-994d-35b4f9c87e1b",
   "metadata": {},
   "outputs": [
    {
     "data": {
      "image/png": "[encoded data removed]",
      "text/plain": [
       "<Figure size 1200x400 with 3 Axes>"
      ]
     },
     "metadata": {},
     "output_type": "display_data"
    }
   ],
   "source": [
    "plt.figure(figsize=(12,4))\n",
    "for i in range(len(bounds)):\n",
    "    plt.subplot(1,3,i+1)\n",
    "    plt.hist(samples['params'][:,i])"
   ]
  },
  {
   "cell_type": "code",
   "execution_count": 20,
   "id": "534c0872-38fa-4613-aadc-fe6b83dbeac8",
   "metadata": {},
   "outputs": [
    {
     "name": "stderr",
     "output_type": "stream",
     "text": [
      "/home/gert/ALPs_with_SWYFT/analysis_scripts/ALP_sim/ALP_quick_sim.py:355: FutureWarning: elementwise comparison failed; returning scalar instead, but in the future will perform elementwise comparison\n",
      "  if params != \"_empty\" and not np.array_equiv(np.array(params),np.array(self.params)):\n",
      "/home/gert/ALPs_with_SWYFT/analysis_scripts/ALP_sim/ALP_quick_sim.py:472: UserWarning: Imported observed counts should all be integers\n",
      "  warnings.warn(\"Imported observed counts should all be integers\")\n"
     ]
    },
    {
     "ename": "UnboundLocalError",
     "evalue": "local variable 'lower_error' referenced before assignment",
     "output_type": "error",
     "traceback": [
      "\u001b[0;31m---------------------------------------------------------------------------\u001b[0m",
      "\u001b[0;31mUnboundLocalError\u001b[0m                         Traceback (most recent call last)",
      "Cell \u001b[0;32mIn[20], line 7\u001b[0m\n\u001b[1;32m      5\u001b[0m     A\u001b[38;5;241m.\u001b[39mimport_counts(obs\u001b[38;5;241m=\u001b[39msamples[i][\u001b[38;5;124m'\u001b[39m\u001b[38;5;124mdata\u001b[39m\u001b[38;5;124m'\u001b[39m],exp\u001b[38;5;241m=\u001b[39msamples[i][\u001b[38;5;124m'\u001b[39m\u001b[38;5;124mexp\u001b[39m\u001b[38;5;124m'\u001b[39m])\n\u001b[1;32m      6\u001b[0m     new_fig \u001b[38;5;241m=\u001b[39m \u001b[38;5;241m1\u001b[39m \u001b[38;5;28;01mif\u001b[39;00m i\u001b[38;5;241m==\u001b[39m\u001b[38;5;241m0\u001b[39m \u001b[38;5;28;01melse\u001b[39;00m \u001b[38;5;241m0\u001b[39m\n\u001b[0;32m----> 7\u001b[0m     \u001b[43mA\u001b[49m\u001b[38;5;241;43m.\u001b[39;49m\u001b[43mcompute_case\u001b[49m\u001b[43m(\u001b[49m\u001b[43mnew_fig\u001b[49m\u001b[38;5;241;43m=\u001b[39;49m\u001b[43mnew_fig\u001b[49m\u001b[43m,\u001b[49m\u001b[43mnew_counts\u001b[49m\u001b[38;5;241;43m=\u001b[39;49m\u001b[38;5;241;43m0\u001b[39;49m\u001b[43m,\u001b[49m\u001b[43mcolor\u001b[49m\u001b[38;5;241;43m=\u001b[39;49m\u001b[43mcolors\u001b[49m\u001b[43m[\u001b[49m\u001b[43mi\u001b[49m\u001b[43m]\u001b[49m\u001b[43m,\u001b[49m\u001b[43mcolor_obs\u001b[49m\u001b[38;5;241;43m=\u001b[39;49m\u001b[43mcolors\u001b[49m\u001b[43m[\u001b[49m\u001b[43mi\u001b[49m\u001b[43m]\u001b[49m\u001b[43m,\u001b[49m\u001b[43mlinestyle\u001b[49m\u001b[38;5;241;43m=\u001b[39;49m\u001b[38;5;124;43m\"\u001b[39;49m\u001b[38;5;124;43m-\u001b[39;49m\u001b[38;5;124;43m\"\u001b[39;49m\u001b[43m,\u001b[49m\n\u001b[1;32m      8\u001b[0m \u001b[43m                   \u001b[49m\u001b[43mlabel_obs\u001b[49m\u001b[38;5;241;43m=\u001b[39;49m\u001b[38;5;28;43;01mFalse\u001b[39;49;00m\u001b[43m,\u001b[49m\u001b[43m \u001b[49m\u001b[43merrorbands\u001b[49m\u001b[38;5;241;43m=\u001b[39;49m\u001b[38;5;28;43;01mFalse\u001b[39;49;00m\u001b[43m)\u001b[49m\n\u001b[1;32m      9\u001b[0m A\u001b[38;5;241m.\u001b[39mconfigure_model(params\u001b[38;5;241m=\u001b[39mobs[\u001b[38;5;124m'\u001b[39m\u001b[38;5;124mparams\u001b[39m\u001b[38;5;124m'\u001b[39m])\n\u001b[1;32m     10\u001b[0m A\u001b[38;5;241m.\u001b[39mimport_counts(obs\u001b[38;5;241m=\u001b[39mobs[\u001b[38;5;124m'\u001b[39m\u001b[38;5;124mdata\u001b[39m\u001b[38;5;124m'\u001b[39m],exp\u001b[38;5;241m=\u001b[39mobs[\u001b[38;5;124m'\u001b[39m\u001b[38;5;124mexp\u001b[39m\u001b[38;5;124m'\u001b[39m])\n",
      "File \u001b[0;32m~/ALPs_with_SWYFT/analysis_scripts/ALP_sim/ALP_quick_sim.py:1238\u001b[0m, in \u001b[0;36mALP_sim.compute_case\u001b[0;34m(self, new_fig, new_counts, null, plot_obs, plot_exp, plot_survival, errorbands, color, color_obs, linestyle, label_exp, label_obs, label_survival)\u001b[0m\n\u001b[1;32m   1236\u001b[0m         lower_uncertainty, upper_uncertainty \u001b[38;5;241m=\u001b[39m np\u001b[38;5;241m.\u001b[39msqrt(uncertainty), np\u001b[38;5;241m.\u001b[39msqrt(uncertainty)\n\u001b[1;32m   1237\u001b[0m     \u001b[38;5;28;01melif\u001b[39;00m \u001b[38;5;28mself\u001b[39m\u001b[38;5;241m.\u001b[39m_which_noise \u001b[38;5;241m==\u001b[39m \u001b[38;5;124m\"\u001b[39m\u001b[38;5;124mgauss\u001b[39m\u001b[38;5;124m\"\u001b[39m:\n\u001b[0;32m-> 1238\u001b[0m         lower_error, upper_error \u001b[38;5;241m=\u001b[39m np\u001b[38;5;241m.\u001b[39mones_like(\u001b[43mlower_error\u001b[49m)\u001b[38;5;241m*\u001b[39m\u001b[38;5;28mself\u001b[39m\u001b[38;5;241m.\u001b[39m_noise_sigma, np\u001b[38;5;241m.\u001b[39mones_like(upper_error)\u001b[38;5;241m*\u001b[39m\u001b[38;5;28mself\u001b[39m\u001b[38;5;241m.\u001b[39m_noise_sigma\n\u001b[1;32m   1239\u001b[0m         lower_uncertainty, upper_uncertainty \u001b[38;5;241m=\u001b[39m np\u001b[38;5;241m.\u001b[39mones_like(lower_uncertainty)\u001b[38;5;241m*\u001b[39m\u001b[38;5;28mself\u001b[39m\u001b[38;5;241m.\u001b[39m_noise_sigma, np\u001b[38;5;241m.\u001b[39mones_like(upper_uncertainty)\u001b[38;5;241m*\u001b[39m\u001b[38;5;28mself\u001b[39m\u001b[38;5;241m.\u001b[39m_noise_sigma\n\u001b[1;32m   1241\u001b[0m \u001b[38;5;66;03m# print(\"Upper_uncertainty: \" +  str(upper_uncertainty))     \u001b[39;00m\n\u001b[1;32m   1242\u001b[0m \n\u001b[1;32m   1243\u001b[0m \u001b[38;5;66;03m# Determining the axis limits of the plot\u001b[39;00m\n",
      "\u001b[0;31mUnboundLocalError\u001b[0m: local variable 'lower_error' referenced before assignment"
     ]
    }
   ],
   "source": [
    "colors = ['r','#FFA500','y','g','c','b','m']\n",
    "A.configure_plot(xmin=None, xmax=None, legend=0, logx=0, logy=0)\n",
    "for i in range(min(len(samples),7)):\n",
    "    A.configure_model(params=samples[i]['params'])\n",
    "    A.import_counts(obs=samples[i]['data'],exp=samples[i]['exp'])\n",
    "    new_fig = 1 if i==0 else 0\n",
    "    A.compute_case(new_fig=new_fig,new_counts=0,color=colors[i],color_obs=colors[i],linestyle=\"-\",\n",
    "                   label_obs=False, errorbands=False)\n",
    "A.configure_model(params=obs['params'])\n",
    "A.import_counts(obs=obs['data'],exp=obs['exp'])\n",
    "A.compute_case(new_fig=0,new_counts=0,color='k',color_obs='k',linestyle=\"-\",label_obs=0,errorbands=0)  "
   ]
  },
  {
   "cell_type": "code",
   "execution_count": 21,
   "id": "7b5fcc60-d0fb-43ee-b493-7ca0599cc885",
   "metadata": {},
   "outputs": [],
   "source": [
    "class Network(swyft.SwyftModule):\n",
    "    def __init__(self):\n",
    "        super().__init__()\n",
    "        self.logratios = swyft.LogRatioEstimator_1dim(\n",
    "            num_features = A.nbins, \n",
    "            num_params = len(bounds), \n",
    "            varnames = sim.A.param_names)\n",
    "        self.learning_rate = 0.0005\n",
    "    \n",
    "    def forward(self, A, B):\n",
    "        return self.logratios(A['data'], B['params'])"
   ]
  },
  {
   "cell_type": "code",
   "execution_count": 22,
   "id": "df4dd245-d2c1-4aa0-83cf-bac779081b66",
   "metadata": {},
   "outputs": [],
   "source": [
    "network = Network()"
   ]
  },
  {
   "cell_type": "code",
   "execution_count": 23,
   "id": "c648ebe1-dcb1-466d-b0f5-7d54b02e7465",
   "metadata": {},
   "outputs": [
    {
     "name": "stderr",
     "output_type": "stream",
     "text": [
      "GPU available: False, used: False\n",
      "TPU available: False, using: 0 TPU cores\n",
      "IPU available: False, using: 0 IPUs\n",
      "HPU available: False, using: 0 HPUs\n",
      "/home/gert/anaconda3/envs/swyft4-dev/lib/python3.9/site-packages/pytorch_lightning/trainer/connectors/logger_connector/logger_connector.py:67: UserWarning: Starting from v1.9.0, `tensorboardX` has been removed as a dependency of the `pytorch_lightning` package, due to potential conflicts with other packages in the ML ecosystem. For this reason, `logger=True` will use `CSVLogger` as the default logger, unless the `tensorboard` or `tensorboardX` packages are found. Please `pip install lightning[extra]` or one of them to enable TensorBoard support by default\n",
      "  warning_cache.warn(\n"
     ]
    }
   ],
   "source": [
    "trainer = swyft.SwyftTrainer(\n",
    "    accelerator = 'cpu', precision = 64 #, min_epochs =25, \n",
    ")"
   ]
  },
  {
   "cell_type": "code",
   "execution_count": 24,
   "id": "09f9bd23-639b-4fa2-998d-fbe0c3e95d0c",
   "metadata": {},
   "outputs": [],
   "source": [
    "dm = swyft.SwyftDataModule(samples)"
   ]
  },
  {
   "cell_type": "code",
   "execution_count": 25,
   "id": "293484fc-7063-4c92-a8e9-d30bfb8be344",
   "metadata": {},
   "outputs": [
    {
     "name": "stderr",
     "output_type": "stream",
     "text": [
      "/home/gert/anaconda3/envs/swyft4-dev/lib/python3.9/site-packages/pytorch_lightning/loops/utilities.py:94: PossibleUserWarning: `max_epochs` was not set. Setting it to 1000 epochs. To train without an epoch limit, set `max_epochs=-1`.\n",
      "  rank_zero_warn(\n",
      "The following callbacks returned in `LightningModule.configure_callbacks` will override existing callbacks passed to Trainer: ModelCheckpoint\n",
      "\n",
      "  | Name      | Type                   | Params\n",
      "-----------------------------------------------------\n",
      "0 | logratios | LogRatioEstimator_1dim | 71.2 K\n",
      "-----------------------------------------------------\n",
      "71.2 K    Trainable params\n",
      "0         Non-trainable params\n",
      "71.2 K    Total params\n",
      "0.570     Total estimated model params size (MB)\n"
     ]
    },
    {
     "data": {
      "application/vnd.jupyter.widget-view+json": {
       "model_id": "",
       "version_major": 2,
       "version_minor": 0
      },
      "text/plain": [
       "Sanity Checking: 0it [00:00, ?it/s]"
      ]
     },
     "metadata": {},
     "output_type": "display_data"
    },
    {
     "name": "stderr",
     "output_type": "stream",
     "text": [
      "/home/gert/anaconda3/envs/swyft4-dev/lib/python3.9/site-packages/pytorch_lightning/trainer/connectors/data_connector.py:224: PossibleUserWarning: The dataloader, val_dataloader 0, does not have many workers which may be a bottleneck. Consider increasing the value of the `num_workers` argument` (try 8 which is the number of cpus on this machine) in the `DataLoader` init to improve performance.\n",
      "  rank_zero_warn(\n",
      "/home/gert/anaconda3/envs/swyft4-dev/lib/python3.9/site-packages/pytorch_lightning/trainer/connectors/data_connector.py:224: PossibleUserWarning: The dataloader, train_dataloader, does not have many workers which may be a bottleneck. Consider increasing the value of the `num_workers` argument` (try 8 which is the number of cpus on this machine) in the `DataLoader` init to improve performance.\n",
      "  rank_zero_warn(\n"
     ]
    },
    {
     "data": {
      "application/vnd.jupyter.widget-view+json": {
       "model_id": "965eff9bf32a423d993b3b7ff2ce2264",
       "version_major": 2,
       "version_minor": 0
      },
      "text/plain": [
       "Training: 0it [00:00, ?it/s]"
      ]
     },
     "metadata": {},
     "output_type": "display_data"
    },
    {
     "data": {
      "application/vnd.jupyter.widget-view+json": {
       "model_id": "",
       "version_major": 2,
       "version_minor": 0
      },
      "text/plain": [
       "Validation: 0it [00:00, ?it/s]"
      ]
     },
     "metadata": {},
     "output_type": "display_data"
    },
    {
     "data": {
      "application/vnd.jupyter.widget-view+json": {
       "model_id": "",
       "version_major": 2,
       "version_minor": 0
      },
      "text/plain": [
       "Validation: 0it [00:00, ?it/s]"
      ]
     },
     "metadata": {},
     "output_type": "display_data"
    },
    {
     "data": {
      "application/vnd.jupyter.widget-view+json": {
       "model_id": "",
       "version_major": 2,
       "version_minor": 0
      },
      "text/plain": [
       "Validation: 0it [00:00, ?it/s]"
      ]
     },
     "metadata": {},
     "output_type": "display_data"
    },
    {
     "data": {
      "application/vnd.jupyter.widget-view+json": {
       "model_id": "",
       "version_major": 2,
       "version_minor": 0
      },
      "text/plain": [
       "Validation: 0it [00:00, ?it/s]"
      ]
     },
     "metadata": {},
     "output_type": "display_data"
    },
    {
     "data": {
      "application/vnd.jupyter.widget-view+json": {
       "model_id": "",
       "version_major": 2,
       "version_minor": 0
      },
      "text/plain": [
       "Validation: 0it [00:00, ?it/s]"
      ]
     },
     "metadata": {},
     "output_type": "display_data"
    },
    {
     "data": {
      "application/vnd.jupyter.widget-view+json": {
       "model_id": "",
       "version_major": 2,
       "version_minor": 0
      },
      "text/plain": [
       "Validation: 0it [00:00, ?it/s]"
      ]
     },
     "metadata": {},
     "output_type": "display_data"
    },
    {
     "name": "stdout",
     "output_type": "stream",
     "text": [
      "Reloading best model: /home/gert/ALPs_with_SWYFT/notebooks/lightning_logs/version_8/checkpoints/epoch=0-step=250.ckpt\n"
     ]
    }
   ],
   "source": [
    "trainer.fit(network, dm)"
   ]
  },
  {
   "cell_type": "code",
   "execution_count": 26,
   "id": "4bbd79f7-4bd3-46fd-b94a-1ef765e36f99",
   "metadata": {},
   "outputs": [
    {
     "data": {
      "application/vnd.jupyter.widget-view+json": {
       "model_id": "1b8db1f40df04f9c894c6817eab017fc",
       "version_major": 2,
       "version_minor": 0
      },
      "text/plain": [
       "  0%|          | 0/100000 [00:00<?, ?it/s]"
      ]
     },
     "metadata": {},
     "output_type": "display_data"
    }
   ],
   "source": [
    "prior_samples = sim.sample(100_000, targets=['params'])"
   ]
  },
  {
   "cell_type": "code",
   "execution_count": 27,
   "id": "70db11b2-849f-436d-ac1b-b8e2011059d1",
   "metadata": {},
   "outputs": [
    {
     "name": "stderr",
     "output_type": "stream",
     "text": [
      "The following callbacks returned in `LightningModule.configure_callbacks` will override existing callbacks passed to Trainer: EarlyStopping, ModelCheckpoint\n"
     ]
    },
    {
     "data": {
      "application/vnd.jupyter.widget-view+json": {
       "model_id": "9d05d49535e74ecaa3005591c2f641eb",
       "version_major": 2,
       "version_minor": 0
      },
      "text/plain": [
       "Predicting: 250it [00:00, ?it/s]"
      ]
     },
     "metadata": {},
     "output_type": "display_data"
    },
    {
     "name": "stderr",
     "output_type": "stream",
     "text": [
      "/home/gert/anaconda3/envs/swyft4-dev/lib/python3.9/site-packages/pytorch_lightning/loops/epoch/prediction_epoch_loop.py:173: UserWarning: Lightning couldn't infer the indices fetched for your dataloader.\n",
      "  warning_cache.warn(\"Lightning couldn't infer the indices fetched for your dataloader.\")\n"
     ]
    }
   ],
   "source": [
    "logratios = trainer.infer(\n",
    "                        network,\n",
    "                        obs,\n",
    "                        prior_samples\n",
    "                        )"
   ]
  },
  {
   "cell_type": "code",
   "execution_count": 28,
   "id": "91dbd5a1-9a3c-49b5-ba55-2e9de3252162",
   "metadata": {},
   "outputs": [
    {
     "data": {
      "image/png": "[encoded data removed]",
      "text/plain": [
       "<Figure size 1500x500 with 2 Axes>"
      ]
     },
     "metadata": {},
     "output_type": "display_data"
    }
   ],
   "source": [
    "fig, axs = plt.subplots(1,2, figsize=(15,5))\n",
    "for i in range(2):\n",
    "    axs[i].hist(\n",
    "        logratios.params[:,i,0],\n",
    "        density=True,\n",
    "        weights=np.exp(logratios.logratios[:,i])\n",
    "    )"
   ]
  },
  {
   "cell_type": "code",
   "execution_count": 29,
   "id": "c6ef4387-2870-4898-96ce-8133aa1b3b43",
   "metadata": {},
   "outputs": [
    {
     "data": {
      "image/png": "[encoded data removed]",
      "text/plain": [
       "<Figure size 640x480 with 3 Axes>"
      ]
     },
     "execution_count": 29,
     "metadata": {},
     "output_type": "execute_result"
    },
    {
     "data": {
      "image/png": "[encoded data removed]",
      "text/plain": [
       "<Figure size 640x480 with 3 Axes>"
      ]
     },
     "metadata": {},
     "output_type": "display_data"
    }
   ],
   "source": [
    "swyft.plot_posterior(logratios, A.param_names, truth={A.param_names[i]:truth[i] for i in range(len(truth))})"
   ]
  },
  {
   "cell_type": "code",
   "execution_count": 30,
   "id": "202327f4-8343-463c-b1ee-eba8bfb050af",
   "metadata": {},
   "outputs": [
    {
     "data": {
      "text/plain": [
       "[0.09762701, 0.43037873, 0.20552675]"
      ]
     },
     "execution_count": 30,
     "metadata": {},
     "output_type": "execute_result"
    }
   ],
   "source": [
    "truth"
   ]
  },
  {
   "cell_type": "code",
   "execution_count": null,
   "id": "64eb936d-cd12-4a46-9777-31531de29317",
   "metadata": {},
   "outputs": [],
   "source": []
  },
  {
   "cell_type": "code",
   "execution_count": null,
   "id": "35844405-349d-4700-b05c-2a7de8b8f138",
   "metadata": {},
   "outputs": [],
   "source": []
  },
  {
   "cell_type": "code",
   "execution_count": null,
   "id": "10b1bc20-42fa-4ca6-9e9b-7223f333cb79",
   "metadata": {},
   "outputs": [],
   "source": []
  }
 ],
 "metadata": {
  "kernelspec": {
   "display_name": "Python 3 (ipykernel)",
   "language": "python",
   "name": "python3"
  },
  "language_info": {
   "codemirror_mode": {
    "name": "ipython",
    "version": 3
   },
   "file_extension": ".py",
   "mimetype": "text/x-python",
   "name": "python",
   "nbconvert_exporter": "python",
   "pygments_lexer": "ipython3",
   "version": "3.9.7"
  }
 },
 "nbformat": 4,
 "nbformat_minor": 5
}
