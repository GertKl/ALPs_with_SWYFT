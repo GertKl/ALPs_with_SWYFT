{
 "cells": [
  {
   "cell_type": "markdown",
   "id": "5a98fdbd-7ac1-4a7d-a730-db2031b7ea91",
   "metadata": {},
   "source": [
    "# Data dependence on g, second electron density varied"
   ]
  },
  {
   "cell_type": "code",
   "execution_count": 1,
   "id": "c26171a8-808a-4b62-9ae9-7f354a929c28",
   "metadata": {},
   "outputs": [],
   "source": [
    "import numpy as np\n",
    "import random\n",
    "import time"
   ]
  },
  {
   "cell_type": "code",
   "execution_count": 2,
   "id": "8fe121a6-ec5d-4cc4-ad4d-8cdf4b9d9a14",
   "metadata": {},
   "outputs": [],
   "source": [
    "import matplotlib\n",
    "import matplotlib.pyplot as plt"
   ]
  },
  {
   "cell_type": "code",
   "execution_count": 3,
   "id": "d32bd261-a24f-4f38-a5f9-0b80af1c5aee",
   "metadata": {},
   "outputs": [],
   "source": [
    "import IPython"
   ]
  },
  {
   "cell_type": "code",
   "execution_count": 4,
   "id": "deba33bc-9a74-490f-bc82-68cbf55a582b",
   "metadata": {},
   "outputs": [],
   "source": [
    "%matplotlib inline"
   ]
  },
  {
   "cell_type": "code",
   "execution_count": 5,
   "id": "84207f95-6db8-4dda-9580-d204fb251233",
   "metadata": {},
   "outputs": [
    {
     "name": "stdout",
     "output_type": "stream",
     "text": [
      "1.20.3\n"
     ]
    }
   ],
   "source": [
    "print(np.__version__) #Should be 1.20.3"
   ]
  },
  {
   "cell_type": "code",
   "execution_count": 6,
   "id": "2e7fd73a-2788-480c-92ac-095f830bf28f",
   "metadata": {},
   "outputs": [
    {
     "ename": "KeyboardInterrupt",
     "evalue": "",
     "output_type": "error",
     "traceback": [
      "\u001b[0;31m---------------------------------------------------------------------------\u001b[0m",
      "\u001b[0;31mKeyboardInterrupt\u001b[0m                         Traceback (most recent call last)",
      "Cell \u001b[0;32mIn[6], line 4\u001b[0m\n\u001b[1;32m      2\u001b[0m \u001b[38;5;28;01mimport\u001b[39;00m \u001b[38;5;21;01mos\u001b[39;00m\n\u001b[1;32m      3\u001b[0m sys\u001b[38;5;241m.\u001b[39mpath\u001b[38;5;241m.\u001b[39mappend(os\u001b[38;5;241m.\u001b[39mpath\u001b[38;5;241m.\u001b[39mdirname(os\u001b[38;5;241m.\u001b[39mpath\u001b[38;5;241m.\u001b[39mdirname(os\u001b[38;5;241m.\u001b[39mgetcwd()))\u001b[38;5;241m+\u001b[39m\u001b[38;5;124m\"\u001b[39m\u001b[38;5;124m/analysis_scripts/ALP_sim\u001b[39m\u001b[38;5;124m\"\u001b[39m)     \u001b[38;5;66;03m#!!! Change path to location of differential_counts.py and ALP_sim.py\u001b[39;00m\n\u001b[0;32m----> 4\u001b[0m \u001b[38;5;28;01mfrom\u001b[39;00m \u001b[38;5;21;01mALP_quick_sim\u001b[39;00m \u001b[38;5;28;01mimport\u001b[39;00m ALP_sim\n",
      "File \u001b[0;32m~/ALPs_with_SWYFT/analysis_scripts/ALP_sim/ALP_quick_sim.py:61\u001b[0m\n\u001b[1;32m     58\u001b[0m \u001b[38;5;28;01mfrom\u001b[39;00m \u001b[38;5;21;01mgammapy\u001b[39;00m\u001b[38;5;21;01m.\u001b[39;00m\u001b[38;5;21;01mmaps\u001b[39;00m \u001b[38;5;28;01mimport\u001b[39;00m MapAxis, WcsGeom, Map, MapCoord\n\u001b[1;32m     59\u001b[0m \u001b[38;5;28;01mfrom\u001b[39;00m \u001b[38;5;21;01mgammapy\u001b[39;00m\u001b[38;5;21;01m.\u001b[39;00m\u001b[38;5;21;01mmakers\u001b[39;00m \u001b[38;5;28;01mimport\u001b[39;00m MapDatasetMaker, SpectrumDatasetMaker\n\u001b[0;32m---> 61\u001b[0m \u001b[38;5;28;01mfrom\u001b[39;00m \u001b[38;5;21;01mgammaALPs\u001b[39;00m\u001b[38;5;21;01m.\u001b[39;00m\u001b[38;5;21;01mcore\u001b[39;00m \u001b[38;5;28;01mimport\u001b[39;00m Source, ALP, ModuleList\n\u001b[1;32m     62\u001b[0m \u001b[38;5;28;01mfrom\u001b[39;00m \u001b[38;5;21;01mgammaALPs\u001b[39;00m\u001b[38;5;21;01m.\u001b[39;00m\u001b[38;5;21;01mbase\u001b[39;00m \u001b[38;5;28;01mimport\u001b[39;00m environs, transfer\n\u001b[1;32m     64\u001b[0m \u001b[38;5;66;03m# from differential_counts import DifferentialCounts\u001b[39;00m\n\u001b[1;32m     65\u001b[0m \n\u001b[1;32m     66\u001b[0m \u001b[38;5;66;03m# import time\u001b[39;00m\n\u001b[0;32m   (...)\u001b[0m\n\u001b[1;32m     87\u001b[0m \n\u001b[1;32m     88\u001b[0m \u001b[38;5;66;03m# T = Timer()\u001b[39;00m\n",
      "File \u001b[0;32m~/.conda/envs/swyft4-dev-notebook/lib/python3.9/site-packages/gammaALPs/core.py:6\u001b[0m\n\u001b[1;32m      4\u001b[0m \u001b[38;5;28;01mimport\u001b[39;00m \u001b[38;5;21;01mnumpy\u001b[39;00m \u001b[38;5;28;01mas\u001b[39;00m \u001b[38;5;21;01mnp\u001b[39;00m\n\u001b[1;32m      5\u001b[0m \u001b[38;5;28;01mfrom\u001b[39;00m \u001b[38;5;21;01mebltable\u001b[39;00m\u001b[38;5;21;01m.\u001b[39;00m\u001b[38;5;21;01mtau_from_model\u001b[39;00m \u001b[38;5;28;01mimport\u001b[39;00m OptDepth\n\u001b[0;32m----> 6\u001b[0m \u001b[38;5;28;01mfrom\u001b[39;00m \u001b[38;5;21;01m.\u001b[39;00m\u001b[38;5;21;01mbase\u001b[39;00m \u001b[38;5;28;01mimport\u001b[39;00m environs \u001b[38;5;28;01mas\u001b[39;00m env\n\u001b[1;32m      7\u001b[0m \u001b[38;5;28;01mfrom\u001b[39;00m \u001b[38;5;21;01m.\u001b[39;00m\u001b[38;5;21;01mbase\u001b[39;00m\u001b[38;5;21;01m.\u001b[39;00m\u001b[38;5;21;01mtransfer\u001b[39;00m \u001b[38;5;28;01mimport\u001b[39;00m calc_conv_prob, calc_lin_pol\n\u001b[1;32m      8\u001b[0m \u001b[38;5;28;01mfrom\u001b[39;00m \u001b[38;5;21;01m.\u001b[39;00m\u001b[38;5;21;01mutils\u001b[39;00m\u001b[38;5;21;01m.\u001b[39;00m\u001b[38;5;21;01minterp2d\u001b[39;00m \u001b[38;5;28;01mimport\u001b[39;00m Interp2D\n",
      "File \u001b[0;32m~/.conda/envs/swyft4-dev-notebook/lib/python3.9/site-packages/gammaALPs/base/environs.py:4\u001b[0m\n\u001b[1;32m      2\u001b[0m \u001b[38;5;28;01mimport\u001b[39;00m \u001b[38;5;21;01mnumpy\u001b[39;00m \u001b[38;5;28;01mas\u001b[39;00m \u001b[38;5;21;01mnp\u001b[39;00m\n\u001b[1;32m      3\u001b[0m \u001b[38;5;28;01mimport\u001b[39;00m \u001b[38;5;21;01mlogging\u001b[39;00m\n\u001b[0;32m----> 4\u001b[0m \u001b[38;5;28;01mfrom\u001b[39;00m \u001b[38;5;21;01m.\u001b[39;00m \u001b[38;5;28;01mimport\u001b[39;00m transfer \u001b[38;5;28;01mas\u001b[39;00m trans\n\u001b[1;32m      5\u001b[0m \u001b[38;5;28;01mfrom\u001b[39;00m \u001b[38;5;21;01m.\u001b[39;00m\u001b[38;5;21;01m.\u001b[39;00m\u001b[38;5;21;01mbfields\u001b[39;00m \u001b[38;5;28;01mimport\u001b[39;00m cell, gauss, gmf, jet, struc\n\u001b[1;32m      6\u001b[0m \u001b[38;5;28;01mfrom\u001b[39;00m \u001b[38;5;21;01m.\u001b[39;00m\u001b[38;5;21;01m.\u001b[39;00m\u001b[38;5;21;01mnel\u001b[39;00m \u001b[38;5;28;01mimport\u001b[39;00m icm\n",
      "File \u001b[0;32m~/.conda/envs/swyft4-dev-notebook/lib/python3.9/site-packages/gammaALPs/base/transfer.py:9\u001b[0m\n\u001b[1;32m      7\u001b[0m \u001b[38;5;28;01mfrom\u001b[39;00m \u001b[38;5;21;01mmultiprocessing\u001b[39;00m \u001b[38;5;28;01mimport\u001b[39;00m Pool\n\u001b[1;32m      8\u001b[0m \u001b[38;5;28;01mfrom\u001b[39;00m \u001b[38;5;21;01mfunctools\u001b[39;00m \u001b[38;5;28;01mimport\u001b[39;00m reduce\n\u001b[0;32m----> 9\u001b[0m \u001b[38;5;28;01mfrom\u001b[39;00m \u001b[38;5;21;01mnumba\u001b[39;00m \u001b[38;5;28;01mimport\u001b[39;00m jit\n\u001b[1;32m     10\u001b[0m \u001b[38;5;28;01mfrom\u001b[39;00m \u001b[38;5;21;01mastropy\u001b[39;00m \u001b[38;5;28;01mimport\u001b[39;00m units \u001b[38;5;28;01mas\u001b[39;00m u\n\u001b[1;32m     11\u001b[0m \u001b[38;5;28;01mfrom\u001b[39;00m \u001b[38;5;21;01mastropy\u001b[39;00m \u001b[38;5;28;01mimport\u001b[39;00m constants \u001b[38;5;28;01mas\u001b[39;00m c\n",
      "File \u001b[0;32m~/.conda/envs/swyft4-dev-notebook/lib/python3.9/site-packages/numba/__init__.py:51\u001b[0m\n\u001b[1;32m     48\u001b[0m \u001b[38;5;28;01mfrom\u001b[39;00m \u001b[38;5;21;01mnumba\u001b[39;00m\u001b[38;5;21;01m.\u001b[39;00m\u001b[38;5;21;01mnp\u001b[39;00m\u001b[38;5;21;01m.\u001b[39;00m\u001b[38;5;21;01mnumpy_support\u001b[39;00m \u001b[38;5;28;01mimport\u001b[39;00m carray, farray, from_dtype\n\u001b[1;32m     50\u001b[0m \u001b[38;5;66;03m# Re-export experimental\u001b[39;00m\n\u001b[0;32m---> 51\u001b[0m \u001b[38;5;28;01mfrom\u001b[39;00m \u001b[38;5;21;01mnumba\u001b[39;00m \u001b[38;5;28;01mimport\u001b[39;00m experimental\n\u001b[1;32m     53\u001b[0m \u001b[38;5;66;03m# Initialize withcontexts\u001b[39;00m\n\u001b[1;32m     54\u001b[0m \u001b[38;5;28;01mimport\u001b[39;00m \u001b[38;5;21;01mnumba\u001b[39;00m\u001b[38;5;21;01m.\u001b[39;00m\u001b[38;5;21;01mcore\u001b[39;00m\u001b[38;5;21;01m.\u001b[39;00m\u001b[38;5;21;01mwithcontexts\u001b[39;00m\n",
      "File \u001b[0;32m~/.conda/envs/swyft4-dev-notebook/lib/python3.9/site-packages/numba/experimental/__init__.py:1\u001b[0m\n\u001b[0;32m----> 1\u001b[0m \u001b[38;5;28;01mfrom\u001b[39;00m \u001b[38;5;21;01m.\u001b[39;00m\u001b[38;5;21;01mjitclass\u001b[39;00m \u001b[38;5;28;01mimport\u001b[39;00m jitclass\n",
      "File \u001b[0;32m~/.conda/envs/swyft4-dev-notebook/lib/python3.9/site-packages/numba/experimental/jitclass/__init__.py:3\u001b[0m\n\u001b[1;32m      1\u001b[0m \u001b[38;5;28;01mfrom\u001b[39;00m \u001b[38;5;21;01mnumba\u001b[39;00m\u001b[38;5;21;01m.\u001b[39;00m\u001b[38;5;21;01mexperimental\u001b[39;00m\u001b[38;5;21;01m.\u001b[39;00m\u001b[38;5;21;01mjitclass\u001b[39;00m\u001b[38;5;21;01m.\u001b[39;00m\u001b[38;5;21;01mdecorators\u001b[39;00m \u001b[38;5;28;01mimport\u001b[39;00m jitclass\n\u001b[1;32m      2\u001b[0m \u001b[38;5;28;01mfrom\u001b[39;00m \u001b[38;5;21;01mnumba\u001b[39;00m\u001b[38;5;21;01m.\u001b[39;00m\u001b[38;5;21;01mexperimental\u001b[39;00m\u001b[38;5;21;01m.\u001b[39;00m\u001b[38;5;21;01mjitclass\u001b[39;00m \u001b[38;5;28;01mimport\u001b[39;00m boxing  \u001b[38;5;66;03m# Has import-time side effect\u001b[39;00m\n\u001b[0;32m----> 3\u001b[0m \u001b[38;5;28;01mfrom\u001b[39;00m \u001b[38;5;21;01mnumba\u001b[39;00m\u001b[38;5;21;01m.\u001b[39;00m\u001b[38;5;21;01mexperimental\u001b[39;00m\u001b[38;5;21;01m.\u001b[39;00m\u001b[38;5;21;01mjitclass\u001b[39;00m \u001b[38;5;28;01mimport\u001b[39;00m overloads\n",
      "File \u001b[0;32m~/.conda/envs/swyft4-dev-notebook/lib/python3.9/site-packages/numba/experimental/jitclass/overloads.py:189\u001b[0m\n\u001b[1;32m    187\u001b[0m register_reflected_overload(operator\u001b[38;5;241m.\u001b[39mgt, \u001b[38;5;124m\"\u001b[39m\u001b[38;5;124mgt\u001b[39m\u001b[38;5;124m\"\u001b[39m, \u001b[38;5;124m\"\u001b[39m\u001b[38;5;124mlt\u001b[39m\u001b[38;5;124m\"\u001b[39m)\n\u001b[1;32m    188\u001b[0m register_reflected_overload(operator\u001b[38;5;241m.\u001b[39mle, \u001b[38;5;124m\"\u001b[39m\u001b[38;5;124mle\u001b[39m\u001b[38;5;124m\"\u001b[39m, \u001b[38;5;124m\"\u001b[39m\u001b[38;5;124mge\u001b[39m\u001b[38;5;124m\"\u001b[39m)\n\u001b[0;32m--> 189\u001b[0m \u001b[43mregister_reflected_overload\u001b[49m\u001b[43m(\u001b[49m\u001b[43moperator\u001b[49m\u001b[38;5;241;43m.\u001b[39;49m\u001b[43mlt\u001b[49m\u001b[43m,\u001b[49m\u001b[43m \u001b[49m\u001b[38;5;124;43m\"\u001b[39;49m\u001b[38;5;124;43mlt\u001b[39;49m\u001b[38;5;124;43m\"\u001b[39;49m\u001b[43m,\u001b[49m\u001b[43m \u001b[49m\u001b[38;5;124;43m\"\u001b[39;49m\u001b[38;5;124;43mgt\u001b[39;49m\u001b[38;5;124;43m\"\u001b[39;49m\u001b[43m)\u001b[49m\n\u001b[1;32m    191\u001b[0m \u001b[38;5;66;03m# Note that eq is missing support for fallback to `x is y`, but `is` and\u001b[39;00m\n\u001b[1;32m    192\u001b[0m \u001b[38;5;66;03m# `operator.is` are presently unsupported in general.\u001b[39;00m\n\u001b[1;32m    193\u001b[0m register_reflected_overload(operator\u001b[38;5;241m.\u001b[39meq, \u001b[38;5;124m\"\u001b[39m\u001b[38;5;124meq\u001b[39m\u001b[38;5;124m\"\u001b[39m, \u001b[38;5;124m\"\u001b[39m\u001b[38;5;124meq\u001b[39m\u001b[38;5;124m\"\u001b[39m)\n",
      "File \u001b[0;32m~/.conda/envs/swyft4-dev-notebook/lib/python3.9/site-packages/numba/experimental/jitclass/overloads.py:178\u001b[0m, in \u001b[0;36mregister_reflected_overload\u001b[0;34m(func, meth_forward, meth_reflected)\u001b[0m\n\u001b[1;32m    174\u001b[0m         reflected_impl \u001b[38;5;241m=\u001b[39m \u001b[38;5;28;01mNone\u001b[39;00m\n\u001b[1;32m    176\u001b[0m     \u001b[38;5;28;01mreturn\u001b[39;00m take_first(normal_impl, reflected_impl)\n\u001b[0;32m--> 178\u001b[0m \u001b[43mclass_instance_overload\u001b[49m\u001b[43m(\u001b[49m\u001b[43mfunc\u001b[49m\u001b[43m)\u001b[49m\u001b[43m(\u001b[49m\u001b[43mclass_lt\u001b[49m\u001b[43m)\u001b[49m\n",
      "File \u001b[0;32m~/.conda/envs/swyft4-dev-notebook/lib/python3.9/site-packages/numba/experimental/jitclass/overloads.py:33\u001b[0m, in \u001b[0;36mclass_instance_overload.<locals>.decorator\u001b[0;34m(func)\u001b[0m\n\u001b[1;32m     31\u001b[0m params \u001b[38;5;241m=\u001b[39m \u001b[38;5;28mlist\u001b[39m(inspect\u001b[38;5;241m.\u001b[39msignature(wrapped)\u001b[38;5;241m.\u001b[39mparameters)\n\u001b[1;32m     32\u001b[0m \u001b[38;5;28;01massert\u001b[39;00m params \u001b[38;5;241m==\u001b[39m _get_args(\u001b[38;5;28mlen\u001b[39m(params))\n\u001b[0;32m---> 33\u001b[0m \u001b[38;5;28;01mreturn\u001b[39;00m \u001b[43moverload\u001b[49m\u001b[43m(\u001b[49m\u001b[43mtarget\u001b[49m\u001b[43m)\u001b[49m\u001b[43m(\u001b[49m\u001b[43mwrapped\u001b[49m\u001b[43m)\u001b[49m\n",
      "File \u001b[0;32m~/.conda/envs/swyft4-dev-notebook/lib/python3.9/site-packages/numba/core/extending.py:132\u001b[0m, in \u001b[0;36moverload.<locals>.decorate\u001b[0;34m(overload_func)\u001b[0m\n\u001b[1;32m    130\u001b[0m infer(template)\n\u001b[1;32m    131\u001b[0m \u001b[38;5;28;01mif\u001b[39;00m \u001b[38;5;28mcallable\u001b[39m(func):\n\u001b[0;32m--> 132\u001b[0m     infer_global(func, \u001b[43mtypes\u001b[49m\u001b[38;5;241;43m.\u001b[39;49m\u001b[43mFunction\u001b[49m\u001b[43m(\u001b[49m\u001b[43mtemplate\u001b[49m\u001b[43m)\u001b[49m)\n\u001b[1;32m    133\u001b[0m \u001b[38;5;28;01mreturn\u001b[39;00m overload_func\n",
      "File \u001b[0;32m~/.conda/envs/swyft4-dev-notebook/lib/python3.9/site-packages/numba/core/types/abstract.py:66\u001b[0m, in \u001b[0;36m_TypeMetaclass.__call__\u001b[0;34m(cls, *args, **kwargs)\u001b[0m\n\u001b[1;32m     60\u001b[0m \u001b[38;5;28;01mdef\u001b[39;00m \u001b[38;5;21m__call__\u001b[39m(\u001b[38;5;28mcls\u001b[39m, \u001b[38;5;241m*\u001b[39margs, \u001b[38;5;241m*\u001b[39m\u001b[38;5;241m*\u001b[39mkwargs):\n\u001b[1;32m     61\u001b[0m \u001b[38;5;250m    \u001b[39m\u001b[38;5;124;03m\"\"\"\u001b[39;00m\n\u001b[1;32m     62\u001b[0m \u001b[38;5;124;03m    Instantiate *cls* (a Type subclass, presumably) and intern it.\u001b[39;00m\n\u001b[1;32m     63\u001b[0m \u001b[38;5;124;03m    If an interned instance already exists, it is returned, otherwise\u001b[39;00m\n\u001b[1;32m     64\u001b[0m \u001b[38;5;124;03m    the new instance is returned.\u001b[39;00m\n\u001b[1;32m     65\u001b[0m \u001b[38;5;124;03m    \"\"\"\u001b[39;00m\n\u001b[0;32m---> 66\u001b[0m     inst \u001b[38;5;241m=\u001b[39m \u001b[38;5;28;43mtype\u001b[39;49m\u001b[38;5;241;43m.\u001b[39;49m\u001b[38;5;21;43m__call__\u001b[39;49m\u001b[43m(\u001b[49m\u001b[38;5;28;43mcls\u001b[39;49m\u001b[43m,\u001b[49m\u001b[43m \u001b[49m\u001b[38;5;241;43m*\u001b[39;49m\u001b[43margs\u001b[49m\u001b[43m,\u001b[49m\u001b[43m \u001b[49m\u001b[38;5;241;43m*\u001b[39;49m\u001b[38;5;241;43m*\u001b[39;49m\u001b[43mkwargs\u001b[49m\u001b[43m)\u001b[49m\n\u001b[1;32m     67\u001b[0m     \u001b[38;5;28;01mreturn\u001b[39;00m \u001b[38;5;28mcls\u001b[39m\u001b[38;5;241m.\u001b[39m_intern(inst)\n",
      "File \u001b[0;32m~/.conda/envs/swyft4-dev-notebook/lib/python3.9/site-packages/numba/core/types/functions.py:258\u001b[0m, in \u001b[0;36mBaseFunction.__init__\u001b[0;34m(self, template)\u001b[0m\n\u001b[1;32m    256\u001b[0m     \u001b[38;5;28mself\u001b[39m\u001b[38;5;241m.\u001b[39mtyping_key \u001b[38;5;241m=\u001b[39m template\u001b[38;5;241m.\u001b[39mkey\n\u001b[1;32m    257\u001b[0m \u001b[38;5;28mself\u001b[39m\u001b[38;5;241m.\u001b[39m_impl_keys \u001b[38;5;241m=\u001b[39m {}\n\u001b[0;32m--> 258\u001b[0m name \u001b[38;5;241m=\u001b[39m \u001b[38;5;124;43m\"\u001b[39;49m\u001b[38;5;132;43;01m%s\u001b[39;49;00m\u001b[38;5;124;43m(\u001b[39;49m\u001b[38;5;132;43;01m%s\u001b[39;49;00m\u001b[38;5;124;43m)\u001b[39;49m\u001b[38;5;124;43m\"\u001b[39;49m\u001b[43m \u001b[49m\u001b[38;5;241;43m%\u001b[39;49m\u001b[43m \u001b[49m\u001b[43m(\u001b[49m\u001b[38;5;28;43mself\u001b[39;49m\u001b[38;5;241;43m.\u001b[39;49m\u001b[38;5;18;43m__class__\u001b[39;49m\u001b[38;5;241;43m.\u001b[39;49m\u001b[38;5;18;43m__name__\u001b[39;49m\u001b[43m,\u001b[49m\u001b[43m \u001b[49m\u001b[38;5;28;43mself\u001b[39;49m\u001b[38;5;241;43m.\u001b[39;49m\u001b[43mtyping_key\u001b[49m\u001b[43m)\u001b[49m\n\u001b[1;32m    259\u001b[0m \u001b[38;5;28mself\u001b[39m\u001b[38;5;241m.\u001b[39m_depth \u001b[38;5;241m=\u001b[39m \u001b[38;5;241m0\u001b[39m\n\u001b[1;32m    260\u001b[0m \u001b[38;5;28msuper\u001b[39m(BaseFunction, \u001b[38;5;28mself\u001b[39m)\u001b[38;5;241m.\u001b[39m\u001b[38;5;21m__init__\u001b[39m(name)\n",
      "\u001b[0;31mKeyboardInterrupt\u001b[0m: "
     ]
    }
   ],
   "source": [
    "import sys\n",
    "import os\n",
    "sys.path.append(os.path.dirname(os.path.dirname(os.getcwd()))+\"/analysis_scripts/ALP_sim\")     #!!! Change path to location of differential_counts.py and ALP_sim.py\n",
    "from ALP_quick_sim import ALP_sim"
   ]
  },
  {
   "cell_type": "code",
   "execution_count": null,
   "id": "27f5015b-6815-4fcd-80ed-166aa1c57063",
   "metadata": {},
   "outputs": [],
   "source": [
    "def full_params(\n",
    "                params: list[float]\n",
    "                ) -> list[float]:\n",
    "        \n",
    "        ''' \n",
    "        The default parameter expansion function. The expansion function allows to flexibly choose \n",
    "        which model parameters are considered as input to the model method (e.g. self.model,\n",
    "        self.model_log, etc. Toy models are not affected). For example, when this present default \n",
    "        function is used, the only inputs to the model methods are the values of mass and coupling, \n",
    "        i.e. a 2D list. If you wanted to make, for example, the rms of the B-field the third input \n",
    "        parameter, first copy self.full_params_default to a new function new_func(params), change \n",
    "        the value corresponding to the B-field RMS value to \"params[2]\", and then set \n",
    "        self.full_param_vec (see init method) to new_func. See also method full_params_spectral for\n",
    "        a different example. The model methods will then expect a 3D list instead. When running the \n",
    "        model method, self.full_param_vec(params) is called, effectively expanding the model \n",
    "        parameters to the full list of 18.  \n",
    "        \n",
    "        \n",
    "        Input:\n",
    "            -  params:              Input parameters to model methods. \n",
    "\n",
    "        Output:\n",
    "            -  full_par             Full list of all 18 model parameter values. \n",
    "\n",
    "\n",
    "        '''\n",
    "        \n",
    "        full_par = [\n",
    "                    params[0],          # mass m in neV\n",
    "                    params[1],          # coupling constant g in 10^(-11) /GeV\n",
    "                    \n",
    "                    5.75 * 1e-9,        # Amplitude of power law, in \"TeV-1 cm-2 s-1\" # 10e-6 \n",
    "                    2.36859,            # Spectral index of the PWL\n",
    "                    153.86,             # Reference energy (?) E0, In GeV\n",
    "                    819.72,             #Cut-off energy Ecut, in GeV\n",
    "                    \n",
    "                    \n",
    "                    25.,                # rms of B field, default = 10.\n",
    "                    39.,                # normalization of electron density, default = 39.\n",
    "                    4.05,               # second normalization of electron density, see Churazov et al. 2003, Eq. 4, default = 4.05\n",
    "                    500.,               # extension of the cluster, default = 500.\n",
    "                    80.,                # electron density parameter, see Churazov et al. 2003, Eq. 4, default = 80.\n",
    "                    params[2],          # electron density parameter, see Churazov et al. 2003, Eq. 4, default = 200.\n",
    "                    1.2,                # electron density parameter, see Churazov et al. 2003, Eq. 4, default = 1.2\n",
    "                    0.58,               # electron density parameter, see Churazov et al. 2003, Eq. 4, default = 0.58\n",
    "                    0.5,                # scaling of B-field with electron denstiy, default = 0.5\n",
    "                    0.18,               # maximum turbulence scale in kpc^-1, taken from A2199 cool-core cluster, see Vacca et al. 2012, default = 0.18\n",
    "                    9.,                 # minimum turbulence scale, taken from A2199 cool-core cluster, see Vacca et al. 2012, default = 9.\n",
    "                    -2.80               # turbulence spectral index, taken from A2199 cool-core cluster, see Vacca et al. 2012, default = -2.80\n",
    "                    ]\n",
    "    \n",
    "        return full_par"
   ]
  },
  {
   "cell_type": "code",
   "execution_count": null,
   "id": "0de50bde-b591-40b4-8db3-f1e1423d4963",
   "metadata": {},
   "outputs": [],
   "source": [
    "A = ALP_sim(set_obs=False, set_null=False)"
   ]
  },
  {
   "cell_type": "code",
   "execution_count": null,
   "id": "40a577a6-e3ee-4777-95a3-46f5efb710b0",
   "metadata": {},
   "outputs": [],
   "source": [
    "A.full_param_vec = full_params"
   ]
  },
  {
   "cell_type": "code",
   "execution_count": null,
   "id": "da49e3aa-8c3d-4d0a-8ea4-67d103fb5353",
   "metadata": {},
   "outputs": [],
   "source": [
    "A.configure_model(ALP_seed=0, residuals=True, logcounts=True, null_params = [0,0], log_params = [0,0,0])"
   ]
  },
  {
   "cell_type": "code",
   "execution_count": null,
   "id": "9af25fa8-ebff-4180-ac76-de62dc9c8943",
   "metadata": {},
   "outputs": [],
   "source": [
    "A.configure_obs(nbins = 90, nbins_etrue = 180,livetime = 10,emin=1e1, emax=1.5e4,\n",
    "                irf_file = os.path.dirname(os.path.dirname(os.getcwd()))+\"/IRFs/CTA/Prod5-North-20deg-AverageAz-4LSTs09MSTs.180000s-v0.1.fits\" )"
   ]
  },
  {
   "cell_type": "code",
   "execution_count": null,
   "id": "5dccc75d-65c1-4bb2-b11f-c4a665fe6229",
   "metadata": {},
   "outputs": [],
   "source": [
    "ms = [0.1, 10, 250, 400]\n",
    "gs = [0.2, 0.5, 0.8, 1.1]\n",
    "\n",
    "nuisance_guess = 280\n",
    "np_bounds = [190, 413]\n",
    "np_bounds_agnostic = [0, 1168]"
   ]
  },
  {
   "cell_type": "code",
   "execution_count": null,
   "id": "e49a4c1e-7f6f-4361-b890-3775066cbd15",
   "metadata": {},
   "outputs": [],
   "source": [
    "colors = ['r','#FF9900','g','b','m']\n",
    "linestyles = ['-','-','-','-','-']"
   ]
  },
  {
   "cell_type": "code",
   "execution_count": null,
   "id": "ef443de8-6732-47f5-9439-d5ea7c797226",
   "metadata": {},
   "outputs": [],
   "source": [
    "A.configure_plot(xmin = 1e1, xmax = 1e4, ymin=-0.15, ymax=0.1, legend=1)\n",
    "A.configure_model(params=[ms[2],gs[2], nuisance_guess], null_params=[0,0,nuisance_guess])\n",
    "A.compute_case(new_fig=1,null=1,plot_obs=0,color=\"k\",linestyle=\"-\", label_exp=0) \n",
    "A.compute_case(new_fig=0,plot_obs=1,color=colors[2],linestyle='-',label_exp=1, errorbands=1)\n",
    "plt.show()"
   ]
  },
  {
   "cell_type": "code",
   "execution_count": null,
   "id": "c66e9d16-15fe-4e9d-8986-58b306eb5a72",
   "metadata": {},
   "outputs": [],
   "source": [
    "%%time\n",
    "ngs = 4\n",
    "A.configure_plot(xmin = 2e1, xmax = 6e3, ymin=-0.15, ymax=0.025, legend = 0)\n",
    "for m in ms:\n",
    "    A.compute_case(new_fig=1,null=1,plot_obs=0,color=\"k\",linestyle=\"-\", label_exp=0)\n",
    "    for i, g in enumerate(gs):\n",
    "        for j in range(ngs):\n",
    "            nuisance = np.random.uniform(np_bounds[0], np_bounds[1])\n",
    "            A.configure_model(params=[m,g, nuisance])\n",
    "            label_exp = 1 if j==0 else 0\n",
    "            A.compute_case(new_fig=0,plot_obs=0,color=colors[i],linestyle=linestyles[i],label_exp=label_exp, errorbands=False)"
   ]
  },
  {
   "cell_type": "code",
   "execution_count": null,
   "id": "0c40e9fa-6190-4151-b4b6-8d31b4a8676a",
   "metadata": {
    "scrolled": true
   },
   "outputs": [],
   "source": [
    "%%time\n",
    "ngs = 4\n",
    "A.configure_plot(xmin = 2e1, xmax = 6e3, ymin=-0.15, ymax=0.025, legend = 0)\n",
    "for m in ms:\n",
    "    A.compute_case(new_fig=1,null=1,plot_obs=0,color=\"k\",linestyle=\"-\", label_exp=0)   \n",
    "    for i, g in enumerate(gs):\n",
    "        for j in range(ngs):\n",
    "            nuisance = np.random.uniform(np_bounds_agnostic[0], np_bounds_agnostic[1])\n",
    "            A.configure_model(params=[m,g, nuisance])\n",
    "            label_exp = 1 if j==0 else 0\n",
    "            A.compute_case(new_fig=0,plot_obs=0,color=colors[i],linestyle=linestyles[i],label_exp=label_exp, errorbands=False)"
   ]
  },
  {
   "cell_type": "code",
   "execution_count": null,
   "id": "7d0a7e59-98a6-457d-b539-ace2199f2eed",
   "metadata": {},
   "outputs": [],
   "source": [
    "%%time\n",
    "ngs = 10\n",
    "A.configure_plot(xmin = 2e1, xmax = 6e3, ymin=-0.15, ymax=0.025, legend = 0)\n",
    "for m in ms:\n",
    "    A.compute_case(new_fig=1,null=1,plot_obs=0,color=\"k\",linestyle=\"-\", label_exp=0)   \n",
    "    for i, g in enumerate(gs):\n",
    "        for j in range(ngs):\n",
    "            nuisance = np.random.uniform(np_bounds[0], np_bounds[1])\n",
    "            A.configure_model(params=[m,g, nuisance])\n",
    "            label_exp = 1 if j==0 else 0\n",
    "            A.compute_case(new_fig=0,plot_obs=0,color=colors[i],linestyle=linestyles[i],label_exp=label_exp, errorbands=False)"
   ]
  },
  {
   "cell_type": "code",
   "execution_count": null,
   "id": "0c3625ed-9d29-4ef1-9e49-f2e60ea0254c",
   "metadata": {},
   "outputs": [],
   "source": [
    "%%time\n",
    "ngs = 10\n",
    "A.configure_plot(xmin = 2e1, xmax = 6e3, ymin=-0.15, ymax=0.025, legend = 0)\n",
    "for m in ms:\n",
    "    A.compute_case(new_fig=1,null=1,plot_obs=0,color=\"k\",linestyle=\"-\", label_exp=0)   \n",
    "    for i, g in enumerate(gs):\n",
    "        for j in range(ngs):\n",
    "            nuisance = np.random.uniform(np_bounds_agnostic[0], np_bounds_agnostic[1])\n",
    "            A.configure_model(params=[m,g, nuisance])\n",
    "            label_exp = 1 if j==0 else 0\n",
    "            A.compute_case(new_fig=0,plot_obs=0,color=colors[i],linestyle=linestyles[i],label_exp=label_exp, errorbands=False)"
   ]
  }
 ],
 "metadata": {
  "kernelspec": {
   "display_name": "Python 3 (ipykernel)",
   "language": "python",
   "name": "python3"
  },
  "language_info": {
   "codemirror_mode": {
    "name": "ipython",
    "version": 3
   },
   "file_extension": ".py",
   "mimetype": "text/x-python",
   "name": "python",
   "nbconvert_exporter": "python",
   "pygments_lexer": "ipython3",
   "version": "3.9.7"
  }
 },
 "nbformat": 4,
 "nbformat_minor": 5
}
