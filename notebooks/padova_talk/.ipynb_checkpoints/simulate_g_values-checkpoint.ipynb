{
 "cells": [
  {
   "cell_type": "markdown",
   "id": "761ce862-fee5-492d-b86d-fce0fd1c30ec",
   "metadata": {},
   "source": [
    "# Setup"
   ]
  },
  {
   "cell_type": "markdown",
   "id": "97bbea55-f9dc-48fb-aaff-e85e8b5cfdc8",
   "metadata": {},
   "source": [
    "Running the simulations presumes the installation of specific packages, in particular Gammapy0.19. The easiest is maybe to simply recreate my conda environment, and run this notebook from there. Download the file env_swyft3-ext.yaml, and write the following in the terminal:\n",
    "\n",
    "```\n",
    "$conda env create --file env_swyft3-ext.yaml --name swyft3\n",
    "$conda activate swyft3\n",
    "```\n",
    "Then download the IRF file *Prod5-North-20deg-AverageAz-4LSTs09MSTs.180000s-v0.1.fits* and *ALP_quick_sim.py*. If you place them in the same directory as this notebook, you should be set to run. Otherwise adapt the paths in the following cell:\n"
   ]
  },
  {
   "cell_type": "code",
   "execution_count": 1,
   "id": "c405f0db-8303-4119-977e-7e33c1c9bae2",
   "metadata": {},
   "outputs": [],
   "source": [
    "update_notebook=1"
   ]
  },
  {
   "cell_type": "code",
   "execution_count": 2,
   "id": "c8261e41-1b10-495a-aa63-25e79340b7ea",
   "metadata": {},
   "outputs": [],
   "source": [
    "import importlib\n",
    "loaded_param_function = False"
   ]
  },
  {
   "cell_type": "code",
   "execution_count": 3,
   "id": "10a28cab-a783-4788-985a-9268b2aa9472",
   "metadata": {},
   "outputs": [],
   "source": [
    "import os"
   ]
  },
  {
   "cell_type": "code",
   "execution_count": 4,
   "id": "d0010bfa-da96-4d6c-b12b-4de2948b78b2",
   "metadata": {},
   "outputs": [],
   "source": [
    "parent_dir = (os.getcwd()+\"/\").split('/notebooks/', 1)[0]\n",
    "start_dir = os.getcwd()"
   ]
  },
  {
   "cell_type": "code",
   "execution_count": 5,
   "id": "c771a600-14a7-4c4d-bd5b-2af4e64e55f6",
   "metadata": {},
   "outputs": [],
   "source": [
    "ALP_file_dir = parent_dir+\"/analysis_scripts/ALP_sim\"             # The directory where ALP_quick_sim.py is placed. Can be empty if it's in same folder as notebook. "
   ]
  },
  {
   "cell_type": "code",
   "execution_count": 6,
   "id": "994e03df-29b3-42c3-9455-01a2de2927f0",
   "metadata": {},
   "outputs": [],
   "source": [
    "import sys\n",
    "if ALP_file_dir: sys.path.append(ALP_file_dir)   #!!! Change path to location of differential_counts.py and ALP_sim.py\n",
    "from ALP_quick_sim import ALP_sim\n",
    "from alp_swyft_simulator import ALP_SWYFT_Simulator"
   ]
  },
  {
   "cell_type": "code",
   "execution_count": 7,
   "id": "171c30bd-8fde-4b36-807e-cacb6e292a43",
   "metadata": {},
   "outputs": [],
   "source": [
    "import numpy as np"
   ]
  },
  {
   "cell_type": "code",
   "execution_count": 8,
   "id": "9b0c061b-7184-4af4-ae1f-bc4f440cbd99",
   "metadata": {},
   "outputs": [],
   "source": [
    "import matplotlib.pyplot as plt"
   ]
  },
  {
   "cell_type": "code",
   "execution_count": 9,
   "id": "d48cc91f-99bb-4801-b8d0-606a0596dde8",
   "metadata": {},
   "outputs": [],
   "source": [
    "import swyft"
   ]
  },
  {
   "cell_type": "code",
   "execution_count": 10,
   "id": "03676462-5c2a-419c-8364-5bbd2f612591",
   "metadata": {},
   "outputs": [],
   "source": [
    "import torch"
   ]
  },
  {
   "cell_type": "code",
   "execution_count": 11,
   "id": "3addefe4-0875-4176-8a24-73cb6dff7780",
   "metadata": {},
   "outputs": [],
   "source": [
    "import scipy.stats as scist"
   ]
  },
  {
   "cell_type": "code",
   "execution_count": 12,
   "id": "a3b231b3-dffa-468d-9a42-0813aeb529ee",
   "metadata": {},
   "outputs": [],
   "source": [
    "import copy"
   ]
  },
  {
   "cell_type": "code",
   "execution_count": 13,
   "id": "a5911219-b0df-43ef-9c49-0e0e4871c063",
   "metadata": {},
   "outputs": [],
   "source": [
    "import ipynbname"
   ]
  },
  {
   "cell_type": "code",
   "execution_count": 14,
   "id": "1401e3df-27f4-4675-a9b4-cb60b51933f0",
   "metadata": {},
   "outputs": [],
   "source": [
    "import pickle"
   ]
  },
  {
   "cell_type": "code",
   "execution_count": 15,
   "id": "743cfe32-b2f2-4d51-b484-2386ffac1262",
   "metadata": {},
   "outputs": [],
   "source": [
    "import subprocess"
   ]
  },
  {
   "cell_type": "code",
   "execution_count": 17,
   "id": "d40e7fab-06bc-4fcd-b30c-3e3d08ca67b1",
   "metadata": {},
   "outputs": [],
   "source": [
    "from pytorch_lightning.loggers import WandbLogger"
   ]
  },
  {
   "cell_type": "code",
   "execution_count": 18,
   "id": "ef29cbb3-a854-489a-8fc2-0cea048617f0",
   "metadata": {},
   "outputs": [],
   "source": [
    "files_name = ipynbname.name() + \"_files\"\n",
    "files_dir = os.getcwd() + \"/\" + files_name \n",
    "store_name = ipynbname.name() + \"_store\"\n",
    "store_dir = os.getcwd() + \"/\" + files_name + \"/\" + store_name"
   ]
  },
  {
   "cell_type": "code",
   "execution_count": 19,
   "id": "7381cc0a-30ef-4b5b-9cb2-0c2ffb5791af",
   "metadata": {},
   "outputs": [],
   "source": [
    "if not os.path.exists(files_dir):\n",
    "    os.mkdir(files_dir)"
   ]
  },
  {
   "cell_type": "code",
   "execution_count": 20,
   "id": "e6338e83-6745-44d1-96ab-b8614f747512",
   "metadata": {},
   "outputs": [],
   "source": [
    "rsync_result1 = subprocess.run(['rsync', parent_dir+'/analysis_scripts/ALP_sim/config_simulate.py', files_dir],\n",
    "                                   capture_output = True, text=True)\n",
    "rsync_result2 = subprocess.run(['rsync', parent_dir+'/analysis_scripts/ALP_sim/ALP_quick_sim.py', files_dir],\n",
    "                                       capture_output = True, text=True)\n",
    "rsync_result3 = subprocess.run(['rsync', parent_dir+'/analysis_scripts/ALP_sim/alp_swyft_simulator.py', files_dir],\n",
    "                                       capture_output = True, text=True)\n",
    "rsync_result4 = subprocess.run(['rsync', parent_dir+'/analysis_scripts/ALP_sim/simulate_batch.py', files_dir],\n",
    "                                       capture_output = True, text=True)\n",
    "rsync_result5 = subprocess.run(['rsync', parent_dir+'/analysis_scripts/ALP_sim/config_simulate_batch.py', files_dir],\n",
    "                                       capture_output = True, text=True)\n",
    "rsync_result6 = subprocess.run(['rsync', parent_dir+'/analysis_scripts/ALP_sim/config_pois.py', files_dir],\n",
    "                                       capture_output = True, text=True)"
   ]
  },
  {
   "cell_type": "code",
   "execution_count": 21,
   "id": "21d58f2a-82ea-4cf5-bed1-d0f3f97ac0e2",
   "metadata": {},
   "outputs": [],
   "source": [
    "A = ALP_sim(set_null=0, set_obs=0)"
   ]
  },
  {
   "cell_type": "markdown",
   "id": "ba1d1ff0-9496-4946-a3ed-d754706e2ebe",
   "metadata": {},
   "source": [
    "# Configuration"
   ]
  },
  {
   "cell_type": "markdown",
   "id": "c8dfc9f8-1858-49f8-8fa7-6826390f06c5",
   "metadata": {},
   "source": [
    "### Technical"
   ]
  },
  {
   "cell_type": "code",
   "execution_count": 22,
   "id": "e4f58264-7f05-480a-b91d-e782a9606c5d",
   "metadata": {},
   "outputs": [],
   "source": [
    "n_sim = 20\n",
    "n_cpus = 1\n",
    "new_store = 1\n",
    "slurm = 0\n",
    "conda_env = \"swyft4-dev\"\n",
    "slurm_dir = '/home/gert/fox_hpc/ALPs_with_SWYFT/notebooks/' + (os.getcwd()+\"/\").split('/notebooks/', 1)[1]\n",
    "\n",
    "max_time_sim = '00-04:00:00'\n",
    "max_memory_sim = '5'\n",
    "partition_sim = 'normal'\n",
    "devel_sim = 0\n",
    "\n",
    "max_time_train = '00-01:30:00'\n",
    "max_memory_train = '40'\n",
    "partition_train = 'accel'\n",
    "devel_train = 1\n",
    "gpus = 0\n",
    "\n",
    "\n",
    "\n",
    "account = 'ec12'\n",
    "    "
   ]
  },
  {
   "cell_type": "markdown",
   "id": "f9600559-9b9f-4e0b-9c4d-3e549cdcc5fe",
   "metadata": {},
   "source": [
    "### Parameters to be fixed/varied"
   ]
  },
  {
   "cell_type": "code",
   "execution_count": 23,
   "id": "53929bcf-d95c-4011-8218-f10db4b5380d",
   "metadata": {},
   "outputs": [],
   "source": [
    "model_parameter_vals = [\n",
    "            \n",
    "    10,                 # mass m in neV\n",
    "    None,               # coupling constant g in 10^(-11) /GeV\n",
    "    \n",
    "    None,               # Amplitude of power law, in \"TeV-1 cm-2 s-1\"\n",
    "    None,               # Spectral index of the PWL\n",
    "    300,                # Reference energy (?) E0, In GeV\n",
    "    None,               #Cut-off energy Ecut, in GeV\n",
    "    \n",
    "    \n",
    "    None,                # rms of B field, default = 10.\n",
    "    None,                # normalization of electron density, default = 39.\n",
    "    None,               # second normalization of electron density, see Churazov et al. 2003, Eq. 4, default = 4.05\n",
    "    None,               # extension of the cluster, default = 500.\n",
    "    None,                # electron density parameter, see Churazov et al. 2003, Eq. 4, default = 80.\n",
    "    None,               # electron density parameter, see Churazov et al. 2003, Eq. 4, default = 200.\n",
    "    None,                # electron density parameter, see Churazov et al. 2003, Eq. 4, default = 1.2\n",
    "    None,               # electron density parameter, see Churazov et al. 2003, Eq. 4, default = 0.58\n",
    "    None,                # scaling of B-field with electron denstiy, default = 0.5\n",
    "    None,               # maximum turbulence scale in kpc^-1, taken from A2199 cool-core cluster, see Vacca et al. 2012, default = 0.18\n",
    "    None,                 # minimum turbulence scale, taken from A2199 cool-core cluster, see Vacca et al. 2012, default = 9.\n",
    "    None               # turbulence spectral index, taken from A2199 cool-core cluster, see Vacca et al. 2012, default = -2.80\n",
    "            \n",
    "]\n",
    "\n",
    "poi_objects = {'model_parameter_vals':model_parameter_vals}\n",
    "with open(files_dir+'/poi_objects.pickle','wb') as file:\n",
    "    pickle.dump(poi_objects, file)\n",
    "os.chdir(files_dir)\n",
    "config_pois_result = subprocess.run(['python', files_dir+'/config_pois.py'], capture_output = True, text=True)\n",
    "\n",
    "if loaded_param_function:\n",
    "    importlib.reload(param_function)\n",
    "else:\n",
    "    import param_function\n",
    "    loaded_param_function = True\n",
    "\n",
    "os.chdir(start_dir)\n",
    "\n",
    "A.full_param_vec = param_function.param_function"
   ]
  },
  {
   "cell_type": "markdown",
   "id": "f5e51909-966d-4aa5-b0c5-53c9771dd41c",
   "metadata": {},
   "source": [
    "### Priors and true values"
   ]
  },
  {
   "cell_type": "code",
   "execution_count": 24,
   "id": "942ffc7e-e6ab-43e3-9cce-63ceaa8b82f7",
   "metadata": {},
   "outputs": [
    {
     "name": "stderr",
     "output_type": "stream",
     "text": [
      "/home/gert/ALPs_with_SWYFT/analysis_scripts/ALP_sim/ALP_quick_sim.py:444: UserWarning: The number of model parameters, log-indicators, null-hypothesis parameters, parameter names and parameter units are not equal\n",
      "  warnings.warn(\"The number of model parameters, log-indicators, null-hypothesis parameters, parameter names and parameter units are not equal\")\n"
     ]
    }
   ],
   "source": [
    "A.configure_model(\n",
    "    log_params = [0,0,0,0,0,0,0,0,0,0,0,0,0,0,0,0],\n",
    "    null_params = [0,1.54e-9,2.11,560,25.,39.,4.05,500.,80.,280.,1.2,0.58,0.5,0.18,9.,-2.80]\n",
    ")\n",
    "\n",
    "g_values = [0.2,0.4,0.8]\n",
    "\n",
    "bounds = [\n",
    "    [0,0],\n",
    "    [1.51e-9, 1.57e-9],\n",
    "    [2.09,2.13],\n",
    "    [545,575],\n",
    "    [8,27],\n",
    "    [37,48],\n",
    "    [3.4,4.07],\n",
    "    [450,550],\n",
    "    [70,290],\n",
    "    [276,282],\n",
    "    [1.0,1.4],\n",
    "    [0.56,0.60],\n",
    "    [0.3,0.8],\n",
    "    [0.16,0.20],\n",
    "    [8,10],\n",
    "    [0.8,3.8]\n",
    "]\n",
    "\n",
    "truths = np.array([\n",
    "    [1.4, 1.54e-9, 2.11,560,25.,39.,4.05,500.,80.,280.,1.2,0.58,0.5,0.18,9.,-2.80],\n",
    "    [0.778, 1.54e-9, 2.11,560,25.,39.,4.05,500.,80.,280.,1.2,0.58,0.5,0.18,9.,-2.80],\n",
    "    [0.477, 1.54e-9, 2.11,560,25.,39.,4.05,500.,80.,280.,1.2,0.58,0.5,0.18,9.,-2.80],\n",
    "    [0, 1.54e-9, 2.11,560,25.,39.,4.05,500.,80.,280.,1.2,0.58,0.5,0.18,9.,-2.80],\n",
    "    [-0.7, 1.54e-9, 2.11,560,25.,39.,4.05,500.,80.,280.,1.2,0.58,0.5,0.18,9.,-2.80],\n",
    "    [-1.4, 1.54e-9, 2.11,560,25.,39.,4.05,500.,80.,280.,1.2,0.58,0.5,0.18,9.,-2.80],\n",
    "])\n",
    "\n",
    "marginals = [0]\n",
    "\n",
    "colors = [\n",
    "    (0,0,1),\n",
    "    (0,1,.65),\n",
    "    (0,1,0),\n",
    "    (1,1,0),\n",
    "    (1,.6,0),\n",
    "    (1,0,0),\n",
    "]"
   ]
  },
  {
   "cell_type": "markdown",
   "id": "02d3a222-7f94-4c34-8202-d278abac44f9",
   "metadata": {},
   "source": [
    "### Model configuration"
   ]
  },
  {
   "cell_type": "code",
   "execution_count": 25,
   "id": "5aca913b-4a38-4645-a525-e2545dadd52b",
   "metadata": {},
   "outputs": [],
   "source": [
    "A.configure_model(\n",
    "    model=\"\",\n",
    "    noise=\"poisson\",\n",
    "    param_names = param_function.param_names,\n",
    "    param_units = param_function.param_units,\n",
    "    ALP_seed=None,\n",
    "    floor=-1.15,\n",
    "    floor_obs=-1.15, # not reflected in training set of all_larger_bounds\n",
    "    logcounts=True,\n",
    "    residuals=True\n",
    ")"
   ]
  },
  {
   "cell_type": "code",
   "execution_count": 26,
   "id": "197161eb-cc49-4489-9377-1863bdb474b8",
   "metadata": {},
   "outputs": [],
   "source": [
    "if update_notebook or not os.path.exists(files_dir+'/config_objects.pickle'):\n",
    "    A.configure_obs(\n",
    "        nbins = 150,\n",
    "        nbins_etrue = 450,\n",
    "        emin = 6e1,\n",
    "        emax = 3e3,\n",
    "        livetime = 10,\n",
    "        irf_file = parent_dir+\"/IRFs/CTA/Prod5-North-20deg-AverageAz-4LSTs09MSTs.180000s-v0.1.fits\"\n",
    "    )"
   ]
  },
  {
   "cell_type": "markdown",
   "id": "d32d1682-2491-4a43-93a7-8fa4ad43dea5",
   "metadata": {},
   "source": [
    "# Derived Values"
   ]
  },
  {
   "cell_type": "code",
   "execution_count": 27,
   "id": "59a7c597-1928-4d96-aba9-7f65949039f2",
   "metadata": {},
   "outputs": [],
   "source": [
    "simulation_batch_size = int(np.ceil(n_sim/n_cpus))"
   ]
  },
  {
   "cell_type": "code",
   "execution_count": 28,
   "id": "30e2da85-b121-4846-a8ed-36fea8cfccd1",
   "metadata": {},
   "outputs": [],
   "source": [
    "DEVICE = 'cpu' #if not gpus else 'cuda'"
   ]
  },
  {
   "cell_type": "code",
   "execution_count": 29,
   "id": "2d1ed194-18d6-4f36-88e1-f1da47fcb3f1",
   "metadata": {},
   "outputs": [],
   "source": [
    "if update_notebook or not os.path.exists(files_dir+'/config_objects.pickle'):\n",
    "    config_objects = {'A':A, 'n_sim':n_sim,'n_cpus':n_cpus, 'bounds':bounds, 'g_values':g_values,'truths':truths, 'simulation_batch_size':simulation_batch_size, \n",
    "                      'store_name':store_name,'store_dir':store_dir, 'files_dir':files_dir, 'start_dir':start_dir, 'conda_env':conda_env,\n",
    "                      'slurm':slurm, 'slurm_dir':slurm_dir, 'gpus':gpus,'max_time_sim':max_time_sim,'max_memory_sim':max_memory_sim,\n",
    "                      'partition_sim':partition_sim,'devel_sim':devel_sim,'account':account, 'colors':colors, 'marginals':marginals}\n",
    "    \n",
    "    with open(files_dir+'/config_objects.pickle','wb') as file:\n",
    "        pickle.dump(config_objects, file)"
   ]
  },
  {
   "cell_type": "code",
   "execution_count": null,
   "id": "4a4a3776-d399-4713-a57b-26bc78362aa3",
   "metadata": {},
   "outputs": [],
   "source": []
  },
  {
   "cell_type": "markdown",
   "id": "33f44b0a-89bd-4870-a595-d51023d2dcf7",
   "metadata": {},
   "source": [
    "# Simulation setup"
   ]
  },
  {
   "cell_type": "code",
   "execution_count": 30,
   "id": "5ef4588e-2700-4d0a-828b-bee9c43d0017",
   "metadata": {},
   "outputs": [
    {
     "name": "stdout",
     "output_type": "stream",
     "text": [
      "Generating new null-hypothesis... "
     ]
    },
    {
     "name": "stderr",
     "output_type": "stream",
     "text": [
      "/home/gert/anaconda3/envs/plotting/lib/python3.9/site-packages/gammaALPs/base/transfer.py:411: RuntimeWarning: invalid value encountered in true_divide\n",
      "  self._saca = Dag / Dosc # = 0.5 * sin(2. * alpha)\n",
      "/home/gert/anaconda3/envs/plotting/lib/python3.9/site-packages/gammaALPs/base/transfer.py:420: RuntimeWarning: invalid value encountered in multiply\n",
      "  self._EW2 = 0.5 * (Dpar + Da - Dosc)\n",
      "/home/gert/anaconda3/envs/plotting/lib/python3.9/site-packages/gammaALPs/base/transfer.py:421: RuntimeWarning: invalid value encountered in multiply\n",
      "  self._EW3 = 0.5 * (Dpar + Da + Dosc)\n",
      "/home/gert/anaconda3/envs/plotting/lib/python3.9/site-packages/gammaALPs/base/transfer.py:475: RuntimeWarning: invalid value encountered in multiply\n",
      "  self._Tn +=  np.exp(-1.j * (self._EW2 * self._ll)[..., np.newaxis, np.newaxis]) * self.__getT2n()\n",
      "/home/gert/anaconda3/envs/plotting/lib/python3.9/site-packages/gammaALPs/base/transfer.py:477: RuntimeWarning: invalid value encountered in multiply\n",
      "  self._Tn +=  np.exp(-1.j * (self._EW3 * self._ll)[..., np.newaxis, np.newaxis]) * self.__getT3n()\n",
      "/home/gert/anaconda3/envs/plotting/lib/python3.9/site-packages/gammaALPs/base/transfer.py:411: RuntimeWarning: invalid value encountered in true_divide\n",
      "  self._saca = Dag / Dosc # = 0.5 * sin(2. * alpha)\n",
      "/home/gert/anaconda3/envs/plotting/lib/python3.9/site-packages/gammaALPs/base/transfer.py:420: RuntimeWarning: invalid value encountered in multiply\n",
      "  self._EW2 = 0.5 * (Dpar + Da - Dosc)\n",
      "/home/gert/anaconda3/envs/plotting/lib/python3.9/site-packages/gammaALPs/base/transfer.py:421: RuntimeWarning: invalid value encountered in multiply\n",
      "  self._EW3 = 0.5 * (Dpar + Da + Dosc)\n",
      "/home/gert/anaconda3/envs/plotting/lib/python3.9/site-packages/gammaALPs/base/transfer.py:475: RuntimeWarning: invalid value encountered in multiply\n",
      "  self._Tn +=  np.exp(-1.j * (self._EW2 * self._ll)[..., np.newaxis, np.newaxis]) * self.__getT2n()\n",
      "/home/gert/anaconda3/envs/plotting/lib/python3.9/site-packages/gammaALPs/base/transfer.py:477: RuntimeWarning: invalid value encountered in multiply\n",
      "  self._Tn +=  np.exp(-1.j * (self._EW3 * self._ll)[..., np.newaxis, np.newaxis]) * self.__getT3n()\n",
      "/home/gert/anaconda3/envs/plotting/lib/python3.9/site-packages/gammaALPs/base/transfer.py:794: RuntimeWarning: invalid value encountered in true_divide\n",
      "  lin_pol /= (rfinal[:, 0, 0] + rfinal[:, 1, 1])\n",
      "/home/gert/anaconda3/envs/plotting/lib/python3.9/site-packages/gammaALPs/base/transfer.py:795: RuntimeWarning: invalid value encountered in true_divide\n",
      "  circ_pol = np.imag(rfinal[:, 0, 1] - rfinal[:, 1, 0]) / (rfinal[:, 0, 0] + rfinal[:, 1, 1])\n",
      "/home/gert/anaconda3/envs/plotting/lib/python3.9/site-packages/gammaALPs/base/transfer.py:799: UserWarning: Not all values of linear polarization are real values!\n",
      "  warnings.warn(\"Not all values of linear polarization are real values!\")\n",
      "/home/gert/anaconda3/envs/plotting/lib/python3.9/site-packages/gammaALPs/base/transfer.py:802: UserWarning: Not all values of circular polarization are real values!\n",
      "  warnings.warn(\"Not all values of circular polarization are real values!\")\n"
     ]
    },
    {
     "name": "stdout",
     "output_type": "stream",
     "text": [
      "done.\n"
     ]
    }
   ],
   "source": [
    "A.generate_null()"
   ]
  },
  {
   "cell_type": "code",
   "execution_count": 31,
   "id": "5c98ddc7-d01d-4ecc-95e0-d1a7a7a168d8",
   "metadata": {},
   "outputs": [],
   "source": [
    "sim = ALP_SWYFT_Simulator(A, bounds)"
   ]
  },
  {
   "cell_type": "code",
   "execution_count": 32,
   "id": "b1942d70-8c63-438e-9790-0300080851f9",
   "metadata": {},
   "outputs": [],
   "source": [
    "sim_objects = {'sim':sim}"
   ]
  },
  {
   "cell_type": "code",
   "execution_count": 33,
   "id": "d03621df-cad2-4b65-b074-d8146aba0656",
   "metadata": {},
   "outputs": [],
   "source": [
    "if update_notebook or not os.path.exists(files_dir+'/sim_objects.pickle'):\n",
    "    with open(files_dir+'/sim_objects.pickle','wb') as file:\n",
    "        pickle.dump(sim_objects, file)"
   ]
  },
  {
   "cell_type": "markdown",
   "id": "f9e79543-e7f8-4e82-aa1c-e7e607775a58",
   "metadata": {},
   "source": [
    "# Defining observations"
   ]
  },
  {
   "cell_type": "code",
   "execution_count": 34,
   "id": "24fa0158-8864-41fe-b962-e08e516efa60",
   "metadata": {},
   "outputs": [],
   "source": [
    "# observations = []\n",
    "# for tru in truths:\n",
    "#     sim.A.configure_model(ALP_seed=0)\n",
    "#     obs_exp=sim.generate_exp(tru)\n",
    "#     obs_data = sim.generate_data(obs_exp,tru)\n",
    "#     observations.append(swyft.Sample(data=obs_data, exp=obs_exp, params=tru))\n",
    "# sim.A.configure_model(ALP_seed=None)"
   ]
  },
  {
   "cell_type": "code",
   "execution_count": 35,
   "id": "abf618b7-7085-4157-aec8-5bc266a98667",
   "metadata": {},
   "outputs": [],
   "source": [
    "# if update_notebook or not os.path.exists(files_dir+'/sim_objects.pickle'):\n",
    "#     with open(files_dir+'/obs_objects.pickle','wb') as file:\n",
    "#         pickle.dump({'observations':observations}, file)"
   ]
  },
  {
   "cell_type": "markdown",
   "id": "5f7a9f05-2a0d-4118-aede-117a2462c7b3",
   "metadata": {},
   "source": [
    "# Loading saved variables"
   ]
  },
  {
   "cell_type": "code",
   "execution_count": 36,
   "id": "eaea7af3-f956-449b-a3be-7bed4e37a399",
   "metadata": {},
   "outputs": [],
   "source": [
    "if not update_notebook:\n",
    "    with open(files_dir+\"/\"+'config_objects.pickle', 'rb') as file:\n",
    "        config_objects = pickle.load(file)\n",
    "    for key in config_objects.keys():\n",
    "        locals()[key] = config_objects[key]\n",
    "    \n",
    "    with open(files_dir+\"/\"+'sim_objects.pickle', 'rb') as file:\n",
    "        sim_objects = pickle.load(file)\n",
    "    for key in sim_objects.keys():\n",
    "        locals()[key] = sim_objects[key]\n",
    "    \n",
    "    # with open(files_dir+\"/\"+'obs_objects.pickle', 'rb') as file:\n",
    "    #     obs_objects = pickle.load(file) \n",
    "    # for key in obs_objects.keys():\n",
    "    #     locals()[key] = obs_objects[key]"
   ]
  },
  {
   "cell_type": "markdown",
   "id": "b242c58f-b7f8-4428-af36-2f23878f64b7",
   "metadata": {},
   "source": [
    "# Simulating"
   ]
  },
  {
   "cell_type": "code",
   "execution_count": 37,
   "id": "66b6b004-a6ee-4f04-8c09-938927e9088e",
   "metadata": {},
   "outputs": [],
   "source": [
    "if not os.path.exists(store_dir):\n",
    "    os.mkdir(store_dir)\n",
    "elif new_store:\n",
    "    rm_result = subprocess.run(['rm','-r', store_dir],\n",
    "                                       capture_output = True, text=True)\n",
    "    if slurm:\n",
    "        rm_slurm_result = subprocess.run(['rm','-r', slurm_dir+\"/\"+files_name+\"/\"+store_name],\n",
    "                                           capture_output = True, text=True)\n",
    "\n",
    "stores={}\n",
    "for g in g_values:    \n",
    "    store = swyft.ZarrStore(store_dir + \"/\" + store_name + \"_\" + str(g).replace('.','-'))\n",
    "    store.init(\n",
    "        N = n_sim,\n",
    "        chunk_size=simulation_batch_size,\n",
    "        shapes=sim.get_shapes_and_dtypes()[0],\n",
    "        dtypes=sim.get_shapes_and_dtypes()[1],\n",
    "    )\n",
    "    stores[str(g).replace('.','-')] = store\n",
    "    "
   ]
  },
  {
   "cell_type": "code",
   "execution_count": 38,
   "id": "4d297f19-ede5-4f2f-b49e-0e5d64f5b058",
   "metadata": {},
   "outputs": [
    {
     "name": "stdout",
     "output_type": "stream",
     "text": [
      "g=0.2\n"
     ]
    },
    {
     "data": {
      "application/vnd.jupyter.widget-view+json": {
       "model_id": "ca30a49f06094fd89ad08d8916332a8f",
       "version_major": 2,
       "version_minor": 0
      },
      "text/plain": [
       "  0%|          | 0/20 [00:00<?, ?it/s]"
      ]
     },
     "metadata": {},
     "output_type": "display_data"
    },
    {
     "name": "stdout",
     "output_type": "stream",
     "text": [
      "g=0.4\n"
     ]
    },
    {
     "data": {
      "application/vnd.jupyter.widget-view+json": {
       "model_id": "9db2eb9174d3459e91f72f39d0342f3b",
       "version_major": 2,
       "version_minor": 0
      },
      "text/plain": [
       "  0%|          | 0/20 [00:00<?, ?it/s]"
      ]
     },
     "metadata": {},
     "output_type": "display_data"
    },
    {
     "ename": "KeyboardInterrupt",
     "evalue": "",
     "output_type": "error",
     "traceback": [
      "\u001b[0;31m---------------------------------------------------------------------------\u001b[0m",
      "\u001b[0;31mKeyboardInterrupt\u001b[0m                         Traceback (most recent call last)",
      "Cell \u001b[0;32mIn[38], line 5\u001b[0m\n\u001b[1;32m      3\u001b[0m         sim\u001b[38;5;241m.\u001b[39mbounds[\u001b[38;5;241m0\u001b[39m]\u001b[38;5;241m=\u001b[39m[g,g]\n\u001b[1;32m      4\u001b[0m         \u001b[38;5;28mprint\u001b[39m(\u001b[38;5;124m\"\u001b[39m\u001b[38;5;124mg=\u001b[39m\u001b[38;5;124m\"\u001b[39m\u001b[38;5;241m+\u001b[39m\u001b[38;5;28mstr\u001b[39m(g))\n\u001b[0;32m----> 5\u001b[0m         \u001b[43mstores\u001b[49m\u001b[43m[\u001b[49m\u001b[38;5;28;43mstr\u001b[39;49m\u001b[43m(\u001b[49m\u001b[43mg\u001b[49m\u001b[43m)\u001b[49m\u001b[38;5;241;43m.\u001b[39;49m\u001b[43mreplace\u001b[49m\u001b[43m(\u001b[49m\u001b[38;5;124;43m'\u001b[39;49m\u001b[38;5;124;43m.\u001b[39;49m\u001b[38;5;124;43m'\u001b[39;49m\u001b[43m,\u001b[49m\u001b[38;5;124;43m'\u001b[39;49m\u001b[38;5;124;43m-\u001b[39;49m\u001b[38;5;124;43m'\u001b[39;49m\u001b[43m)\u001b[49m\u001b[43m]\u001b[49m\u001b[38;5;241;43m.\u001b[39;49m\u001b[43msimulate\u001b[49m\u001b[43m(\u001b[49m\u001b[43msim\u001b[49m\u001b[43m,\u001b[49m\u001b[43m \u001b[49m\u001b[43mbatch_size\u001b[49m\u001b[38;5;241;43m=\u001b[39;49m\u001b[43msimulation_batch_size\u001b[49m\u001b[43m)\u001b[49m\n\u001b[1;32m      6\u001b[0m \u001b[38;5;28;01melse\u001b[39;00m:    \n\u001b[1;32m      7\u001b[0m     \u001b[38;5;28;01mif\u001b[39;00m \u001b[38;5;129;01mnot\u001b[39;00m os\u001b[38;5;241m.\u001b[39mpath\u001b[38;5;241m.\u001b[39mexists(slurm_dir \u001b[38;5;241m+\u001b[39m \u001b[38;5;124m\"\u001b[39m\u001b[38;5;124m/\u001b[39m\u001b[38;5;124m\"\u001b[39m \u001b[38;5;241m+\u001b[39m store_name):\n",
      "File \u001b[0;32m~/ALPs_with_SWYFT/swyft/swyft/lightning/data.py:288\u001b[0m, in \u001b[0;36mZarrStore.simulate\u001b[0;34m(self, sampler, max_sims, batch_size)\u001b[0m\n\u001b[1;32m    286\u001b[0m \u001b[38;5;28;01mif\u001b[39;00m max_sims \u001b[38;5;129;01mis\u001b[39;00m \u001b[38;5;129;01mnot\u001b[39;00m \u001b[38;5;28;01mNone\u001b[39;00m \u001b[38;5;129;01mand\u001b[39;00m total_sims \u001b[38;5;241m>\u001b[39m\u001b[38;5;241m=\u001b[39m max_sims:\n\u001b[1;32m    287\u001b[0m     \u001b[38;5;28;01mbreak\u001b[39;00m\n\u001b[0;32m--> 288\u001b[0m num_sims \u001b[38;5;241m=\u001b[39m \u001b[38;5;28;43mself\u001b[39;49m\u001b[38;5;241;43m.\u001b[39;49m\u001b[43m_simulate_batch\u001b[49m\u001b[43m(\u001b[49m\u001b[43msampler\u001b[49m\u001b[43m,\u001b[49m\u001b[43m \u001b[49m\u001b[43mbatch_size\u001b[49m\u001b[43m)\u001b[49m\n\u001b[1;32m    289\u001b[0m total_sims \u001b[38;5;241m+\u001b[39m\u001b[38;5;241m=\u001b[39m num_sims\n",
      "File \u001b[0;32m~/ALPs_with_SWYFT/swyft/swyft/lightning/data.py:297\u001b[0m, in \u001b[0;36mZarrStore._simulate_batch\u001b[0;34m(self, sample_fn, batch_size)\u001b[0m\n\u001b[1;32m    294\u001b[0m \u001b[38;5;28;01mif\u001b[39;00m num_sims \u001b[38;5;241m==\u001b[39m \u001b[38;5;241m0\u001b[39m:\n\u001b[1;32m    295\u001b[0m     \u001b[38;5;28;01mreturn\u001b[39;00m num_sims\n\u001b[0;32m--> 297\u001b[0m samples \u001b[38;5;241m=\u001b[39m \u001b[43msample_fn\u001b[49m\u001b[43m(\u001b[49m\u001b[43mnum_sims\u001b[49m\u001b[43m)\u001b[49m\n\u001b[1;32m    299\u001b[0m \u001b[38;5;66;03m# Reserve slots\u001b[39;00m\n\u001b[1;32m    300\u001b[0m \u001b[38;5;28;01mwith\u001b[39;00m \u001b[38;5;28mself\u001b[39m\u001b[38;5;241m.\u001b[39mlock:\n",
      "File \u001b[0;32m~/ALPs_with_SWYFT/swyft/swyft/lightning/simulator.py:342\u001b[0m, in \u001b[0;36mSimulator.sample\u001b[0;34m(self, N, targets, conditions, exclude)\u001b[0m\n\u001b[1;32m    340\u001b[0m out \u001b[38;5;241m=\u001b[39m []\n\u001b[1;32m    341\u001b[0m \u001b[38;5;28;01mfor\u001b[39;00m _ \u001b[38;5;129;01min\u001b[39;00m tqdm(\u001b[38;5;28mrange\u001b[39m(N)):\n\u001b[0;32m--> 342\u001b[0m     result \u001b[38;5;241m=\u001b[39m \u001b[38;5;28;43mself\u001b[39;49m\u001b[38;5;241;43m.\u001b[39;49m\u001b[43m_run\u001b[49m\u001b[43m(\u001b[49m\u001b[43mtargets\u001b[49m\u001b[43m,\u001b[49m\u001b[43m \u001b[49m\u001b[43mconditions\u001b[49m\u001b[43m)\u001b[49m\n\u001b[1;32m    343\u001b[0m     \u001b[38;5;28;01mfor\u001b[39;00m key \u001b[38;5;129;01min\u001b[39;00m exclude:\n\u001b[1;32m    344\u001b[0m         result\u001b[38;5;241m.\u001b[39mpop(key, \u001b[38;5;28;01mNone\u001b[39;00m)\n",
      "File \u001b[0;32m~/ALPs_with_SWYFT/swyft/swyft/lightning/simulator.py:300\u001b[0m, in \u001b[0;36mSimulator._run\u001b[0;34m(self, targets, conditions)\u001b[0m\n\u001b[1;32m    298\u001b[0m     targets \u001b[38;5;241m=\u001b[39m \u001b[38;5;28mself\u001b[39m\u001b[38;5;241m.\u001b[39mgraph\u001b[38;5;241m.\u001b[39mkeys()\n\u001b[1;32m    299\u001b[0m \u001b[38;5;28;01mfor\u001b[39;00m target \u001b[38;5;129;01min\u001b[39;00m targets:\n\u001b[0;32m--> 300\u001b[0m     \u001b[38;5;28;43mself\u001b[39;49m\u001b[38;5;241;43m.\u001b[39;49m\u001b[43mgraph\u001b[49m\u001b[43m[\u001b[49m\u001b[43mtarget\u001b[49m\u001b[43m]\u001b[49m\u001b[38;5;241;43m.\u001b[39;49m\u001b[43mevaluate\u001b[49m\u001b[43m(\u001b[49m\u001b[43mtrace\u001b[49m\u001b[43m)\u001b[49m\n\u001b[1;32m    301\u001b[0m result \u001b[38;5;241m=\u001b[39m \u001b[38;5;28mself\u001b[39m\u001b[38;5;241m.\u001b[39mtransform_samples(trace)\n\u001b[1;32m    302\u001b[0m \u001b[38;5;28;01mreturn\u001b[39;00m result\n",
      "File \u001b[0;32m~/ALPs_with_SWYFT/swyft/swyft/lightning/simulator.py:131\u001b[0m, in \u001b[0;36mNode.evaluate\u001b[0;34m(self, trace)\u001b[0m\n\u001b[1;32m    124\u001b[0m \u001b[38;5;28;01melse\u001b[39;00m:\n\u001b[1;32m    125\u001b[0m     args \u001b[38;5;241m=\u001b[39m (\n\u001b[1;32m    126\u001b[0m         arg\u001b[38;5;241m.\u001b[39mevaluate(trace)\n\u001b[1;32m    127\u001b[0m         \u001b[38;5;28;01mif\u001b[39;00m (\u001b[38;5;28misinstance\u001b[39m(arg, Node) \u001b[38;5;129;01mor\u001b[39;00m \u001b[38;5;28misinstance\u001b[39m(arg, Switch))\n\u001b[1;32m    128\u001b[0m         \u001b[38;5;28;01melse\u001b[39;00m arg\n\u001b[1;32m    129\u001b[0m         \u001b[38;5;28;01mfor\u001b[39;00m arg \u001b[38;5;129;01min\u001b[39;00m \u001b[38;5;28mself\u001b[39m\u001b[38;5;241m.\u001b[39m_inputs\n\u001b[1;32m    130\u001b[0m     )\n\u001b[0;32m--> 131\u001b[0m     result \u001b[38;5;241m=\u001b[39m \u001b[38;5;28;43mself\u001b[39;49m\u001b[38;5;241;43m.\u001b[39;49m\u001b[43m_fn\u001b[49m\u001b[43m(\u001b[49m\u001b[38;5;241;43m*\u001b[39;49m\u001b[43margs\u001b[49m\u001b[43m)\u001b[49m\n\u001b[1;32m    132\u001b[0m     \u001b[38;5;28;01mif\u001b[39;00m \u001b[38;5;28mself\u001b[39m\u001b[38;5;241m.\u001b[39m_mult_parnames \u001b[38;5;129;01mis\u001b[39;00m \u001b[38;5;28;01mNone\u001b[39;00m:\n\u001b[1;32m    133\u001b[0m         trace[\u001b[38;5;28mself\u001b[39m\u001b[38;5;241m.\u001b[39m_parname] \u001b[38;5;241m=\u001b[39m result\n",
      "File \u001b[0;32m~/ALPs_with_SWYFT/analysis_scripts/ALP_sim/alp_swyft_simulator.py:78\u001b[0m, in \u001b[0;36mALP_SWYFT_Simulator.generate_exp\u001b[0;34m(self, vec)\u001b[0m\n\u001b[1;32m     77\u001b[0m \u001b[38;5;28;01mdef\u001b[39;00m \u001b[38;5;21mgenerate_exp\u001b[39m(\u001b[38;5;28mself\u001b[39m,vec):\n\u001b[0;32m---> 78\u001b[0m     exp \u001b[38;5;241m=\u001b[39m \u001b[38;5;28;43mself\u001b[39;49m\u001b[38;5;241;43m.\u001b[39;49m\u001b[43mA\u001b[49m\u001b[38;5;241;43m.\u001b[39;49m\u001b[43msimulate\u001b[49m\u001b[43m(\u001b[49m\u001b[43mvec\u001b[49m\u001b[43m)\u001b[49m[\u001b[38;5;124m'\u001b[39m\u001b[38;5;124my\u001b[39m\u001b[38;5;124m'\u001b[39m]\n\u001b[1;32m     79\u001b[0m     \u001b[38;5;28;01mreturn\u001b[39;00m exp\u001b[38;5;241m.\u001b[39mastype(np\u001b[38;5;241m.\u001b[39mfloat32)\n",
      "File \u001b[0;32m~/ALPs_with_SWYFT/analysis_scripts/ALP_sim/ALP_quick_sim.py:782\u001b[0m, in \u001b[0;36mALP_sim.model\u001b[0;34m(self, params)\u001b[0m\n\u001b[1;32m    780\u001b[0m alp        \u001b[38;5;241m=\u001b[39m ALP(\u001b[38;5;241m0\u001b[39m,\u001b[38;5;241m0\u001b[39m) \n\u001b[1;32m    781\u001b[0m modulelist_loc \u001b[38;5;241m=\u001b[39m ModuleList(alp, source, pin \u001b[38;5;241m=\u001b[39m pin)\n\u001b[0;32m--> 782\u001b[0m \u001b[43mmodulelist_loc\u001b[49m\u001b[38;5;241;43m.\u001b[39;49m\u001b[43madd_propagation\u001b[49m\u001b[43m(\u001b[49m\u001b[38;5;124;43m\"\u001b[39;49m\u001b[38;5;124;43mICMGaussTurb\u001b[39;49m\u001b[38;5;124;43m\"\u001b[39;49m\u001b[43m,\u001b[49m\u001b[43m \u001b[49m\n\u001b[1;32m    783\u001b[0m \u001b[43m              \u001b[49m\u001b[38;5;241;43m0\u001b[39;49m\u001b[43m,\u001b[49m\u001b[43m \u001b[49m\u001b[38;5;66;43;03m# position of module counted from the source. \u001b[39;49;00m\n\u001b[1;32m    784\u001b[0m \u001b[43m              \u001b[49m\u001b[43mnsim\u001b[49m\u001b[43m \u001b[49m\u001b[38;5;241;43m=\u001b[39;49m\u001b[43m \u001b[49m\u001b[38;5;28;43mself\u001b[39;49m\u001b[38;5;241;43m.\u001b[39;49m\u001b[43mnB\u001b[49m\u001b[43m,\u001b[49m\u001b[43m \u001b[49m\u001b[38;5;66;43;03m# number of random B-field realizations\u001b[39;49;00m\n\u001b[1;32m    785\u001b[0m \u001b[43m              \u001b[49m\u001b[43mB0\u001b[49m\u001b[43m \u001b[49m\u001b[38;5;241;43m=\u001b[39;49m\u001b[43m \u001b[49m\u001b[43mv\u001b[49m\u001b[43m[\u001b[49m\u001b[38;5;241;43m6\u001b[39;49m\u001b[43m]\u001b[49m\u001b[43m,\u001b[49m\u001b[43m  \u001b[49m\u001b[38;5;66;43;03m# rms of B field, default = 10.\u001b[39;49;00m\n\u001b[1;32m    786\u001b[0m \u001b[43m              \u001b[49m\u001b[43mn0\u001b[49m\u001b[43m \u001b[49m\u001b[38;5;241;43m=\u001b[39;49m\u001b[43m \u001b[49m\u001b[43mv\u001b[49m\u001b[43m[\u001b[49m\u001b[38;5;241;43m7\u001b[39;49m\u001b[43m]\u001b[49m\u001b[43m,\u001b[49m\u001b[43m  \u001b[49m\u001b[38;5;66;43;03m# normalization of electron density, default = 39.\u001b[39;49;00m\n\u001b[1;32m    787\u001b[0m \u001b[43m              \u001b[49m\u001b[43mn2\u001b[49m\u001b[43m \u001b[49m\u001b[38;5;241;43m=\u001b[39;49m\u001b[43m \u001b[49m\u001b[43mv\u001b[49m\u001b[43m[\u001b[49m\u001b[38;5;241;43m8\u001b[39;49m\u001b[43m]\u001b[49m\u001b[43m,\u001b[49m\u001b[43m \u001b[49m\u001b[38;5;66;43;03m# second normalization of electron density, see Churazov et al. 2003, Eq. 4, default = 4.05\u001b[39;49;00m\n\u001b[1;32m    788\u001b[0m \u001b[43m              \u001b[49m\u001b[43mr_abell\u001b[49m\u001b[43m \u001b[49m\u001b[38;5;241;43m=\u001b[39;49m\u001b[43m \u001b[49m\u001b[43mv\u001b[49m\u001b[43m[\u001b[49m\u001b[38;5;241;43m9\u001b[39;49m\u001b[43m]\u001b[49m\u001b[43m,\u001b[49m\u001b[43m \u001b[49m\u001b[38;5;66;43;03m# extension of the cluster, default = 500.\u001b[39;49;00m\n\u001b[1;32m    789\u001b[0m \u001b[43m              \u001b[49m\u001b[43mr_core\u001b[49m\u001b[43m \u001b[49m\u001b[38;5;241;43m=\u001b[39;49m\u001b[43m \u001b[49m\u001b[43mv\u001b[49m\u001b[43m[\u001b[49m\u001b[38;5;241;43m10\u001b[39;49m\u001b[43m]\u001b[49m\u001b[43m,\u001b[49m\u001b[43m   \u001b[49m\u001b[38;5;66;43;03m# electron density parameter, see Churazov et al. 2003, Eq. 4, default = 80.\u001b[39;49;00m\n\u001b[1;32m    790\u001b[0m \u001b[43m              \u001b[49m\u001b[43mr_core2\u001b[49m\u001b[43m \u001b[49m\u001b[38;5;241;43m=\u001b[39;49m\u001b[43m \u001b[49m\u001b[43mv\u001b[49m\u001b[43m[\u001b[49m\u001b[38;5;241;43m11\u001b[39;49m\u001b[43m]\u001b[49m\u001b[43m,\u001b[49m\u001b[43m \u001b[49m\u001b[38;5;66;43;03m# electron density parameter, see Churazov et al. 2003, Eq. 4, default = 200.\u001b[39;49;00m\n\u001b[1;32m    791\u001b[0m \u001b[43m              \u001b[49m\u001b[43mbeta\u001b[49m\u001b[43m \u001b[49m\u001b[38;5;241;43m=\u001b[39;49m\u001b[43m \u001b[49m\u001b[43mv\u001b[49m\u001b[43m[\u001b[49m\u001b[38;5;241;43m12\u001b[39;49m\u001b[43m]\u001b[49m\u001b[43m,\u001b[49m\u001b[43m  \u001b[49m\u001b[38;5;66;43;03m# electron density parameter, see Churazov et al. 2003, Eq. 4, default = 1.2\u001b[39;49;00m\n\u001b[1;32m    792\u001b[0m \u001b[43m              \u001b[49m\u001b[43mbeta2\u001b[49m\u001b[38;5;241;43m=\u001b[39;49m\u001b[43m \u001b[49m\u001b[43mv\u001b[49m\u001b[43m[\u001b[49m\u001b[38;5;241;43m13\u001b[39;49m\u001b[43m]\u001b[49m\u001b[43m,\u001b[49m\u001b[43m \u001b[49m\u001b[38;5;66;43;03m# electron density parameter, see Churazov et al. 2003, Eq. 4, default = 0.58\u001b[39;49;00m\n\u001b[1;32m    793\u001b[0m \u001b[43m              \u001b[49m\u001b[43meta\u001b[49m\u001b[43m \u001b[49m\u001b[38;5;241;43m=\u001b[39;49m\u001b[43m \u001b[49m\u001b[43mv\u001b[49m\u001b[43m[\u001b[49m\u001b[38;5;241;43m14\u001b[39;49m\u001b[43m]\u001b[49m\u001b[43m,\u001b[49m\u001b[43m \u001b[49m\u001b[38;5;66;43;03m# scaling of B-field with electron denstiy, default = 0.5\u001b[39;49;00m\n\u001b[1;32m    794\u001b[0m \u001b[43m              \u001b[49m\u001b[43mkL\u001b[49m\u001b[43m \u001b[49m\u001b[38;5;241;43m=\u001b[39;49m\u001b[43m \u001b[49m\u001b[43mv\u001b[49m\u001b[43m[\u001b[49m\u001b[38;5;241;43m15\u001b[39;49m\u001b[43m]\u001b[49m\u001b[43m,\u001b[49m\u001b[43m \u001b[49m\u001b[38;5;66;43;03m# maximum turbulence scale in kpc^-1, taken from A2199 cool-core cluster, see Vacca et al. 2012, default = 0.18\u001b[39;49;00m\n\u001b[1;32m    795\u001b[0m \u001b[43m              \u001b[49m\u001b[43mkH\u001b[49m\u001b[43m \u001b[49m\u001b[38;5;241;43m=\u001b[39;49m\u001b[43m \u001b[49m\u001b[43mv\u001b[49m\u001b[43m[\u001b[49m\u001b[38;5;241;43m16\u001b[39;49m\u001b[43m]\u001b[49m\u001b[43m,\u001b[49m\u001b[43m  \u001b[49m\u001b[38;5;66;43;03m# minimum turbulence scale, taken from A2199 cool-core cluster, see Vacca et al. 2012, default = 9.\u001b[39;49;00m\n\u001b[1;32m    796\u001b[0m \u001b[43m              \u001b[49m\u001b[43mq\u001b[49m\u001b[43m \u001b[49m\u001b[38;5;241;43m=\u001b[39;49m\u001b[43m \u001b[49m\u001b[43mv\u001b[49m\u001b[43m[\u001b[49m\u001b[38;5;241;43m17\u001b[39;49m\u001b[43m]\u001b[49m\u001b[43m,\u001b[49m\u001b[43m \u001b[49m\u001b[38;5;66;43;03m# turbulence spectral index, taken from A2199 cool-core cluster, see Vacca et al. 2012, default = -2.80\u001b[39;49;00m\n\u001b[1;32m    797\u001b[0m \u001b[43m              \u001b[49m\u001b[43mseed\u001b[49m\u001b[38;5;241;43m=\u001b[39;49m\u001b[38;5;28;43mself\u001b[39;49m\u001b[38;5;241;43m.\u001b[39;49m\u001b[43mALP_seed\u001b[49m\u001b[43m \u001b[49m\u001b[38;5;66;43;03m# random seed for reproducability, set to None for random seed., default = 0\u001b[39;49;00m\n\u001b[1;32m    798\u001b[0m \u001b[43m             \u001b[49m\u001b[43m)\u001b[49m\n\u001b[1;32m    799\u001b[0m modulelist_loc\u001b[38;5;241m.\u001b[39madd_propagation(\u001b[38;5;124m\"\u001b[39m\u001b[38;5;124mEBL\u001b[39m\u001b[38;5;124m\"\u001b[39m,\u001b[38;5;241m1\u001b[39m, model \u001b[38;5;241m=\u001b[39m \u001b[38;5;124m'\u001b[39m\u001b[38;5;124mdominguez\u001b[39m\u001b[38;5;124m'\u001b[39m) \u001b[38;5;66;03m# EBL attenuation comes second, after beam has left cluster\u001b[39;00m\n\u001b[1;32m    800\u001b[0m modulelist_loc\u001b[38;5;241m.\u001b[39madd_propagation(\u001b[38;5;124m\"\u001b[39m\u001b[38;5;124mGMF\u001b[39m\u001b[38;5;124m\"\u001b[39m,\u001b[38;5;241m2\u001b[39m, model \u001b[38;5;241m=\u001b[39m \u001b[38;5;124m'\u001b[39m\u001b[38;5;124mjansson12\u001b[39m\u001b[38;5;124m'\u001b[39m, model_sum \u001b[38;5;241m=\u001b[39m \u001b[38;5;124m'\u001b[39m\u001b[38;5;124mASS\u001b[39m\u001b[38;5;124m'\u001b[39m) \u001b[38;5;66;03m# finally, the beam enters the Milky Way Field\u001b[39;00m\n",
      "File \u001b[0;32m~/anaconda3/envs/plotting/lib/python3.9/site-packages/gammaALPs/core.py:510\u001b[0m, in \u001b[0;36mModuleList.add_propagation\u001b[0;34m(self, environ, order, **kwargs)\u001b[0m\n\u001b[1;32m    506\u001b[0m     \u001b[38;5;28mself\u001b[39m\u001b[38;5;241m.\u001b[39m_modules\u001b[38;5;241m.\u001b[39minsert(order, env\u001b[38;5;241m.\u001b[39mMixICMCell(\u001b[38;5;28mself\u001b[39m\u001b[38;5;241m.\u001b[39malp,\n\u001b[1;32m    507\u001b[0m                                                EGeV\u001b[38;5;241m=\u001b[39m\u001b[38;5;28mself\u001b[39m\u001b[38;5;241m.\u001b[39mEGeV \u001b[38;5;241m*\u001b[39m (\u001b[38;5;241m1.\u001b[39m \u001b[38;5;241m+\u001b[39m \u001b[38;5;28mself\u001b[39m\u001b[38;5;241m.\u001b[39msource\u001b[38;5;241m.\u001b[39mz),\n\u001b[1;32m    508\u001b[0m                                                \u001b[38;5;241m*\u001b[39m\u001b[38;5;241m*\u001b[39mkwargs))\n\u001b[1;32m    509\u001b[0m \u001b[38;5;28;01melif\u001b[39;00m environ \u001b[38;5;241m==\u001b[39m \u001b[38;5;124m'\u001b[39m\u001b[38;5;124mICMGaussTurb\u001b[39m\u001b[38;5;124m'\u001b[39m:\n\u001b[0;32m--> 510\u001b[0m     \u001b[38;5;28mself\u001b[39m\u001b[38;5;241m.\u001b[39m_modules\u001b[38;5;241m.\u001b[39minsert(order, \u001b[43menv\u001b[49m\u001b[38;5;241;43m.\u001b[39;49m\u001b[43mMixICMGaussTurb\u001b[49m\u001b[43m(\u001b[49m\u001b[38;5;28;43mself\u001b[39;49m\u001b[38;5;241;43m.\u001b[39;49m\u001b[43malp\u001b[49m\u001b[43m,\u001b[49m\n\u001b[1;32m    511\u001b[0m \u001b[43m                                                    \u001b[49m\u001b[43mEGeV\u001b[49m\u001b[38;5;241;43m=\u001b[39;49m\u001b[38;5;28;43mself\u001b[39;49m\u001b[38;5;241;43m.\u001b[39;49m\u001b[43mEGeV\u001b[49m\u001b[43m \u001b[49m\u001b[38;5;241;43m*\u001b[39;49m\u001b[43m \u001b[49m\u001b[43m(\u001b[49m\u001b[38;5;241;43m1.\u001b[39;49m\u001b[43m \u001b[49m\u001b[38;5;241;43m+\u001b[39;49m\u001b[43m \u001b[49m\u001b[38;5;28;43mself\u001b[39;49m\u001b[38;5;241;43m.\u001b[39;49m\u001b[43msource\u001b[49m\u001b[38;5;241;43m.\u001b[39;49m\u001b[43mz\u001b[49m\u001b[43m)\u001b[49m\u001b[43m,\u001b[49m\n\u001b[1;32m    512\u001b[0m \u001b[43m                                                    \u001b[49m\u001b[38;5;241;43m*\u001b[39;49m\u001b[38;5;241;43m*\u001b[39;49m\u001b[43mkwargs\u001b[49m\u001b[43m)\u001b[49m)\n\u001b[1;32m    513\u001b[0m \u001b[38;5;28;01melif\u001b[39;00m environ \u001b[38;5;241m==\u001b[39m \u001b[38;5;124m'\u001b[39m\u001b[38;5;124mICMStructured\u001b[39m\u001b[38;5;124m'\u001b[39m:\n\u001b[1;32m    514\u001b[0m     \u001b[38;5;28mself\u001b[39m\u001b[38;5;241m.\u001b[39m_modules\u001b[38;5;241m.\u001b[39minsert(order, env\u001b[38;5;241m.\u001b[39mMixICMStructured(\u001b[38;5;28mself\u001b[39m\u001b[38;5;241m.\u001b[39malp,\n\u001b[1;32m    515\u001b[0m                                                      EGeV\u001b[38;5;241m=\u001b[39m\u001b[38;5;28mself\u001b[39m\u001b[38;5;241m.\u001b[39mEGeV \u001b[38;5;241m*\u001b[39m (\u001b[38;5;241m1.\u001b[39m \u001b[38;5;241m+\u001b[39m \u001b[38;5;28mself\u001b[39m\u001b[38;5;241m.\u001b[39msource\u001b[38;5;241m.\u001b[39mz),\n\u001b[1;32m    516\u001b[0m                                                      \u001b[38;5;241m*\u001b[39m\u001b[38;5;241m*\u001b[39mkwargs))\n",
      "File \u001b[0;32m~/anaconda3/envs/plotting/lib/python3.9/site-packages/gammaALPs/base/environs.py:422\u001b[0m, in \u001b[0;36mMixICMGaussTurb.__init__\u001b[0;34m(self, alp, **kwargs)\u001b[0m\n\u001b[1;32m    414\u001b[0m \u001b[38;5;28;01mif\u001b[39;00m kwargs[\u001b[38;5;124m'\u001b[39m\u001b[38;5;124mrestore\u001b[39m\u001b[38;5;124m'\u001b[39m] \u001b[38;5;129;01mis\u001b[39;00m \u001b[38;5;28;01mNone\u001b[39;00m:\n\u001b[1;32m    415\u001b[0m     \u001b[38;5;28mself\u001b[39m\u001b[38;5;241m.\u001b[39m_Bfield_model \u001b[38;5;241m=\u001b[39m gauss\u001b[38;5;241m.\u001b[39mBgaussian(kwargs[\u001b[38;5;124m'\u001b[39m\u001b[38;5;124mB0\u001b[39m\u001b[38;5;124m'\u001b[39m], kwargs[\u001b[38;5;124m'\u001b[39m\u001b[38;5;124mkH\u001b[39m\u001b[38;5;124m'\u001b[39m],\n\u001b[1;32m    416\u001b[0m                                          kwargs[\u001b[38;5;124m'\u001b[39m\u001b[38;5;124mkL\u001b[39m\u001b[38;5;124m'\u001b[39m], kwargs[\u001b[38;5;124m'\u001b[39m\u001b[38;5;124mq\u001b[39m\u001b[38;5;124m'\u001b[39m],\n\u001b[1;32m    417\u001b[0m                                          kMin\u001b[38;5;241m=\u001b[39mkwargs[\u001b[38;5;124m'\u001b[39m\u001b[38;5;124mkMin\u001b[39m\u001b[38;5;124m'\u001b[39m],\n\u001b[1;32m    418\u001b[0m                                          dkType\u001b[38;5;241m=\u001b[39mkwargs[\u001b[38;5;124m'\u001b[39m\u001b[38;5;124mdkType\u001b[39m\u001b[38;5;124m'\u001b[39m],\n\u001b[1;32m    419\u001b[0m                                          dkSteps\u001b[38;5;241m=\u001b[39mkwargs[\u001b[38;5;124m'\u001b[39m\u001b[38;5;124mdkSteps\u001b[39m\u001b[38;5;124m'\u001b[39m],\n\u001b[1;32m    420\u001b[0m                                          seed\u001b[38;5;241m=\u001b[39mkwargs[\u001b[38;5;124m'\u001b[39m\u001b[38;5;124mseed\u001b[39m\u001b[38;5;124m'\u001b[39m])\n\u001b[0;32m--> 422\u001b[0m     B, psi \u001b[38;5;241m=\u001b[39m \u001b[38;5;28;43mself\u001b[39;49m\u001b[38;5;241;43m.\u001b[39;49m\u001b[43m_Bfield_model\u001b[49m\u001b[38;5;241;43m.\u001b[39;49m\u001b[43mnew_Bn\u001b[49m\u001b[43m(\u001b[49m\u001b[38;5;28;43mself\u001b[39;49m\u001b[38;5;241;43m.\u001b[39;49m\u001b[43m_r\u001b[49m\u001b[43m,\u001b[49m\n\u001b[1;32m    423\u001b[0m \u001b[43m                                       \u001b[49m\u001b[43mBscale\u001b[49m\u001b[38;5;241;43m=\u001b[39;49m\u001b[38;5;28;43mself\u001b[39;49m\u001b[38;5;241;43m.\u001b[39;49m\u001b[43m_nelicm\u001b[49m\u001b[38;5;241;43m.\u001b[39;49m\u001b[43mBscale\u001b[49m\u001b[43m(\u001b[49m\u001b[38;5;28;43mself\u001b[39;49m\u001b[38;5;241;43m.\u001b[39;49m\u001b[43m_r\u001b[49m\u001b[43m)\u001b[49m\u001b[43m,\u001b[49m\n\u001b[1;32m    424\u001b[0m \u001b[43m                                       \u001b[49m\u001b[43mnsim\u001b[49m\u001b[38;5;241;43m=\u001b[39;49m\u001b[43mkwargs\u001b[49m\u001b[43m[\u001b[49m\u001b[38;5;124;43m'\u001b[39;49m\u001b[38;5;124;43mnsim\u001b[39;49m\u001b[38;5;124;43m'\u001b[39;49m\u001b[43m]\u001b[49m\u001b[43m)\u001b[49m\n\u001b[1;32m    426\u001b[0m     \u001b[38;5;28;01mif\u001b[39;00m \u001b[38;5;28mtype\u001b[39m(kwargs[\u001b[38;5;124m'\u001b[39m\u001b[38;5;124mchi\u001b[39m\u001b[38;5;124m'\u001b[39m])\u001b[38;5;241m==\u001b[39mRBSpline:\n\u001b[1;32m    427\u001b[0m         Chi \u001b[38;5;241m=\u001b[39m kwargs[\u001b[38;5;124m'\u001b[39m\u001b[38;5;124mchi\u001b[39m\u001b[38;5;124m'\u001b[39m](kwargs[\u001b[38;5;124m'\u001b[39m\u001b[38;5;124mEGeV\u001b[39m\u001b[38;5;124m'\u001b[39m], \u001b[38;5;28mself\u001b[39m\u001b[38;5;241m.\u001b[39m_r)\n",
      "File \u001b[0;32m~/anaconda3/envs/plotting/lib/python3.9/site-packages/gammaALPs/bfields/gauss.py:422\u001b[0m, in \u001b[0;36mBgaussian.new_Bn\u001b[0;34m(self, z, Bscale, nsim)\u001b[0m\n\u001b[1;32m    417\u001b[0m     seeds \u001b[38;5;241m=\u001b[39m \u001b[38;5;28;01mNone\u001b[39;00m\n\u001b[1;32m    419\u001b[0m \u001b[38;5;28;01mfor\u001b[39;00m i \u001b[38;5;129;01min\u001b[39;00m \u001b[38;5;28mrange\u001b[39m(nsim):\n\u001b[1;32m    420\u001b[0m     \u001b[38;5;66;03m# calculate first transverse component, \u001b[39;00m\n\u001b[1;32m    421\u001b[0m     \u001b[38;5;66;03m# this is already computed with central B-field strength\u001b[39;00m\n\u001b[0;32m--> 422\u001b[0m     Bt \u001b[38;5;241m=\u001b[39m \u001b[38;5;28;43mself\u001b[39;49m\u001b[38;5;241;43m.\u001b[39;49m\u001b[43mBgaus\u001b[49m\u001b[43m(\u001b[49m\u001b[43mz\u001b[49m\u001b[43m)\u001b[49m\n\u001b[1;32m    424\u001b[0m     \u001b[38;5;28;01mif\u001b[39;00m seeds \u001b[38;5;129;01mis\u001b[39;00m \u001b[38;5;129;01mnot\u001b[39;00m \u001b[38;5;28;01mNone\u001b[39;00m:\n\u001b[1;32m    425\u001b[0m         \u001b[38;5;28mself\u001b[39m\u001b[38;5;241m.\u001b[39mseed \u001b[38;5;241m=\u001b[39m seeds[i]\n",
      "File \u001b[0;32m~/anaconda3/envs/plotting/lib/python3.9/site-packages/gammaALPs/bfields/gauss.py:380\u001b[0m, in \u001b[0;36mBgaussian.Bgaus\u001b[0;34m(self, z, longitudinal)\u001b[0m\n\u001b[1;32m    377\u001b[0m \u001b[38;5;28;01melse\u001b[39;00m:\n\u001b[1;32m    378\u001b[0m     corr \u001b[38;5;241m=\u001b[39m \u001b[38;5;28mself\u001b[39m\u001b[38;5;241m.\u001b[39m__corr_transversal(kk)\n\u001b[0;32m--> 380\u001b[0m B \u001b[38;5;241m=\u001b[39m \u001b[38;5;28msum\u001b[39m(sqrt(corr \u001b[38;5;241m/\u001b[39m pi \u001b[38;5;241m*\u001b[39m dd \u001b[38;5;241m*\u001b[39m \u001b[38;5;241m2.\u001b[39m \u001b[38;5;241m*\u001b[39m log(\u001b[38;5;241;43m1.\u001b[39;49m\u001b[43m \u001b[49m\u001b[38;5;241;43m/\u001b[39;49m\u001b[43m \u001b[49m\u001b[43muu\u001b[49m))\n\u001b[1;32m    381\u001b[0m         \u001b[38;5;241m*\u001b[39m cos(kk \u001b[38;5;241m*\u001b[39m zz \u001b[38;5;241m+\u001b[39m \u001b[38;5;241m2.\u001b[39m \u001b[38;5;241m*\u001b[39m pi \u001b[38;5;241m*\u001b[39m vv), axis\u001b[38;5;241m=\u001b[39m\u001b[38;5;241m0\u001b[39m)\n\u001b[1;32m    383\u001b[0m \u001b[38;5;28;01mreturn\u001b[39;00m B\n",
      "\u001b[0;31mKeyboardInterrupt\u001b[0m: "
     ]
    }
   ],
   "source": [
    "if not slurm:\n",
    "    for g in g_values:\n",
    "        sim.bounds[0]=[g,g]\n",
    "        print(\"g=\"+str(g))\n",
    "        stores[str(g).replace('.','-')].simulate(sim, batch_size=simulation_batch_size)\n",
    "else:    \n",
    "    if not os.path.exists(slurm_dir + \"/\" + store_name):\n",
    "        if not os.path.exists(slurm_dir):\n",
    "            os.makedirs(slurm_dir)\n",
    "        os.chdir(files_dir)\n",
    "        config_simulate_result = subprocess.run(['python', files_dir+'/config_simulate.py'], \n",
    "                                                capture_output = True, text=True)\n",
    "        !chmod +x simulate.sh\n",
    "        rsync_files_dir_result = subprocess.run(['rsync', '-r', files_dir, slurm_dir],\n",
    "                                           capture_output = True, text=True)\n",
    "        os.chdir(start_dir)\n",
    "        \n",
    "    print(\"INSTRUCTIONS:\")\n",
    "    print(\"Go to \" + slurm_dir + \" and run simulate.sh, then continue here\")\n"
   ]
  }
 ],
 "metadata": {
  "kernelspec": {
   "display_name": "Python 3 (ipykernel)",
   "language": "python",
   "name": "python3"
  },
  "language_info": {
   "codemirror_mode": {
    "name": "ipython",
    "version": 3
   },
   "file_extension": ".py",
   "mimetype": "text/x-python",
   "name": "python",
   "nbconvert_exporter": "python",
   "pygments_lexer": "ipython3",
   "version": "3.9.7"
  }
 },
 "nbformat": 4,
 "nbformat_minor": 5
}
