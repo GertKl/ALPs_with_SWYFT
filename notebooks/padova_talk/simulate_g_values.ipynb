{
 "cells": [
  {
   "cell_type": "markdown",
   "id": "761ce862-fee5-492d-b86d-fce0fd1c30ec",
   "metadata": {},
   "source": [
    "# Setup"
   ]
  },
  {
   "cell_type": "markdown",
   "id": "97bbea55-f9dc-48fb-aaff-e85e8b5cfdc8",
   "metadata": {},
   "source": [
    "Running the simulations presumes the installation of specific packages, in particular Gammapy0.19. The easiest is maybe to simply recreate my conda environment, and run this notebook from there. Download the file env_swyft3-ext.yaml, and write the following in the terminal:\n",
    "\n",
    "```\n",
    "$conda env create --file env_swyft3-ext.yaml --name swyft3\n",
    "$conda activate swyft3\n",
    "```\n",
    "Then download the IRF file *Prod5-North-20deg-AverageAz-4LSTs09MSTs.180000s-v0.1.fits* and *ALP_quick_sim.py*. If you place them in the same directory as this notebook, you should be set to run. Otherwise adapt the paths in the following cell:\n"
   ]
  },
  {
   "cell_type": "code",
   "execution_count": 1,
   "id": "c405f0db-8303-4119-977e-7e33c1c9bae2",
   "metadata": {},
   "outputs": [],
   "source": [
    "update_notebook=1"
   ]
  },
  {
   "cell_type": "code",
   "execution_count": 2,
   "id": "c8261e41-1b10-495a-aa63-25e79340b7ea",
   "metadata": {},
   "outputs": [],
   "source": [
    "import importlib\n",
    "loaded_param_function = False"
   ]
  },
  {
   "cell_type": "code",
   "execution_count": 3,
   "id": "10a28cab-a783-4788-985a-9268b2aa9472",
   "metadata": {},
   "outputs": [],
   "source": [
    "import os"
   ]
  },
  {
   "cell_type": "code",
   "execution_count": 4,
   "id": "d0010bfa-da96-4d6c-b12b-4de2948b78b2",
   "metadata": {},
   "outputs": [],
   "source": [
    "parent_dir = (os.getcwd()+\"/\").split('/notebooks/', 1)[0]\n",
    "start_dir = os.getcwd()"
   ]
  },
  {
   "cell_type": "code",
   "execution_count": 5,
   "id": "c771a600-14a7-4c4d-bd5b-2af4e64e55f6",
   "metadata": {},
   "outputs": [],
   "source": [
    "ALP_file_dir = parent_dir+\"/analysis_scripts/ALP_sim\"             # The directory where ALP_quick_sim.py is placed. Can be empty if it's in same folder as notebook. "
   ]
  },
  {
   "cell_type": "code",
   "execution_count": 6,
   "id": "994e03df-29b3-42c3-9455-01a2de2927f0",
   "metadata": {},
   "outputs": [],
   "source": [
    "import sys\n",
    "if ALP_file_dir: sys.path.append(ALP_file_dir)   #!!! Change path to location of differential_counts.py and ALP_sim.py\n",
    "from ALP_quick_sim import ALP_sim\n",
    "from alp_swyft_simulator import ALP_SWYFT_Simulator"
   ]
  },
  {
   "cell_type": "code",
   "execution_count": 7,
   "id": "171c30bd-8fde-4b36-807e-cacb6e292a43",
   "metadata": {},
   "outputs": [],
   "source": [
    "import numpy as np"
   ]
  },
  {
   "cell_type": "code",
   "execution_count": 8,
   "id": "9b0c061b-7184-4af4-ae1f-bc4f440cbd99",
   "metadata": {},
   "outputs": [],
   "source": [
    "import matplotlib.pyplot as plt"
   ]
  },
  {
   "cell_type": "code",
   "execution_count": 9,
   "id": "d48cc91f-99bb-4801-b8d0-606a0596dde8",
   "metadata": {},
   "outputs": [],
   "source": [
    "import swyft"
   ]
  },
  {
   "cell_type": "code",
   "execution_count": 10,
   "id": "03676462-5c2a-419c-8364-5bbd2f612591",
   "metadata": {},
   "outputs": [],
   "source": [
    "import torch"
   ]
  },
  {
   "cell_type": "code",
   "execution_count": 11,
   "id": "3addefe4-0875-4176-8a24-73cb6dff7780",
   "metadata": {},
   "outputs": [],
   "source": [
    "import scipy.stats as scist"
   ]
  },
  {
   "cell_type": "code",
   "execution_count": 12,
   "id": "a3b231b3-dffa-468d-9a42-0813aeb529ee",
   "metadata": {},
   "outputs": [],
   "source": [
    "import copy"
   ]
  },
  {
   "cell_type": "code",
   "execution_count": 13,
   "id": "a5911219-b0df-43ef-9c49-0e0e4871c063",
   "metadata": {},
   "outputs": [],
   "source": [
    "import ipynbname"
   ]
  },
  {
   "cell_type": "code",
   "execution_count": 14,
   "id": "1401e3df-27f4-4675-a9b4-cb60b51933f0",
   "metadata": {},
   "outputs": [],
   "source": [
    "import pickle"
   ]
  },
  {
   "cell_type": "code",
   "execution_count": 15,
   "id": "743cfe32-b2f2-4d51-b484-2386ffac1262",
   "metadata": {},
   "outputs": [],
   "source": [
    "import subprocess"
   ]
  },
  {
   "cell_type": "code",
   "execution_count": 16,
   "id": "d40e7fab-06bc-4fcd-b30c-3e3d08ca67b1",
   "metadata": {},
   "outputs": [],
   "source": [
    "from pytorch_lightning.loggers import WandbLogger"
   ]
  },
  {
   "cell_type": "code",
   "execution_count": 17,
   "id": "ef29cbb3-a854-489a-8fc2-0cea048617f0",
   "metadata": {},
   "outputs": [],
   "source": [
    "files_name = ipynbname.name() + \"_files\"\n",
    "files_dir = os.getcwd() + \"/\" + files_name \n",
    "store_name = ipynbname.name() + \"_store\"\n",
    "store_dir = os.getcwd() + \"/\" + files_name + \"/\" + store_name"
   ]
  },
  {
   "cell_type": "code",
   "execution_count": 18,
   "id": "7381cc0a-30ef-4b5b-9cb2-0c2ffb5791af",
   "metadata": {},
   "outputs": [],
   "source": [
    "if not os.path.exists(files_dir):\n",
    "    os.mkdir(files_dir)"
   ]
  },
  {
   "cell_type": "code",
   "execution_count": 19,
   "id": "e6338e83-6745-44d1-96ab-b8614f747512",
   "metadata": {},
   "outputs": [],
   "source": [
    "rsync_result1 = subprocess.run(['rsync', parent_dir+'/analysis_scripts/ALP_sim/config_simulate.py', files_dir],\n",
    "                                   capture_output = True, text=True)\n",
    "rsync_result2 = subprocess.run(['rsync', parent_dir+'/analysis_scripts/ALP_sim/ALP_quick_sim.py', files_dir],\n",
    "                                       capture_output = True, text=True)\n",
    "rsync_result3 = subprocess.run(['rsync', parent_dir+'/analysis_scripts/ALP_sim/alp_swyft_simulator.py', files_dir],\n",
    "                                       capture_output = True, text=True)\n",
    "rsync_result4 = subprocess.run(['rsync', parent_dir+'/analysis_scripts/ALP_sim/simulate_batch.py', files_dir],\n",
    "                                       capture_output = True, text=True)\n",
    "rsync_result5 = subprocess.run(['rsync', parent_dir+'/analysis_scripts/ALP_sim/config_simulate_batch.py', files_dir],\n",
    "                                       capture_output = True, text=True)\n",
    "rsync_result6 = subprocess.run(['rsync', parent_dir+'/analysis_scripts/ALP_sim/config_pois.py', files_dir],\n",
    "                                       capture_output = True, text=True)"
   ]
  },
  {
   "cell_type": "code",
   "execution_count": 20,
   "id": "21d58f2a-82ea-4cf5-bed1-d0f3f97ac0e2",
   "metadata": {},
   "outputs": [],
   "source": [
    "A = ALP_sim(set_null=0, set_obs=0)"
   ]
  },
  {
   "cell_type": "markdown",
   "id": "ba1d1ff0-9496-4946-a3ed-d754706e2ebe",
   "metadata": {},
   "source": [
    "# Configuration"
   ]
  },
  {
   "cell_type": "markdown",
   "id": "c8dfc9f8-1858-49f8-8fa7-6826390f06c5",
   "metadata": {},
   "source": [
    "### Technical"
   ]
  },
  {
   "cell_type": "code",
   "execution_count": 21,
   "id": "e4f58264-7f05-480a-b91d-e782a9606c5d",
   "metadata": {},
   "outputs": [],
   "source": [
    "n_sim = 20\n",
    "n_cpus = 1\n",
    "new_store = 1\n",
    "slurm = 0\n",
    "conda_env = \"swyft4-dev\"\n",
    "slurm_dir = '/home/gert/fox_hpc/ALPs_with_SWYFT/notebooks/' + (os.getcwd()+\"/\").split('/notebooks/', 1)[1]\n",
    "\n",
    "max_time_sim = '00-04:00:00'\n",
    "max_memory_sim = '5'\n",
    "partition_sim = 'normal'\n",
    "devel_sim = 0\n",
    "\n",
    "max_time_train = '00-01:30:00'\n",
    "max_memory_train = '40'\n",
    "partition_train = 'accel'\n",
    "devel_train = 1\n",
    "gpus = 0\n",
    "\n",
    "\n",
    "\n",
    "account = 'ec12'\n",
    "    "
   ]
  },
  {
   "cell_type": "markdown",
   "id": "f9600559-9b9f-4e0b-9c4d-3e549cdcc5fe",
   "metadata": {},
   "source": [
    "### Parameters to be fixed/varied"
   ]
  },
  {
   "cell_type": "code",
   "execution_count": 22,
   "id": "53929bcf-d95c-4011-8218-f10db4b5380d",
   "metadata": {},
   "outputs": [],
   "source": [
    "model_parameter_vals = [\n",
    "            \n",
    "    10,                 # mass m in neV\n",
    "    None,               # coupling constant g in 10^(-11) /GeV\n",
    "    \n",
    "    None,               # Amplitude of power law, in \"TeV-1 cm-2 s-1\"\n",
    "    None,               # Spectral index of the PWL\n",
    "    300,                # Reference energy (?) E0, In GeV\n",
    "    None,               #Cut-off energy Ecut, in GeV\n",
    "    \n",
    "    \n",
    "    None,                # rms of B field, default = 10.\n",
    "    None,                # normalization of electron density, default = 39.\n",
    "    None,               # second normalization of electron density, see Churazov et al. 2003, Eq. 4, default = 4.05\n",
    "    None,               # extension of the cluster, default = 500.\n",
    "    None,                # electron density parameter, see Churazov et al. 2003, Eq. 4, default = 80.\n",
    "    None,               # electron density parameter, see Churazov et al. 2003, Eq. 4, default = 200.\n",
    "    None,                # electron density parameter, see Churazov et al. 2003, Eq. 4, default = 1.2\n",
    "    None,               # electron density parameter, see Churazov et al. 2003, Eq. 4, default = 0.58\n",
    "    None,                # scaling of B-field with electron denstiy, default = 0.5\n",
    "    None,               # maximum turbulence scale in kpc^-1, taken from A2199 cool-core cluster, see Vacca et al. 2012, default = 0.18\n",
    "    None,                 # minimum turbulence scale, taken from A2199 cool-core cluster, see Vacca et al. 2012, default = 9.\n",
    "    None               # turbulence spectral index, taken from A2199 cool-core cluster, see Vacca et al. 2012, default = -2.80\n",
    "            \n",
    "]\n",
    "\n",
    "poi_objects = {'model_parameter_vals':model_parameter_vals}\n",
    "with open(files_dir+'/poi_objects.pickle','wb') as file:\n",
    "    pickle.dump(poi_objects, file)\n",
    "os.chdir(files_dir)\n",
    "config_pois_result = subprocess.run(['python', files_dir+'/config_pois.py'], capture_output = True, text=True)\n",
    "\n",
    "if loaded_param_function:\n",
    "    importlib.reload(param_function)\n",
    "else:\n",
    "    import param_function\n",
    "    loaded_param_function = True\n",
    "\n",
    "os.chdir(start_dir)\n",
    "\n",
    "A.full_param_vec = param_function.param_function"
   ]
  },
  {
   "cell_type": "markdown",
   "id": "f5e51909-966d-4aa5-b0c5-53c9771dd41c",
   "metadata": {},
   "source": [
    "### Priors and true values"
   ]
  },
  {
   "cell_type": "code",
   "execution_count": 23,
   "id": "942ffc7e-e6ab-43e3-9cce-63ceaa8b82f7",
   "metadata": {},
   "outputs": [
    {
     "name": "stderr",
     "output_type": "stream",
     "text": [
      "/home/gert/ALPs_with_SWYFT/analysis_scripts/ALP_sim/ALP_quick_sim.py:444: UserWarning: The number of model parameters, log-indicators, null-hypothesis parameters, parameter names and parameter units are not equal\n",
      "  warnings.warn(\"The number of model parameters, log-indicators, null-hypothesis parameters, parameter names and parameter units are not equal\")\n"
     ]
    }
   ],
   "source": [
    "A.configure_model(\n",
    "    log_params = [0,0,0,0,0,0,0,0,0,0,0,0,0,0,0,0],\n",
    "    null_params = [0,1.54e-9,2.11,560,25.,39.,4.05,500.,80.,280.,1.2,0.58,0.5,0.18,9.,-2.80]\n",
    ")\n",
    "\n",
    "g_values = [0.2,0.4,0.8]\n",
    "\n",
    "bounds = [\n",
    "    [0,0],\n",
    "    [1.51e-9, 1.57e-9],\n",
    "    [2.09,2.13],\n",
    "    [545,575],\n",
    "    [8,27],\n",
    "    [37,48],\n",
    "    [3.4,4.07],\n",
    "    [450,550],\n",
    "    [70,290],\n",
    "    [276,282],\n",
    "    [1.0,1.4],\n",
    "    [0.56,0.60],\n",
    "    [0.3,0.8],\n",
    "    [0.16,0.20],\n",
    "    [8,10],\n",
    "    [0.8,3.8]\n",
    "]\n",
    "\n",
    "truths = np.array([\n",
    "    [1.4, 1.54e-9, 2.11,560,25.,39.,4.05,500.,80.,280.,1.2,0.58,0.5,0.18,9.,-2.80],\n",
    "    [0.778, 1.54e-9, 2.11,560,25.,39.,4.05,500.,80.,280.,1.2,0.58,0.5,0.18,9.,-2.80],\n",
    "    [0.477, 1.54e-9, 2.11,560,25.,39.,4.05,500.,80.,280.,1.2,0.58,0.5,0.18,9.,-2.80],\n",
    "    [0, 1.54e-9, 2.11,560,25.,39.,4.05,500.,80.,280.,1.2,0.58,0.5,0.18,9.,-2.80],\n",
    "    [-0.7, 1.54e-9, 2.11,560,25.,39.,4.05,500.,80.,280.,1.2,0.58,0.5,0.18,9.,-2.80],\n",
    "    [-1.4, 1.54e-9, 2.11,560,25.,39.,4.05,500.,80.,280.,1.2,0.58,0.5,0.18,9.,-2.80],\n",
    "])\n",
    "\n",
    "marginals = [0]\n",
    "\n",
    "colors = [\n",
    "    (0,0,1),\n",
    "    (0,1,.65),\n",
    "    (0,1,0),\n",
    "    (1,1,0),\n",
    "    (1,.6,0),\n",
    "    (1,0,0),\n",
    "]"
   ]
  },
  {
   "cell_type": "markdown",
   "id": "02d3a222-7f94-4c34-8202-d278abac44f9",
   "metadata": {},
   "source": [
    "### Model configuration"
   ]
  },
  {
   "cell_type": "code",
   "execution_count": 24,
   "id": "5aca913b-4a38-4645-a525-e2545dadd52b",
   "metadata": {},
   "outputs": [],
   "source": [
    "A.configure_model(\n",
    "    model=\"\",\n",
    "    noise=\"poisson\",\n",
    "    param_names = param_function.param_names,\n",
    "    param_units = param_function.param_units,\n",
    "    ALP_seed=None,\n",
    "    floor=-1.15,\n",
    "    floor_obs=-1.15, # not reflected in training set of all_larger_bounds\n",
    "    logcounts=True,\n",
    "    residuals=True\n",
    ")"
   ]
  },
  {
   "cell_type": "code",
   "execution_count": 25,
   "id": "197161eb-cc49-4489-9377-1863bdb474b8",
   "metadata": {},
   "outputs": [],
   "source": [
    "if update_notebook or not os.path.exists(files_dir+'/config_objects.pickle'):\n",
    "    A.configure_obs(\n",
    "        nbins = 150,\n",
    "        nbins_etrue = 450,\n",
    "        emin = 6e1,\n",
    "        emax = 3e3,\n",
    "        livetime = 10,\n",
    "        irf_file = parent_dir+\"/IRFs/CTA/Prod5-North-20deg-AverageAz-4LSTs09MSTs.180000s-v0.1.fits\"\n",
    "    )"
   ]
  },
  {
   "cell_type": "markdown",
   "id": "d32d1682-2491-4a43-93a7-8fa4ad43dea5",
   "metadata": {},
   "source": [
    "# Derived Values"
   ]
  },
  {
   "cell_type": "code",
   "execution_count": 26,
   "id": "59a7c597-1928-4d96-aba9-7f65949039f2",
   "metadata": {},
   "outputs": [],
   "source": [
    "simulation_batch_size = int(np.ceil(n_sim/n_cpus))"
   ]
  },
  {
   "cell_type": "code",
   "execution_count": 27,
   "id": "30e2da85-b121-4846-a8ed-36fea8cfccd1",
   "metadata": {},
   "outputs": [],
   "source": [
    "DEVICE = 'cpu' #if not gpus else 'cuda'"
   ]
  },
  {
   "cell_type": "code",
   "execution_count": 28,
   "id": "2d1ed194-18d6-4f36-88e1-f1da47fcb3f1",
   "metadata": {},
   "outputs": [],
   "source": [
    "if update_notebook or not os.path.exists(files_dir+'/config_objects.pickle'):\n",
    "    config_objects = {'A':A, 'n_sim':n_sim,'n_cpus':n_cpus, 'bounds':bounds, 'g_values':g_values,'truths':truths, 'simulation_batch_size':simulation_batch_size, \n",
    "                      'store_name':store_name,'store_dir':store_dir, 'files_dir':files_dir, 'start_dir':start_dir, 'conda_env':conda_env,\n",
    "                      'slurm':slurm, 'slurm_dir':slurm_dir, 'gpus':gpus,'max_time_sim':max_time_sim,'max_memory_sim':max_memory_sim,\n",
    "                      'partition_sim':partition_sim,'devel_sim':devel_sim,'account':account, 'colors':colors, 'marginals':marginals}\n",
    "    \n",
    "    with open(files_dir+'/config_objects.pickle','wb') as file:\n",
    "        pickle.dump(config_objects, file)"
   ]
  },
  {
   "cell_type": "code",
   "execution_count": null,
   "id": "4a4a3776-d399-4713-a57b-26bc78362aa3",
   "metadata": {},
   "outputs": [],
   "source": []
  },
  {
   "cell_type": "markdown",
   "id": "33f44b0a-89bd-4870-a595-d51023d2dcf7",
   "metadata": {},
   "source": [
    "# Simulation setup"
   ]
  },
  {
   "cell_type": "code",
   "execution_count": 29,
   "id": "5ef4588e-2700-4d0a-828b-bee9c43d0017",
   "metadata": {},
   "outputs": [
    {
     "name": "stdout",
     "output_type": "stream",
     "text": [
      "Generating new null-hypothesis... done.\n"
     ]
    }
   ],
   "source": [
    "A.generate_null()"
   ]
  },
  {
   "cell_type": "code",
   "execution_count": 30,
   "id": "5c98ddc7-d01d-4ecc-95e0-d1a7a7a168d8",
   "metadata": {},
   "outputs": [],
   "source": [
    "sim = ALP_SWYFT_Simulator(A, bounds)"
   ]
  },
  {
   "cell_type": "code",
   "execution_count": 31,
   "id": "b1942d70-8c63-438e-9790-0300080851f9",
   "metadata": {},
   "outputs": [],
   "source": [
    "sim_objects = {'sim':sim}"
   ]
  },
  {
   "cell_type": "code",
   "execution_count": 32,
   "id": "d03621df-cad2-4b65-b074-d8146aba0656",
   "metadata": {},
   "outputs": [],
   "source": [
    "if update_notebook or not os.path.exists(files_dir+'/sim_objects.pickle'):\n",
    "    with open(files_dir+'/sim_objects.pickle','wb') as file:\n",
    "        pickle.dump(sim_objects, file)"
   ]
  },
  {
   "cell_type": "markdown",
   "id": "f9e79543-e7f8-4e82-aa1c-e7e607775a58",
   "metadata": {},
   "source": [
    "# Defining observations"
   ]
  },
  {
   "cell_type": "code",
   "execution_count": 33,
   "id": "24fa0158-8864-41fe-b962-e08e516efa60",
   "metadata": {},
   "outputs": [],
   "source": [
    "# observations = []\n",
    "# for tru in truths:\n",
    "#     sim.A.configure_model(ALP_seed=0)\n",
    "#     obs_exp=sim.generate_exp(tru)\n",
    "#     obs_data = sim.generate_data(obs_exp,tru)\n",
    "#     observations.append(swyft.Sample(data=obs_data, exp=obs_exp, params=tru))\n",
    "# sim.A.configure_model(ALP_seed=None)"
   ]
  },
  {
   "cell_type": "code",
   "execution_count": 34,
   "id": "abf618b7-7085-4157-aec8-5bc266a98667",
   "metadata": {},
   "outputs": [],
   "source": [
    "# if update_notebook or not os.path.exists(files_dir+'/sim_objects.pickle'):\n",
    "#     with open(files_dir+'/obs_objects.pickle','wb') as file:\n",
    "#         pickle.dump({'observations':observations}, file)"
   ]
  },
  {
   "cell_type": "markdown",
   "id": "5f7a9f05-2a0d-4118-aede-117a2462c7b3",
   "metadata": {},
   "source": [
    "# Loading saved variables"
   ]
  },
  {
   "cell_type": "code",
   "execution_count": 35,
   "id": "eaea7af3-f956-449b-a3be-7bed4e37a399",
   "metadata": {},
   "outputs": [],
   "source": [
    "if not update_notebook:\n",
    "    with open(files_dir+\"/\"+'config_objects.pickle', 'rb') as file:\n",
    "        config_objects = pickle.load(file)\n",
    "    for key in config_objects.keys():\n",
    "        locals()[key] = config_objects[key]\n",
    "    \n",
    "    with open(files_dir+\"/\"+'sim_objects.pickle', 'rb') as file:\n",
    "        sim_objects = pickle.load(file)\n",
    "    for key in sim_objects.keys():\n",
    "        locals()[key] = sim_objects[key]\n",
    "    \n",
    "    # with open(files_dir+\"/\"+'obs_objects.pickle', 'rb') as file:\n",
    "    #     obs_objects = pickle.load(file) \n",
    "    # for key in obs_objects.keys():\n",
    "    #     locals()[key] = obs_objects[key]"
   ]
  },
  {
   "cell_type": "markdown",
   "id": "b242c58f-b7f8-4428-af36-2f23878f64b7",
   "metadata": {},
   "source": [
    "# Simulating"
   ]
  },
  {
   "cell_type": "code",
   "execution_count": 36,
   "id": "66b6b004-a6ee-4f04-8c09-938927e9088e",
   "metadata": {},
   "outputs": [],
   "source": [
    "if not os.path.exists(store_dir):\n",
    "    os.mkdir(store_dir)\n",
    "elif new_store:\n",
    "    rm_result = subprocess.run(['rm','-r', store_dir],\n",
    "                                       capture_output = True, text=True)\n",
    "    if slurm:\n",
    "        rm_slurm_result = subprocess.run(['rm','-r', slurm_dir+\"/\"+files_name+\"/\"+store_name],\n",
    "                                           capture_output = True, text=True)\n",
    "\n",
    "stores={}\n",
    "for g in g_values:    \n",
    "    store = swyft.ZarrStore(store_dir + \"/\" + store_name + \"_\" + str(g).replace('.','-'))\n",
    "    store.init(\n",
    "        N = n_sim,\n",
    "        chunk_size=simulation_batch_size,\n",
    "        shapes=sim.get_shapes_and_dtypes()[0],\n",
    "        dtypes=sim.get_shapes_and_dtypes()[1],\n",
    "    )\n",
    "    stores[str(g).replace('.','-')] = store\n",
    "    "
   ]
  },
  {
   "cell_type": "code",
   "execution_count": 37,
   "id": "4d297f19-ede5-4f2f-b49e-0e5d64f5b058",
   "metadata": {},
   "outputs": [
    {
     "name": "stdout",
     "output_type": "stream",
     "text": [
      "g=0.2\n"
     ]
    },
    {
     "data": {
      "application/vnd.jupyter.widget-view+json": {
       "model_id": "4427322e82814e62ae79d9f884c7e5f3",
       "version_major": 2,
       "version_minor": 0
      },
      "text/plain": [
       "  0%|          | 0/20 [00:00<?, ?it/s]"
      ]
     },
     "metadata": {},
     "output_type": "display_data"
    },
    {
     "name": "stdout",
     "output_type": "stream",
     "text": [
      "g=0.4\n"
     ]
    },
    {
     "data": {
      "application/vnd.jupyter.widget-view+json": {
       "model_id": "8d8ceeced64647c2a2f0701cd6edff39",
       "version_major": 2,
       "version_minor": 0
      },
      "text/plain": [
       "  0%|          | 0/20 [00:00<?, ?it/s]"
      ]
     },
     "metadata": {},
     "output_type": "display_data"
    },
    {
     "name": "stdout",
     "output_type": "stream",
     "text": [
      "g=0.8\n"
     ]
    },
    {
     "data": {
      "application/vnd.jupyter.widget-view+json": {
       "model_id": "2872a86671fa4eb08ff5ccedd1dc43ee",
       "version_major": 2,
       "version_minor": 0
      },
      "text/plain": [
       "  0%|          | 0/20 [00:00<?, ?it/s]"
      ]
     },
     "metadata": {},
     "output_type": "display_data"
    }
   ],
   "source": [
    "if not slurm:\n",
    "    for g in g_values:\n",
    "        sim.bounds[0]=[g,g]\n",
    "        print(\"g=\"+str(g))\n",
    "        stores[str(g).replace('.','-')].simulate(sim, batch_size=simulation_batch_size)\n",
    "else:    \n",
    "    if not os.path.exists(slurm_dir + \"/\" + store_name):\n",
    "        if not os.path.exists(slurm_dir):\n",
    "            os.makedirs(slurm_dir)\n",
    "        os.chdir(files_dir)\n",
    "        config_simulate_result = subprocess.run(['python', files_dir+'/config_simulate.py'], \n",
    "                                                capture_output = True, text=True)\n",
    "        !chmod +x simulate.sh\n",
    "        rsync_files_dir_result = subprocess.run(['rsync', '-r', files_dir, slurm_dir],\n",
    "                                           capture_output = True, text=True)\n",
    "        os.chdir(start_dir)\n",
    "        \n",
    "    print(\"INSTRUCTIONS:\")\n",
    "    print(\"Go to \" + slurm_dir + \" and run simulate.sh, then continue here\")\n"
   ]
  }
 ],
 "metadata": {
  "kernelspec": {
   "display_name": "Python 3 (ipykernel)",
   "language": "python",
   "name": "python3"
  },
  "language_info": {
   "codemirror_mode": {
    "name": "ipython",
    "version": 3
   },
   "file_extension": ".py",
   "mimetype": "text/x-python",
   "name": "python",
   "nbconvert_exporter": "python",
   "pygments_lexer": "ipython3",
   "version": "3.9.7"
  }
 },
 "nbformat": 4,
 "nbformat_minor": 5
}
