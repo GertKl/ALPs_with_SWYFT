{
 "cells": [
  {
   "cell_type": "code",
   "execution_count": 1,
   "id": "194391b8-16f9-40a2-b357-fd61655e3431",
   "metadata": {},
   "outputs": [],
   "source": [
    "import pickle"
   ]
  },
  {
   "cell_type": "code",
   "execution_count": 6,
   "id": "a29fbea1-75be-4f2b-a246-15cb88576b06",
   "metadata": {},
   "outputs": [],
   "source": [
    "import os\n",
    "ALP_file_dir = os.path.dirname(os.getcwd())+\"/analysis_scripts/ALP_sim\"   "
   ]
  },
  {
   "cell_type": "code",
   "execution_count": 7,
   "id": "df671111-1cb8-4711-a61f-c1d6037d9871",
   "metadata": {},
   "outputs": [],
   "source": [
    "import sys\n",
    "if ALP_file_dir: sys.path.append(ALP_file_dir)   #!!! Change path to location of differential_counts.py and ALP_sim.py\n",
    "from ALP_quick_sim import ALP_sim"
   ]
  },
  {
   "cell_type": "code",
   "execution_count": 11,
   "id": "7eb3c943-0eba-4374-a069-bc95ba7e34c4",
   "metadata": {},
   "outputs": [],
   "source": [
    "with open('config_objects.pickle', 'rb') as file:\n",
    "    config_objects = pickle.load(file)"
   ]
  },
  {
   "cell_type": "code",
   "execution_count": 12,
   "id": "6e2f0199-9c30-4f81-8346-80af570a79a8",
   "metadata": {},
   "outputs": [],
   "source": [
    "A = config_objects['A']"
   ]
  },
  {
   "cell_type": "code",
   "execution_count": 16,
   "id": "e6e31338-a255-48d7-8f3a-c113e7545d51",
   "metadata": {},
   "outputs": [
    {
     "data": {
      "text/plain": [
       "{'y': array([4.59901972, 4.85549146, 5.09188938, 5.32849647, 5.50620628,\n",
       "        5.58174431, 5.60762067, 5.62924915, 5.65538125, 5.68342227,\n",
       "        5.70156708, 5.70880749, 5.72266681, 5.73201328, 5.72499312,\n",
       "        5.71305585, 5.70730015, 5.7037944 , 5.70450095, 5.69720685,\n",
       "        5.69908695, 5.70081924, 5.69652686, 5.68513007, 5.66798572,\n",
       "        5.65599957, 5.64330387, 5.62539088, 5.60907186, 5.59595852,\n",
       "        5.57726619, 5.55917135, 5.52429869, 5.48560253, 5.45331563,\n",
       "        5.4221365 , 5.38464579, 5.34732783, 5.30829632, 5.27547391,\n",
       "        5.23912172, 5.20533958, 5.17825575, 5.14339333, 5.11077936,\n",
       "        5.08719609, 5.05446936, 5.02625035, 4.99492957, 4.96341235,\n",
       "        4.93527829, 4.90941121, 4.87670516, 4.84474505, 4.80987465,\n",
       "        4.78439638, 4.75735699, 4.71458713, 4.66592386, 4.61345058,\n",
       "        4.57964522, 4.54097405, 4.51838796, 4.51637912, 4.49420101,\n",
       "        4.45177592, 4.41577675, 4.37521085, 4.33138131, 4.29417836,\n",
       "        4.25775666, 4.20928707, 4.16383716, 4.13638148, 4.10438334,\n",
       "        4.05370611, 3.99769125, 3.9626135 , 3.9069486 , 3.86365492,\n",
       "        3.80969815, 3.76853428, 3.73440586, 3.69014263, 3.64147632,\n",
       "        3.59886925, 3.55180879, 3.49889387, 3.44592614, 3.40689115,\n",
       "        3.34923302, 3.29886214, 3.25194192, 3.20818659, 3.16400267,\n",
       "        3.1063863 , 3.04554542, 2.98921867, 2.93438515, 2.87838889])}"
      ]
     },
     "execution_count": 16,
     "metadata": {},
     "output_type": "execute_result"
    }
   ],
   "source": [
    "A.counts_null"
   ]
  },
  {
   "cell_type": "code",
   "execution_count": 20,
   "id": "5ef21657-bd97-44ac-af1e-0c9fc49aa157",
   "metadata": {},
   "outputs": [
    {
     "name": "stdout",
     "output_type": "stream",
     "text": [
      "A\n",
      "n_sim\n",
      "n_cpus\n",
      "bounds\n",
      "truth\n",
      "simulation_batch_size\n",
      "store_name\n",
      "store_dir\n"
     ]
    }
   ],
   "source": [
    "for key in config_objects.keys():\n",
    "    print(key)\n",
    "    locals()[key] = config_objects[key]"
   ]
  },
  {
   "cell_type": "code",
   "execution_count": 22,
   "id": "5646963a-ca78-46fb-ba92-2ede2e0bd0c7",
   "metadata": {},
   "outputs": [
    {
     "data": {
      "text/plain": [
       "4"
      ]
     },
     "execution_count": 22,
     "metadata": {},
     "output_type": "execute_result"
    }
   ],
   "source": [
    "n_sim"
   ]
  },
  {
   "cell_type": "code",
   "execution_count": null,
   "id": "9883b1de-097c-4a5f-a601-fd3b10ee51b1",
   "metadata": {},
   "outputs": [],
   "source": []
  }
 ],
 "metadata": {
  "kernelspec": {
   "display_name": "Python 3 (ipykernel)",
   "language": "python",
   "name": "python3"
  },
  "language_info": {
   "codemirror_mode": {
    "name": "ipython",
    "version": 3
   },
   "file_extension": ".py",
   "mimetype": "text/x-python",
   "name": "python",
   "nbconvert_exporter": "python",
   "pygments_lexer": "ipython3",
   "version": "3.9.7"
  }
 },
 "nbformat": 4,
 "nbformat_minor": 5
}
