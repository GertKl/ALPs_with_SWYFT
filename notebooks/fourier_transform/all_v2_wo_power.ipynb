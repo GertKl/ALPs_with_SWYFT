{
 "cells": [
  {
   "cell_type": "code",
   "execution_count": 1,
   "id": "c26171a8-808a-4b62-9ae9-7f354a929c28",
   "metadata": {},
   "outputs": [],
   "source": [
    "import numpy as np\n",
    "import random\n",
    "import time"
   ]
  },
  {
   "cell_type": "code",
   "execution_count": 2,
   "id": "e11b34e6-e83a-49cf-aeb0-300602a80963",
   "metadata": {},
   "outputs": [],
   "source": [
    "import sys\n",
    "import os"
   ]
  },
  {
   "cell_type": "code",
   "execution_count": 3,
   "id": "6d50fdae-f7d1-4f5c-96f8-cc41f9469d7b",
   "metadata": {},
   "outputs": [],
   "source": [
    "import swyft\n",
    "import torch\n",
    "from pytorch_lightning.loggers import WandbLogger\n",
    "from pytorch_lightning.callbacks import LearningRateMonitor\n",
    "import wandb"
   ]
  },
  {
   "cell_type": "code",
   "execution_count": 4,
   "id": "8fe121a6-ec5d-4cc4-ad4d-8cdf4b9d9a14",
   "metadata": {},
   "outputs": [],
   "source": [
    "import matplotlib\n",
    "import matplotlib.pyplot as plt"
   ]
  },
  {
   "cell_type": "code",
   "execution_count": 5,
   "id": "d32bd261-a24f-4f38-a5f9-0b80af1c5aee",
   "metadata": {},
   "outputs": [],
   "source": [
    "import IPython"
   ]
  },
  {
   "cell_type": "code",
   "execution_count": 6,
   "id": "b6b48df6-4fd4-432a-9ff1-7a0277c3f743",
   "metadata": {},
   "outputs": [],
   "source": [
    "import pickle"
   ]
  },
  {
   "cell_type": "code",
   "execution_count": 7,
   "id": "deba33bc-9a74-490f-bc82-68cbf55a582b",
   "metadata": {},
   "outputs": [],
   "source": [
    "%matplotlib inline"
   ]
  },
  {
   "cell_type": "code",
   "execution_count": 8,
   "id": "092197b0-8100-4e7f-a3ba-e716b7809291",
   "metadata": {},
   "outputs": [],
   "source": [
    "files_name = \"all_v2\" + \"_files\"\n",
    "parent_dir = (os.getcwd()+\"/\").split('/notebooks/', 1)[0]\n",
    "start_dir = os.getcwd()\n",
    "files_dir = os.getcwd() + \"/\" + files_name \n",
    "store_name = files_name.split(\"_files\")[0] + \"_store\"\n",
    "store_dir = os.getcwd() + \"/\" + files_name + \"/\" + store_name\n",
    "sys.path.append(files_dir)"
   ]
  },
  {
   "cell_type": "code",
   "execution_count": 9,
   "id": "2e7fd73a-2788-480c-92ac-095f830bf28f",
   "metadata": {},
   "outputs": [],
   "source": [
    "from ALP_quick_sim import ALP_sim"
   ]
  },
  {
   "cell_type": "code",
   "execution_count": 10,
   "id": "cd60c774-4db0-4e3b-bfa5-b020418a99ab",
   "metadata": {},
   "outputs": [],
   "source": [
    "with open(files_dir+\"/\"+'config_objects.pickle', 'rb') as file:\n",
    "    config_objects = pickle.load(file)\n",
    "for key in config_objects.keys():\n",
    "    locals()[key] = config_objects[key]\n",
    "\n",
    "with open(files_dir+\"/\"+'obs_objects.pickle', 'rb') as file:\n",
    "    obs_objects = pickle.load(file) \n",
    "for key in obs_objects.keys():\n",
    "    locals()[key] = obs_objects[key]\n",
    "\n",
    "with open(files_dir+\"/\"+'sim_objects.pickle', 'rb') as file:\n",
    "    sim_objects = pickle.load(file)\n",
    "for key in sim_objects.keys():\n",
    "    locals()[key] = sim_objects[key]"
   ]
  },
  {
   "cell_type": "code",
   "execution_count": 11,
   "id": "70f5bb43-533f-4089-b472-fda9b0bb1bf2",
   "metadata": {},
   "outputs": [],
   "source": [
    "marginals = [0]"
   ]
  },
  {
   "cell_type": "markdown",
   "id": "f1025c8a-d066-417c-be9d-16b3a6c7294c",
   "metadata": {},
   "source": [
    "# Load simulations again"
   ]
  },
  {
   "cell_type": "code",
   "execution_count": 12,
   "id": "37765c8b-7aa4-4aa6-ab88-c33ac08aa32e",
   "metadata": {},
   "outputs": [],
   "source": [
    "store = swyft.ZarrStore(store_dir + \"/\" + store_name)\n",
    "samples = store.get_sample_store()"
   ]
  },
  {
   "cell_type": "code",
   "execution_count": 13,
   "id": "e609c447-ff01-4539-bdde-8c54202c2f94",
   "metadata": {},
   "outputs": [
    {
     "data": {
      "text/plain": [
       "200000"
      ]
     },
     "execution_count": 13,
     "metadata": {},
     "output_type": "execute_result"
    }
   ],
   "source": [
    "len(samples)"
   ]
  },
  {
   "cell_type": "code",
   "execution_count": null,
   "id": "c3975f19-3895-472e-a8f0-3f5dfea6bd6e",
   "metadata": {},
   "outputs": [],
   "source": [
    "np.where(np.isinf(samples['data']))"
   ]
  },
  {
   "cell_type": "code",
   "execution_count": null,
   "id": "373d454c-7d40-495f-b183-5693c974962e",
   "metadata": {},
   "outputs": [],
   "source": [
    "inf_sims = np.where(np.isinf(samples['data']))\n",
    "for i,inf_sim in enumerate(inf_sims[0]):\n",
    "    samples['data'][inf_sim,inf_sims[1][i]] = samples['data'][inf_sim,inf_sims[1][i]-1]"
   ]
  },
  {
   "cell_type": "code",
   "execution_count": null,
   "id": "f8cb7243-6847-4acd-bc13-da99dbe547ea",
   "metadata": {},
   "outputs": [],
   "source": [
    "A.configure_plot(xmin=None, xmax=None, ymin=None,ymax=None,legend=0, logx=1, logy=0)\n",
    "for i in range(min(len(samples),100)):\n",
    "    A.configure_model(params=samples[i]['params'])\n",
    "    A.import_counts(obs=samples[i]['data'],exp=samples[i]['exp'])\n",
    "    new_fig = 1 if i==0 else 0\n",
    "    A.compute_case(new_fig=new_fig,new_counts=0,color=None,color_obs=None,linestyle=\"-\",\n",
    "                   label_exp=0,label_obs=False, errorbands=False, errors=False, plot_exp=0, transparency=0.7)\n",
    "\n",
    "\n",
    "for i,obs in enumerate(observations):\n",
    "    A.configure_model(params=obs['params'])\n",
    "    A.import_counts(obs=obs['data'],exp=obs['exp'])\n",
    "    shade = i/(len(observations)+1)\n",
    "    A.compute_case(new_fig=0,new_counts=0,color='k',color_obs=colors[i],linestyle_obs=\"-\",label_exp=0,label_obs=0,\n",
    "                   errorbands=0, errors=0, plot_exp=0)\n",
    "    A.compute_case(new_fig=0,new_counts=0,color=colors[i],color_obs=colors[i],linestyle=\":\",label_exp=0,label_obs=0,\n",
    "                        errorbands=0, errors=0, plot_obs=0) \n",
    "\n",
    "A.import_counts(obs=samples['data'][96761,:],exp=samples['exp'][96761,:])\n",
    "A.compute_case(new_fig=0,new_counts=0,color='k',color_obs='k',linestyle_obs=\"-\",label_exp=0,label_obs=0,\n",
    "               errorbands=0, errors=0, plot_exp=0)"
   ]
  },
  {
   "cell_type": "markdown",
   "id": "c3ac9607-e18a-4379-800f-7c07794b13c9",
   "metadata": {},
   "source": [
    "# Train again"
   ]
  },
  {
   "cell_type": "code",
   "execution_count": null,
   "id": "c66e9d16-15fe-4e9d-8986-58b306eb5a72",
   "metadata": {},
   "outputs": [],
   "source": [
    "class Network(swyft.AdamWReduceLROnPlateau,swyft.SwyftModule):\n",
    "    def __init__(self):\n",
    "        super().__init__()\n",
    "        \n",
    "        self.norm_data = swyft.networks.OnlineStandardizingLayer(torch.Size([A.nbins]), epsilon=0)\n",
    "        #self.norm_ft = swyft.networks.OnlineStandardizingLayer(torch.Size([len_fts]), epsilon=0)\n",
    "        \n",
    "        self.learning_rate = 5e-2\n",
    "        \n",
    "        # self.net_data = torch.nn.Sequential(\n",
    "        #     torch.nn.Flatten(),\n",
    "        #     torch.nn.Linear(A.nbins,256),\n",
    "        #     torch.nn.ReLU(),\n",
    "        #     torch.nn.Linear(256,256),\n",
    "        #     torch.nn.ReLU(),\n",
    "        #     torch.nn.Linear(256,4)\n",
    "        # )\n",
    "\n",
    "        # self.net_FT = torch.nn.Sequential(\n",
    "        #     torch.nn.Flatten(),\n",
    "        #     torch.nn.Linear(A.nbins,256),\n",
    "        #     torch.nn.ReLU(),\n",
    "        #     torch.nn.Linear(256,256),\n",
    "        #     torch.nn.ReLU(),\n",
    "        #     torch.nn.Linear(256,4)\n",
    "        # )\n",
    "\n",
    "\n",
    "        self.net_data = torch.nn.Sequential(\n",
    "            torch.nn.Flatten(),\n",
    "            torch.nn.LazyLinear(256),\n",
    "            torch.nn.ReLU(),\n",
    "            torch.nn.LazyLinear(256),\n",
    "            torch.nn.ReLU(),\n",
    "            torch.nn.LazyLinear(4)\n",
    "        )\n",
    "\n",
    "        self.net_ft = torch.nn.Sequential(\n",
    "            torch.nn.Flatten(),\n",
    "            torch.nn.LazyLinear(128),\n",
    "            torch.nn.ReLU(),\n",
    "            torch.nn.LazyLinear(128),\n",
    "            torch.nn.ReLU(),\n",
    "            torch.nn.LazyLinear(4)\n",
    "        )\n",
    "\n",
    "  \n",
    "        self.logratios = swyft.LogRatioEstimator_1dim(\n",
    "            num_features = 4, \n",
    "            num_params = len(marginals), \n",
    "            varnames = sim.A.param_names)\n",
    "        \n",
    "        #self.learning_rate = 0.000005\n",
    "    \n",
    "    def forward(self, A, B):\n",
    "        data = self.norm_data(A['data'])\n",
    "        #ft = data\n",
    "        data = self.net_data(data)\n",
    "        #ft = torch.tensor(FT(A['data']))\n",
    "        #ft = self.norm_ft(ft)\n",
    "        #ft = self.net_ft(ft)\n",
    "\n",
    "        #final_features = torch.cat((data,ft), axis = 1)\n",
    "        \n",
    "        return self.logratios(data, B['params'][:,marginals])"
   ]
  },
  {
   "cell_type": "code",
   "execution_count": null,
   "id": "015e1eac-1e52-4b32-970f-8dc4f2fda42a",
   "metadata": {},
   "outputs": [],
   "source": [
    "network = Network()"
   ]
  },
  {
   "cell_type": "code",
   "execution_count": null,
   "id": "995da90e-b326-44f8-9992-95df76940b2e",
   "metadata": {},
   "outputs": [],
   "source": [
    "wandb_logger = WandbLogger(log_model='all')"
   ]
  },
  {
   "cell_type": "code",
   "execution_count": null,
   "id": "1be011f9-fbcb-4812-a8c6-9117098ce819",
   "metadata": {},
   "outputs": [],
   "source": [
    "lr_monitor = LearningRateMonitor(logging_interval='step')\n",
    "trainer = swyft.SwyftTrainer(\n",
    "    accelerator = 'cpu', precision = 64, logger=wandb_logger, # min_epochs =25,\n",
    "    callbacks = [lr_monitor], log_every_n_steps=10,\n",
    ")"
   ]
  },
  {
   "cell_type": "code",
   "execution_count": null,
   "id": "36678daf-4eca-4d75-b54b-5a8ff5c55a97",
   "metadata": {},
   "outputs": [],
   "source": [
    "dm = swyft.SwyftDataModule(samples, num_workers = 6, batch_size=int(2**14), \n",
    "                           on_after_load_sample = sim.get_resampler(targets = ['data']), )"
   ]
  },
  {
   "cell_type": "code",
   "execution_count": null,
   "id": "664faa3f-899f-41b7-9047-ac90ac680a6a",
   "metadata": {
    "scrolled": true
   },
   "outputs": [],
   "source": [
    "trainer.fit(network, dm)"
   ]
  },
  {
   "cell_type": "code",
   "execution_count": null,
   "id": "09f2f234-e3dc-47fe-85d0-5422563afbbc",
   "metadata": {},
   "outputs": [],
   "source": [
    "wandb.finish()"
   ]
  },
  {
   "cell_type": "code",
   "execution_count": null,
   "id": "894870a5-fc27-4ead-80f6-b122406b09a5",
   "metadata": {},
   "outputs": [],
   "source": [
    "torch.save(network.state_dict(),'trained_network_'+ipynbname.name()+'.pt')"
   ]
  },
  {
   "cell_type": "markdown",
   "id": "9b6196fb-2ba3-4bc4-b082-8da09ea5b11b",
   "metadata": {},
   "source": [
    "# Infer again"
   ]
  },
  {
   "cell_type": "code",
   "execution_count": null,
   "id": "6ac6ad98-e7d2-41bb-8f4c-98bd6a01058c",
   "metadata": {},
   "outputs": [],
   "source": []
  },
  {
   "cell_type": "code",
   "execution_count": null,
   "id": "e8c084b7-5b1f-43cd-bd03-15850cdf8e7d",
   "metadata": {},
   "outputs": [],
   "source": [
    "prior_samples = sim.sample(100_000, targets=['params'])"
   ]
  },
  {
   "cell_type": "code",
   "execution_count": null,
   "id": "298efde4-ffcc-4969-9ef0-9de181aceaa1",
   "metadata": {},
   "outputs": [],
   "source": [
    "for j in range(len(truths)):\n",
    "    logratios = trainer.infer(\n",
    "                            network,\n",
    "                            observations[j],\n",
    "                            prior_samples\n",
    "                            )\n",
    "    \n",
    "    # swyft.plot_posterior(logratios, A.param_names, truth={A.param_names[i]:truths[j][i] for i in range(len(truths[j]))})\n",
    "    swyft.plot_posterior(logratios, A.param_names[0], truth={A.param_names[i]:truths[j][i] for i in range(1)}, color_truth=colors[j])"
   ]
  },
  {
   "cell_type": "code",
   "execution_count": null,
   "id": "91f76049-fe24-4507-8b25-db45dc183d71",
   "metadata": {},
   "outputs": [],
   "source": []
  },
  {
   "cell_type": "code",
   "execution_count": null,
   "id": "8655068d-2c3f-4efe-a471-41109086a4ea",
   "metadata": {},
   "outputs": [],
   "source": [
    "new_net = Network()\n",
    "new_net.load_state_dict(torch.load('trained_network_'+ipynbname.name()+'.pt'))"
   ]
  },
  {
   "cell_type": "code",
   "execution_count": null,
   "id": "ee933c85-626d-4c59-ac6c-b29c0f8e0681",
   "metadata": {},
   "outputs": [],
   "source": [
    "for j in range(len(truths)):\n",
    "    logratios = trainer.infer(\n",
    "                            new_net,\n",
    "                            observations[j],\n",
    "                            prior_samples\n",
    "                            )\n",
    "    \n",
    "    # swyft.plot_posterior(logratios, A.param_names, truth={A.param_names[i]:truths[j][i] for i in range(len(truths[j]))})\n",
    "    swyft.plot_posterior(logratios, A.param_names[0], truth={A.param_names[i]:truths[j][i] for i in range(1)}, color_truth=colors[j])"
   ]
  },
  {
   "cell_type": "code",
   "execution_count": null,
   "id": "b4166dd2-a586-429c-8db3-4cf23f6c7910",
   "metadata": {},
   "outputs": [],
   "source": []
  }
 ],
 "metadata": {
  "kernelspec": {
   "display_name": "Python 3 (ipykernel)",
   "language": "python",
   "name": "python3"
  },
  "language_info": {
   "codemirror_mode": {
    "name": "ipython",
    "version": 3
   },
   "file_extension": ".py",
   "mimetype": "text/x-python",
   "name": "python",
   "nbconvert_exporter": "python",
   "pygments_lexer": "ipython3",
   "version": "3.9.7"
  }
 },
 "nbformat": 4,
 "nbformat_minor": 5
}
