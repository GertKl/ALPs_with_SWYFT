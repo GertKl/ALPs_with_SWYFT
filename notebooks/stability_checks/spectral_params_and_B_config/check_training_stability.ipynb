{
 "cells": [
  {
   "cell_type": "markdown",
   "id": "5a98fdbd-7ac1-4a7d-a730-db2031b7ea91",
   "metadata": {},
   "source": [
    "# Data dependence on g, spectral amplitude (flux) varied"
   ]
  },
  {
   "cell_type": "code",
   "execution_count": 9,
   "id": "c26171a8-808a-4b62-9ae9-7f354a929c28",
   "metadata": {},
   "outputs": [],
   "source": [
    "import numpy as np\n",
    "import random\n",
    "import time"
   ]
  },
  {
   "cell_type": "code",
   "execution_count": 10,
   "id": "e11b34e6-e83a-49cf-aeb0-300602a80963",
   "metadata": {},
   "outputs": [],
   "source": [
    "import sys\n",
    "import os"
   ]
  },
  {
   "cell_type": "code",
   "execution_count": null,
   "id": "598139ee-1dad-4737-9c96-26ab4eb37300",
   "metadata": {},
   "outputs": [],
   "source": [
    "import swyft\n",
    "import torch\n",
    "from pytorch_lightning.loggers import WandbLogger\n",
    "import wandb"
   ]
  },
  {
   "cell_type": "code",
   "execution_count": 11,
   "id": "8fe121a6-ec5d-4cc4-ad4d-8cdf4b9d9a14",
   "metadata": {},
   "outputs": [],
   "source": [
    "import matplotlib\n",
    "import matplotlib.pyplot as plt"
   ]
  },
  {
   "cell_type": "code",
   "execution_count": 12,
   "id": "d32bd261-a24f-4f38-a5f9-0b80af1c5aee",
   "metadata": {},
   "outputs": [],
   "source": [
    "import IPython"
   ]
  },
  {
   "cell_type": "code",
   "execution_count": 13,
   "id": "b6b48df6-4fd4-432a-9ff1-7a0277c3f743",
   "metadata": {},
   "outputs": [],
   "source": [
    "import pickle"
   ]
  },
  {
   "cell_type": "code",
   "execution_count": 14,
   "id": "deba33bc-9a74-490f-bc82-68cbf55a582b",
   "metadata": {},
   "outputs": [],
   "source": [
    "%matplotlib inline"
   ]
  },
  {
   "cell_type": "code",
   "execution_count": 15,
   "id": "092197b0-8100-4e7f-a3ba-e716b7809291",
   "metadata": {},
   "outputs": [],
   "source": [
    "files_name = \"spectral_params_and_B_config\" + \"_files\"\n",
    "parent_dir = (os.getcwd()+\"/\").split('/notebooks/', 1)[0]\n",
    "start_dir = os.getcwd()\n",
    "files_dir = os.getcwd() + \"/\" + files_name \n",
    "store_name = files_name.split(\"_files\")[0] + \"_store\"\n",
    "store_dir = os.getcwd() + \"/\" + files_name + \"/\" + store_name\n",
    "sys.path.append(files_dir)"
   ]
  },
  {
   "cell_type": "code",
   "execution_count": 16,
   "id": "2e7fd73a-2788-480c-92ac-095f830bf28f",
   "metadata": {},
   "outputs": [],
   "source": [
    "from ALP_quick_sim import ALP_sim"
   ]
  },
  {
   "cell_type": "code",
   "execution_count": 17,
   "id": "cd60c774-4db0-4e3b-bfa5-b020418a99ab",
   "metadata": {},
   "outputs": [],
   "source": [
    "with open(files_dir+\"/\"+'config_objects.pickle', 'rb') as file:\n",
    "    config_objects = pickle.load(file)\n",
    "    \n",
    "for key in config_objects.keys():\n",
    "    locals()[key] = config_objects[key]\n",
    "\n",
    "with open(files_dir+\"/\"+'obs_objects.pickle', 'rb') as file:\n",
    "    obs_objects = pickle.load(file)\n",
    "    \n",
    "for key in obs_objects.keys():\n",
    "    locals()[key] = obs_objects[key]"
   ]
  },
  {
   "cell_type": "markdown",
   "id": "f1025c8a-d066-417c-be9d-16b3a6c7294c",
   "metadata": {},
   "source": [
    "# Load simulations again"
   ]
  },
  {
   "cell_type": "code",
   "execution_count": null,
   "id": "37765c8b-7aa4-4aa6-ab88-c33ac08aa32e",
   "metadata": {},
   "outputs": [],
   "source": [
    "store = swyft.ZarrStore(store_dir + \"/\" + store_name)\n",
    "samples = store.get_sample_store()"
   ]
  },
  {
   "cell_type": "code",
   "execution_count": null,
   "id": "e609c447-ff01-4539-bdde-8c54202c2f94",
   "metadata": {},
   "outputs": [],
   "source": [
    "len(samples)"
   ]
  },
  {
   "cell_type": "code",
   "execution_count": null,
   "id": "f8cb7243-6847-4acd-bc13-da99dbe547ea",
   "metadata": {},
   "outputs": [],
   "source": [
    "A.configure_plot(xmin=6e1, xmax=1e3, ymin=-0.15,ymax=0.05,legend=0, logx=1, logy=0)\n",
    "for i in range(min(len(samples),100)):\n",
    "    A.configure_model(params=samples[i]['params'])\n",
    "    A.import_counts(obs=samples[i]['data'],exp=samples[i]['exp'])\n",
    "    new_fig = 1 if i==0 else 0\n",
    "    A.compute_case(new_fig=new_fig,new_counts=0,color=None,color_obs=None,linestyle=\"-\",\n",
    "                   label_exp=0,label_obs=False, errorbands=False, errors=False, plot_exp=0, transparency=0.7)\n",
    "\n",
    "\n",
    "for i,obs in enumerate(observations):\n",
    "    A.configure_model(params=obs['params'])\n",
    "    A.import_counts(obs=obs['data'],exp=obs['exp'])\n",
    "    shade = i/(len(observations)+1)\n",
    "    A.compute_case(new_fig=0,new_counts=0,color='k',color_obs=colors[i],linestyle_obs=\"-\",label_exp=0,label_obs=0,\n",
    "                   errorbands=0, errors=0, plot_exp=0)\n",
    "    A.compute_case(new_fig=0,new_counts=0,color=colors[i],color_obs=colors[i],linestyle=\":\",label_exp=0,label_obs=0,\n",
    "                        errorbands=0, errors=0, plot_obs=0) "
   ]
  },
  {
   "cell_type": "markdown",
   "id": "c3ac9607-e18a-4379-800f-7c07794b13c9",
   "metadata": {},
   "source": [
    "# Train again"
   ]
  },
  {
   "cell_type": "code",
   "execution_count": 1,
   "id": "c66e9d16-15fe-4e9d-8986-58b306eb5a72",
   "metadata": {},
   "outputs": [
    {
     "ename": "NameError",
     "evalue": "name 'swyft' is not defined",
     "output_type": "error",
     "traceback": [
      "\u001b[0;31m---------------------------------------------------------------------------\u001b[0m",
      "\u001b[0;31mNameError\u001b[0m                                 Traceback (most recent call last)",
      "Cell \u001b[0;32mIn[1], line 1\u001b[0m\n\u001b[0;32m----> 1\u001b[0m \u001b[38;5;28;01mclass\u001b[39;00m \u001b[38;5;21;01mNetwork\u001b[39;00m(\u001b[43mswyft\u001b[49m\u001b[38;5;241m.\u001b[39mSwyftModule):\n\u001b[1;32m      2\u001b[0m     \u001b[38;5;28;01mdef\u001b[39;00m \u001b[38;5;21m__init__\u001b[39m(\u001b[38;5;28mself\u001b[39m):\n\u001b[1;32m      3\u001b[0m         \u001b[38;5;28msuper\u001b[39m()\u001b[38;5;241m.\u001b[39m\u001b[38;5;21m__init__\u001b[39m()\n",
      "\u001b[0;31mNameError\u001b[0m: name 'swyft' is not defined"
     ]
    }
   ],
   "source": [
    "class Network(swyft.SwyftModule):\n",
    "    def __init__(self):\n",
    "        super().__init__()\n",
    "        self.norm = swyft.networks.OnlineStandardizingLayer(torch.Size([A.nbins]), epsilon=0)\n",
    "        self.logratios = swyft.LogRatioEstimator_1dim(\n",
    "            num_features = A.nbins, \n",
    "            num_params = len(marginals), \n",
    "            varnames = sim.A.param_names)\n",
    "        self.learning_rate = 0.0005\n",
    "    \n",
    "    def forward(self, A, B):\n",
    "        data = self.norm(A['data'])\n",
    "        return self.logratios(data, B['params'][:,marginals])"
   ]
  },
  {
   "cell_type": "code",
   "execution_count": null,
   "id": "015e1eac-1e52-4b32-970f-8dc4f2fda42a",
   "metadata": {},
   "outputs": [],
   "source": [
    "network = Network()"
   ]
  },
  {
   "cell_type": "code",
   "execution_count": null,
   "id": "eed4bf38-3bc2-425d-b198-cd0544421b3c",
   "metadata": {},
   "outputs": [],
   "source": [
    "wandb_logger = WandbLogger(log_model='all')"
   ]
  },
  {
   "cell_type": "code",
   "execution_count": null,
   "id": "1be011f9-fbcb-4812-a8c6-9117098ce819",
   "metadata": {},
   "outputs": [],
   "source": [
    "trainer = swyft.SwyftTrainer(\n",
    "    accelerator = 'cpu', precision = 64, logger=wandb_logger #, min_epochs =25, \n",
    ")"
   ]
  },
  {
   "cell_type": "code",
   "execution_count": null,
   "id": "36678daf-4eca-4d75-b54b-5a8ff5c55a97",
   "metadata": {},
   "outputs": [],
   "source": [
    "dm = swyft.SwyftDataModule(samples)"
   ]
  },
  {
   "cell_type": "code",
   "execution_count": null,
   "id": "664faa3f-899f-41b7-9047-ac90ac680a6a",
   "metadata": {},
   "outputs": [],
   "source": [
    "trainer.fit(network, dm)"
   ]
  },
  {
   "cell_type": "code",
   "execution_count": null,
   "id": "09f2f234-e3dc-47fe-85d0-5422563afbbc",
   "metadata": {},
   "outputs": [],
   "source": [
    "wandb.finish()"
   ]
  },
  {
   "cell_type": "markdown",
   "id": "9b6196fb-2ba3-4bc4-b082-8da09ea5b11b",
   "metadata": {},
   "source": [
    "# Infer again"
   ]
  },
  {
   "cell_type": "code",
   "execution_count": null,
   "id": "da434285-f3a2-4974-ac8b-2099e575d305",
   "metadata": {},
   "outputs": [],
   "source": [
    "prior_samples = sim.sample(100_000, targets=['params'])"
   ]
  },
  {
   "cell_type": "code",
   "execution_count": null,
   "id": "298efde4-ffcc-4969-9ef0-9de181aceaa1",
   "metadata": {},
   "outputs": [],
   "source": [
    "for j in range(len(marginals)):\n",
    "    logratios = trainer.infer(\n",
    "                            network,\n",
    "                            observations[j],\n",
    "                            prior_samples\n",
    "                            )\n",
    "    \n",
    "    swyft.plot_posterior(logratios, A.param_names, truth={A.param_names[i]:truths[j][i] for i in range(len(truths[j]))})"
   ]
  }
 ],
 "metadata": {
  "kernelspec": {
   "display_name": "Python 3 (ipykernel)",
   "language": "python",
   "name": "python3"
  },
  "language_info": {
   "codemirror_mode": {
    "name": "ipython",
    "version": 3
   },
   "file_extension": ".py",
   "mimetype": "text/x-python",
   "name": "python",
   "nbconvert_exporter": "python",
   "pygments_lexer": "ipython3",
   "version": "3.9.7"
  }
 },
 "nbformat": 4,
 "nbformat_minor": 5
}
