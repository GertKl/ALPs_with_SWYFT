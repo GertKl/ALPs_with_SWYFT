{
 "cells": [
  {
   "cell_type": "markdown",
   "id": "761ce862-fee5-492d-b86d-fce0fd1c30ec",
   "metadata": {},
   "source": [
    "# Setup"
   ]
  },
  {
   "cell_type": "markdown",
   "id": "97bbea55-f9dc-48fb-aaff-e85e8b5cfdc8",
   "metadata": {},
   "source": [
    "Running the simulations presumes the installation of specific packages, in particular Gammapy0.19. The easiest is maybe to simply recreate my conda environment, and run this notebook from there. Download the file env_swyft3-ext.yaml, and write the following in the terminal:\n",
    "\n",
    "```\n",
    "$conda env create --file env_swyft3-ext.yaml --name swyft3\n",
    "$conda activate swyft3\n",
    "```\n",
    "Then download the IRF file *Prod5-North-20deg-AverageAz-4LSTs09MSTs.180000s-v0.1.fits* and *ALP_quick_sim.py*. If you place them in the same directory as this notebook, you should be set to run. Otherwise adapt the paths in the following cell:\n"
   ]
  },
  {
   "cell_type": "code",
   "execution_count": 1,
   "id": "c8261e41-1b10-495a-aa63-25e79340b7ea",
   "metadata": {},
   "outputs": [],
   "source": [
    "import importlib\n",
    "loaded_param_function = False"
   ]
  },
  {
   "cell_type": "code",
   "execution_count": 2,
   "id": "10a28cab-a783-4788-985a-9268b2aa9472",
   "metadata": {},
   "outputs": [],
   "source": [
    "import os"
   ]
  },
  {
   "cell_type": "code",
   "execution_count": 3,
   "id": "d0010bfa-da96-4d6c-b12b-4de2948b78b2",
   "metadata": {},
   "outputs": [],
   "source": [
    "parent_dir = (os.getcwd()+\"/\").split('/notebooks/', 1)[0]\n",
    "start_dir = os.getcwd()"
   ]
  },
  {
   "cell_type": "code",
   "execution_count": 4,
   "id": "c771a600-14a7-4c4d-bd5b-2af4e64e55f6",
   "metadata": {},
   "outputs": [],
   "source": [
    "ALP_file_dir = parent_dir+\"/analysis_scripts/ALP_sim\"             # The directory where ALP_quick_sim.py is placed. Can be empty if it's in same folder as notebook. "
   ]
  },
  {
   "cell_type": "code",
   "execution_count": 5,
   "id": "994e03df-29b3-42c3-9455-01a2de2927f0",
   "metadata": {},
   "outputs": [],
   "source": [
    "import sys\n",
    "if ALP_file_dir: sys.path.append(ALP_file_dir)   #!!! Change path to location of differential_counts.py and ALP_sim.py\n",
    "from ALP_quick_sim import ALP_sim\n",
    "from alp_swyft_simulator import ALP_SWYFT_Simulator"
   ]
  },
  {
   "cell_type": "code",
   "execution_count": 6,
   "id": "171c30bd-8fde-4b36-807e-cacb6e292a43",
   "metadata": {},
   "outputs": [],
   "source": [
    "import numpy as np"
   ]
  },
  {
   "cell_type": "code",
   "execution_count": 7,
   "id": "9b0c061b-7184-4af4-ae1f-bc4f440cbd99",
   "metadata": {},
   "outputs": [],
   "source": [
    "import matplotlib.pyplot as plt"
   ]
  },
  {
   "cell_type": "code",
   "execution_count": 8,
   "id": "d48cc91f-99bb-4801-b8d0-606a0596dde8",
   "metadata": {},
   "outputs": [],
   "source": [
    "import swyft"
   ]
  },
  {
   "cell_type": "code",
   "execution_count": 9,
   "id": "03676462-5c2a-419c-8364-5bbd2f612591",
   "metadata": {},
   "outputs": [],
   "source": [
    "import torch"
   ]
  },
  {
   "cell_type": "code",
   "execution_count": 10,
   "id": "3addefe4-0875-4176-8a24-73cb6dff7780",
   "metadata": {},
   "outputs": [],
   "source": [
    "import scipy.stats as scist"
   ]
  },
  {
   "cell_type": "code",
   "execution_count": 11,
   "id": "a3b231b3-dffa-468d-9a42-0813aeb529ee",
   "metadata": {},
   "outputs": [],
   "source": [
    "import copy"
   ]
  },
  {
   "cell_type": "code",
   "execution_count": 12,
   "id": "a5911219-b0df-43ef-9c49-0e0e4871c063",
   "metadata": {},
   "outputs": [],
   "source": [
    "import ipynbname"
   ]
  },
  {
   "cell_type": "code",
   "execution_count": 13,
   "id": "1401e3df-27f4-4675-a9b4-cb60b51933f0",
   "metadata": {},
   "outputs": [],
   "source": [
    "import pickle"
   ]
  },
  {
   "cell_type": "code",
   "execution_count": 14,
   "id": "743cfe32-b2f2-4d51-b484-2386ffac1262",
   "metadata": {},
   "outputs": [],
   "source": [
    "import subprocess"
   ]
  },
  {
   "cell_type": "code",
   "execution_count": 15,
   "id": "d40e7fab-06bc-4fcd-b30c-3e3d08ca67b1",
   "metadata": {},
   "outputs": [],
   "source": [
    "from pytorch_lightning.loggers import WandbLogger\n",
    "import wandb"
   ]
  },
  {
   "cell_type": "code",
   "execution_count": 16,
   "id": "ef29cbb3-a854-489a-8fc2-0cea048617f0",
   "metadata": {},
   "outputs": [],
   "source": [
    "files_name = ipynbname.name() + \"_files\"\n",
    "files_dir = os.getcwd() + \"/\" + files_name \n",
    "store_name = ipynbname.name() + \"_store\"\n",
    "store_dir = os.getcwd() + \"/\" + files_name + \"/\" + store_name"
   ]
  },
  {
   "cell_type": "code",
   "execution_count": 17,
   "id": "7381cc0a-30ef-4b5b-9cb2-0c2ffb5791af",
   "metadata": {},
   "outputs": [],
   "source": [
    "if not os.path.exists(files_dir):\n",
    "    os.mkdir(files_dir)"
   ]
  },
  {
   "cell_type": "code",
   "execution_count": 18,
   "id": "e6338e83-6745-44d1-96ab-b8614f747512",
   "metadata": {},
   "outputs": [],
   "source": [
    "rsync_result1 = subprocess.run(['rsync', parent_dir+'/analysis_scripts/ALP_sim/config_simulate.py', files_dir],\n",
    "                                       capture_output = True, text=True)\n",
    "rsync_result2 = subprocess.run(['rsync', parent_dir+'/analysis_scripts/ALP_sim/ALP_quick_sim.py', files_dir],\n",
    "                                       capture_output = True, text=True)\n",
    "rsync_result3 = subprocess.run(['rsync', parent_dir+'/analysis_scripts/ALP_sim/alp_swyft_simulator.py', files_dir],\n",
    "                                       capture_output = True, text=True)\n",
    "rsync_result4 = subprocess.run(['rsync', parent_dir+'/analysis_scripts/ALP_sim/simulate_batch.py', files_dir],\n",
    "                                       capture_output = True, text=True)\n",
    "rsync_result5 = subprocess.run(['rsync', parent_dir+'/analysis_scripts/ALP_sim/config_simulate_batch.py', files_dir],\n",
    "                                       capture_output = True, text=True)\n",
    "rsync_result6 = subprocess.run(['rsync', parent_dir+'/analysis_scripts/ALP_sim/config_pois.py', files_dir],\n",
    "                                       capture_output = True, text=True)"
   ]
  },
  {
   "cell_type": "code",
   "execution_count": 19,
   "id": "21d58f2a-82ea-4cf5-bed1-d0f3f97ac0e2",
   "metadata": {},
   "outputs": [],
   "source": [
    "A = ALP_sim(set_null=0, set_obs=0)"
   ]
  },
  {
   "cell_type": "markdown",
   "id": "ba1d1ff0-9496-4946-a3ed-d754706e2ebe",
   "metadata": {},
   "source": [
    "# Configuration"
   ]
  },
  {
   "cell_type": "markdown",
   "id": "c8dfc9f8-1858-49f8-8fa7-6826390f06c5",
   "metadata": {},
   "source": [
    "### Technical"
   ]
  },
  {
   "cell_type": "code",
   "execution_count": 20,
   "id": "e4f58264-7f05-480a-b91d-e782a9606c5d",
   "metadata": {},
   "outputs": [],
   "source": [
    "n_sim = 500_000\n",
    "n_cpus = 128*3\n",
    "new_store = 0\n",
    "slurm = 1\n",
    "conda_env = \"swyft4-dev\"\n",
    "slurm_dir = '/home/gert/fox_hpc/ALPs_with_SWYFT/notebooks/' + (os.getcwd()+\"/\").split('/notebooks/', 1)[1]\n",
    "\n",
    "gpus = 0\n",
    "\n",
    "max_time_sim = '00-15:00:00'\n",
    "max_memory_sim = '5'\n",
    "partition_sim = 'normal'\n",
    "devel_sim = 0\n",
    "\n",
    "\n",
    "account = 'ec12'\n",
    "    "
   ]
  },
  {
   "cell_type": "markdown",
   "id": "f9600559-9b9f-4e0b-9c4d-3e549cdcc5fe",
   "metadata": {},
   "source": [
    "### Parameters to be fixed/varied"
   ]
  },
  {
   "cell_type": "code",
   "execution_count": 21,
   "id": "53929bcf-d95c-4011-8218-f10db4b5380d",
   "metadata": {},
   "outputs": [],
   "source": [
    "model_parameter_vals = [\n",
    "            \n",
    "    10,                 # mass m in neV\n",
    "    None,               # coupling constant g in 10^(-11) /GeV\n",
    "    \n",
    "    None,               # Amplitude of power law, in \"TeV-1 cm-2 s-1\"\n",
    "    None,               # Spectral index of the PWL\n",
    "    300,                # Reference energy (?) E0, In GeV\n",
    "    None,               #Cut-off energy Ecut, in GeV\n",
    "    \n",
    "    \n",
    "    None,                # rms of B field, default = 10.\n",
    "    None,                # normalization of electron density, default = 39.\n",
    "    None,               # second normalization of electron density, see Churazov et al. 2003, Eq. 4, default = 4.05\n",
    "    None,               # extension of the cluster, default = 500.\n",
    "    None,                # electron density parameter, see Churazov et al. 2003, Eq. 4, default = 80.\n",
    "    None,               # electron density parameter, see Churazov et al. 2003, Eq. 4, default = 200.\n",
    "    None,                # electron density parameter, see Churazov et al. 2003, Eq. 4, default = 1.2\n",
    "    None,               # electron density parameter, see Churazov et al. 2003, Eq. 4, default = 0.58\n",
    "    None,                # scaling of B-field with electron denstiy, default = 0.5\n",
    "    None,               # maximum turbulence scale in kpc^-1, taken from A2199 cool-core cluster, see Vacca et al. 2012, default = 0.18\n",
    "    None,                 # minimum turbulence scale, taken from A2199 cool-core cluster, see Vacca et al. 2012, default = 9.\n",
    "    None               # turbulence spectral index, taken from A2199 cool-core cluster, see Vacca et al. 2012, default = -2.80\n",
    "            \n",
    "]\n",
    "\n",
    "poi_objects = {'model_parameter_vals':model_parameter_vals}\n",
    "with open(files_dir+'/poi_objects.pickle','wb') as file:\n",
    "    pickle.dump(poi_objects, file)\n",
    "os.chdir(files_dir)\n",
    "config_pois_result = subprocess.run(['python', files_dir+'/config_pois.py'], capture_output = True, text=True)\n",
    "\n",
    "if loaded_param_function:\n",
    "    importlib.reload(param_function)\n",
    "else:\n",
    "    import param_function\n",
    "    loaded_param_function = True\n",
    "\n",
    "os.chdir(start_dir)\n",
    "\n",
    "A.full_param_vec = param_function.param_function"
   ]
  },
  {
   "cell_type": "markdown",
   "id": "f5e51909-966d-4aa5-b0c5-53c9771dd41c",
   "metadata": {},
   "source": [
    "### Priors and true values"
   ]
  },
  {
   "cell_type": "code",
   "execution_count": 22,
   "id": "942ffc7e-e6ab-43e3-9cce-63ceaa8b82f7",
   "metadata": {},
   "outputs": [
    {
     "name": "stderr",
     "output_type": "stream",
     "text": [
      "/home/gert/ALPs_with_SWYFT/analysis_scripts/ALP_sim/ALP_quick_sim.py:443: UserWarning: The number of model parameters, log-indicators, null-hypothesis parameters, parameter names and parameter units are not equal\n",
      "  warnings.warn(\"The number of model parameters, log-indicators, null-hypothesis parameters, parameter names and parameter units are not equal\")\n"
     ]
    }
   ],
   "source": [
    "A.configure_model(\n",
    "    log_params = [1,0,0,0,0,0,0,0,0,0,0,0,0,0,0,0],\n",
    "    null_params = [-np.inf,1.54e-9,2.11,560,25.,39.,4.05,500.,80.,280.,1.2,0.58,0.5,0.18,9.,-2.80]\n",
    ")\n",
    "\n",
    "bounds = [\n",
    "    [-1,1],\n",
    "    [1.51e-9, 1.57e-9],\n",
    "    [2.09,2.13],\n",
    "    [545,575],\n",
    "    [8,27],\n",
    "    [37,48],\n",
    "    [3.4,4.07],\n",
    "    [450,550],\n",
    "    [70,290],\n",
    "    [276,282],\n",
    "    [1.0,1.4],\n",
    "    [0.56,0.60],\n",
    "    [0.3,0.8],\n",
    "    [0.16,0.20],\n",
    "    [8,10],\n",
    "    [0.8,3.8]\n",
    "]\n",
    "\n",
    "truths = np.array([\n",
    "    [np.log10(6), 1.54e-9, 2.11,560,25.,39.,4.05,500.,80.,280.,1.2,0.58,0.5,0.18,9.,-2.80],\n",
    "    [np.log10(3), 1.54e-9, 2.11,560,25.,39.,4.05,500.,80.,280.,1.2,0.58,0.5,0.18,9.,-2.80],\n",
    "    [np.log10(1), 1.54e-9, 2.11,560,25.,39.,4.05,500.,80.,280.,1.2,0.58,0.5,0.18,9.,-2.80],\n",
    "    [np.log10(0.2), 1.54e-9, 2.11,560,25.,39.,4.05,500.,80.,280.,1.2,0.58,0.5,0.18,9.,-2.80],\n",
    "])\n",
    "\n",
    "marginals = [0]\n",
    "\n",
    "colors = [\n",
    "    (0,0,1),\n",
    "    (0,1,0.4),\n",
    "    (1,0.7,0),\n",
    "    (1,0,0),\n",
    "]"
   ]
  },
  {
   "cell_type": "markdown",
   "id": "02d3a222-7f94-4c34-8202-d278abac44f9",
   "metadata": {},
   "source": [
    "### Model configuration"
   ]
  },
  {
   "cell_type": "code",
   "execution_count": 23,
   "id": "5aca913b-4a38-4645-a525-e2545dadd52b",
   "metadata": {},
   "outputs": [],
   "source": [
    "A.configure_model(\n",
    "    model=\"\",\n",
    "    noise=\"poisson\",\n",
    "    param_names = param_function.param_names,\n",
    "    param_units = param_function.param_units,\n",
    "    ALP_seed=None,\n",
    "    floor=None,\n",
    "    logcounts=True,\n",
    "    residuals=True\n",
    ")"
   ]
  },
  {
   "cell_type": "code",
   "execution_count": 24,
   "id": "197161eb-cc49-4489-9377-1863bdb474b8",
   "metadata": {},
   "outputs": [],
   "source": [
    "A.configure_obs(\n",
    "    nbins = 150,\n",
    "    nbins_etrue = 450,\n",
    "    emin = 6e1,\n",
    "    emax = 3e3,\n",
    "    livetime = 10,\n",
    "    irf_file = parent_dir+\"/IRFs/CTA/Prod5-North-20deg-AverageAz-4LSTs09MSTs.180000s-v0.1.fits\"\n",
    ")"
   ]
  },
  {
   "cell_type": "markdown",
   "id": "d32d1682-2491-4a43-93a7-8fa4ad43dea5",
   "metadata": {},
   "source": [
    "# Derived Values"
   ]
  },
  {
   "cell_type": "code",
   "execution_count": 25,
   "id": "59a7c597-1928-4d96-aba9-7f65949039f2",
   "metadata": {},
   "outputs": [],
   "source": [
    "simulation_batch_size = int(np.ceil(n_sim/n_cpus))"
   ]
  },
  {
   "cell_type": "code",
   "execution_count": 26,
   "id": "2d1ed194-18d6-4f36-88e1-f1da47fcb3f1",
   "metadata": {},
   "outputs": [],
   "source": [
    "config_objects = {'A':A, 'n_sim':n_sim,'n_cpus':n_cpus, 'bounds':bounds, 'truths':truths, 'simulation_batch_size':simulation_batch_size, \n",
    "                  'store_name':store_name,'store_dir':store_dir, 'files_dir':files_dir, 'start_dir':start_dir, 'conda_env':conda_env,\n",
    "                  'slurm':slurm, 'slurm_dir':slurm_dir, 'gpus':gpus,'max_time_sim':max_time_sim,'max_memory_sim':max_memory_sim,\n",
    "                  'partition_sim':partition_sim,'devel_sim':devel_sim,'account':account, 'colors':colors, 'marginals':marginals}"
   ]
  },
  {
   "cell_type": "code",
   "execution_count": 27,
   "id": "4a4a3776-d399-4713-a57b-26bc78362aa3",
   "metadata": {},
   "outputs": [],
   "source": [
    "with open(files_dir+'/config_objects.pickle','wb') as file:\n",
    "    pickle.dump(config_objects, file)"
   ]
  },
  {
   "cell_type": "markdown",
   "id": "33f44b0a-89bd-4870-a595-d51023d2dcf7",
   "metadata": {},
   "source": [
    "# Simulation setup"
   ]
  },
  {
   "cell_type": "code",
   "execution_count": 28,
   "id": "5ef4588e-2700-4d0a-828b-bee9c43d0017",
   "metadata": {},
   "outputs": [
    {
     "name": "stdout",
     "output_type": "stream",
     "text": [
      "Generating new null-hypothesis... done.\n"
     ]
    }
   ],
   "source": [
    "A.generate_null()"
   ]
  },
  {
   "cell_type": "code",
   "execution_count": 29,
   "id": "5c98ddc7-d01d-4ecc-95e0-d1a7a7a168d8",
   "metadata": {},
   "outputs": [],
   "source": [
    "sim = ALP_SWYFT_Simulator(A, bounds)"
   ]
  },
  {
   "cell_type": "code",
   "execution_count": 30,
   "id": "b1942d70-8c63-438e-9790-0300080851f9",
   "metadata": {},
   "outputs": [],
   "source": [
    "sim_objects = {'sim':sim}"
   ]
  },
  {
   "cell_type": "code",
   "execution_count": 31,
   "id": "d03621df-cad2-4b65-b074-d8146aba0656",
   "metadata": {},
   "outputs": [],
   "source": [
    "with open(files_dir+'/sim_objects.pickle','wb') as file:\n",
    "    pickle.dump(sim_objects, file)"
   ]
  },
  {
   "cell_type": "markdown",
   "id": "f9e79543-e7f8-4e82-aa1c-e7e607775a58",
   "metadata": {},
   "source": [
    "# Defining observations"
   ]
  },
  {
   "cell_type": "code",
   "execution_count": 32,
   "id": "24fa0158-8864-41fe-b962-e08e516efa60",
   "metadata": {},
   "outputs": [],
   "source": [
    "observations = []\n",
    "for tru in truths:\n",
    "    sim.A.configure_model(ALP_seed=0)\n",
    "    obs_exp=sim.generate_exp(tru)\n",
    "    obs_data = sim.generate_data(obs_exp,tru)\n",
    "    observations.append(swyft.Sample(data=obs_data, exp=obs_exp, params=tru))\n",
    "sim.A.configure_model(ALP_seed=None)"
   ]
  },
  {
   "cell_type": "code",
   "execution_count": 33,
   "id": "abf618b7-7085-4157-aec8-5bc266a98667",
   "metadata": {},
   "outputs": [],
   "source": [
    "with open(files_dir+'/obs_objects.pickle','wb') as file:\n",
    "    pickle.dump({'observations':observations}, file)"
   ]
  },
  {
   "cell_type": "markdown",
   "id": "b242c58f-b7f8-4428-af36-2f23878f64b7",
   "metadata": {},
   "source": [
    "# Simulating"
   ]
  },
  {
   "cell_type": "code",
   "execution_count": 34,
   "id": "66b6b004-a6ee-4f04-8c09-938927e9088e",
   "metadata": {},
   "outputs": [
    {
     "data": {
      "text/plain": [
       "<swyft.lightning.data.ZarrStore at 0x7f1a7804e580>"
      ]
     },
     "execution_count": 34,
     "metadata": {},
     "output_type": "execute_result"
    }
   ],
   "source": [
    "if not os.path.exists(store_dir):\n",
    "    os.mkdir(store_dir)\n",
    "elif new_store:\n",
    "    rm_result = subprocess.run(['rm','-r', store_dir],\n",
    "                                       capture_output = True, text=True)\n",
    "    if slurm:\n",
    "        rm_slurm_result = subprocess.run(['rm','-r', slurm_dir+\"/\"+files_name+\"/\"+store_name],\n",
    "                                           capture_output = True, text=True)\n",
    "        \n",
    "    \n",
    "store = swyft.ZarrStore(store_dir + \"/\" + store_name)\n",
    "store.init(\n",
    "    N = n_sim,\n",
    "    chunk_size=simulation_batch_size,\n",
    "    shapes=sim.get_shapes_and_dtypes()[0],\n",
    "    dtypes=sim.get_shapes_and_dtypes()[1],\n",
    ")"
   ]
  },
  {
   "cell_type": "code",
   "execution_count": 35,
   "id": "4d297f19-ede5-4f2f-b49e-0e5d64f5b058",
   "metadata": {},
   "outputs": [
    {
     "name": "stdout",
     "output_type": "stream",
     "text": [
      "INSTRUCTIONS:\n",
      "Go to /home/gert/fox_hpc/ALPs_with_SWYFT/notebooks/stability_checks/all/ and run simulate.sh, then continue here\n"
     ]
    }
   ],
   "source": [
    "if not slurm:\n",
    "    # !./simulate.sh\n",
    "    # simulate_result = subprocess.run(['./simulate.sh'], capture_output = True, text=True)\n",
    "    store.simulate(sim, batch_size=simulation_batch_size)\n",
    "else:\n",
    "    if not os.path.exists(slurm_dir + \"/\" + store_name):\n",
    "        if not os.path.exists(slurm_dir):\n",
    "            os.makedirs(slurm_dir)\n",
    "        os.chdir(files_dir)\n",
    "        config_simulate_result = subprocess.run(['python', files_dir+'/config_simulate.py'], \n",
    "                                                capture_output = True, text=True)\n",
    "        !chmod +x simulate.sh\n",
    "        rsync_files_dir_result = subprocess.run(['rsync', '-r', files_dir, slurm_dir],\n",
    "                                           capture_output = True, text=True)\n",
    "        os.chdir(start_dir)\n",
    "        \n",
    "    print(\"INSTRUCTIONS:\")\n",
    "    print(\"Go to \" + slurm_dir + \" and run simulate.sh, then continue here\")\n"
   ]
  },
  {
   "cell_type": "markdown",
   "id": "22325764-302b-44f0-8210-60dedee550de",
   "metadata": {},
   "source": [
    "# Importing and visualizing simulations"
   ]
  },
  {
   "cell_type": "markdown",
   "id": "5a840738-51f3-4cff-b1a4-0c2c02947a3d",
   "metadata": {},
   "source": [
    "### Import from cluster"
   ]
  },
  {
   "cell_type": "code",
   "execution_count": 34,
   "id": "1d9e0135-a8a2-4669-b226-0bf57a6eee3f",
   "metadata": {},
   "outputs": [],
   "source": [
    "if slurm:\n",
    "    rsync_slurm_dir_result = subprocess.run(['rsync', '-r', slurm_dir+\"/\"+files_name, start_dir],\n",
    "                                       capture_output = True, text=True)"
   ]
  },
  {
   "cell_type": "markdown",
   "id": "1974a74c-323e-46b0-864d-511c575b17a4",
   "metadata": {},
   "source": [
    "### Import from local store"
   ]
  },
  {
   "cell_type": "code",
   "execution_count": 1,
   "id": "cdbb1e86-fc74-44eb-abc3-0050deadfc56",
   "metadata": {},
   "outputs": [
    {
     "ename": "NameError",
     "evalue": "name 'swyft' is not defined",
     "output_type": "error",
     "traceback": [
      "\u001b[0;31m---------------------------------------------------------------------------\u001b[0m",
      "\u001b[0;31mNameError\u001b[0m                                 Traceback (most recent call last)",
      "Cell \u001b[0;32mIn[1], line 1\u001b[0m\n\u001b[0;32m----> 1\u001b[0m store \u001b[38;5;241m=\u001b[39m \u001b[43mswyft\u001b[49m\u001b[38;5;241m.\u001b[39mZarrStore(store_dir \u001b[38;5;241m+\u001b[39m \u001b[38;5;124m\"\u001b[39m\u001b[38;5;124m/\u001b[39m\u001b[38;5;124m\"\u001b[39m \u001b[38;5;241m+\u001b[39m store_name)\n\u001b[1;32m      2\u001b[0m samples \u001b[38;5;241m=\u001b[39m store\u001b[38;5;241m.\u001b[39mget_sample_store()\n",
      "\u001b[0;31mNameError\u001b[0m: name 'swyft' is not defined"
     ]
    }
   ],
   "source": [
    "store = swyft.ZarrStore(store_dir + \"/\" + store_name)\n",
    "samples = store.get_sample_store()"
   ]
  },
  {
   "cell_type": "code",
   "execution_count": null,
   "id": "99036cf5-db45-4c6e-9a4f-9b1a554ca9dc",
   "metadata": {},
   "outputs": [],
   "source": [
    "len(samples)"
   ]
  },
  {
   "cell_type": "code",
   "execution_count": null,
   "id": "26bbf236-6f70-451b-aeba-7ce392fe13c9",
   "metadata": {},
   "outputs": [],
   "source": [
    "np.where(np.isnan(samples['data']))"
   ]
  },
  {
   "cell_type": "code",
   "execution_count": null,
   "id": "6ef88838-4ef4-4716-aa62-453100698a53",
   "metadata": {},
   "outputs": [],
   "source": [
    "inf_sims = np.where(np.isinf(samples['data']))\n",
    "print(inf_sims)"
   ]
  },
  {
   "cell_type": "code",
   "execution_count": null,
   "id": "bfd2cdc3-d855-45e4-8f51-b2afeaddc9a9",
   "metadata": {
    "scrolled": true
   },
   "outputs": [],
   "source": [
    "for inf_sim in inf_sims[0]: print(samples['data'][inf_sim])"
   ]
  },
  {
   "cell_type": "code",
   "execution_count": null,
   "id": "287c46ec-0572-4314-bee0-f1e96b4eb467",
   "metadata": {},
   "outputs": [],
   "source": [
    "for i,inf_sim in enumerate(inf_sims[0]):\n",
    "    samples['data'][inf_sim,inf_sims[1][i]] = samples['data'][inf_sim,inf_sims[1][i]-1]"
   ]
  },
  {
   "cell_type": "code",
   "execution_count": null,
   "id": "7bb7317c-4068-435c-994d-35b4f9c87e1b",
   "metadata": {},
   "outputs": [],
   "source": [
    "plt.figure(figsize=(12,4))\n",
    "for i in range(len(bounds)):\n",
    "    plt.subplot(1,len(bounds),i+1)\n",
    "    plt.hist(samples['params'][:,i])"
   ]
  },
  {
   "cell_type": "markdown",
   "id": "19ddb92a-b5e1-4fee-9905-91720ce05c41",
   "metadata": {},
   "source": [
    "Checking that two simulations from the same parameters are identical"
   ]
  },
  {
   "cell_type": "code",
   "execution_count": null,
   "id": "ef2617f7-91ba-4723-9ce6-7221647b9a8e",
   "metadata": {},
   "outputs": [],
   "source": [
    "A.configure_plot(xmin=None, xmax=None, legend=0, logx=1, logy=0)\n",
    "for i in range(min(len(samples),3)):\n",
    "    A.configure_model(params=samples[i]['params'])\n",
    "    A.import_counts(obs=samples[i]['data'],exp=samples[i]['exp'])\n",
    "    new_fig = 1 if i==0 else 0\n",
    "    A.compute_case(new_fig=new_fig,new_counts=0,color='k',linestyle=\"-\",\n",
    "                   label_exp=0,label_obs=False, errorbands=False, errors=False, plot_obs=0)\n",
    "    A.compute_case(new_fig=0,new_counts=1,color='r',linestyle=\":\",\n",
    "                   label_exp=0,label_obs=False, errorbands=False, errors=False, plot_obs=0)\n"
   ]
  },
  {
   "cell_type": "code",
   "execution_count": null,
   "id": "b8182f4e-c2b3-4969-b494-cdea10edeed2",
   "metadata": {},
   "outputs": [],
   "source": [
    "observations[i]['params']"
   ]
  },
  {
   "cell_type": "markdown",
   "id": "87be8891-eaa8-4b45-a6fe-8c27722db2a8",
   "metadata": {},
   "source": [
    "Visualizing a selection of simulations in the training set:"
   ]
  },
  {
   "cell_type": "code",
   "execution_count": null,
   "id": "534c0872-38fa-4613-aadc-fe6b83dbeac8",
   "metadata": {},
   "outputs": [],
   "source": [
    "A.configure_plot(xmin=6e1, xmax=1e3, ymin=-0.15,ymax=0.05,legend=0, logx=1, logy=0)\n",
    "for i in range(min(len(samples),100)):\n",
    "    A.configure_model(params=samples[i]['params'])\n",
    "    A.import_counts(obs=samples[i]['data'],exp=samples[i]['exp'])\n",
    "    new_fig = 1 if i==0 else 0\n",
    "    A.compute_case(new_fig=new_fig,new_counts=0,color=None,color_obs=None,linestyle=\"-\",\n",
    "                   label_exp=0,label_obs=False, errorbands=False, errors=False, plot_exp=0, transparency=0.7)\n",
    "\n",
    "\n",
    "for i,obs in enumerate(observations):\n",
    "    A.configure_model(params=obs['params'])\n",
    "    A.import_counts(obs=obs['data'],exp=obs['exp'])\n",
    "    shade = i/(len(observations)+1)\n",
    "    A.compute_case(new_fig=0,new_counts=0,color='k',color_obs=colors[i],linestyle_obs=\"-\",label_exp=0,label_obs=0,\n",
    "                   errorbands=0, errors=0, plot_exp=0)\n",
    "    A.compute_case(new_fig=0,new_counts=0,color=colors[i],color_obs=colors[i],linestyle=\":\",label_exp=0,label_obs=0,\n",
    "                        errorbands=0, errors=0, plot_obs=0) "
   ]
  },
  {
   "cell_type": "markdown",
   "id": "ed61c3d4-cf1e-456a-a65c-8469d2ee5937",
   "metadata": {},
   "source": [
    "# Training"
   ]
  },
  {
   "cell_type": "code",
   "execution_count": null,
   "id": "7b5fcc60-d0fb-43ee-b493-7ca0599cc885",
   "metadata": {},
   "outputs": [],
   "source": [
    "class Network(swyft.SwyftModule):\n",
    "    def __init__(self):\n",
    "        super().__init__()\n",
    "        self.norm = swyft.networks.OnlineStandardizingLayer(torch.Size([A.nbins]), epsilon=0)\n",
    "        self.logratios = swyft.LogRatioEstimator_1dim(\n",
    "            num_features = A.nbins, \n",
    "            num_params = len(marginals), \n",
    "            varnames = sim.A.param_names)\n",
    "        self.learning_rate = 0.0005\n",
    "    \n",
    "    def forward(self, A, B):\n",
    "        data = self.norm(A['data'])\n",
    "        return self.logratios(data, B['params'][:,marginals])"
   ]
  },
  {
   "cell_type": "code",
   "execution_count": null,
   "id": "df4dd245-d2c1-4aa0-83cf-bac779081b66",
   "metadata": {},
   "outputs": [],
   "source": [
    "network = Network()"
   ]
  },
  {
   "cell_type": "code",
   "execution_count": null,
   "id": "6303a36b-e236-4adf-948e-0e54bea3de7f",
   "metadata": {},
   "outputs": [],
   "source": [
    "wandb_logger = WandbLogger(log_model='all')"
   ]
  },
  {
   "cell_type": "code",
   "execution_count": null,
   "id": "c648ebe1-dcb1-466d-b0f5-7d54b02e7465",
   "metadata": {},
   "outputs": [],
   "source": [
    "trainer = swyft.SwyftTrainer(\n",
    "    accelerator = 'cpu', precision = 64, logger=wandb_logger #, min_epochs =25, \n",
    ")"
   ]
  },
  {
   "cell_type": "code",
   "execution_count": null,
   "id": "09f9bd23-639b-4fa2-998d-fbe0c3e95d0c",
   "metadata": {},
   "outputs": [],
   "source": [
    "dm = swyft.SwyftDataModule(samples)"
   ]
  },
  {
   "cell_type": "code",
   "execution_count": null,
   "id": "293484fc-7063-4c92-a8e9-d30bfb8be344",
   "metadata": {},
   "outputs": [],
   "source": [
    "trainer.fit(network, dm)"
   ]
  },
  {
   "cell_type": "code",
   "execution_count": null,
   "id": "6a8929bd-e928-41a7-b28c-504a2fff4316",
   "metadata": {},
   "outputs": [],
   "source": [
    "wandb.finish()"
   ]
  },
  {
   "cell_type": "markdown",
   "id": "3593bd54-db31-4d8f-aa32-945efb371abb",
   "metadata": {},
   "source": [
    "# Inference"
   ]
  },
  {
   "cell_type": "code",
   "execution_count": null,
   "id": "85cd8fbc-6163-45a9-a08a-eebe2f35e6f0",
   "metadata": {},
   "outputs": [],
   "source": [
    "prior_samples = sim.sample(100_000, targets=['params'])"
   ]
  },
  {
   "cell_type": "code",
   "execution_count": null,
   "id": "70db11b2-849f-436d-ac1b-b8e2011059d1",
   "metadata": {},
   "outputs": [],
   "source": [
    "for j in range(len(truths)):\n",
    "    logratios = trainer.infer(\n",
    "                            network,\n",
    "                            observations[j],\n",
    "                            prior_samples\n",
    "                            )\n",
    "    \n",
    "    # swyft.plot_posterior(logratios, A.param_names, truth={A.param_names[i]:truths[j][i] for i in range(len(truths[j]))})\n",
    "    swyft.plot_posterior(logratios, A.param_names[0], truth={A.param_names[i]:truths[j][i] for i in range(1)})"
   ]
  },
  {
   "cell_type": "code",
   "execution_count": null,
   "id": "3a5716e7-bfac-44a6-9c2b-4eed1493d3bf",
   "metadata": {},
   "outputs": [],
   "source": []
  }
 ],
 "metadata": {
  "kernelspec": {
   "display_name": "Python 3 (ipykernel)",
   "language": "python",
   "name": "python3"
  },
  "language_info": {
   "codemirror_mode": {
    "name": "ipython",
    "version": 3
   },
   "file_extension": ".py",
   "mimetype": "text/x-python",
   "name": "python",
   "nbconvert_exporter": "python",
   "pygments_lexer": "ipython3",
   "version": "3.9.7"
  }
 },
 "nbformat": 4,
 "nbformat_minor": 5
}
