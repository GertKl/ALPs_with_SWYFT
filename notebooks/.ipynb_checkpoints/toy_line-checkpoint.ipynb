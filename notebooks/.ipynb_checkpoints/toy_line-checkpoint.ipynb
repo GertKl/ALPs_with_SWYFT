{
 "cells": [
  {
   "cell_type": "markdown",
   "id": "761ce862-fee5-492d-b86d-fce0fd1c30ec",
   "metadata": {},
   "source": [
    "# Setup"
   ]
  },
  {
   "cell_type": "markdown",
   "id": "97bbea55-f9dc-48fb-aaff-e85e8b5cfdc8",
   "metadata": {},
   "source": [
    "Running the simulations presumes the installation of specific packages, in particular Gammapy0.19. The easiest is maybe to simply recreate my conda environment, and run this notebook from there. Download the file env_swyft3-ext.yaml, and write the following in the terminal:\n",
    "\n",
    "```\n",
    "$conda env create --file env_swyft3-ext.yaml --name swyft3\n",
    "$conda activate swyft3\n",
    "```\n",
    "Then download the IRF file *Prod5-North-20deg-AverageAz-4LSTs09MSTs.180000s-v0.1.fits* and *ALP_quick_sim.py*. If you place them in the same directory as this notebook, you should be set to run. Otherwise adapt the paths in the following cell:\n"
   ]
  },
  {
   "cell_type": "code",
   "execution_count": 19,
   "id": "c771a600-14a7-4c4d-bd5b-2af4e64e55f6",
   "metadata": {},
   "outputs": [],
   "source": [
    "import os\n",
    "irf_file = os.path.dirname(os.getcwd())+\"/IRFs/CTA/Prod5-North-20deg-AverageAz-4LSTs09MSTs.180000s-v0.1.fits\"    # The path to the IRF_file (relative to this notebook)\n",
    "ALP_file_dir = os.path.dirname(os.getcwd())+\"/analysis_scripts/ALP_sim\"             # The directory where ALP_quick_sim.py is placed. Can be empty if it's in same folder as notebook. "
   ]
  },
  {
   "cell_type": "code",
   "execution_count": 20,
   "id": "994e03df-29b3-42c3-9455-01a2de2927f0",
   "metadata": {},
   "outputs": [],
   "source": [
    "import sys\n",
    "if ALP_file_dir: sys.path.append(ALP_file_dir)   #!!! Change path to location of differential_counts.py and ALP_sim.py\n",
    "from ALP_quick_sim import ALP_sim"
   ]
  },
  {
   "cell_type": "code",
   "execution_count": 21,
   "id": "171c30bd-8fde-4b36-807e-cacb6e292a43",
   "metadata": {},
   "outputs": [],
   "source": [
    "import numpy as np"
   ]
  },
  {
   "cell_type": "code",
   "execution_count": 22,
   "id": "9b0c061b-7184-4af4-ae1f-bc4f440cbd99",
   "metadata": {},
   "outputs": [],
   "source": [
    "import matplotlib.pyplot as plt"
   ]
  },
  {
   "cell_type": "code",
   "execution_count": 23,
   "id": "d48cc91f-99bb-4801-b8d0-606a0596dde8",
   "metadata": {},
   "outputs": [],
   "source": [
    "import swyft.lightning as sl\n",
    "import swyft"
   ]
  },
  {
   "cell_type": "code",
   "execution_count": 24,
   "id": "03676462-5c2a-419c-8364-5bbd2f612591",
   "metadata": {},
   "outputs": [],
   "source": [
    "import torch\n",
    "import torch.distributions as td"
   ]
  },
  {
   "cell_type": "code",
   "execution_count": 25,
   "id": "365b5896-a01d-41db-a6b2-b49d40409c70",
   "metadata": {},
   "outputs": [],
   "source": [
    "from joblib import Parallel, delayed"
   ]
  },
  {
   "cell_type": "markdown",
   "id": "ba1d1ff0-9496-4946-a3ed-d754706e2ebe",
   "metadata": {},
   "source": [
    "# Configuration"
   ]
  },
  {
   "cell_type": "code",
   "execution_count": 26,
   "id": "a3123751-be91-4641-8fcb-d8cda8e02cf6",
   "metadata": {},
   "outputs": [],
   "source": [
    "model = \"toy_line\""
   ]
  },
  {
   "cell_type": "code",
   "execution_count": null,
   "id": "8dcfcfdc-85e0-4ea3-b4da-554d33688dfc",
   "metadata": {},
   "outputs": [],
   "source": []
  },
  {
   "cell_type": "markdown",
   "id": "33f44b0a-89bd-4870-a595-d51023d2dcf7",
   "metadata": {},
   "source": [
    "# Simulation setup (see ALP_sim tutorial)"
   ]
  },
  {
   "cell_type": "code",
   "execution_count": 27,
   "id": "0de50bde-b591-40b4-8db3-f1e1423d4963",
   "metadata": {},
   "outputs": [],
   "source": [
    "A = ALP_sim()"
   ]
  },
  {
   "cell_type": "code",
   "execution_count": 28,
   "id": "54bf5ac1-6516-476b-b071-36a954cf80a1",
   "metadata": {},
   "outputs": [],
   "source": [
    "A.configure_obs(irf_file = irf_file )"
   ]
  },
  {
   "cell_type": "code",
   "execution_count": 29,
   "id": "72681852-9884-4e89-8670-30b935cf40a3",
   "metadata": {},
   "outputs": [],
   "source": [
    "A.configure_model(ALP_seed=0)"
   ]
  },
  {
   "cell_type": "code",
   "execution_count": 30,
   "id": "40a577a6-e3ee-4777-95a3-46f5efb710b0",
   "metadata": {},
   "outputs": [],
   "source": [
    "params = [10,10]"
   ]
  },
  {
   "cell_type": "code",
   "execution_count": 31,
   "id": "89dc0f65-d7f8-486a-8dbb-eafddea076a9",
   "metadata": {},
   "outputs": [],
   "source": [
    "prior_bounds = np.array(\n",
    "    [[0,100],\n",
    "    [0,100]]\n",
    ")"
   ]
  },
  {
   "cell_type": "code",
   "execution_count": 32,
   "id": "013d0dbd-eb73-491a-95d1-426fa01e1301",
   "metadata": {},
   "outputs": [],
   "source": [
    "priors = dict(\n",
    "    m = td.Uniform(5,15),\n",
    "    g = td.Uniform(5,15)\n",
    ")"
   ]
  },
  {
   "cell_type": "code",
   "execution_count": 33,
   "id": "73be05b7-8096-4362-adac-42a0bdc285af",
   "metadata": {},
   "outputs": [],
   "source": [
    "truth = dict(\n",
    "    m = 10,\n",
    "    g = 10,\n",
    ")"
   ]
  },
  {
   "cell_type": "code",
   "execution_count": 84,
   "id": "b21bca98-ffac-4832-bb1f-e6850ed19340",
   "metadata": {},
   "outputs": [],
   "source": [
    "class Simulator(swyft.Simulator):\n",
    "    def __init__(self, A, bounds = None, model = \"\"):\n",
    "        super().__init__()\n",
    "        self.transform_samples = swyft.to_numpy32\n",
    "        self.priors = priors\n",
    "        self.truth = truth\n",
    "        \n",
    "        use_model=None\n",
    "        if model==\"\":\n",
    "            self.use_model=A.model\n",
    "        elif model==\"log\":\n",
    "            self.use_model=A.model_log\n",
    "        elif model==\"spectral_fit\":\n",
    "            self.use_model=A.model_spectral_fit\n",
    "        elif model==\"spectral_fit_log\":\n",
    "            self.use_model=A.model_spectral_fit_log\n",
    "        elif model==\"toy_line\":\n",
    "            self.use_model=A.model_toy_line\n",
    "        elif model==\"toy_sine\":\n",
    "            self.use_model=A.model_toy_sine\n",
    "        else:\n",
    "            raise ValueError(\"Invalid model specified\")\n",
    "\n",
    "        self.noise = A.noise\n",
    "    \n",
    "    def sample_prior(self,):\n",
    "        param_sample = [self.priors[key].sample() for key in self.priors.keys()]\n",
    "        return torch.tensor(param_sample)\n",
    "    \n",
    "    def generate_observation(self,):\n",
    "        vec = [self.truth[key] for key in self.truth.keys()]\n",
    "        observation = dict(data = self.generate_data())\n",
    "        return observation\n",
    "\n",
    "    def generate_exp(self,):\n",
    "        vec = self.sample_prior()\n",
    "        y = self.use_model(np.array(vec))\n",
    "        return y['y']\n",
    "\n",
    "    def generate_data(self):\n",
    "        y = {'y':self.generate_exp()}\n",
    "        data = self.noise(y, None)\n",
    "        return data['y']\n",
    "\n",
    "    def build(self, graph):\n",
    "        params = graph.node('params', self.sample_prior)\n",
    "        exp = graph.node('exp', self.generate_exp)\n",
    "        data = graph.node('data', self.generate_data)\n",
    "        "
   ]
  },
  {
   "cell_type": "code",
   "execution_count": 87,
   "id": "5c98ddc7-d01d-4ecc-95e0-d1a7a7a168d8",
   "metadata": {},
   "outputs": [],
   "source": [
    "sim = Simulator(A, model=model)"
   ]
  },
  {
   "cell_type": "code",
   "execution_count": 36,
   "id": "8556e52e-8c2f-4b76-9582-7a74f5843ea8",
   "metadata": {},
   "outputs": [
    {
     "data": {
      "application/vnd.jupyter.widget-view+json": {
       "model_id": "a34d3b8b3bf14a30a3c1abf1f5a9044c",
       "version_major": 2,
       "version_minor": 0
      },
      "text/plain": [
       "  0%|          | 0/10000 [00:00<?, ?it/s]"
      ]
     },
     "metadata": {},
     "output_type": "display_data"
    }
   ],
   "source": [
    "samples = sim.sample(10000)"
   ]
  },
  {
   "cell_type": "code",
   "execution_count": 37,
   "id": "53debb77-0148-4b9a-b6c9-ee8d8140dcdf",
   "metadata": {},
   "outputs": [
    {
     "data": {
      "text/plain": [
       "10000"
      ]
     },
     "execution_count": 37,
     "metadata": {},
     "output_type": "execute_result"
    }
   ],
   "source": [
    "len(samples)"
   ]
  },
  {
   "cell_type": "code",
   "execution_count": 38,
   "id": "e8e0a12e-f27e-4c40-861b-b954fe75e9e6",
   "metadata": {},
   "outputs": [
    {
     "name": "stdout",
     "output_type": "stream",
     "text": [
      "WARNING: Already initialized.\n"
     ]
    },
    {
     "data": {
      "text/plain": [
       "<swyft.lightning.data.ZarrStore at 0x7f063ee62580>"
      ]
     },
     "execution_count": 38,
     "metadata": {},
     "output_type": "execute_result"
    }
   ],
   "source": [
    "store = sl.ZarrStore('./test_store_big')\n",
    "store.init(\n",
    "    N = 2000,\n",
    "    chunk_size=25,\n",
    "    shapes=sim.get_shapes_and_dtypes()[0],\n",
    "    dtypes=sim.get_shapes_and_dtypes()[1],\n",
    ")"
   ]
  },
  {
   "cell_type": "code",
   "execution_count": null,
   "id": "311875ae-91eb-4f28-b404-531ad08676a4",
   "metadata": {
    "scrolled": true
   },
   "outputs": [],
   "source": []
  },
  {
   "cell_type": "code",
   "execution_count": 39,
   "id": "15346d8c-8b0c-4e9f-9a5a-3acc08c7bb32",
   "metadata": {
    "scrolled": true
   },
   "outputs": [],
   "source": [
    "def simulate(simulator, n_sims_per_cpu):\n",
    "    return store.simulate(simulator, max_sims=n_sims_per_cpu, batch_size=500)\n",
    "# ray.shutdown()"
   ]
  },
  {
   "cell_type": "code",
   "execution_count": 40,
   "id": "a66271ca-1db2-4208-a189-3cfe6e7f47af",
   "metadata": {},
   "outputs": [],
   "source": [
    "while store.sims_required > 0:\n",
    "    Parallel(n_jobs=4)(delayed(simulate)(sim, 250) for _ in range(4))"
   ]
  },
  {
   "cell_type": "code",
   "execution_count": 41,
   "id": "1f7a2a06-5210-4d45-980d-7c158e9cfc98",
   "metadata": {},
   "outputs": [],
   "source": [
    "class SimpleDenseResidualBlock(torch.nn.Sequential):\n",
    "    def __init__(self, in_channels, growth_rate):\n",
    "        super(SimpleDenseResidualBlock, self).__init__(\n",
    "            torch.nn.Conv1d(in_channels, growth_rate, kernel_size=1, padding=1),\n",
    "            torch.nn.BatchNorm1d(growth_rate),\n",
    "            torch.nn.ReLU(inplace=True),\n",
    "            torch.nn.Conv1d(growth_rate, in_channels, kernel_size=1, padding=1),\n",
    "            torch.nn.BatchNorm1d(in_channels)\n",
    "        )\n",
    " \n",
    "    def forward(self, x):\n",
    "        out = super(SimpleDenseResidualBlock, self).forward(x)\n",
    "        out = x + out  # Residual connection\n",
    "        return out"
   ]
  },
  {
   "cell_type": "code",
   "execution_count": 42,
   "id": "f281b7ea-fd23-4621-9648-8a0141515099",
   "metadata": {},
   "outputs": [],
   "source": [
    "class Network(sl.SwyftModule):\n",
    "    def __init__(self):\n",
    "        super().__init__()\n",
    "        self.CNN = torch.nn.Conv1d(in_channels=1, out_channels=1, kernel_size=4)\n",
    "        self.flatten = torch.nn.Flatten(1)\n",
    "        self.compress = torch.nn.LazyLinear(32)\n",
    "        self.logratios_1d = sl.LogRatioEstimator_1dim(num_features=32,\n",
    "                                                     num_params=2,\n",
    "                                                     hidden_features=16,\n",
    "                                                     dropout=0.2,\n",
    "                                                     varnames = 'params')\n",
    "\n",
    "    def forward(self, A, B):\n",
    "        data = self.CNN(A['data'].unsqueeze(1))\n",
    "        data = self.flatten(data)\n",
    "        data = self.compress(data)\n",
    "        params = B['params']\n",
    "        logratios = self.logratios_1d(data, params)\n",
    "        return logratios"
   ]
  },
  {
   "cell_type": "code",
   "execution_count": 102,
   "id": "7b5fcc60-d0fb-43ee-b493-7ca0599cc885",
   "metadata": {},
   "outputs": [],
   "source": [
    "class Network(swyft.SwyftModule):\n",
    "    def __init__(self):\n",
    "        super().__init__()\n",
    "        self.logratios = swyft.LogRatioEstimator_1dim(num_features = A.nbins, num_params = 2, varnames = 'z')\n",
    "        self.learning_rate = 0.0005\n",
    "\n",
    "        \n",
    "    def forward(self, A, B):\n",
    "        return self.logratios(A['data'], B['params'])"
   ]
  },
  {
   "cell_type": "code",
   "execution_count": 72,
   "id": "f6faf5b5-06fd-4ad8-aea3-2298c4ef4341",
   "metadata": {},
   "outputs": [
    {
     "data": {
      "text/plain": [
       "50"
      ]
     },
     "execution_count": 72,
     "metadata": {},
     "output_type": "execute_result"
    }
   ],
   "source": [
    "A.nbins"
   ]
  },
  {
   "cell_type": "code",
   "execution_count": 103,
   "id": "c648ebe1-dcb1-466d-b0f5-7d54b02e7465",
   "metadata": {},
   "outputs": [
    {
     "name": "stderr",
     "output_type": "stream",
     "text": [
      "GPU available: False, used: False\n",
      "TPU available: False, using: 0 TPU cores\n",
      "IPU available: False, using: 0 IPUs\n",
      "HPU available: False, using: 0 HPUs\n"
     ]
    }
   ],
   "source": [
    "trainer = sl.SwyftTrainer(\n",
    "    accelerator = 'cpu', precision = 64, min_epochs =25, \n",
    ")"
   ]
  },
  {
   "cell_type": "code",
   "execution_count": 104,
   "id": "09f9bd23-639b-4fa2-998d-fbe0c3e95d0c",
   "metadata": {},
   "outputs": [],
   "source": [
    "dm = swyft.SwyftDataModule(samples, batch_size=128)"
   ]
  },
  {
   "cell_type": "code",
   "execution_count": 75,
   "id": "f58015a8-85bf-4297-94aa-bc5f967c35df",
   "metadata": {},
   "outputs": [
    {
     "ename": "TypeError",
     "evalue": "cannot unpack non-iterable method object",
     "output_type": "error",
     "traceback": [
      "\u001b[0;31m---------------------------------------------------------------------------\u001b[0m",
      "\u001b[0;31mTypeError\u001b[0m                                 Traceback (most recent call last)",
      "Cell \u001b[0;32mIn[75], line 1\u001b[0m\n\u001b[0;32m----> 1\u001b[0m train_data, val_data \u001b[38;5;241m=\u001b[39m store\u001b[38;5;241m.\u001b[39mget_dataloader\n",
      "\u001b[0;31mTypeError\u001b[0m: cannot unpack non-iterable method object"
     ]
    }
   ],
   "source": [
    "train_data, val_data = store.get_dataloader"
   ]
  },
  {
   "cell_type": "code",
   "execution_count": 106,
   "id": "1f1ac560-ef3c-403c-8c91-68bd682dd472",
   "metadata": {},
   "outputs": [],
   "source": [
    "network = Network()"
   ]
  },
  {
   "cell_type": "code",
   "execution_count": null,
   "id": "293484fc-7063-4c92-a8e9-d30bfb8be344",
   "metadata": {},
   "outputs": [
    {
     "name": "stderr",
     "output_type": "stream",
     "text": [
      "/home/gert/anaconda3/envs/swyft4-dev/lib/python3.9/site-packages/pytorch_lightning/loops/utilities.py:94: PossibleUserWarning: `max_epochs` was not set. Setting it to 1000 epochs. To train without an epoch limit, set `max_epochs=-1`.\n",
      "  rank_zero_warn(\n",
      "The following callbacks returned in `LightningModule.configure_callbacks` will override existing callbacks passed to Trainer: ModelCheckpoint\n",
      "\n",
      "  | Name      | Type                   | Params\n",
      "-----------------------------------------------------\n",
      "0 | logratios | LogRatioEstimator_1dim | 41.1 K\n",
      "-----------------------------------------------------\n",
      "41.1 K    Trainable params\n",
      "0         Non-trainable params\n",
      "41.1 K    Total params\n",
      "0.329     Total estimated model params size (MB)\n"
     ]
    },
    {
     "data": {
      "application/vnd.jupyter.widget-view+json": {
       "model_id": "",
       "version_major": 2,
       "version_minor": 0
      },
      "text/plain": [
       "Sanity Checking: 0it [00:00, ?it/s]"
      ]
     },
     "metadata": {},
     "output_type": "display_data"
    },
    {
     "name": "stderr",
     "output_type": "stream",
     "text": [
      "/home/gert/anaconda3/envs/swyft4-dev/lib/python3.9/site-packages/pytorch_lightning/trainer/connectors/data_connector.py:224: PossibleUserWarning: The dataloader, val_dataloader 0, does not have many workers which may be a bottleneck. Consider increasing the value of the `num_workers` argument` (try 8 which is the number of cpus on this machine) in the `DataLoader` init to improve performance.\n",
      "  rank_zero_warn(\n",
      "/home/gert/anaconda3/envs/swyft4-dev/lib/python3.9/site-packages/pytorch_lightning/trainer/connectors/data_connector.py:224: PossibleUserWarning: The dataloader, train_dataloader, does not have many workers which may be a bottleneck. Consider increasing the value of the `num_workers` argument` (try 8 which is the number of cpus on this machine) in the `DataLoader` init to improve performance.\n",
      "  rank_zero_warn(\n"
     ]
    },
    {
     "data": {
      "application/vnd.jupyter.widget-view+json": {
       "model_id": "8f99c945d707432f9bf72f7b81c30f7d",
       "version_major": 2,
       "version_minor": 0
      },
      "text/plain": [
       "Training: 0it [00:00, ?it/s]"
      ]
     },
     "metadata": {},
     "output_type": "display_data"
    },
    {
     "data": {
      "application/vnd.jupyter.widget-view+json": {
       "model_id": "",
       "version_major": 2,
       "version_minor": 0
      },
      "text/plain": [
       "Validation: 0it [00:00, ?it/s]"
      ]
     },
     "metadata": {},
     "output_type": "display_data"
    },
    {
     "data": {
      "application/vnd.jupyter.widget-view+json": {
       "model_id": "",
       "version_major": 2,
       "version_minor": 0
      },
      "text/plain": [
       "Validation: 0it [00:00, ?it/s]"
      ]
     },
     "metadata": {},
     "output_type": "display_data"
    },
    {
     "data": {
      "application/vnd.jupyter.widget-view+json": {
       "model_id": "",
       "version_major": 2,
       "version_minor": 0
      },
      "text/plain": [
       "Validation: 0it [00:00, ?it/s]"
      ]
     },
     "metadata": {},
     "output_type": "display_data"
    },
    {
     "data": {
      "application/vnd.jupyter.widget-view+json": {
       "model_id": "",
       "version_major": 2,
       "version_minor": 0
      },
      "text/plain": [
       "Validation: 0it [00:00, ?it/s]"
      ]
     },
     "metadata": {},
     "output_type": "display_data"
    },
    {
     "data": {
      "application/vnd.jupyter.widget-view+json": {
       "model_id": "",
       "version_major": 2,
       "version_minor": 0
      },
      "text/plain": [
       "Validation: 0it [00:00, ?it/s]"
      ]
     },
     "metadata": {},
     "output_type": "display_data"
    },
    {
     "data": {
      "application/vnd.jupyter.widget-view+json": {
       "model_id": "",
       "version_major": 2,
       "version_minor": 0
      },
      "text/plain": [
       "Validation: 0it [00:00, ?it/s]"
      ]
     },
     "metadata": {},
     "output_type": "display_data"
    },
    {
     "data": {
      "application/vnd.jupyter.widget-view+json": {
       "model_id": "",
       "version_major": 2,
       "version_minor": 0
      },
      "text/plain": [
       "Validation: 0it [00:00, ?it/s]"
      ]
     },
     "metadata": {},
     "output_type": "display_data"
    },
    {
     "data": {
      "application/vnd.jupyter.widget-view+json": {
       "model_id": "",
       "version_major": 2,
       "version_minor": 0
      },
      "text/plain": [
       "Validation: 0it [00:00, ?it/s]"
      ]
     },
     "metadata": {},
     "output_type": "display_data"
    },
    {
     "name": "stderr",
     "output_type": "stream",
     "text": [
      "Trainer was signaled to stop but the required `min_epochs=25` or `min_steps=None` has not been met. Training will continue...\n"
     ]
    }
   ],
   "source": [
    "trainer.fit(network, dm)"
   ]
  },
  {
   "cell_type": "code",
   "execution_count": 96,
   "id": "4bbd79f7-4bd3-46fd-b94a-1ef765e36f99",
   "metadata": {},
   "outputs": [
    {
     "data": {
      "application/vnd.jupyter.widget-view+json": {
       "model_id": "4dbb6dfec1ae4d5198d5702b7dff5c12",
       "version_major": 2,
       "version_minor": 0
      },
      "text/plain": [
       "  0%|          | 0/100000 [00:00<?, ?it/s]"
      ]
     },
     "metadata": {},
     "output_type": "display_data"
    }
   ],
   "source": [
    "prior_samples = sim.sample(100_000, targets=['params'])"
   ]
  },
  {
   "cell_type": "code",
   "execution_count": 97,
   "id": "86f45ed2-8764-4656-85b5-793a8b753593",
   "metadata": {},
   "outputs": [],
   "source": [
    "observation = sim.generate_observation()\n",
    "observation = sl.Sample(observation)"
   ]
  },
  {
   "cell_type": "code",
   "execution_count": 98,
   "id": "d55a8228-d674-4278-a790-aa3f5972e251",
   "metadata": {},
   "outputs": [
    {
     "data": {
      "text/plain": [
       "Sample({'data': array([10,  7,  9, 13,  6, 15,  9, 11, 10, 18,  9, 11, 15, 16,  8, 24,  8,\n",
       "       18, 11, 11, 27, 10, 14, 14, 14, 22, 17, 21, 19, 17, 17, 17, 22, 15,\n",
       "       26, 17, 14, 13, 18, 19, 21, 17, 16, 21, 23, 19, 16, 22, 20, 13])})"
      ]
     },
     "execution_count": 98,
     "metadata": {},
     "output_type": "execute_result"
    }
   ],
   "source": [
    "observation"
   ]
  },
  {
   "cell_type": "code",
   "execution_count": 99,
   "id": "70db11b2-849f-436d-ac1b-b8e2011059d1",
   "metadata": {},
   "outputs": [
    {
     "name": "stderr",
     "output_type": "stream",
     "text": [
      "The following callbacks returned in `LightningModule.configure_callbacks` will override existing callbacks passed to Trainer: EarlyStopping, ModelCheckpoint\n"
     ]
    },
    {
     "data": {
      "application/vnd.jupyter.widget-view+json": {
       "model_id": "ba9a6264a1f643429eb3ba5386cb7d00",
       "version_major": 2,
       "version_minor": 0
      },
      "text/plain": [
       "Predicting: 63it [00:00, ?it/s]"
      ]
     },
     "metadata": {},
     "output_type": "display_data"
    }
   ],
   "source": [
    "logratios = trainer.infer(\n",
    "                        network,\n",
    "                        observation,\n",
    "                        prior_samples.get_dataloader(batch_size=2048)\n",
    "                        )"
   ]
  },
  {
   "cell_type": "code",
   "execution_count": 100,
   "id": "6de60eef-ad13-4b89-b230-eb1b7450bc3d",
   "metadata": {},
   "outputs": [
    {
     "data": {
      "text/plain": [
       "torch.Size([100000, 2, 1])"
      ]
     },
     "execution_count": 100,
     "metadata": {},
     "output_type": "execute_result"
    }
   ],
   "source": [
    "logratios.params.shape"
   ]
  },
  {
   "cell_type": "code",
   "execution_count": 101,
   "id": "91dbd5a1-9a3c-49b5-ba55-2e9de3252162",
   "metadata": {},
   "outputs": [
    {
     "data": {
      "image/png": "[encoded data removed]",
      "text/plain": [
       "<Figure size 1500x500 with 2 Axes>"
      ]
     },
     "metadata": {},
     "output_type": "display_data"
    }
   ],
   "source": [
    "fig, axs = plt.subplots(1,2, figsize=(15,5))\n",
    "for i in range(2):\n",
    "    axs[i].hist(\n",
    "        logratios.params[:,i,0],\n",
    "        density=True,\n",
    "        weights=np.exp(logratios.logratios[:,i])\n",
    "    )"
   ]
  },
  {
   "cell_type": "code",
   "execution_count": null,
   "id": "b63d20f2-0dd6-4f22-b01f-0fcc7535a5cc",
   "metadata": {},
   "outputs": [],
   "source": []
  },
  {
   "cell_type": "code",
   "execution_count": null,
   "id": "251aee08-b6a2-413d-8268-c704d8f669b0",
   "metadata": {},
   "outputs": [],
   "source": [
    "logratios.logratios[:,i]"
   ]
  },
  {
   "cell_type": "code",
   "execution_count": null,
   "id": "ed877899-3d5a-44df-934e-7296571eda93",
   "metadata": {},
   "outputs": [],
   "source": [
    "np.exp(1000)"
   ]
  },
  {
   "cell_type": "code",
   "execution_count": null,
   "id": "158d792a-bc1f-444a-8c67-0f9e88a889a0",
   "metadata": {},
   "outputs": [],
   "source": []
  },
  {
   "cell_type": "code",
   "execution_count": null,
   "id": "c6ef4387-2870-4898-96ce-8133aa1b3b43",
   "metadata": {},
   "outputs": [],
   "source": []
  },
  {
   "cell_type": "markdown",
   "id": "5e2159ba-3dfc-420b-8eb9-c1dcf2f1f79b",
   "metadata": {},
   "source": [
    "# Visualizing"
   ]
  },
  {
   "cell_type": "markdown",
   "id": "24893b4a-b468-4d8c-9c90-3d92cab9647e",
   "metadata": {},
   "source": [
    "There is also some convenient functionality for visualizing the simulations. First I configure the observations and the plots a little, so that the plots don't become too cluttered:"
   ]
  },
  {
   "cell_type": "code",
   "execution_count": null,
   "id": "6d71f64d-d745-4bcd-a85d-10d04e4cdea3",
   "metadata": {},
   "outputs": [],
   "source": [
    "A.configure_obs(livetime=0.1) #A more realistic livetimewould be maybe 250, but then you can't really see anything on the plots. \n",
    "A.configure_plot(xmax=2e4, ymin=1e-1)"
   ]
  },
  {
   "cell_type": "markdown",
   "id": "2e13b19c-380f-4006-8e46-f6015603ac16",
   "metadata": {},
   "source": [
    "You can either simulate and visualize directly..."
   ]
  },
  {
   "cell_type": "code",
   "execution_count": null,
   "id": "9861c1d5-8377-476d-b3ff-60cac854b849",
   "metadata": {},
   "outputs": [],
   "source": [
    "# Without ALPs, only expectations, not observations.\n",
    "A.configure_model(ALP_seed=None, params = [0,0])\n",
    "A.compute_case(new_fig=1,new_counts=1,plot_obs=0,color=\"k\",linestyle=\"-\",legend=1, model=\"\")\n",
    "\n",
    "# With ALPs, observations included.\n",
    "A.configure_model(params = [10,10])  # Configuring the model parameters doesn't affect the use of A.model(). Other arguments of A.configure_model() do however affect A.model. \n",
    "A.compute_case(new_fig=0,new_counts=1,plot_obs=1,color=\"r\",linestyle=\"-\",legend=1, model=\"\")"
   ]
  },
  {
   "cell_type": "markdown",
   "id": "24a3602b-2355-4e8b-a299-bff9aa79a50d",
   "metadata": {},
   "source": [
    "... or you can plot observations made earlier:"
   ]
  },
  {
   "cell_type": "code",
   "execution_count": null,
   "id": "ed61947e-1b8e-4834-9837-62abcb0fec4f",
   "metadata": {},
   "outputs": [],
   "source": [
    "# Import the results from ealier\n",
    "A.import_obs(obs=x)\n",
    "\n",
    "# Configuring the parameters is now only to make sure the labels turn out right.\n",
    "A.configure_model(params=[0,0])\n",
    "\n",
    "A.compute_case(new_fig=1,new_counts=0,plot_obs=1,color=\"k\",linestyle=\"-\",legend=1, model=\"\")\n"
   ]
  },
  {
   "cell_type": "code",
   "execution_count": null,
   "id": "202327f4-8343-463c-b1ee-eba8bfb050af",
   "metadata": {},
   "outputs": [],
   "source": []
  }
 ],
 "metadata": {
  "kernelspec": {
   "display_name": "Python 3 (ipykernel)",
   "language": "python",
   "name": "python3"
  },
  "language_info": {
   "codemirror_mode": {
    "name": "ipython",
    "version": 3
   },
   "file_extension": ".py",
   "mimetype": "text/x-python",
   "name": "python",
   "nbconvert_exporter": "python",
   "pygments_lexer": "ipython3",
   "version": "3.9.7"
  }
 },
 "nbformat": 4,
 "nbformat_minor": 5
}
