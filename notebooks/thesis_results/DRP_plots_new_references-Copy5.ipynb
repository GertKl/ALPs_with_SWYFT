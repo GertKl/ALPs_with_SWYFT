{
 "cells": [
  {
   "cell_type": "code",
   "execution_count": 1,
   "id": "7885c4b0-ccb2-49d9-b298-9fd9b7a9c88e",
   "metadata": {},
   "outputs": [],
   "source": [
    "import os\n",
    "import sys\n",
    "import numpy as np\n",
    "import swyft\n",
    "import pickle\n",
    "import matplotlib.pyplot as plt\n",
    "import torch\n",
    "import importlib\n",
    "from pytorch_lightning.loggers import WandbLogger\n",
    "from pytorch_lightning.callbacks import LearningRateMonitor\n",
    "torch.set_float32_matmul_precision('medium')\n",
    "device_notebook = \"cuda\" if torch.cuda.is_available() else \"cpu\"\n",
    "import wandb\n",
    "import copy\n",
    "from torch.multiprocessing import Pool\n",
    "torch.multiprocessing.set_start_method('spawn',force=True)\n",
    "torch.set_num_threads(28)\n",
    "import itertools\n",
    "import subprocess\n",
    "from tqdm.auto import tqdm\n",
    "sys.path.append('/home/gertwk/ALPs_with_SWYFT/analysis_scripts/ALP_sim')\n",
    "from explim_functions import generate_expected_limits\n",
    "import sympy as sy\n",
    "from scipy.stats import norm, lognorm\n",
    "from swyft.plot.mass import _get_jefferys_interval as interval\n",
    "import random"
   ]
  },
  {
   "cell_type": "code",
   "execution_count": 2,
   "id": "56feaf19-6395-4d74-a1ff-6d089c02f0fa",
   "metadata": {},
   "outputs": [],
   "source": [
    "main_dir = \"ALPs_with_SWYFT\"\n",
    "thesis_figs = os.getcwd().split(main_dir)[0]+\"/\"+main_dir+\"/thesis_figures/\""
   ]
  },
  {
   "cell_type": "code",
   "execution_count": 3,
   "id": "875729e6-31ab-4306-bc54-618e6d81cd3b",
   "metadata": {},
   "outputs": [
    {
     "name": "stderr",
     "output_type": "stream",
     "text": [
      "/home/gertwk/.conda/envs/swyft4-dev-notebook/lib/python3.9/site-packages/torch/nn/modules/lazy.py:180: UserWarning: Lazy modules are a new feature under heavy development so changes to the API or functionality can happen at any moment.\n",
      "  warnings.warn('Lazy modules are a new feature under heavy development '\n"
     ]
    }
   ],
   "source": [
    "names = ['grid_informed_power5',]\n",
    "gridpoints = [50,55]\n",
    "colors_priors = ['r','#FFA500','y','g','b', ]\n",
    "\n",
    "priors = {}\n",
    "for ip, name in enumerate(names):\n",
    "\n",
    "    priors[name] = {'name': name}\n",
    "\n",
    "    priors[name]['results_path'] = '/home/gertwk/ALPs_with_SWYFT/cluster_runs/analysis_results/'+name\n",
    "\n",
    "    priors[name]['store_path'] = priors[name]['results_path']+\"/sim_output/store\"\n",
    "\n",
    "    priors[name]['config_vars'] = priors[name]['results_path'] +'/config_variables.pickle'\n",
    "\n",
    "    priors[name]['config_phys'] = priors[name]['results_path'] +'/physics_variables.pickle'\n",
    "    \n",
    "    priors[name]['truncation_record'] = priors[name]['results_path'] +'/truncation_record.pickle'\n",
    "\n",
    "    removed_ALP_sim=0\n",
    "    try:\n",
    "        sys.path.remove('/home/gertwk/ALPs_with_SWYFT/analysis_scripts/ALP_sim')\n",
    "        removed_ALP_sim=1\n",
    "    except ValueError:\n",
    "        pass\n",
    "    try:\n",
    "        del sys.modules['ALP_quick_sim']\n",
    "    except KeyError:\n",
    "        pass\n",
    "    sys.path.append(priors[name]['results_path'])\n",
    "    import param_function\n",
    "    import ALP_quick_sim\n",
    "    with open(priors[name]['config_vars'], 'rb') as file: config_objects = pickle.load(file)\n",
    "    for key in config_objects.keys(): priors[name][key] = config_objects[key]\n",
    "    with open(priors[name]['config_phys'], 'rb') as file: config_objects = pickle.load(file)\n",
    "    for key in config_objects.keys(): priors[name][key] = config_objects[key]\n",
    "    with open(priors[name]['truncation_record'], 'rb') as file: config_objects = pickle.load(file)\n",
    "    for key in config_objects.keys(): priors[name][key] = config_objects[key]\n",
    "    sys.path.remove(priors[name]['results_path'])\n",
    "    sys.path.append(priors[name]['results_path']+'/train_output/net')\n",
    "    import network\n",
    "    sys.path.remove(priors[name]['results_path']+'/train_output/net')\n",
    "    \n",
    "    \n",
    "\n",
    "    priors[name]['net_path'] = {}\n",
    "    priors[name]['net'] = {}\n",
    "    for rnd in range(priors[name]['which_truncation']+1):\n",
    "        round = 'round_'+str(rnd)\n",
    "        priors[name]['net'][round] = {}\n",
    "        priors[name]['net_path'][round] = {}\n",
    "        for gp in gridpoints:\n",
    "            gridpoint = 'grid_point_' + str(gp)\n",
    "            priors[name]['net_path'][round][gridpoint] = (priors[name]['results_path'] + '/train_output/net/trained_network_'\n",
    "                                                             +round+'_gridpoint_'+str(int(gp))+'.pt')\n",
    "\n",
    "            count = 0\n",
    "            for combo in itertools.product(*priors[name]['hyperparams'].values()):\n",
    "                if count == gp:\n",
    "                    hyperparams_point = {}\n",
    "                    for i, key in enumerate(priors[name]['hyperparams'].keys()):\n",
    "                        hyperparams_point[key]=combo[i]\n",
    "                    break\n",
    "                count +=1\n",
    "          \n",
    "            priors[name]['net'][round][gridpoint] = network.NetworkCorner(\n",
    "                nbins=priors[name]['A'].nbins,\n",
    "                marginals=priors[name]['POI_indices'],\n",
    "                param_names=priors[name]['A'].param_names,\n",
    "                **hyperparams_point,\n",
    "            )\n",
    "            priors[name]['net'][round][gridpoint].load_state_dict(torch.load(priors[name]['net_path'][round][gridpoint]))\n",
    "\n",
    "    # with open(priors[name]['results_path']+'/explim_predictions.pickle', 'rb') as file:\n",
    "    #     priors[name]['predictions'] = pickle.load(file)\n",
    "\n",
    "    if priors[name]['which_truncation'] > 0:\n",
    "        store = swyft.ZarrStore(priors[name]['store_path'] + \"/\" + priors[name]['store_name']+\"_round_\"+str(priors[name]['which_truncation'])+\"_gridpoint_\"+str(priors[name]['which_grid_point']))\n",
    "        # store_explim = swyft.ZarrStore(priors[name]['store_path'] + \"/\" + priors[name]['store_name']+\"_explim_round_\"+str(priors[name]['which_truncation'])+\"_gridpoint_\"+str(priors[name]['which_grid_point']))\n",
    "        store_prior = swyft.ZarrStore(priors[name]['store_path'] + \"/\" + priors[name]['store_name']+\"_prior_round_\"+str(priors[name]['which_truncation'])+\"_gridpoint_\"+str(priors[name]['which_grid_point']))\n",
    "    else:\n",
    "        store = swyft.ZarrStore(priors[name]['store_path'] + \"/\" + priors[name]['store_name'])\n",
    "        # store_explim = swyft.ZarrStore(priors[name]['store_path'] + \"/\" + priors[name]['store_name']+\"_explim\")\n",
    "        store_prior = swyft.ZarrStore(priors[name]['store_path'] + \"/\" + priors[name]['store_name']+\"_prior\")\n",
    "    priors[name]['samples'] = store.get_sample_store()\n",
    "    # priors[name]['samples_explim'] = store_explim.get_sample_store()\n",
    "    priors[name]['samples_prior'] = store_prior.get_sample_store()\n",
    " \n",
    "    del sys.modules['param_function']\n",
    "    del sys.modules['ALP_quick_sim']\n",
    "    del sys.modules['network']\n",
    "    if removed_ALP_sim: sys.path.append('/home/gertwk/ALPs_with_SWYFT/analysis_scripts/ALP_sim')\n"
   ]
  },
  {
   "cell_type": "code",
   "execution_count": 4,
   "id": "339b4fe7-b2bd-4a4c-be5c-01cafebeb8e2",
   "metadata": {},
   "outputs": [
    {
     "name": "stderr",
     "output_type": "stream",
     "text": [
      "/home/gertwk/.conda/envs/swyft4-dev-notebook/lib/python3.9/site-packages/lightning_fabric/plugins/environments/slurm.py:165: PossibleUserWarning: The `srun` command is available on your system but is not used. HINT: If your intention is to run Lightning on SLURM, prepend your python command with `srun` like so: srun python /home/gertwk/.conda/envs/swyft4-dev-notebook/lib/pyt ...\n",
      "  rank_zero_warn(\n",
      "GPU available: True (cuda), used: True\n",
      "TPU available: False, using: 0 TPU cores\n",
      "IPU available: False, using: 0 IPUs\n",
      "HPU available: False, using: 0 HPUs\n"
     ]
    }
   ],
   "source": [
    "trainer = swyft.SwyftTrainer(accelerator = 'cuda', precision = 64,logger=False,)"
   ]
  },
  {
   "cell_type": "code",
   "execution_count": 5,
   "id": "72f18655-c822-47a8-b8a7-c667f7d668bd",
   "metadata": {},
   "outputs": [
    {
     "data": {
      "text/plain": [
       "['/home/gertwk/ALPs_with_SWYFT/notebooks/thesis_results',\n",
       " '/home/gertwk/.conda/envs/swyft4-dev-notebook/lib/python39.zip',\n",
       " '/home/gertwk/.conda/envs/swyft4-dev-notebook/lib/python3.9',\n",
       " '/home/gertwk/.conda/envs/swyft4-dev-notebook/lib/python3.9/lib-dynload',\n",
       " '',\n",
       " '/home/gertwk/.conda/envs/swyft4-dev-notebook/lib/python3.9/site-packages',\n",
       " '/tmp/tmpswo5xeap',\n",
       " '/home/gertwk/ALPs_with_SWYFT/analysis_scripts/ALP_sim']"
      ]
     },
     "execution_count": 5,
     "metadata": {},
     "output_type": "execute_result"
    }
   ],
   "source": [
    "sys.path"
   ]
  },
  {
   "cell_type": "code",
   "execution_count": 6,
   "id": "d7af9786-3a1b-4247-a172-23c26ce443ab",
   "metadata": {},
   "outputs": [],
   "source": [
    "def convert_pair_to_index(pair,n_indices):\n",
    "    pair = sorted(pair)\n",
    "    return int((pair[0]+1)*(n_indices-1+n_indices-pair[0]-1)/2 - n_indices + pair[1])"
   ]
  },
  {
   "cell_type": "code",
   "execution_count": 7,
   "id": "6a6d358e-2538-4bdf-883a-2da94cb5165d",
   "metadata": {},
   "outputs": [],
   "source": [
    "def weight(exp,n_bins):\n",
    "    x = np.linspace(-1,1,n_bins)\n",
    "    return 0.5+0.5*np.cos(np.pi*np.sign(x)*np.abs(x)**exp)"
   ]
  },
  {
   "cell_type": "code",
   "execution_count": 8,
   "id": "110e313d-fa3c-4992-ba22-386886c2e9bf",
   "metadata": {},
   "outputs": [],
   "source": [
    "stdnorm = norm()"
   ]
  },
  {
   "cell_type": "code",
   "execution_count": 9,
   "id": "dd91f8b9-e2ff-4af4-9069-469d589372af",
   "metadata": {},
   "outputs": [],
   "source": [
    "import time\n",
    "class Timer():\n",
    "    \n",
    "    def __init__(self):\n",
    "        self.start_time = None\n",
    "        self.stop_time = None\n",
    "    \n",
    "    def start(self):\n",
    "        self.start_time = time.time()\n",
    "        \n",
    "    def stop(self,what=\"Elapsed time\"):\n",
    "        self.stop_time = time.time()\n",
    "        h,m,s = Timer.process_time(self.stop_time-self.start_time)\n",
    "        print(what + \": \"+str(h)+\" h, \"+str(m)+\" min, \"+str(s)+\" sec.\")\n",
    "        self.start()\n",
    "\n",
    "    def check(self,what=\"Elapsed time\"):\n",
    "        checked_time = time.time()\n",
    "        if not self.start_time is None:\n",
    "            time_increment = checked_time-self.start_time\n",
    "        else:\n",
    "            raise Error('There is no start time')\n",
    "        h,m,s = Timer.process_time(time_increment)\n",
    "        print(what + \": \"+str(h)+\" h, \"+str(m)+\" min, \"+str(s)+\" sec.\")\n",
    "    \n",
    "    @staticmethod\n",
    "    def process_time(s, round=False):\n",
    "        h = int(s/3600)\n",
    "        m = int((s-3600*h)/60)\n",
    "        if round: \n",
    "            s = int(s-3600*h-60*m)\n",
    "        else: \n",
    "            s = s-3600*h-60*m\n",
    "        return h, m, s\n",
    "\n",
    "T = Timer()"
   ]
  },
  {
   "cell_type": "code",
   "execution_count": 10,
   "id": "6ef9f383-ac1e-470f-b7c1-a34e91664d60",
   "metadata": {},
   "outputs": [],
   "source": [
    "def references2D(\n",
    "    parsed_samples,\n",
    "    x_freq = None,\n",
    "    y_freq = None,\n",
    "    x_exponent = None,\n",
    "    y_exponent = None,\n",
    "    x_phase = None,\n",
    "    y_phase = None,\n",
    "    min_freq = 1,\n",
    "    max_freq = 1.4,\n",
    "    min_freq_gap = 0.15,\n",
    "    min_exponent = 0.8,\n",
    "    max_exponent = 1.5,\n",
    "    min_exponent_gap = 0.3,\n",
    "    device = 'cpu'\n",
    "):\n",
    "\n",
    "    try:\n",
    "        samples = parsed_samples['data']\n",
    "    except IndexError:\n",
    "        samples = parsed_samples\n",
    " \n",
    "    data_length = len(samples[0]) \n",
    "    start_of_range1 = np.random.randint(0,data_length)\n",
    "    end_of_range1 = (start_of_range1 + int(data_length/2)) #np.random.randint( start_of_range1+int(data_length/3) , start_of_range1+int(2*data_length/3) )\n",
    "    exp1 = np.random.uniform(0.5,2)\n",
    "    exp2 = np.random.uniform(0.5,2)\n",
    "    range1 = np.arange(start_of_range1,end_of_range1)%data_length\n",
    "    range2 = np.arange(end_of_range1,end_of_range1+(start_of_range1-end_of_range1)%data_length)%data_length\n",
    "\n",
    "    reordered_range1 = (np.concatenate([range1,range2])-int(data_length/2))%data_length\n",
    "    reordered_range2 = (np.concatenate([range2,range1])-int(data_length/2))%data_length\n",
    "    \n",
    "    weights1 = weight(exp1,data_length)[reordered_range1]\n",
    "    weights2 = weight(exp2,data_length)[reordered_range2]\n",
    "\n",
    "    #>#\n",
    "    samples1 = samples.copy()\n",
    "    samples2 = samples.copy()\n",
    "    #<#\n",
    "\n",
    "    #>#\n",
    "    bin_mins1 = np.min(samples1, axis=0)\n",
    "    bin_maxes1 = np.max(samples1, axis=0)\n",
    "    #<#\n",
    "\n",
    "    #>#\n",
    "    sums_of_standardized_bins1 = np.sum( weights1*((samples1-bin_mins1)/(bin_maxes1-bin_mins1)) ,axis=1)\n",
    "    sums_of_standardized_bins1 = np.where(np.isinf(sums_of_standardized_bins1),0,sums_of_standardized_bins1)\n",
    "    #<#\n",
    "\n",
    "    max_sum1 = np.max(sums_of_standardized_bins1)\n",
    "    min_sum1 = np.min(sums_of_standardized_bins1)\n",
    "    standardized_sums1 = (sums_of_standardized_bins1-min_sum1)/(max_sum1-min_sum1)\n",
    "\n",
    "    #>#\n",
    "    bin_mins2 = np.min(samples2, axis=0)\n",
    "    bin_maxes2 = np.max(samples2, axis=0)\n",
    "    #<#\n",
    "    \n",
    "    #>#\n",
    "    sums_of_standardized_bins2 = np.sum( weights2*((samples2-bin_mins2)/(bin_maxes2-bin_mins2)) ,axis=1)\n",
    "    #<#\n",
    "    \n",
    "    sums_of_standardized_bins2 = np.where(np.isinf(sums_of_standardized_bins2),0,sums_of_standardized_bins2)\n",
    "\n",
    "    max_sum2 = np.max(sums_of_standardized_bins2)\n",
    "    min_sum2 = np.min(sums_of_standardized_bins2)\n",
    "    standardized_sums2 = (sums_of_standardized_bins2-min_sum2)/(max_sum2-min_sum2)\n",
    "\n",
    "    #>#\n",
    "    sorted_sums1 = np.sort(standardized_sums1)\n",
    "    sorted_sums2 = np.sort(standardized_sums2)\n",
    "    #<#\n",
    "\n",
    "    n_random_indices = min(len(standardized_sums1),1000)\n",
    "    random_indices = random.sample(list(np.arange(len(standardized_sums1))), n_random_indices)\n",
    "    fitted_parameters1 = lognorm.fit(standardized_sums1[random_indices])\n",
    "    fitted_parameters2 = lognorm.fit(standardized_sums2[random_indices])\n",
    "    \n",
    "    phase_function1 = lognorm(fitted_parameters1[0], fitted_parameters1[1], fitted_parameters1[2]).cdf\n",
    "    phase_function2 = lognorm(fitted_parameters2[0], fitted_parameters2[1], fitted_parameters2[2]).cdf\n",
    "\n",
    "    #>#\n",
    "    phase_for_check1 = phase_function1(sorted_sums1)\n",
    "    phase_for_check2 = phase_function2(sorted_sums2)\n",
    "    phase1 = phase_function1(standardized_sums1)\n",
    "    phase2 = phase_function2(standardized_sums2)\n",
    "    #<#\n",
    "\n",
    "    #>#\n",
    "    if x_phase is None: x_phase = np.random.uniform(0,1)\n",
    "    if y_phase is None: y_phase = np.random.uniform(0,1)\n",
    "\n",
    "    freq_range = max_freq-min_freq\n",
    "    if x_freq is None: x_freq = np.random.uniform(min_freq,max_freq)\n",
    "    if y_freq is None: y_freq = np.random.uniform(min(x_freq+min_freq_gap,max_freq)-min_freq, freq_range+max(x_freq-min_freq-min_freq_gap,0))%(freq_range) + min_freq\n",
    "    \n",
    "    if x_exponent is None: x_exponent = np.random.uniform(min_exponent,1) if x_freq > y_freq else np.random.uniform(1,max_exponent)\n",
    "    if y_exponent is None: y_exponent = np.random.uniform(min_exponent,min(1,x_exponent-min_exponent_gap)) if x_freq < y_freq else np.random.uniform(max(1,x_exponent+min_exponent_gap),max_exponent)\n",
    "\n",
    "    x_values_for_check = 0.5 + 0.5*np.sin(2*np.pi*(( x_freq*phase_for_check1)**x_exponent + x_phase ))\n",
    "    y_values_for_check = 0.5 + 0.5*np.sin(2*np.pi*(( y_freq*phase_for_check2)**y_exponent + y_phase ))\n",
    "    \n",
    "    x_values = 0.5 + 0.5*np.sin(2*np.pi*(( x_freq*phase1)**x_exponent + x_phase ))\n",
    "    y_values = 0.5 + 0.5*np.sin(2*np.pi*(( y_freq*phase2)**y_exponent + y_phase ))\n",
    "    #<#\n",
    "\n",
    "    \n",
    "    random_variables = {\n",
    "        'range1':range1,\n",
    "        'range2':range2,\n",
    "        'x_freq':x_freq,\n",
    "        'y_freq':y_freq,\n",
    "        'x_exponent':x_exponent,\n",
    "        'y_exponent':y_exponent,\n",
    "        'x_phase':x_phase,\n",
    "        'y_phase':y_phase,\n",
    "        'sums1':standardized_sums1,\n",
    "        'sums2':standardized_sums2,\n",
    "        'sorted_sums1':sorted_sums1,\n",
    "        'sorted_sums2':sorted_sums2,\n",
    "        'fitted_parameters1': fitted_parameters1,\n",
    "        'fitted_parameters2': fitted_parameters2,\n",
    "    }\n",
    "    \n",
    "    return np.array([x_values,y_values]).transpose(), np.array([x_values_for_check,y_values_for_check]).transpose(), random_variables"
   ]
  },
  {
   "cell_type": "code",
   "execution_count": 11,
   "id": "5a44f1d2-61cc-4089-85c9-649a100b7403",
   "metadata": {},
   "outputs": [],
   "source": [
    "# %%time\n",
    "# references_2d = [\n",
    "#                 references2D(priors[name]['samples'][-1000:])[0] for _ in range(1000)\n",
    "#             ]"
   ]
  },
  {
   "cell_type": "code",
   "execution_count": 12,
   "id": "bbdac0b6-c33a-4c7d-91bf-5635dc34946a",
   "metadata": {},
   "outputs": [
    {
     "data": {
      "text/plain": [
       "400000"
      ]
     },
     "execution_count": 12,
     "metadata": {},
     "output_type": "execute_result"
    }
   ],
   "source": [
    "len(priors[name]['samples_prior'])"
   ]
  },
  {
   "cell_type": "code",
   "execution_count": 13,
   "id": "4430502f-9e21-4f1c-a073-e11163d93372",
   "metadata": {},
   "outputs": [],
   "source": [
    "try:\n",
    "    del sys.modules['DRP_test']\n",
    "except KeyError:\n",
    "    pass\n",
    "try:\n",
    "    del sys.modules['reference_functions']\n",
    "except KeyError:\n",
    "    pass\n",
    "from DRP_test import get_drp_coverage, get_drp_coverage_torch, draw_DRP_samples_fast\n",
    "from reference_functions import References\n",
    "R = References()\n",
    "references2D = R.references2D"
   ]
  },
  {
   "cell_type": "code",
   "execution_count": 14,
   "id": "56910b62-856d-4583-b95c-9524bfa9f3ea",
   "metadata": {},
   "outputs": [
    {
     "name": "stdout",
     "output_type": "stream",
     "text": [
      "CPU times: user 4 µs, sys: 0 ns, total: 4 µs\n",
      "Wall time: 9.3 µs\n"
     ]
    }
   ],
   "source": [
    "%%time\n",
    "\n",
    "def test_DRP_values(tries=3,n_samps=1000, n_prior_samps=1000, n_refs=100):\n",
    "    name = names[0]\n",
    "    which_truncation = priors[name]['which_truncation']\n",
    "    which_grid_point = priors[name]['which_grid_point']\n",
    "    POIs = priors[name]['POI_indices']\n",
    "    A = priors[name]['A']\n",
    "    bounds = np.array(priors[name]['bounds_rounds'][which_grid_point][which_truncation])\n",
    "    \n",
    "    try:\n",
    "        random_indices = random.sample(list(np.arange(n_samps*tries)), n_samps*tries)\n",
    "    except ValueError:\n",
    "        random_indices = list(np.concatenate([random.sample(list(np.arange(n_samps)), n_samps) for trial in range(tries)]))\n",
    "    try:\n",
    "        random_prior_indices = random.sample(list(np.arange(n_prior_samps*tries)), n_prior_samps*tries)\n",
    "    except ValueError:\n",
    "        random_prior_indices = list(np.concatenate([random.sample(list(np.arange(n_prior_samps)), n_prior_samps) for trial in range(tries)]))\n",
    "        \n",
    "    round = 'round_0'\n",
    "    validation_sums = {}\n",
    "    for gp in gridpoints:\n",
    "        print()\n",
    "        gridpoint = \"grid_point_\"+str(gp)\n",
    "        print('Gridpoint ' + str(gp))\n",
    "        validation_sums[gp] = np.zeros(tries)\n",
    "        for trial in range(tries):\n",
    "    \n",
    "            samples = swyft.Samples({key:val[random_indices[trial*n_samps:(trial+1)*n_samps]] for key,val in priors[name]['samples'].items()})\n",
    "            prior_samples = swyft.Samples({key:val[random_prior_indices[trial*n_prior_samps:(trial+1)*n_prior_samps]] for key,val in priors[name]['samples_prior'].items()})\n",
    "\n",
    "            draws1d,draws2d,weights1d,weights2d = draw_DRP_samples_fast(\n",
    "                priors[name]['net'][round][gridpoint],\n",
    "                trainer,\n",
    "                samples,\n",
    "                prior_samples,\n",
    "            )\n",
    "\n",
    "            key = list(draws2d.keys())[0]\n",
    "            \n",
    "            print('Computing references...', flush=True, end=\"\")\n",
    "            references_2d = [\n",
    "                references2D(samples)[0] for _ in range(n_refs)\n",
    "            ]\n",
    "            print(' done.')\n",
    "        \n",
    "            rows = len(POIs)\n",
    "\n",
    "            validation_sum = 0\n",
    "            for ref_i in range(len(references_2d)): \n",
    "                ecp_pp, alpha_pp, _, _, _,_,f_score,_ = get_drp_coverage_torch(\n",
    "                    draws2d[key],\n",
    "                    samples['params'][:,[0,1]],\n",
    "                    weights = weights2d[key],\n",
    "                    theta_names=np.array(A.param_names)[[0,1]],\n",
    "                    bounds = np.array(bounds)[[0,1]],\n",
    "                    references = references_2d[ref_i],\n",
    "                    device='cuda'\n",
    "                )\n",
    "                validation_sum += f_score/n_refs\n",
    "            \n",
    "            validation_sums[gp][trial] = validation_sum\n",
    "            \n",
    "            print(validation_sum)\n",
    "            print()\n",
    "        \n",
    "    return validation_sums\n",
    "        \n",
    "        "
   ]
  },
  {
   "cell_type": "code",
   "execution_count": 32,
   "id": "fe7d0275-90e8-4ff6-a5fc-1794d9dfca50",
   "metadata": {},
   "outputs": [],
   "source": [
    "def test_theoretical_f_stability(mock_bins=50,mock_n_per_bin=10, mock_n_ref=10_000, mock_tries=1):\n",
    "    mock_n = mock_bins*mock_n_per_bin \n",
    "    mock_alpha = np.linspace(0,1,mock_bins+1)[1:]\n",
    "    mock_dx = mock_alpha[1]-mock_alpha[0]\n",
    "    mock_upper = 1+3*mock_n_per_bin**(-0.5)\n",
    "    mock_lower = 1-3*mock_n_per_bin**(-0.5)\n",
    "    mock_uncertainty = (mock_upper-mock_lower)/2\n",
    "    mock_validation_sums = np.zeros((mock_tries,))\n",
    "    for trial in range(mock_tries):\n",
    "        print('Computing trial '+str(trial), flush=True, end='\\r')\n",
    "        mock_validation_sum = 0\n",
    "        for ref_i in range(mock_n_ref):\n",
    "            mock_f = np.random.uniform(size=(mock_n,))\n",
    "            mock_histogram = torch.histogram(torch.tensor(mock_f), density=True, bins=mock_bins ,range=(0,1))\n",
    "            mock_h = np.array(mock_histogram.hist)\n",
    "            mock_validation_sum += np.sum(((mock_h-1)/mock_uncertainty)**2)/(mock_n_ref*mock_bins)\n",
    "        mock_validation_sums[trial] = mock_validation_sum\n",
    "    print()\n",
    "    plt.hist(mock_validation_sums, density=True)\n",
    "\n",
    "    # print(mock_n)\n",
    "    # print(mock_alpha)\n",
    "    # print(mock_n_per_bin)\n",
    "    # print(mock_uncertainty)"
   ]
  },
  {
   "cell_type": "code",
   "execution_count": 36,
   "id": "10574bfd-a6e8-4470-b78c-99e405926e36",
   "metadata": {},
   "outputs": [
    {
     "name": "stdout",
     "output_type": "stream",
     "text": [
      "Computing trial 0\n",
      "1000\n",
      "[0.02 0.04 0.06 0.08 0.1  0.12 0.14 0.16 0.18 0.2  0.22 0.24 0.26 0.28\n",
      " 0.3  0.32 0.34 0.36 0.38 0.4  0.42 0.44 0.46 0.48 0.5  0.52 0.54 0.56\n",
      " 0.58 0.6  0.62 0.64 0.66 0.68 0.7  0.72 0.74 0.76 0.78 0.8  0.82 0.84\n",
      " 0.86 0.88 0.9  0.92 0.94 0.96 0.98 1.  ]\n",
      "20\n",
      "0.670820393249937\n"
     ]
    },
    {
     "data": {
      "image/png": "[encoded data removed]",
      "text/plain": [
       "<Figure size 640x480 with 1 Axes>"
      ]
     },
     "metadata": {},
     "output_type": "display_data"
    }
   ],
   "source": [
    "test_theoretical_f_stability(mock_bins=50, mock_n_ref=1, mock_tries=1, mock_n_per_bin=20)"
   ]
  },
  {
   "cell_type": "code",
   "execution_count": 37,
   "id": "fd5413f7-bdfc-4ad1-9e37-976924621f9b",
   "metadata": {},
   "outputs": [
    {
     "name": "stdout",
     "output_type": "stream",
     "text": [
      "Computing trial 999\n",
      "1000\n",
      "[0.02 0.04 0.06 0.08 0.1  0.12 0.14 0.16 0.18 0.2  0.22 0.24 0.26 0.28\n",
      " 0.3  0.32 0.34 0.36 0.38 0.4  0.42 0.44 0.46 0.48 0.5  0.52 0.54 0.56\n",
      " 0.58 0.6  0.62 0.64 0.66 0.68 0.7  0.72 0.74 0.76 0.78 0.8  0.82 0.84\n",
      " 0.86 0.88 0.9  0.92 0.94 0.96 0.98 1.  ]\n",
      "20\n",
      "0.670820393249937\n"
     ]
    },
    {
     "data": {
      "image/png": "[encoded data removed]",
      "text/plain": [
       "<Figure size 640x480 with 1 Axes>"
      ]
     },
     "metadata": {},
     "output_type": "display_data"
    }
   ],
   "source": [
    "test_theoretical_f_stability(mock_bins=50, mock_n_ref=1, mock_tries=1000, mock_n_per_bin=20)"
   ]
  },
  {
   "cell_type": "code",
   "execution_count": 16,
   "id": "1fea4b35-521d-42da-9812-07d70c8c72a5",
   "metadata": {},
   "outputs": [
    {
     "name": "stdout",
     "output_type": "stream",
     "text": [
      "Computing trial 999\n",
      "Computing trial 999\n",
      "Computing trial 999\n",
      "CPU times: user 9h 1min 9s, sys: 15.1 s, total: 9h 1min 24s\n",
      "Wall time: 19min 26s\n"
     ]
    },
    {
     "data": {
      "image/png": "[encoded data removed]",
      "text/plain": [
       "<Figure size 600x600 with 1 Axes>"
      ]
     },
     "metadata": {},
     "output_type": "display_data"
    }
   ],
   "source": [
    "%%time\n",
    "fig = plt.figure(figsize=(6,6))\n",
    "fig.add_subplot(1,1,1)\n",
    "test_theoretical_f_stability(mock_bins=50, mock_n_ref=100, mock_tries=1000, mock_n_per_bin=20)\n",
    "test_theoretical_f_stability(mock_bins=50, mock_n_ref=1000, mock_tries=1000, mock_n_per_bin=20)\n",
    "test_theoretical_f_stability(mock_bins=50, mock_n_ref=10_000, mock_tries=1000, mock_n_per_bin=20)"
   ]
  },
  {
   "cell_type": "code",
   "execution_count": 17,
   "id": "991d0ace-9938-43fd-bcaa-31c524a8e526",
   "metadata": {},
   "outputs": [
    {
     "name": "stdout",
     "output_type": "stream",
     "text": [
      "\n",
      "Gridpoint 50\n"
     ]
    },
    {
     "data": {
      "application/vnd.jupyter.widget-view+json": {
       "model_id": "4210dc6e057d4d9b94a512e567544fd7",
       "version_major": 2,
       "version_minor": 0
      },
      "text/plain": [
       "Predicting: 0it [00:00, ?it/s]"
      ]
     },
     "metadata": {},
     "output_type": "display_data"
    },
    {
     "name": "stdout",
     "output_type": "stream",
     "text": [
      "Computing references... done.\n",
      "0.10443777777777774\n",
      "\n"
     ]
    },
    {
     "data": {
      "application/vnd.jupyter.widget-view+json": {
       "model_id": "1858beb81502484a99be095040491c9c",
       "version_major": 2,
       "version_minor": 0
      },
      "text/plain": [
       "Predicting: 0it [00:00, ?it/s]"
      ]
     },
     "metadata": {},
     "output_type": "display_data"
    },
    {
     "name": "stdout",
     "output_type": "stream",
     "text": [
      "Computing references... done.\n",
      "0.10846222860623586\n",
      "\n"
     ]
    },
    {
     "data": {
      "application/vnd.jupyter.widget-view+json": {
       "model_id": "34bdacf1164143bbb75fdbf3b4513a77",
       "version_major": 2,
       "version_minor": 0
      },
      "text/plain": [
       "Predicting: 0it [00:00, ?it/s]"
      ]
     },
     "metadata": {},
     "output_type": "display_data"
    },
    {
     "name": "stdout",
     "output_type": "stream",
     "text": [
      "Computing references... done.\n",
      "0.11579693497322896\n",
      "\n"
     ]
    },
    {
     "data": {
      "application/vnd.jupyter.widget-view+json": {
       "model_id": "0e1be6e3f3134c418276754d0f3863fc",
       "version_major": 2,
       "version_minor": 0
      },
      "text/plain": [
       "Predicting: 0it [00:00, ?it/s]"
      ]
     },
     "metadata": {},
     "output_type": "display_data"
    },
    {
     "name": "stdout",
     "output_type": "stream",
     "text": [
      "Computing references... done.\n",
      "0.11203313800509442\n",
      "\n"
     ]
    },
    {
     "data": {
      "application/vnd.jupyter.widget-view+json": {
       "model_id": "92a9dbbd6baa4752b81b869abadab60f",
       "version_major": 2,
       "version_minor": 0
      },
      "text/plain": [
       "Predicting: 0it [00:00, ?it/s]"
      ]
     },
     "metadata": {},
     "output_type": "display_data"
    },
    {
     "name": "stdout",
     "output_type": "stream",
     "text": [
      "Computing references... done.\n",
      "0.10916612823433022\n",
      "\n",
      "\n",
      "Gridpoint 55\n"
     ]
    },
    {
     "data": {
      "application/vnd.jupyter.widget-view+json": {
       "model_id": "4b7d1b869798429ba0305a1437d95f92",
       "version_major": 2,
       "version_minor": 0
      },
      "text/plain": [
       "Predicting: 0it [00:00, ?it/s]"
      ]
     },
     "metadata": {},
     "output_type": "display_data"
    },
    {
     "name": "stdout",
     "output_type": "stream",
     "text": [
      "Computing references... done.\n",
      "0.1104311111111112\n",
      "\n"
     ]
    },
    {
     "data": {
      "application/vnd.jupyter.widget-view+json": {
       "model_id": "e6196768b8d64614adfca62cf1ca42ff",
       "version_major": 2,
       "version_minor": 0
      },
      "text/plain": [
       "Predicting: 0it [00:00, ?it/s]"
      ]
     },
     "metadata": {},
     "output_type": "display_data"
    },
    {
     "name": "stdout",
     "output_type": "stream",
     "text": [
      "Computing references... done.\n",
      "0.11359763442232126\n",
      "\n"
     ]
    },
    {
     "data": {
      "application/vnd.jupyter.widget-view+json": {
       "model_id": "6243707470154de49f8b9c5be5052a68",
       "version_major": 2,
       "version_minor": 0
      },
      "text/plain": [
       "Predicting: 0it [00:00, ?it/s]"
      ]
     },
     "metadata": {},
     "output_type": "display_data"
    },
    {
     "name": "stdout",
     "output_type": "stream",
     "text": [
      "Computing references... done.\n",
      "0.11340888888888895\n",
      "\n"
     ]
    },
    {
     "data": {
      "application/vnd.jupyter.widget-view+json": {
       "model_id": "1aebc62815fd4970a5063d85ecfaf593",
       "version_major": 2,
       "version_minor": 0
      },
      "text/plain": [
       "Predicting: 0it [00:00, ?it/s]"
      ]
     },
     "metadata": {},
     "output_type": "display_data"
    },
    {
     "name": "stdout",
     "output_type": "stream",
     "text": [
      "Computing references... done.\n",
      "0.1140760999841297\n",
      "\n"
     ]
    },
    {
     "data": {
      "application/vnd.jupyter.widget-view+json": {
       "model_id": "4b58f45280cc45049c111aa1778876a9",
       "version_major": 2,
       "version_minor": 0
      },
      "text/plain": [
       "Predicting: 0it [00:00, ?it/s]"
      ]
     },
     "metadata": {},
     "output_type": "display_data"
    },
    {
     "name": "stdout",
     "output_type": "stream",
     "text": [
      "Computing references... done.\n",
      "0.10925808410345618\n",
      "\n",
      "CPU times: user 4min 54s, sys: 5.02 s, total: 4min 59s\n",
      "Wall time: 3min 22s\n"
     ]
    }
   ],
   "source": [
    "%%time\n",
    "sums1 = test_DRP_values(tries = 5, n_samps=1000, n_refs=100, n_prior_samps=10_00)"
   ]
  },
  {
   "cell_type": "code",
   "execution_count": 18,
   "id": "ea3be2c9-c3fb-4d4d-ad96-7a0ba35e25f1",
   "metadata": {},
   "outputs": [
    {
     "data": {
      "image/png": "[encoded data removed]",
      "text/plain": [
       "<Figure size 600x600 with 1 Axes>"
      ]
     },
     "execution_count": 18,
     "metadata": {},
     "output_type": "execute_result"
    }
   ],
   "source": [
    "sums = sums1\n",
    "new_fig = copy.deepcopy(fig)\n",
    "for gp, gridpoint in enumerate(gridpoints):\n",
    "    color = ['r','g'][gp]\n",
    "    for s in sums[gridpoint]:\n",
    "        new_fig.axes[0].axvline(s, color=color, linestyle=':')\n",
    "new_fig"
   ]
  },
  {
   "cell_type": "code",
   "execution_count": 19,
   "id": "fc8c2261-7b73-4e15-9b0e-039f00c4b1ac",
   "metadata": {},
   "outputs": [
    {
     "name": "stdout",
     "output_type": "stream",
     "text": [
      "\n",
      "Gridpoint 50\n"
     ]
    },
    {
     "data": {
      "application/vnd.jupyter.widget-view+json": {
       "model_id": "f0c7c47614054520a024a272396d74ea",
       "version_major": 2,
       "version_minor": 0
      },
      "text/plain": [
       "Predicting: 0it [00:00, ?it/s]"
      ]
     },
     "metadata": {},
     "output_type": "display_data"
    },
    {
     "name": "stdout",
     "output_type": "stream",
     "text": [
      "Computing references... done.\n",
      "0.1051010700280355\n",
      "\n"
     ]
    },
    {
     "data": {
      "application/vnd.jupyter.widget-view+json": {
       "model_id": "32e032044a034c4ca74b599099c072eb",
       "version_major": 2,
       "version_minor": 0
      },
      "text/plain": [
       "Predicting: 0it [00:00, ?it/s]"
      ]
     },
     "metadata": {},
     "output_type": "display_data"
    },
    {
     "name": "stdout",
     "output_type": "stream",
     "text": [
      "Computing references... done.\n",
      "0.11494136687314957\n",
      "\n"
     ]
    },
    {
     "data": {
      "application/vnd.jupyter.widget-view+json": {
       "model_id": "b2584f7a19ce4a858ecb7a499e0e237f",
       "version_major": 2,
       "version_minor": 0
      },
      "text/plain": [
       "Predicting: 0it [00:00, ?it/s]"
      ]
     },
     "metadata": {},
     "output_type": "display_data"
    },
    {
     "name": "stdout",
     "output_type": "stream",
     "text": [
      "Computing references... done.\n",
      "0.11695267673596328\n",
      "\n"
     ]
    },
    {
     "data": {
      "application/vnd.jupyter.widget-view+json": {
       "model_id": "efd92907b96b49d591560a7e0180fc53",
       "version_major": 2,
       "version_minor": 0
      },
      "text/plain": [
       "Predicting: 0it [00:00, ?it/s]"
      ]
     },
     "metadata": {},
     "output_type": "display_data"
    },
    {
     "name": "stdout",
     "output_type": "stream",
     "text": [
      "Computing references... done.\n",
      "0.10743866666666671\n",
      "\n"
     ]
    },
    {
     "data": {
      "application/vnd.jupyter.widget-view+json": {
       "model_id": "b3cbd4c326e248eeabe024913571395e",
       "version_major": 2,
       "version_minor": 0
      },
      "text/plain": [
       "Predicting: 0it [00:00, ?it/s]"
      ]
     },
     "metadata": {},
     "output_type": "display_data"
    },
    {
     "name": "stdout",
     "output_type": "stream",
     "text": [
      "Computing references... done.\n",
      "0.11155758509755864\n",
      "\n",
      "\n",
      "Gridpoint 55\n"
     ]
    },
    {
     "data": {
      "application/vnd.jupyter.widget-view+json": {
       "model_id": "4fff67288a864fe685aa5e33dbef54d8",
       "version_major": 2,
       "version_minor": 0
      },
      "text/plain": [
       "Predicting: 0it [00:00, ?it/s]"
      ]
     },
     "metadata": {},
     "output_type": "display_data"
    },
    {
     "name": "stdout",
     "output_type": "stream",
     "text": [
      "Computing references... done.\n",
      "0.10560470009794024\n",
      "\n"
     ]
    },
    {
     "data": {
      "application/vnd.jupyter.widget-view+json": {
       "model_id": "c0a22b01564e4a38af369e0387788ccb",
       "version_major": 2,
       "version_minor": 0
      },
      "text/plain": [
       "Predicting: 0it [00:00, ?it/s]"
      ]
     },
     "metadata": {},
     "output_type": "display_data"
    },
    {
     "name": "stdout",
     "output_type": "stream",
     "text": [
      "Computing references... done.\n",
      "0.11448232525005833\n",
      "\n"
     ]
    },
    {
     "data": {
      "application/vnd.jupyter.widget-view+json": {
       "model_id": "cd41afe0d9af49fab8f701c876e9451e",
       "version_major": 2,
       "version_minor": 0
      },
      "text/plain": [
       "Predicting: 0it [00:00, ?it/s]"
      ]
     },
     "metadata": {},
     "output_type": "display_data"
    },
    {
     "name": "stdout",
     "output_type": "stream",
     "text": [
      "Computing references... done.\n",
      "0.11722409937442728\n",
      "\n"
     ]
    },
    {
     "data": {
      "application/vnd.jupyter.widget-view+json": {
       "model_id": "92e0c01b17524f71a22d74b9eb007d2f",
       "version_major": 2,
       "version_minor": 0
      },
      "text/plain": [
       "Predicting: 0it [00:00, ?it/s]"
      ]
     },
     "metadata": {},
     "output_type": "display_data"
    },
    {
     "name": "stdout",
     "output_type": "stream",
     "text": [
      "Computing references... done.\n",
      "0.10729600000000022\n",
      "\n"
     ]
    },
    {
     "data": {
      "application/vnd.jupyter.widget-view+json": {
       "model_id": "a4d09816245f4a138ceea22a2d699991",
       "version_major": 2,
       "version_minor": 0
      },
      "text/plain": [
       "Predicting: 0it [00:00, ?it/s]"
      ]
     },
     "metadata": {},
     "output_type": "display_data"
    },
    {
     "name": "stdout",
     "output_type": "stream",
     "text": [
      "Computing references... done.\n",
      "0.11073120338445439\n",
      "\n",
      "CPU times: user 35min 46s, sys: 9.37 s, total: 35min 55s\n",
      "Wall time: 17min 54s\n"
     ]
    }
   ],
   "source": [
    "%%time\n",
    "sums2 = test_DRP_values(tries = 5, n_samps=1000, n_refs=1000, n_prior_samps=10_00)"
   ]
  },
  {
   "cell_type": "code",
   "execution_count": 20,
   "id": "9846b082-7cf2-4ac6-8840-687851791ab8",
   "metadata": {},
   "outputs": [
    {
     "data": {
      "image/png": "[encoded data removed]",
      "text/plain": [
       "<Figure size 600x600 with 1 Axes>"
      ]
     },
     "execution_count": 20,
     "metadata": {},
     "output_type": "execute_result"
    }
   ],
   "source": [
    "sums = sums2\n",
    "new_fig = copy.deepcopy(fig)\n",
    "for gp, gridpoint in enumerate(gridpoints):\n",
    "    color = ['r','g'][gp]\n",
    "    for s in sums[gridpoint]:\n",
    "        new_fig.axes[0].axvline(s, color=color, linestyle=':')\n",
    "new_fig"
   ]
  },
  {
   "cell_type": "code",
   "execution_count": 21,
   "id": "3b0632d3-7bd5-423c-9d2a-3c35fe84d625",
   "metadata": {},
   "outputs": [
    {
     "name": "stdout",
     "output_type": "stream",
     "text": [
      "\n",
      "Gridpoint 50\n"
     ]
    },
    {
     "data": {
      "application/vnd.jupyter.widget-view+json": {
       "model_id": "8bc62e5b85094823bf2367afb7c36de1",
       "version_major": 2,
       "version_minor": 0
      },
      "text/plain": [
       "Predicting: 0it [00:00, ?it/s]"
      ]
     },
     "metadata": {},
     "output_type": "display_data"
    },
    {
     "name": "stdout",
     "output_type": "stream",
     "text": [
      "Computing references... done.\n",
      "0.1106185949235184\n",
      "\n"
     ]
    },
    {
     "data": {
      "application/vnd.jupyter.widget-view+json": {
       "model_id": "6e2f62784a54492480dc9f0ab45894a8",
       "version_major": 2,
       "version_minor": 0
      },
      "text/plain": [
       "Predicting: 0it [00:00, ?it/s]"
      ]
     },
     "metadata": {},
     "output_type": "display_data"
    },
    {
     "name": "stdout",
     "output_type": "stream",
     "text": [
      "Computing references... done.\n",
      "0.1096337666539959\n",
      "\n"
     ]
    },
    {
     "data": {
      "application/vnd.jupyter.widget-view+json": {
       "model_id": "5502935e803240a697e143f953508d1b",
       "version_major": 2,
       "version_minor": 0
      },
      "text/plain": [
       "Predicting: 0it [00:00, ?it/s]"
      ]
     },
     "metadata": {},
     "output_type": "display_data"
    },
    {
     "name": "stdout",
     "output_type": "stream",
     "text": [
      "Computing references... done.\n",
      "0.11096053286279273\n",
      "\n"
     ]
    },
    {
     "data": {
      "application/vnd.jupyter.widget-view+json": {
       "model_id": "c5507dc3740949eab41ec4c58d8fdf2e",
       "version_major": 2,
       "version_minor": 0
      },
      "text/plain": [
       "Predicting: 0it [00:00, ?it/s]"
      ]
     },
     "metadata": {},
     "output_type": "display_data"
    },
    {
     "name": "stdout",
     "output_type": "stream",
     "text": [
      "Computing references... done.\n",
      "0.10775707314938078\n",
      "\n"
     ]
    },
    {
     "data": {
      "application/vnd.jupyter.widget-view+json": {
       "model_id": "2e4bf3962cc54b13a4fc610ff74df655",
       "version_major": 2,
       "version_minor": 0
      },
      "text/plain": [
       "Predicting: 0it [00:00, ?it/s]"
      ]
     },
     "metadata": {},
     "output_type": "display_data"
    },
    {
     "name": "stdout",
     "output_type": "stream",
     "text": [
      "Computing references... done.\n",
      "0.10786693333333364\n",
      "\n",
      "\n",
      "Gridpoint 55\n"
     ]
    },
    {
     "data": {
      "application/vnd.jupyter.widget-view+json": {
       "model_id": "9f5546aaccee455da610a0dc2b8ba188",
       "version_major": 2,
       "version_minor": 0
      },
      "text/plain": [
       "Predicting: 0it [00:00, ?it/s]"
      ]
     },
     "metadata": {},
     "output_type": "display_data"
    },
    {
     "name": "stdout",
     "output_type": "stream",
     "text": [
      "Computing references... done.\n",
      "0.11141654394414092\n",
      "\n"
     ]
    },
    {
     "data": {
      "application/vnd.jupyter.widget-view+json": {
       "model_id": "9681d0c34d9d4f07b79c46c89acecc61",
       "version_major": 2,
       "version_minor": 0
      },
      "text/plain": [
       "Predicting: 0it [00:00, ?it/s]"
      ]
     },
     "metadata": {},
     "output_type": "display_data"
    },
    {
     "name": "stdout",
     "output_type": "stream",
     "text": [
      "Computing references... done.\n",
      "0.11032657933462343\n",
      "\n"
     ]
    },
    {
     "data": {
      "application/vnd.jupyter.widget-view+json": {
       "model_id": "449ff44608ba409d95a7c607b76653b5",
       "version_major": 2,
       "version_minor": 0
      },
      "text/plain": [
       "Predicting: 0it [00:00, ?it/s]"
      ]
     },
     "metadata": {},
     "output_type": "display_data"
    },
    {
     "name": "stdout",
     "output_type": "stream",
     "text": [
      "Computing references... done.\n",
      "0.10968882454847259\n",
      "\n"
     ]
    },
    {
     "data": {
      "application/vnd.jupyter.widget-view+json": {
       "model_id": "efe516d4f52f48f9982ea1a83398831b",
       "version_major": 2,
       "version_minor": 0
      },
      "text/plain": [
       "Predicting: 0it [00:00, ?it/s]"
      ]
     },
     "metadata": {},
     "output_type": "display_data"
    },
    {
     "name": "stdout",
     "output_type": "stream",
     "text": [
      "Computing references... done.\n",
      "0.10636432828880504\n",
      "\n"
     ]
    },
    {
     "data": {
      "application/vnd.jupyter.widget-view+json": {
       "model_id": "d6f2a6104d4747449228ac82a9238730",
       "version_major": 2,
       "version_minor": 0
      },
      "text/plain": [
       "Predicting: 0it [00:00, ?it/s]"
      ]
     },
     "metadata": {},
     "output_type": "display_data"
    },
    {
     "name": "stdout",
     "output_type": "stream",
     "text": [
      "Computing references... done.\n",
      "0.10935995770663343\n",
      "\n",
      "CPU times: user 5h 42min 44s, sys: 10.5 s, total: 5h 42min 54s\n",
      "Wall time: 2h 39min 1s\n"
     ]
    }
   ],
   "source": [
    "%%time\n",
    "sums3 = test_DRP_values(tries = 5, n_samps=1000, n_refs=10_000, n_prior_samps=10_00)"
   ]
  },
  {
   "cell_type": "code",
   "execution_count": 22,
   "id": "c89d4473-905c-449f-80c6-6ef3ac9008a4",
   "metadata": {},
   "outputs": [
    {
     "data": {
      "image/png": "[encoded data removed]",
      "text/plain": [
       "<Figure size 600x600 with 1 Axes>"
      ]
     },
     "execution_count": 22,
     "metadata": {},
     "output_type": "execute_result"
    }
   ],
   "source": [
    "sums = sums3\n",
    "new_fig = copy.deepcopy(fig)\n",
    "for gp, gridpoint in enumerate(gridpoints):\n",
    "    color = ['r','g'][gp]\n",
    "    for s in sums[gridpoint]:\n",
    "        new_fig.axes[0].axvline(s, color=color, linestyle=':')\n",
    "new_fig"
   ]
  },
  {
   "cell_type": "code",
   "execution_count": 23,
   "id": "e8b31ad1-0d3a-4bfa-9ae6-ae443df5d2ae",
   "metadata": {},
   "outputs": [
    {
     "name": "stdout",
     "output_type": "stream",
     "text": [
      "\n",
      "Gridpoint 50\n"
     ]
    },
    {
     "data": {
      "application/vnd.jupyter.widget-view+json": {
       "model_id": "4e20e88e518a407a82be745aaf17e8d5",
       "version_major": 2,
       "version_minor": 0
      },
      "text/plain": [
       "Predicting: 0it [00:00, ?it/s]"
      ]
     },
     "metadata": {},
     "output_type": "display_data"
    },
    {
     "name": "stdout",
     "output_type": "stream",
     "text": [
      "Computing references... done.\n",
      "0.11141111111111104\n",
      "\n"
     ]
    },
    {
     "data": {
      "application/vnd.jupyter.widget-view+json": {
       "model_id": "fafa7add090d404eaf281b9d84ef5885",
       "version_major": 2,
       "version_minor": 0
      },
      "text/plain": [
       "Predicting: 0it [00:00, ?it/s]"
      ]
     },
     "metadata": {},
     "output_type": "display_data"
    },
    {
     "name": "stdout",
     "output_type": "stream",
     "text": [
      "Computing references... done.\n",
      "0.11143999999999997\n",
      "\n"
     ]
    },
    {
     "data": {
      "application/vnd.jupyter.widget-view+json": {
       "model_id": "09ec8891db5f4a18b136bfcb43abb13a",
       "version_major": 2,
       "version_minor": 0
      },
      "text/plain": [
       "Predicting: 0it [00:00, ?it/s]"
      ]
     },
     "metadata": {},
     "output_type": "display_data"
    },
    {
     "name": "stdout",
     "output_type": "stream",
     "text": [
      "Computing references... done.\n",
      "0.10726444444444445\n",
      "\n"
     ]
    },
    {
     "data": {
      "application/vnd.jupyter.widget-view+json": {
       "model_id": "ff9d479c9035480abe25a57c4508b191",
       "version_major": 2,
       "version_minor": 0
      },
      "text/plain": [
       "Predicting: 0it [00:00, ?it/s]"
      ]
     },
     "metadata": {},
     "output_type": "display_data"
    },
    {
     "name": "stdout",
     "output_type": "stream",
     "text": [
      "Computing references... done.\n",
      "0.1096488888888888\n",
      "\n"
     ]
    },
    {
     "data": {
      "application/vnd.jupyter.widget-view+json": {
       "model_id": "a2c281e0a19d46688a5ece923ae8f8bc",
       "version_major": 2,
       "version_minor": 0
      },
      "text/plain": [
       "Predicting: 0it [00:00, ?it/s]"
      ]
     },
     "metadata": {},
     "output_type": "display_data"
    },
    {
     "name": "stdout",
     "output_type": "stream",
     "text": [
      "Computing references... done.\n",
      "0.1110777777777778\n",
      "\n",
      "\n",
      "Gridpoint 55\n"
     ]
    },
    {
     "data": {
      "application/vnd.jupyter.widget-view+json": {
       "model_id": "adf2abec2bf943e6a5f14240bf7fcdbb",
       "version_major": 2,
       "version_minor": 0
      },
      "text/plain": [
       "Predicting: 0it [00:00, ?it/s]"
      ]
     },
     "metadata": {},
     "output_type": "display_data"
    },
    {
     "name": "stdout",
     "output_type": "stream",
     "text": [
      "Computing references... done.\n",
      "0.11224888888888901\n",
      "\n"
     ]
    },
    {
     "data": {
      "application/vnd.jupyter.widget-view+json": {
       "model_id": "aedd7e162aef4a17bb7363b385a7992a",
       "version_major": 2,
       "version_minor": 0
      },
      "text/plain": [
       "Predicting: 0it [00:00, ?it/s]"
      ]
     },
     "metadata": {},
     "output_type": "display_data"
    },
    {
     "name": "stdout",
     "output_type": "stream",
     "text": [
      "Computing references... done.\n",
      "0.10986000000000001\n",
      "\n"
     ]
    },
    {
     "data": {
      "application/vnd.jupyter.widget-view+json": {
       "model_id": "353f93b538c24ccbb954848c00b0e910",
       "version_major": 2,
       "version_minor": 0
      },
      "text/plain": [
       "Predicting: 0it [00:00, ?it/s]"
      ]
     },
     "metadata": {},
     "output_type": "display_data"
    },
    {
     "name": "stdout",
     "output_type": "stream",
     "text": [
      "Computing references... done.\n",
      "0.1074911111111111\n",
      "\n"
     ]
    },
    {
     "data": {
      "application/vnd.jupyter.widget-view+json": {
       "model_id": "ed8c80b42a8142818d750b8f640c44c2",
       "version_major": 2,
       "version_minor": 0
      },
      "text/plain": [
       "Predicting: 0it [00:00, ?it/s]"
      ]
     },
     "metadata": {},
     "output_type": "display_data"
    },
    {
     "name": "stdout",
     "output_type": "stream",
     "text": [
      "Computing references... done.\n",
      "0.11280444444444442\n",
      "\n"
     ]
    },
    {
     "data": {
      "application/vnd.jupyter.widget-view+json": {
       "model_id": "b62949a2b9514bc396eeb406f1296722",
       "version_major": 2,
       "version_minor": 0
      },
      "text/plain": [
       "Predicting: 0it [00:00, ?it/s]"
      ]
     },
     "metadata": {},
     "output_type": "display_data"
    },
    {
     "name": "stdout",
     "output_type": "stream",
     "text": [
      "Computing references... done.\n",
      "0.11024222222222217\n",
      "\n",
      "CPU times: user 1h 31min 28s, sys: 7min 56s, total: 1h 39min 25s\n",
      "Wall time: 1h 35min 54s\n"
     ]
    }
   ],
   "source": [
    "%%time\n",
    "sums4 = test_DRP_values(tries = 5, n_samps=1000, n_refs=100, n_prior_samps=400_00)"
   ]
  },
  {
   "cell_type": "code",
   "execution_count": 24,
   "id": "f1a09ed0-741f-49b2-b871-b394a4c723be",
   "metadata": {},
   "outputs": [
    {
     "data": {
      "image/png": "[encoded data removed]",
      "text/plain": [
       "<Figure size 600x600 with 1 Axes>"
      ]
     },
     "execution_count": 24,
     "metadata": {},
     "output_type": "execute_result"
    }
   ],
   "source": [
    "sums = sums4\n",
    "new_fig = copy.deepcopy(fig)\n",
    "for gp, gridpoint in enumerate(gridpoints):\n",
    "    color = ['r','g'][gp]\n",
    "    for s in sums[gridpoint]:\n",
    "        new_fig.axes[0].axvline(s, color=color, linestyle=':')\n",
    "new_fig"
   ]
  },
  {
   "cell_type": "code",
   "execution_count": 25,
   "id": "d8d43aa8-a984-4205-af0d-2225b526f62e",
   "metadata": {},
   "outputs": [
    {
     "name": "stdout",
     "output_type": "stream",
     "text": [
      "\n",
      "Gridpoint 50\n"
     ]
    },
    {
     "data": {
      "application/vnd.jupyter.widget-view+json": {
       "model_id": "a8dc1d07acde49e59d2fdfa0d1a1a242",
       "version_major": 2,
       "version_minor": 0
      },
      "text/plain": [
       "Predicting: 0it [00:00, ?it/s]"
      ]
     },
     "metadata": {},
     "output_type": "display_data"
    },
    {
     "name": "stdout",
     "output_type": "stream",
     "text": [
      "Computing references... done.\n",
      "0.1096808888888889\n",
      "\n"
     ]
    },
    {
     "data": {
      "application/vnd.jupyter.widget-view+json": {
       "model_id": "963b7beabc41464bb50c7a3ed4eff213",
       "version_major": 2,
       "version_minor": 0
      },
      "text/plain": [
       "Predicting: 0it [00:00, ?it/s]"
      ]
     },
     "metadata": {},
     "output_type": "display_data"
    },
    {
     "name": "stdout",
     "output_type": "stream",
     "text": [
      "Computing references... done.\n",
      "0.1079722222222222\n",
      "\n"
     ]
    },
    {
     "data": {
      "application/vnd.jupyter.widget-view+json": {
       "model_id": "bca567a1778740afb64c3da5296530e2",
       "version_major": 2,
       "version_minor": 0
      },
      "text/plain": [
       "Predicting: 0it [00:00, ?it/s]"
      ]
     },
     "metadata": {},
     "output_type": "display_data"
    },
    {
     "name": "stdout",
     "output_type": "stream",
     "text": [
      "Computing references... done.\n",
      "0.11275733333333336\n",
      "\n"
     ]
    },
    {
     "data": {
      "application/vnd.jupyter.widget-view+json": {
       "model_id": "d5721a49bafb4c5d99a9e3e5999ec7ac",
       "version_major": 2,
       "version_minor": 0
      },
      "text/plain": [
       "Predicting: 0it [00:00, ?it/s]"
      ]
     },
     "metadata": {},
     "output_type": "display_data"
    },
    {
     "name": "stdout",
     "output_type": "stream",
     "text": [
      "Computing references... done.\n",
      "0.10809866666666668\n",
      "\n"
     ]
    },
    {
     "data": {
      "application/vnd.jupyter.widget-view+json": {
       "model_id": "0f1ba731bfc347de81e81e2433a06896",
       "version_major": 2,
       "version_minor": 0
      },
      "text/plain": [
       "Predicting: 0it [00:00, ?it/s]"
      ]
     },
     "metadata": {},
     "output_type": "display_data"
    },
    {
     "name": "stdout",
     "output_type": "stream",
     "text": [
      "Computing references... done.\n",
      "0.1089659999999999\n",
      "\n",
      "\n",
      "Gridpoint 55\n"
     ]
    },
    {
     "data": {
      "application/vnd.jupyter.widget-view+json": {
       "model_id": "07ce349ae5c34f449f40c23d7f085e58",
       "version_major": 2,
       "version_minor": 0
      },
      "text/plain": [
       "Predicting: 0it [00:00, ?it/s]"
      ]
     },
     "metadata": {},
     "output_type": "display_data"
    },
    {
     "name": "stdout",
     "output_type": "stream",
     "text": [
      "Computing references... done.\n",
      "0.10689177777777768\n",
      "\n"
     ]
    },
    {
     "data": {
      "application/vnd.jupyter.widget-view+json": {
       "model_id": "5fcb0eb530e949ccb2d4824d527a78de",
       "version_major": 2,
       "version_minor": 0
      },
      "text/plain": [
       "Predicting: 0it [00:00, ?it/s]"
      ]
     },
     "metadata": {},
     "output_type": "display_data"
    },
    {
     "name": "stdout",
     "output_type": "stream",
     "text": [
      "Computing references... done.\n",
      "0.10691466666666664\n",
      "\n"
     ]
    },
    {
     "data": {
      "application/vnd.jupyter.widget-view+json": {
       "model_id": "1fe971583c6140bd92242ef93fc300a8",
       "version_major": 2,
       "version_minor": 0
      },
      "text/plain": [
       "Predicting: 0it [00:00, ?it/s]"
      ]
     },
     "metadata": {},
     "output_type": "display_data"
    },
    {
     "name": "stdout",
     "output_type": "stream",
     "text": [
      "Computing references... done.\n",
      "0.11284555555555563\n",
      "\n"
     ]
    },
    {
     "data": {
      "application/vnd.jupyter.widget-view+json": {
       "model_id": "f0bda7a770904d2aa5e3005b2e751dd2",
       "version_major": 2,
       "version_minor": 0
      },
      "text/plain": [
       "Predicting: 0it [00:00, ?it/s]"
      ]
     },
     "metadata": {},
     "output_type": "display_data"
    },
    {
     "name": "stdout",
     "output_type": "stream",
     "text": [
      "Computing references... done.\n",
      "0.10814644444444435\n",
      "\n"
     ]
    },
    {
     "data": {
      "application/vnd.jupyter.widget-view+json": {
       "model_id": "0590912a8eef4da58b578817346b1bef",
       "version_major": 2,
       "version_minor": 0
      },
      "text/plain": [
       "Predicting: 0it [00:00, ?it/s]"
      ]
     },
     "metadata": {},
     "output_type": "display_data"
    },
    {
     "name": "stdout",
     "output_type": "stream",
     "text": [
      "Computing references... done.\n",
      "0.10668555555555573\n",
      "\n",
      "CPU times: user 3h 19min 2s, sys: 5min 59s, total: 3h 25min 2s\n",
      "Wall time: 2h 57min 8s\n"
     ]
    }
   ],
   "source": [
    "%%time\n",
    "sums5 = test_DRP_values(tries = 5, n_samps=1000, n_refs=1_000, n_prior_samps=400_00)"
   ]
  },
  {
   "cell_type": "code",
   "execution_count": 26,
   "id": "697f17fa-93d2-4349-9ecf-8c898c172687",
   "metadata": {},
   "outputs": [
    {
     "data": {
      "image/png": "[encoded data removed]",
      "text/plain": [
       "<Figure size 600x600 with 1 Axes>"
      ]
     },
     "execution_count": 26,
     "metadata": {},
     "output_type": "execute_result"
    }
   ],
   "source": [
    "sums = sums5\n",
    "new_fig = copy.deepcopy(fig)\n",
    "for gp, gridpoint in enumerate(gridpoints):\n",
    "    color = ['r','g'][gp]\n",
    "    for s in sums[gridpoint]:\n",
    "        new_fig.axes[0].axvline(s, color=color, linestyle=':')\n",
    "new_fig"
   ]
  },
  {
   "cell_type": "code",
   "execution_count": 27,
   "id": "5279a1b1-d9b5-4ec4-8dfc-671915bb5d0f",
   "metadata": {},
   "outputs": [
    {
     "name": "stdout",
     "output_type": "stream",
     "text": [
      "\n",
      "Gridpoint 50\n"
     ]
    },
    {
     "data": {
      "application/vnd.jupyter.widget-view+json": {
       "model_id": "03186892656847b5bd08389d39cf9686",
       "version_major": 2,
       "version_minor": 0
      },
      "text/plain": [
       "Predicting: 0it [00:00, ?it/s]"
      ]
     },
     "metadata": {},
     "output_type": "display_data"
    },
    {
     "name": "stdout",
     "output_type": "stream",
     "text": [
      "Computing references... done.\n",
      "0.10674479999999995\n",
      "\n"
     ]
    },
    {
     "data": {
      "application/vnd.jupyter.widget-view+json": {
       "model_id": "0854448abee6432380b8f58f9f8a4b5d",
       "version_major": 2,
       "version_minor": 0
      },
      "text/plain": [
       "Predicting: 0it [00:00, ?it/s]"
      ]
     },
     "metadata": {},
     "output_type": "display_data"
    },
    {
     "name": "stdout",
     "output_type": "stream",
     "text": [
      "Computing references... done.\n",
      "0.10749502222222213\n",
      "\n"
     ]
    },
    {
     "data": {
      "application/vnd.jupyter.widget-view+json": {
       "model_id": "d9351de9f19841638253be96710fd824",
       "version_major": 2,
       "version_minor": 0
      },
      "text/plain": [
       "Predicting: 0it [00:00, ?it/s]"
      ]
     },
     "metadata": {},
     "output_type": "display_data"
    },
    {
     "name": "stdout",
     "output_type": "stream",
     "text": [
      "Computing references... done.\n",
      "0.10864291111111109\n",
      "\n"
     ]
    },
    {
     "data": {
      "application/vnd.jupyter.widget-view+json": {
       "model_id": "786090d39ac24e21bb7ef589b908abdd",
       "version_major": 2,
       "version_minor": 0
      },
      "text/plain": [
       "Predicting: 0it [00:00, ?it/s]"
      ]
     },
     "metadata": {},
     "output_type": "display_data"
    },
    {
     "name": "stdout",
     "output_type": "stream",
     "text": [
      "Computing references... done.\n",
      "0.10834517777777748\n",
      "\n"
     ]
    },
    {
     "data": {
      "application/vnd.jupyter.widget-view+json": {
       "model_id": "1df73d2c7f54481b9e35e192a02306d7",
       "version_major": 2,
       "version_minor": 0
      },
      "text/plain": [
       "Predicting: 0it [00:00, ?it/s]"
      ]
     },
     "metadata": {},
     "output_type": "display_data"
    },
    {
     "name": "stdout",
     "output_type": "stream",
     "text": [
      "Computing references... done.\n",
      "0.10951311111111096\n",
      "\n",
      "\n",
      "Gridpoint 55\n"
     ]
    },
    {
     "data": {
      "application/vnd.jupyter.widget-view+json": {
       "model_id": "7e04cedd37104ea690fd12f81c037fcd",
       "version_major": 2,
       "version_minor": 0
      },
      "text/plain": [
       "Predicting: 0it [00:00, ?it/s]"
      ]
     },
     "metadata": {},
     "output_type": "display_data"
    },
    {
     "name": "stdout",
     "output_type": "stream",
     "text": [
      "Computing references... done.\n",
      "0.10680597777777787\n",
      "\n"
     ]
    },
    {
     "data": {
      "application/vnd.jupyter.widget-view+json": {
       "model_id": "25ac5422585f4320b1d6bd86e47471ec",
       "version_major": 2,
       "version_minor": 0
      },
      "text/plain": [
       "Predicting: 0it [00:00, ?it/s]"
      ]
     },
     "metadata": {},
     "output_type": "display_data"
    },
    {
     "name": "stdout",
     "output_type": "stream",
     "text": [
      "Computing references... done.\n",
      "0.10784042222222145\n",
      "\n"
     ]
    },
    {
     "data": {
      "application/vnd.jupyter.widget-view+json": {
       "model_id": "c344e730e98a4b74bcf65e66a7f568dc",
       "version_major": 2,
       "version_minor": 0
      },
      "text/plain": [
       "Predicting: 0it [00:00, ?it/s]"
      ]
     },
     "metadata": {},
     "output_type": "display_data"
    },
    {
     "name": "stdout",
     "output_type": "stream",
     "text": [
      "Computing references... done.\n",
      "0.1074108222222225\n",
      "\n"
     ]
    },
    {
     "data": {
      "application/vnd.jupyter.widget-view+json": {
       "model_id": "8784e39490dc40e5ad1b556e7b7c8616",
       "version_major": 2,
       "version_minor": 0
      },
      "text/plain": [
       "Predicting: 0it [00:00, ?it/s]"
      ]
     },
     "metadata": {},
     "output_type": "display_data"
    },
    {
     "name": "stdout",
     "output_type": "stream",
     "text": [
      "Computing references... done.\n",
      "0.10776402222222183\n",
      "\n"
     ]
    },
    {
     "data": {
      "application/vnd.jupyter.widget-view+json": {
       "model_id": "6e07f82f04c0455a91a247b3998cab08",
       "version_major": 2,
       "version_minor": 0
      },
      "text/plain": [
       "Predicting: 0it [00:00, ?it/s]"
      ]
     },
     "metadata": {},
     "output_type": "display_data"
    },
    {
     "name": "stdout",
     "output_type": "stream",
     "text": [
      "Computing references... done.\n",
      "0.11006037777777805\n",
      "\n",
      "CPU times: user 11h 44min 13s, sys: 5min 19s, total: 11h 49min 33s\n",
      "Wall time: 7h 16min 42s\n"
     ]
    }
   ],
   "source": [
    "%%time\n",
    "sums6 = test_DRP_values(tries = 5, n_samps=1000, n_refs=10_000, n_prior_samps=400_00)"
   ]
  },
  {
   "cell_type": "code",
   "execution_count": 28,
   "id": "c9f27efe-30c9-4e1a-adfb-41fcdc1f7e54",
   "metadata": {},
   "outputs": [
    {
     "data": {
      "image/png": "[encoded data removed]",
      "text/plain": [
       "<Figure size 600x600 with 1 Axes>"
      ]
     },
     "execution_count": 28,
     "metadata": {},
     "output_type": "execute_result"
    }
   ],
   "source": [
    "sums = sums6\n",
    "new_fig = copy.deepcopy(fig)\n",
    "for gp, gridpoint in enumerate(gridpoints):\n",
    "    color = ['r','g'][gp]\n",
    "    for s in sums[gridpoint]:\n",
    "        new_fig.axes[0].axvline(s, color=color, linestyle=':')\n",
    "new_fig"
   ]
  },
  {
   "cell_type": "code",
   "execution_count": null,
   "id": "ece8bde2-743e-40ef-a66d-b28a5a503d35",
   "metadata": {},
   "outputs": [],
   "source": []
  },
  {
   "cell_type": "code",
   "execution_count": null,
   "id": "d1fecb4a-9c51-4a3e-b9de-d16ed5bb1d43",
   "metadata": {},
   "outputs": [],
   "source": []
  }
 ],
 "metadata": {
  "kernelspec": {
   "display_name": "Python 3 (ipykernel)",
   "language": "python",
   "name": "python3"
  },
  "language_info": {
   "codemirror_mode": {
    "name": "ipython",
    "version": 3
   },
   "file_extension": ".py",
   "mimetype": "text/x-python",
   "name": "python",
   "nbconvert_exporter": "python",
   "pygments_lexer": "ipython3",
   "version": "3.9.7"
  }
 },
 "nbformat": 4,
 "nbformat_minor": 5
}
