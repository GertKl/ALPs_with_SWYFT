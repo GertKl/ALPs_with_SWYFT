{
 "cells": [
  {
   "cell_type": "code",
   "execution_count": 8,
   "id": "7885c4b0-ccb2-49d9-b298-9fd9b7a9c88e",
   "metadata": {},
   "outputs": [],
   "source": [
    "import os\n",
    "import sys\n",
    "import numpy as np\n",
    "import swyft\n",
    "import pickle\n",
    "import matplotlib.pyplot as plt\n",
    "import torch\n",
    "import importlib\n",
    "from pytorch_lightning.loggers import WandbLogger\n",
    "from pytorch_lightning.callbacks import LearningRateMonitor\n",
    "torch.set_float32_matmul_precision('medium')\n",
    "device_notebook = \"cuda\" if torch.cuda.is_available() else \"cpu\"\n",
    "import wandb\n",
    "import copy\n",
    "from torch.multiprocessing import Pool\n",
    "torch.multiprocessing.set_start_method('spawn',force=True)\n",
    "torch.set_num_threads(28)\n",
    "import itertools\n",
    "import subprocess\n",
    "from tqdm.auto import tqdm\n",
    "sys.path.append('/home/gertwk/ALPs_with_SWYFT/analysis_scripts/ALP_sim')\n",
    "from explim_functions import generate_expected_limits\n",
    "import sympy as sy\n",
    "from scipy.stats import norm, lognorm\n",
    "from swyft.plot.mass import _get_jefferys_interval as interval\n",
    "import random"
   ]
  },
  {
   "cell_type": "code",
   "execution_count": 9,
   "id": "56feaf19-6395-4d74-a1ff-6d089c02f0fa",
   "metadata": {},
   "outputs": [],
   "source": [
    "main_dir = \"ALPs_with_SWYFT\"\n",
    "thesis_figs = os.getcwd().split(main_dir)[0]+\"/\"+main_dir+\"/thesis_figures/\""
   ]
  },
  {
   "cell_type": "code",
   "execution_count": 10,
   "id": "875729e6-31ab-4306-bc54-618e6d81cd3b",
   "metadata": {},
   "outputs": [
    {
     "name": "stderr",
     "output_type": "stream",
     "text": [
      "/home/gertwk/.conda/envs/swyft4-dev-notebook/lib/python3.9/site-packages/torch/nn/modules/lazy.py:180: UserWarning: Lazy modules are a new feature under heavy development so changes to the API or functionality can happen at any moment.\n",
      "  warnings.warn('Lazy modules are a new feature under heavy development '\n"
     ]
    }
   ],
   "source": [
    "names = ['grid_informed_power5',]\n",
    "gridpoints = [50,55]\n",
    "colors_priors = ['r','#FFA500','y','g','b', ]\n",
    "\n",
    "priors = {}\n",
    "for ip, name in enumerate(names):\n",
    "\n",
    "    priors[name] = {'name': name}\n",
    "\n",
    "    priors[name]['results_path'] = '/home/gertwk/ALPs_with_SWYFT/cluster_runs/analysis_results/'+name\n",
    "\n",
    "    priors[name]['store_path'] = priors[name]['results_path']+\"/sim_output/store\"\n",
    "\n",
    "    priors[name]['config_vars'] = priors[name]['results_path'] +'/config_variables.pickle'\n",
    "\n",
    "    priors[name]['config_phys'] = priors[name]['results_path'] +'/physics_variables.pickle'\n",
    "    \n",
    "    priors[name]['truncation_record'] = priors[name]['results_path'] +'/truncation_record.pickle'\n",
    "\n",
    "    removed_ALP_sim=0\n",
    "    try:\n",
    "        sys.path.remove('/home/gertwk/ALPs_with_SWYFT/analysis_scripts/ALP_sim')\n",
    "        removed_ALP_sim=1\n",
    "    except ValueError:\n",
    "        pass\n",
    "    try:\n",
    "        del sys.modules['ALP_quick_sim']\n",
    "    except KeyError:\n",
    "        pass\n",
    "    sys.path.append(priors[name]['results_path'])\n",
    "    import param_function\n",
    "    import ALP_quick_sim\n",
    "    with open(priors[name]['config_vars'], 'rb') as file: config_objects = pickle.load(file)\n",
    "    for key in config_objects.keys(): priors[name][key] = config_objects[key]\n",
    "    with open(priors[name]['config_phys'], 'rb') as file: config_objects = pickle.load(file)\n",
    "    for key in config_objects.keys(): priors[name][key] = config_objects[key]\n",
    "    with open(priors[name]['truncation_record'], 'rb') as file: config_objects = pickle.load(file)\n",
    "    for key in config_objects.keys(): priors[name][key] = config_objects[key]\n",
    "    sys.path.remove(priors[name]['results_path'])\n",
    "    sys.path.append(priors[name]['results_path']+'/train_output/net')\n",
    "    import network\n",
    "    sys.path.remove(priors[name]['results_path']+'/train_output/net')\n",
    "    \n",
    "    \n",
    "\n",
    "    priors[name]['net_path'] = {}\n",
    "    priors[name]['net'] = {}\n",
    "    for rnd in range(priors[name]['which_truncation']+1):\n",
    "        round = 'round_'+str(rnd)\n",
    "        priors[name]['net'][round] = {}\n",
    "        priors[name]['net_path'][round] = {}\n",
    "        for gp in gridpoints:\n",
    "            gridpoint = 'grid_point_' + str(gp)\n",
    "            priors[name]['net_path'][round][gridpoint] = (priors[name]['results_path'] + '/train_output/net/trained_network_'\n",
    "                                                             +round+'_gridpoint_'+str(int(gp))+'.pt')\n",
    "\n",
    "            count = 0\n",
    "            for combo in itertools.product(*priors[name]['hyperparams'].values()):\n",
    "                if count == gp:\n",
    "                    hyperparams_point = {}\n",
    "                    for i, key in enumerate(priors[name]['hyperparams'].keys()):\n",
    "                        hyperparams_point[key]=combo[i]\n",
    "                    break\n",
    "                count +=1\n",
    "          \n",
    "            priors[name]['net'][round][gridpoint] = network.NetworkCorner(\n",
    "                nbins=priors[name]['A'].nbins,\n",
    "                marginals=priors[name]['POI_indices'],\n",
    "                param_names=priors[name]['A'].param_names,\n",
    "                **hyperparams_point,\n",
    "            )\n",
    "            priors[name]['net'][round][gridpoint].load_state_dict(torch.load(priors[name]['net_path'][round][gridpoint]))\n",
    "\n",
    "    # with open(priors[name]['results_path']+'/explim_predictions.pickle', 'rb') as file:\n",
    "    #     priors[name]['predictions'] = pickle.load(file)\n",
    "\n",
    "    if priors[name]['which_truncation'] > 0:\n",
    "        store = swyft.ZarrStore(priors[name]['store_path'] + \"/\" + priors[name]['store_name']+\"_round_\"+str(priors[name]['which_truncation'])+\"_gridpoint_\"+str(priors[name]['which_grid_point']))\n",
    "        # store_explim = swyft.ZarrStore(priors[name]['store_path'] + \"/\" + priors[name]['store_name']+\"_explim_round_\"+str(priors[name]['which_truncation'])+\"_gridpoint_\"+str(priors[name]['which_grid_point']))\n",
    "        store_prior = swyft.ZarrStore(priors[name]['store_path'] + \"/\" + priors[name]['store_name']+\"_prior_round_\"+str(priors[name]['which_truncation'])+\"_gridpoint_\"+str(priors[name]['which_grid_point']))\n",
    "    else:\n",
    "        store = swyft.ZarrStore(priors[name]['store_path'] + \"/\" + priors[name]['store_name'])\n",
    "        # store_explim = swyft.ZarrStore(priors[name]['store_path'] + \"/\" + priors[name]['store_name']+\"_explim\")\n",
    "        store_prior = swyft.ZarrStore(priors[name]['store_path'] + \"/\" + priors[name]['store_name']+\"_prior\")\n",
    "    priors[name]['samples'] = store.get_sample_store()\n",
    "    # priors[name]['samples_explim'] = store_explim.get_sample_store()\n",
    "    priors[name]['samples_prior'] = store_prior.get_sample_store()\n",
    " \n",
    "    del sys.modules['param_function']\n",
    "    del sys.modules['ALP_quick_sim']\n",
    "    del sys.modules['network']\n",
    "    if removed_ALP_sim: sys.path.append('/home/gertwk/ALPs_with_SWYFT/analysis_scripts/ALP_sim')\n"
   ]
  },
  {
   "cell_type": "code",
   "execution_count": 11,
   "id": "339b4fe7-b2bd-4a4c-be5c-01cafebeb8e2",
   "metadata": {},
   "outputs": [
    {
     "name": "stderr",
     "output_type": "stream",
     "text": [
      "/home/gertwk/.conda/envs/swyft4-dev-notebook/lib/python3.9/site-packages/lightning_fabric/plugins/environments/slurm.py:165: PossibleUserWarning: The `srun` command is available on your system but is not used. HINT: If your intention is to run Lightning on SLURM, prepend your python command with `srun` like so: srun python /home/gertwk/.conda/envs/swyft4-dev-notebook/lib/pyt ...\n",
      "  rank_zero_warn(\n",
      "GPU available: True (cuda), used: True\n",
      "TPU available: False, using: 0 TPU cores\n",
      "IPU available: False, using: 0 IPUs\n",
      "HPU available: False, using: 0 HPUs\n"
     ]
    }
   ],
   "source": [
    "trainer = swyft.SwyftTrainer(accelerator = 'cuda', precision = 64,logger=False,)"
   ]
  },
  {
   "cell_type": "code",
   "execution_count": 12,
   "id": "72f18655-c822-47a8-b8a7-c667f7d668bd",
   "metadata": {},
   "outputs": [
    {
     "data": {
      "text/plain": [
       "['/home/gertwk/ALPs_with_SWYFT/notebooks/thesis_results',\n",
       " '/home/gertwk/.conda/envs/swyft4-dev-notebook/lib/python39.zip',\n",
       " '/home/gertwk/.conda/envs/swyft4-dev-notebook/lib/python3.9',\n",
       " '/home/gertwk/.conda/envs/swyft4-dev-notebook/lib/python3.9/lib-dynload',\n",
       " '',\n",
       " '/home/gertwk/.conda/envs/swyft4-dev-notebook/lib/python3.9/site-packages',\n",
       " '/tmp/tmpc1yr59sh',\n",
       " '/home/gertwk/ALPs_with_SWYFT/analysis_scripts/ALP_sim']"
      ]
     },
     "execution_count": 12,
     "metadata": {},
     "output_type": "execute_result"
    }
   ],
   "source": [
    "sys.path"
   ]
  },
  {
   "cell_type": "code",
   "execution_count": 13,
   "id": "d7af9786-3a1b-4247-a172-23c26ce443ab",
   "metadata": {},
   "outputs": [],
   "source": [
    "def convert_pair_to_index(pair,n_indices):\n",
    "    pair = sorted(pair)\n",
    "    return int((pair[0]+1)*(n_indices-1+n_indices-pair[0]-1)/2 - n_indices + pair[1])"
   ]
  },
  {
   "cell_type": "code",
   "execution_count": 14,
   "id": "6a6d358e-2538-4bdf-883a-2da94cb5165d",
   "metadata": {},
   "outputs": [],
   "source": [
    "def weight(exp,n_bins):\n",
    "    x = np.linspace(-1,1,n_bins)\n",
    "    return 0.5+0.5*np.cos(np.pi*np.sign(x)*np.abs(x)**exp)"
   ]
  },
  {
   "cell_type": "code",
   "execution_count": 15,
   "id": "110e313d-fa3c-4992-ba22-386886c2e9bf",
   "metadata": {},
   "outputs": [],
   "source": [
    "stdnorm = norm()"
   ]
  },
  {
   "cell_type": "code",
   "execution_count": 25,
   "id": "dd91f8b9-e2ff-4af4-9069-469d589372af",
   "metadata": {},
   "outputs": [],
   "source": [
    "import time\n",
    "class Timer():\n",
    "    \n",
    "    def __init__(self):\n",
    "        self.start_time = None\n",
    "        self.stop_time = None\n",
    "    \n",
    "    def start(self):\n",
    "        self.start_time = time.time()\n",
    "        \n",
    "    def stop(self,what=\"Elapsed time\"):\n",
    "        self.stop_time = time.time()\n",
    "        h,m,s = Timer.process_time(self.stop_time-self.start_time)\n",
    "        print(what + \": \"+str(h)+\" h, \"+str(m)+\" min, \"+str(s)+\" sec.\")\n",
    "        self.start()\n",
    "\n",
    "    def check(self,what=\"Elapsed time\"):\n",
    "        checked_time = time.time()\n",
    "        if not self.start_time is None:\n",
    "            time_increment = checked_time-self.start_time\n",
    "        else:\n",
    "            raise Error('There is no start time')\n",
    "        h,m,s = Timer.process_time(time_increment)\n",
    "        print(what + \": \"+str(h)+\" h, \"+str(m)+\" min, \"+str(s)+\" sec.\")\n",
    "    \n",
    "    @staticmethod\n",
    "    def process_time(s, round=False):\n",
    "        h = int(s/3600)\n",
    "        m = int((s-3600*h)/60)\n",
    "        if round: \n",
    "            s = int(s-3600*h-60*m)\n",
    "        else: \n",
    "            s = s-3600*h-60*m\n",
    "        return h, m, s\n",
    "\n",
    "T = Timer()"
   ]
  },
  {
   "cell_type": "code",
   "execution_count": 97,
   "id": "6ef9f383-ac1e-470f-b7c1-a34e91664d60",
   "metadata": {},
   "outputs": [],
   "source": [
    "def references2D(\n",
    "    parsed_samples,\n",
    "    x_freq = None,\n",
    "    y_freq = None,\n",
    "    x_exponent = None,\n",
    "    y_exponent = None,\n",
    "    x_phase = None,\n",
    "    y_phase = None,\n",
    "    min_freq = 1,\n",
    "    max_freq = 1.4,\n",
    "    min_freq_gap = 0.15,\n",
    "    min_exponent = 0.8,\n",
    "    max_exponent = 1.5,\n",
    "    min_exponent_gap = 0.3,\n",
    "    device = 'cpu'\n",
    "):\n",
    "\n",
    "    try:\n",
    "        samples = parsed_samples['data']\n",
    "    except IndexError:\n",
    "        samples = parsed_samples\n",
    " \n",
    "    data_length = len(samples[0]) \n",
    "    start_of_range1 = np.random.randint(0,data_length)\n",
    "    end_of_range1 = (start_of_range1 + int(data_length/2)) #np.random.randint( start_of_range1+int(data_length/3) , start_of_range1+int(2*data_length/3) )\n",
    "    exp1 = np.random.uniform(0.5,2)\n",
    "    exp2 = np.random.uniform(0.5,2)\n",
    "    range1 = np.arange(start_of_range1,end_of_range1)%data_length\n",
    "    range2 = np.arange(end_of_range1,end_of_range1+(start_of_range1-end_of_range1)%data_length)%data_length\n",
    "\n",
    "    reordered_range1 = (np.concatenate([range1,range2])-int(data_length/2))%data_length\n",
    "    reordered_range2 = (np.concatenate([range2,range1])-int(data_length/2))%data_length\n",
    "    \n",
    "    weights1 = weight(exp1,data_length)[reordered_range1]\n",
    "    weights2 = weight(exp2,data_length)[reordered_range2]\n",
    "\n",
    "    #>#\n",
    "    samples1 = samples.copy()\n",
    "    samples2 = samples.copy()\n",
    "    #<#\n",
    "\n",
    "    #>#\n",
    "    bin_mins1 = np.min(samples1, axis=0)\n",
    "    bin_maxes1 = np.max(samples1, axis=0)\n",
    "    #<#\n",
    "\n",
    "    #>#\n",
    "    sums_of_standardized_bins1 = np.sum( weights1*((samples1-bin_mins1)/(bin_maxes1-bin_mins1)) ,axis=1)\n",
    "    sums_of_standardized_bins1 = np.where(np.isinf(sums_of_standardized_bins1),0,sums_of_standardized_bins1)\n",
    "    #<#\n",
    "\n",
    "    max_sum1 = np.max(sums_of_standardized_bins1)\n",
    "    min_sum1 = np.min(sums_of_standardized_bins1)\n",
    "    standardized_sums1 = (sums_of_standardized_bins1-min_sum1)/(max_sum1-min_sum1)\n",
    "\n",
    "    #>#\n",
    "    bin_mins2 = np.min(samples2, axis=0)\n",
    "    bin_maxes2 = np.max(samples2, axis=0)\n",
    "    #<#\n",
    "    \n",
    "    #>#\n",
    "    sums_of_standardized_bins2 = np.sum( weights2*((samples2-bin_mins2)/(bin_maxes2-bin_mins2)) ,axis=1)\n",
    "    #<#\n",
    "    \n",
    "    sums_of_standardized_bins2 = np.where(np.isinf(sums_of_standardized_bins2),0,sums_of_standardized_bins2)\n",
    "\n",
    "    max_sum2 = np.max(sums_of_standardized_bins2)\n",
    "    min_sum2 = np.min(sums_of_standardized_bins2)\n",
    "    standardized_sums2 = (sums_of_standardized_bins2-min_sum2)/(max_sum2-min_sum2)\n",
    "\n",
    "    #>#\n",
    "    sorted_sums1 = np.sort(standardized_sums1)\n",
    "    sorted_sums2 = np.sort(standardized_sums2)\n",
    "    #<#\n",
    "\n",
    "    n_random_indices = min(len(standardized_sums1),1000)\n",
    "    random_indices = random.sample(list(np.arange(len(standardized_sums1))), n_random_indices)\n",
    "    fitted_parameters1 = lognorm.fit(standardized_sums1[random_indices])\n",
    "    fitted_parameters2 = lognorm.fit(standardized_sums2[random_indices])\n",
    "    \n",
    "    phase_function1 = lognorm(fitted_parameters1[0], fitted_parameters1[1], fitted_parameters1[2]).cdf\n",
    "    phase_function2 = lognorm(fitted_parameters2[0], fitted_parameters2[1], fitted_parameters2[2]).cdf\n",
    "\n",
    "    #>#\n",
    "    phase_for_check1 = phase_function1(sorted_sums1)\n",
    "    phase_for_check2 = phase_function2(sorted_sums2)\n",
    "    phase1 = phase_function1(standardized_sums1)\n",
    "    phase2 = phase_function2(standardized_sums2)\n",
    "    #<#\n",
    "\n",
    "    #>#\n",
    "    if x_phase is None: x_phase = np.random.uniform(0,1)\n",
    "    if y_phase is None: y_phase = np.random.uniform(0,1)\n",
    "\n",
    "    freq_range = max_freq-min_freq\n",
    "    if x_freq is None: x_freq = np.random.uniform(min_freq,max_freq)\n",
    "    if y_freq is None: y_freq = np.random.uniform(min(x_freq+min_freq_gap,max_freq)-min_freq, freq_range+max(x_freq-min_freq-min_freq_gap,0))%(freq_range) + min_freq\n",
    "    \n",
    "    if x_exponent is None: x_exponent = np.random.uniform(min_exponent,1) if x_freq > y_freq else np.random.uniform(1,max_exponent)\n",
    "    if y_exponent is None: y_exponent = np.random.uniform(min_exponent,min(1,x_exponent-min_exponent_gap)) if x_freq < y_freq else np.random.uniform(max(1,x_exponent+min_exponent_gap),max_exponent)\n",
    "\n",
    "    x_values_for_check = 0.5 + 0.5*np.sin(2*np.pi*(( x_freq*phase_for_check1)**x_exponent + x_phase ))\n",
    "    y_values_for_check = 0.5 + 0.5*np.sin(2*np.pi*(( y_freq*phase_for_check2)**y_exponent + y_phase ))\n",
    "    \n",
    "    x_values = 0.5 + 0.5*np.sin(2*np.pi*(( x_freq*phase1)**x_exponent + x_phase ))\n",
    "    y_values = 0.5 + 0.5*np.sin(2*np.pi*(( y_freq*phase2)**y_exponent + y_phase ))\n",
    "    #<#\n",
    "\n",
    "    \n",
    "    random_variables = {\n",
    "        'range1':range1,\n",
    "        'range2':range2,\n",
    "        'x_freq':x_freq,\n",
    "        'y_freq':y_freq,\n",
    "        'x_exponent':x_exponent,\n",
    "        'y_exponent':y_exponent,\n",
    "        'x_phase':x_phase,\n",
    "        'y_phase':y_phase,\n",
    "        'sums1':standardized_sums1,\n",
    "        'sums2':standardized_sums2,\n",
    "        'sorted_sums1':sorted_sums1,\n",
    "        'sorted_sums2':sorted_sums2,\n",
    "        'fitted_parameters1': fitted_parameters1,\n",
    "        'fitted_parameters2': fitted_parameters2,\n",
    "    }\n",
    "    \n",
    "    return np.array([x_values,y_values]).transpose(), np.array([x_values_for_check,y_values_for_check]).transpose(), random_variables"
   ]
  },
  {
   "cell_type": "code",
   "execution_count": 102,
   "id": "5a44f1d2-61cc-4089-85c9-649a100b7403",
   "metadata": {},
   "outputs": [
    {
     "name": "stdout",
     "output_type": "stream",
     "text": [
      "CPU times: user 1min 33s, sys: 46.3 ms, total: 1min 33s\n",
      "Wall time: 1min 33s\n"
     ]
    }
   ],
   "source": [
    "# %%time\n",
    "# references_2d = [\n",
    "#                 references2D(priors[name]['samples'][-1000:])[0] for _ in range(1000)\n",
    "#             ]"
   ]
  },
  {
   "cell_type": "code",
   "execution_count": 17,
   "id": "bbdac0b6-c33a-4c7d-91bf-5635dc34946a",
   "metadata": {},
   "outputs": [
    {
     "data": {
      "text/plain": [
       "400000"
      ]
     },
     "execution_count": 17,
     "metadata": {},
     "output_type": "execute_result"
    }
   ],
   "source": [
    "len(priors[name]['samples_prior'])"
   ]
  },
  {
   "cell_type": "code",
   "execution_count": 147,
   "id": "4430502f-9e21-4f1c-a073-e11163d93372",
   "metadata": {},
   "outputs": [],
   "source": [
    "try:\n",
    "    del sys.modules['DRP_test']\n",
    "except KeyError:\n",
    "    pass\n",
    "from DRP_test import get_drp_coverage, get_drp_coverage_torch, draw_DRP_samples_fast"
   ]
  },
  {
   "cell_type": "code",
   "execution_count": 120,
   "id": "56910b62-856d-4583-b95c-9524bfa9f3ea",
   "metadata": {},
   "outputs": [
    {
     "name": "stdout",
     "output_type": "stream",
     "text": [
      "CPU times: user 22 µs, sys: 0 ns, total: 22 µs\n",
      "Wall time: 28.6 µs\n"
     ]
    }
   ],
   "source": [
    "%%time\n",
    "\n",
    "def test_DRP_values(tries=3,n_samps=1000, n_prior_samps=1000, n_refs=100):\n",
    "    name = names[0]\n",
    "    which_truncation = priors[name]['which_truncation']\n",
    "    which_grid_point = priors[name]['which_grid_point']\n",
    "    POIs = priors[name]['POI_indices']\n",
    "    A = priors[name]['A']\n",
    "    bounds = np.array(priors[name]['bounds_rounds'][which_grid_point][which_truncation])\n",
    "    \n",
    "    try:\n",
    "        random_indices = random.sample(list(np.arange(n_samps*tries)), n_samps*tries)\n",
    "    except ValueError:\n",
    "        random_indices = list(np.concatenate([random.sample(list(np.arange(n_samps)), n_samps) for trial in range(tries)]))\n",
    "    try:\n",
    "        random_prior_indices = random.sample(list(np.arange(n_prior_samps*tries)), n_prior_samps*tries)\n",
    "    except ValueError:\n",
    "        random_prior_indices = list(np.concatenate([random.sample(list(np.arange(n_prior_samps)), n_prior_samps) for trial in range(tries)]))\n",
    "        \n",
    "    round = 'round_0'\n",
    "    validation_sums = {}\n",
    "    for gp in gridpoints:\n",
    "        print()\n",
    "        gridpoint = \"grid_point_\"+str(gp)\n",
    "        print('Gridpoint ' + str(gp))\n",
    "        validation_sums[gp] = np.zeros(tries)\n",
    "        for trial in range(tries):\n",
    "    \n",
    "            samples = swyft.Samples({key:val[random_indices[trial*n_samps:(trial+1)*n_samps]] for key,val in priors[name]['samples'].items()})\n",
    "            prior_samples = swyft.Samples({key:val[random_prior_indices[trial*n_prior_samps:(trial+1)*n_prior_samps]] for key,val in priors[name]['samples_prior'].items()})\n",
    "\n",
    "            draws1d,draws2d,weights1d,weights2d = draw_DRP_samples_fast(\n",
    "                priors[name]['net'][round][gridpoint],\n",
    "                trainer,\n",
    "                samples,\n",
    "                prior_samples,\n",
    "            )\n",
    "\n",
    "            key = list(draws2d.keys())[0]\n",
    "            \n",
    "            print('Computing references...', flush=True, end=\"\")\n",
    "            references_2d = [\n",
    "                references2D(samples)[0] for _ in range(n_refs)\n",
    "            ]\n",
    "            print(' done.')\n",
    "        \n",
    "            rows = len(POIs)\n",
    "\n",
    "            validation_sum = 0\n",
    "            for ref_i in range(len(references_2d)): \n",
    "                ecp_pp, alpha_pp, _, _, _,_,f_score,_ = get_drp_coverage_torch(\n",
    "                    draws2d[key],\n",
    "                    samples['params'][:,[0,1]],\n",
    "                    weights = weights2d[key],\n",
    "                    theta_names=np.array(A.param_names)[[0,1]],\n",
    "                    bounds = np.array(bounds)[[0,1]],\n",
    "                    references = references_2d[ref_i],\n",
    "                    device='cuda'\n",
    "                )\n",
    "                \n",
    "                validation_sum += f_score/n_refs\n",
    "            \n",
    "            validation_sums[gp][trial] = validation_sum\n",
    "            \n",
    "            print(validation_sum)\n",
    "            print()\n",
    "        \n",
    "    return validation_sums\n",
    "        \n",
    "        "
   ]
  },
  {
   "cell_type": "code",
   "execution_count": 154,
   "id": "fe7d0275-90e8-4ff6-a5fc-1794d9dfca50",
   "metadata": {},
   "outputs": [],
   "source": [
    "def test_theoretical_f_stability(mock_bins=50,mock_n_per_bin=10, mock_n_ref=10_000, mock_tries=1):\n",
    "    mock_n = mock_bins*mock_n_per_bin \n",
    "    mock_alpha = np.linspace(0,1,mock_bins+1)[1:]\n",
    "    mock_dx = mock_alpha[1]-mock_alpha[0]\n",
    "    mock_upper = 1+3*mock_n_per_bin**(-0.5)\n",
    "    mock_lower = 1-3*mock_n_per_bin**(-0.5)\n",
    "    mock_uncertainty = (mock_upper-mock_lower)/2\n",
    "    mock_validation_sums = np.zeros((mock_tries,))\n",
    "    for trial in range(mock_tries):\n",
    "        print('Computing trial '+str(trial), flush=True, end='\\r')\n",
    "        mock_validation_sum = 0\n",
    "        for ref_i in range(mock_n_ref):\n",
    "            mock_f = np.random.uniform(size=(int(np.round(mock_n)),))\n",
    "            mock_histogram = torch.histogram(torch.tensor(mock_f), density=True, bins=mock_bins ,range=(0,1))\n",
    "            mock_h = np.array(mock_histogram.hist)\n",
    "            mock_validation_sum += np.sum(((mock_h-1)/mock_uncertainty)**2)/(mock_n_ref*mock_bins)\n",
    "        mock_validation_sums[trial] = mock_validation_sum\n",
    "    print()\n",
    "    plt.hist(mock_validation_sums, density=True)"
   ]
  },
  {
   "cell_type": "code",
   "execution_count": 155,
   "id": "1fea4b35-521d-42da-9812-07d70c8c72a5",
   "metadata": {},
   "outputs": [
    {
     "name": "stdout",
     "output_type": "stream",
     "text": [
      "Computing trial 999\n",
      "Computing trial 999\n",
      "CPU times: user 58min 27s, sys: 1.86 s, total: 58min 29s\n",
      "Wall time: 2min 5s\n"
     ]
    },
    {
     "data": {
      "image/png": "[encoded data removed]",
      "text/plain": [
       "<Figure size 600x600 with 1 Axes>"
      ]
     },
     "metadata": {},
     "output_type": "display_data"
    }
   ],
   "source": [
    "%%time\n",
    "fig = plt.figure(figsize=(6,6))\n",
    "fig.add_subplot(1,1,1)\n",
    "test_theoretical_f_stability(mock_bins=49, mock_n_ref=100, mock_tries=1000, mock_n_per_bin=1000/49.)\n",
    "test_theoretical_f_stability(mock_bins=49, mock_n_ref=1000, mock_tries=1000, mock_n_per_bin=1000/49.)\n",
    "# test_theoretical_f_stability(mock_bins=49, mock_n_ref=10_000, mock_tries=1000, mock_n_per_bin=20)"
   ]
  },
  {
   "cell_type": "code",
   "execution_count": 148,
   "id": "10a9583d-d2d4-443a-8a6e-d17c4d175306",
   "metadata": {},
   "outputs": [
    {
     "name": "stdout",
     "output_type": "stream",
     "text": [
      "\n",
      "Gridpoint 50\n"
     ]
    },
    {
     "data": {
      "application/vnd.jupyter.widget-view+json": {
       "model_id": "ee51c80ea0d94355919a998aa1db45ab",
       "version_major": 2,
       "version_minor": 0
      },
      "text/plain": [
       "Predicting: 0it [00:00, ?it/s]"
      ]
     },
     "metadata": {},
     "output_type": "display_data"
    },
    {
     "name": "stdout",
     "output_type": "stream",
     "text": [
      "Computing references... done.\n",
      "1000\n",
      "[0.   0.02 0.04 0.06 0.08 0.1  0.12 0.14 0.16 0.18 0.2  0.22 0.24 0.26\n",
      " 0.28 0.3  0.32 0.34 0.36 0.38 0.4  0.42 0.44 0.46 0.48 0.5  0.52 0.54\n",
      " 0.56 0.58 0.6  0.62 0.64 0.66 0.68 0.7  0.72 0.74 0.76 0.78 0.8  0.82\n",
      " 0.84 0.86 0.88 0.9  0.92 0.94 0.96 0.98 1.  ]\n",
      "20.0\n",
      "0.6708203932499369\n",
      "0.13866666666666647\n",
      "\n",
      "\n",
      "Gridpoint 55\n"
     ]
    },
    {
     "data": {
      "application/vnd.jupyter.widget-view+json": {
       "model_id": "98d4a70536274b5282d0af5bf9ddbc10",
       "version_major": 2,
       "version_minor": 0
      },
      "text/plain": [
       "Predicting: 0it [00:00, ?it/s]"
      ]
     },
     "metadata": {},
     "output_type": "display_data"
    },
    {
     "name": "stdout",
     "output_type": "stream",
     "text": [
      "Computing references... done.\n",
      "1000\n",
      "[0.   0.02 0.04 0.06 0.08 0.1  0.12 0.14 0.16 0.18 0.2  0.22 0.24 0.26\n",
      " 0.28 0.3  0.32 0.34 0.36 0.38 0.4  0.42 0.44 0.46 0.48 0.5  0.52 0.54\n",
      " 0.56 0.58 0.6  0.62 0.64 0.66 0.68 0.7  0.72 0.74 0.76 0.78 0.8  0.82\n",
      " 0.84 0.86 0.88 0.9  0.92 0.94 0.96 0.98 1.  ]\n",
      "20.0\n",
      "0.6708203932499369\n",
      "0.1184444444444445\n",
      "\n",
      "CPU times: user 23.8 s, sys: 494 ms, total: 24.3 s\n",
      "Wall time: 23.8 s\n"
     ]
    }
   ],
   "source": [
    "%%time\n",
    "_ = test_DRP_values(tries = 1, n_samps=1000, n_refs=1, n_prior_samps=10_00)"
   ]
  },
  {
   "cell_type": "code",
   "execution_count": 127,
   "id": "991d0ace-9938-43fd-bcaa-31c524a8e526",
   "metadata": {},
   "outputs": [
    {
     "name": "stdout",
     "output_type": "stream",
     "text": [
      "\n",
      "Gridpoint 50\n"
     ]
    },
    {
     "data": {
      "application/vnd.jupyter.widget-view+json": {
       "model_id": "799162bf22bb42319d6019e01fc3116f",
       "version_major": 2,
       "version_minor": 0
      },
      "text/plain": [
       "Predicting: 0it [00:00, ?it/s]"
      ]
     },
     "metadata": {},
     "output_type": "display_data"
    },
    {
     "name": "stdout",
     "output_type": "stream",
     "text": [
      "Computing references... done.\n",
      "0.11443299061829723\n",
      "\n"
     ]
    },
    {
     "data": {
      "application/vnd.jupyter.widget-view+json": {
       "model_id": "57a13f4a735843e2818486b2814eb4fe",
       "version_major": 2,
       "version_minor": 0
      },
      "text/plain": [
       "Predicting: 0it [00:00, ?it/s]"
      ]
     },
     "metadata": {},
     "output_type": "display_data"
    },
    {
     "name": "stdout",
     "output_type": "stream",
     "text": [
      "Computing references... done.\n",
      "0.11074444444444441\n",
      "\n"
     ]
    },
    {
     "data": {
      "application/vnd.jupyter.widget-view+json": {
       "model_id": "e36c3b5b06aa4128bbdbf15bf8bc6505",
       "version_major": 2,
       "version_minor": 0
      },
      "text/plain": [
       "Predicting: 0it [00:00, ?it/s]"
      ]
     },
     "metadata": {},
     "output_type": "display_data"
    },
    {
     "name": "stdout",
     "output_type": "stream",
     "text": [
      "Computing references... done.\n",
      "0.11487807292778265\n",
      "\n"
     ]
    },
    {
     "data": {
      "application/vnd.jupyter.widget-view+json": {
       "model_id": "5dec96afda954755967531b459d2d018",
       "version_major": 2,
       "version_minor": 0
      },
      "text/plain": [
       "Predicting: 0it [00:00, ?it/s]"
      ]
     },
     "metadata": {},
     "output_type": "display_data"
    },
    {
     "name": "stdout",
     "output_type": "stream",
     "text": [
      "Computing references... done.\n",
      "0.10538537002133928\n",
      "\n"
     ]
    },
    {
     "data": {
      "application/vnd.jupyter.widget-view+json": {
       "model_id": "57fdeb5b99d94d249b88c9378e095e0e",
       "version_major": 2,
       "version_minor": 0
      },
      "text/plain": [
       "Predicting: 0it [00:00, ?it/s]"
      ]
     },
     "metadata": {},
     "output_type": "display_data"
    },
    {
     "name": "stdout",
     "output_type": "stream",
     "text": [
      "Computing references... done.\n",
      "0.10972888888888886\n",
      "\n",
      "\n",
      "Gridpoint 55\n"
     ]
    },
    {
     "data": {
      "application/vnd.jupyter.widget-view+json": {
       "model_id": "a44d526059434b1385cf8ece5940c3dd",
       "version_major": 2,
       "version_minor": 0
      },
      "text/plain": [
       "Predicting: 0it [00:00, ?it/s]"
      ]
     },
     "metadata": {},
     "output_type": "display_data"
    },
    {
     "name": "stdout",
     "output_type": "stream",
     "text": [
      "Computing references... done.\n",
      "0.11393260300785146\n",
      "\n"
     ]
    },
    {
     "data": {
      "application/vnd.jupyter.widget-view+json": {
       "model_id": "b303ca0725024b5388fb6f5b72aaa01d",
       "version_major": 2,
       "version_minor": 0
      },
      "text/plain": [
       "Predicting: 0it [00:00, ?it/s]"
      ]
     },
     "metadata": {},
     "output_type": "display_data"
    },
    {
     "name": "stdout",
     "output_type": "stream",
     "text": [
      "Computing references... done.\n",
      "0.10742959080774173\n",
      "\n"
     ]
    },
    {
     "data": {
      "application/vnd.jupyter.widget-view+json": {
       "model_id": "a09c670c347648a483dd1d5ad22856e2",
       "version_major": 2,
       "version_minor": 0
      },
      "text/plain": [
       "Predicting: 0it [00:00, ?it/s]"
      ]
     },
     "metadata": {},
     "output_type": "display_data"
    },
    {
     "name": "stdout",
     "output_type": "stream",
     "text": [
      "Computing references... done.\n",
      "0.11049613460641147\n",
      "\n"
     ]
    },
    {
     "data": {
      "application/vnd.jupyter.widget-view+json": {
       "model_id": "7d381d5590574b57ac93d2ca7cb3e9cf",
       "version_major": 2,
       "version_minor": 0
      },
      "text/plain": [
       "Predicting: 0it [00:00, ?it/s]"
      ]
     },
     "metadata": {},
     "output_type": "display_data"
    },
    {
     "name": "stdout",
     "output_type": "stream",
     "text": [
      "Computing references... done.\n",
      "0.1040733333333333\n",
      "\n"
     ]
    },
    {
     "data": {
      "application/vnd.jupyter.widget-view+json": {
       "model_id": "20620b01fedd4b4ca5b6ba8443f02b06",
       "version_major": 2,
       "version_minor": 0
      },
      "text/plain": [
       "Predicting: 0it [00:00, ?it/s]"
      ]
     },
     "metadata": {},
     "output_type": "display_data"
    },
    {
     "name": "stdout",
     "output_type": "stream",
     "text": [
      "Computing references... done.\n",
      "0.10980222222222229\n",
      "\n",
      "CPU times: user 4min 45s, sys: 1.94 s, total: 4min 47s\n",
      "Wall time: 3min 12s\n"
     ]
    }
   ],
   "source": [
    "%%time\n",
    "sums1 = test_DRP_values(tries = 5, n_samps=1000, n_refs=100, n_prior_samps=10_00)"
   ]
  },
  {
   "cell_type": "code",
   "execution_count": 128,
   "id": "ea3be2c9-c3fb-4d4d-ad96-7a0ba35e25f1",
   "metadata": {},
   "outputs": [
    {
     "data": {
      "image/png": "[encoded data removed]",
      "text/plain": [
       "<Figure size 600x600 with 1 Axes>"
      ]
     },
     "execution_count": 128,
     "metadata": {},
     "output_type": "execute_result"
    }
   ],
   "source": [
    "sums = sums1\n",
    "new_fig = copy.deepcopy(fig)\n",
    "for gp, gridpoint in enumerate(gridpoints):\n",
    "    color = ['r','g'][gp]\n",
    "    for s in sums[gridpoint]:\n",
    "        new_fig.axes[0].axvline(s, color=color, linestyle=':')\n",
    "new_fig"
   ]
  },
  {
   "cell_type": "code",
   "execution_count": 129,
   "id": "fc8c2261-7b73-4e15-9b0e-039f00c4b1ac",
   "metadata": {},
   "outputs": [
    {
     "name": "stdout",
     "output_type": "stream",
     "text": [
      "\n",
      "Gridpoint 50\n"
     ]
    },
    {
     "data": {
      "application/vnd.jupyter.widget-view+json": {
       "model_id": "7513b7b0205147d282d07f2781f7a92a",
       "version_major": 2,
       "version_minor": 0
      },
      "text/plain": [
       "Predicting: 0it [00:00, ?it/s]"
      ]
     },
     "metadata": {},
     "output_type": "display_data"
    },
    {
     "name": "stdout",
     "output_type": "stream",
     "text": [
      "Computing references... done.\n",
      "0.108452\n",
      "\n"
     ]
    },
    {
     "data": {
      "application/vnd.jupyter.widget-view+json": {
       "model_id": "e68626cf2a41488593be68f35fd84d3f",
       "version_major": 2,
       "version_minor": 0
      },
      "text/plain": [
       "Predicting: 0it [00:00, ?it/s]"
      ]
     },
     "metadata": {},
     "output_type": "display_data"
    },
    {
     "name": "stdout",
     "output_type": "stream",
     "text": [
      "Computing references... done.\n",
      "0.10908821313472296\n",
      "\n"
     ]
    },
    {
     "data": {
      "application/vnd.jupyter.widget-view+json": {
       "model_id": "a16a6cea33024c80bc4e76439ded2180",
       "version_major": 2,
       "version_minor": 0
      },
      "text/plain": [
       "Predicting: 0it [00:00, ?it/s]"
      ]
     },
     "metadata": {},
     "output_type": "display_data"
    },
    {
     "name": "stdout",
     "output_type": "stream",
     "text": [
      "Computing references... done.\n",
      "0.10752082319512266\n",
      "\n"
     ]
    },
    {
     "data": {
      "application/vnd.jupyter.widget-view+json": {
       "model_id": "246a2c68fc7844dfb2432f09dd257a87",
       "version_major": 2,
       "version_minor": 0
      },
      "text/plain": [
       "Predicting: 0it [00:00, ?it/s]"
      ]
     },
     "metadata": {},
     "output_type": "display_data"
    },
    {
     "name": "stdout",
     "output_type": "stream",
     "text": [
      "Computing references... done.\n",
      "0.10594048973205171\n",
      "\n"
     ]
    },
    {
     "data": {
      "application/vnd.jupyter.widget-view+json": {
       "model_id": "acb61884df684435a060cf4fc0462de7",
       "version_major": 2,
       "version_minor": 0
      },
      "text/plain": [
       "Predicting: 0it [00:00, ?it/s]"
      ]
     },
     "metadata": {},
     "output_type": "display_data"
    },
    {
     "name": "stdout",
     "output_type": "stream",
     "text": [
      "Computing references... done.\n",
      "0.10759231632433224\n",
      "\n",
      "\n",
      "Gridpoint 55\n"
     ]
    },
    {
     "data": {
      "application/vnd.jupyter.widget-view+json": {
       "model_id": "742f90be66cc49518b1162a99352276b",
       "version_major": 2,
       "version_minor": 0
      },
      "text/plain": [
       "Predicting: 0it [00:00, ?it/s]"
      ]
     },
     "metadata": {},
     "output_type": "display_data"
    },
    {
     "name": "stdout",
     "output_type": "stream",
     "text": [
      "Computing references... done.\n",
      "0.10797549640319781\n",
      "\n"
     ]
    },
    {
     "data": {
      "application/vnd.jupyter.widget-view+json": {
       "model_id": "0e6c8a891722440f85811625e9088ddd",
       "version_major": 2,
       "version_minor": 0
      },
      "text/plain": [
       "Predicting: 0it [00:00, ?it/s]"
      ]
     },
     "metadata": {},
     "output_type": "display_data"
    },
    {
     "name": "stdout",
     "output_type": "stream",
     "text": [
      "Computing references... done.\n",
      "0.10858355555555547\n",
      "\n"
     ]
    },
    {
     "data": {
      "application/vnd.jupyter.widget-view+json": {
       "model_id": "a4dc5ad293644b429d236b20bc86475c",
       "version_major": 2,
       "version_minor": 0
      },
      "text/plain": [
       "Predicting: 0it [00:00, ?it/s]"
      ]
     },
     "metadata": {},
     "output_type": "display_data"
    },
    {
     "name": "stdout",
     "output_type": "stream",
     "text": [
      "Computing references... done.\n",
      "0.10736933333333334\n",
      "\n"
     ]
    },
    {
     "data": {
      "application/vnd.jupyter.widget-view+json": {
       "model_id": "1a48c506dbe74bdbbff5ef64c9c089f8",
       "version_major": 2,
       "version_minor": 0
      },
      "text/plain": [
       "Predicting: 0it [00:00, ?it/s]"
      ]
     },
     "metadata": {},
     "output_type": "display_data"
    },
    {
     "name": "stdout",
     "output_type": "stream",
     "text": [
      "Computing references... done.\n",
      "0.10825698131342322\n",
      "\n"
     ]
    },
    {
     "data": {
      "application/vnd.jupyter.widget-view+json": {
       "model_id": "cedad558ce564cd79c6037c169c288ae",
       "version_major": 2,
       "version_minor": 0
      },
      "text/plain": [
       "Predicting: 0it [00:00, ?it/s]"
      ]
     },
     "metadata": {},
     "output_type": "display_data"
    },
    {
     "name": "stdout",
     "output_type": "stream",
     "text": [
      "Computing references... done.\n",
      "0.10850291401244419\n",
      "\n",
      "CPU times: user 32min 39s, sys: 3.16 s, total: 32min 42s\n",
      "Wall time: 17min 22s\n"
     ]
    }
   ],
   "source": [
    "%%time\n",
    "sums2 = test_DRP_values(tries = 5, n_samps=1000, n_refs=1000, n_prior_samps=10_00)"
   ]
  },
  {
   "cell_type": "code",
   "execution_count": 130,
   "id": "9846b082-7cf2-4ac6-8840-687851791ab8",
   "metadata": {},
   "outputs": [
    {
     "data": {
      "image/png": "[encoded data removed]",
      "text/plain": [
       "<Figure size 600x600 with 1 Axes>"
      ]
     },
     "execution_count": 130,
     "metadata": {},
     "output_type": "execute_result"
    }
   ],
   "source": [
    "sums = sums2\n",
    "new_fig = copy.deepcopy(fig)\n",
    "for gp, gridpoint in enumerate(gridpoints):\n",
    "    color = ['r','g'][gp]\n",
    "    for s in sums[gridpoint]:\n",
    "        new_fig.axes[0].axvline(s, color=color, linestyle=':')\n",
    "new_fig"
   ]
  },
  {
   "cell_type": "code",
   "execution_count": 131,
   "id": "3b0632d3-7bd5-423c-9d2a-3c35fe84d625",
   "metadata": {},
   "outputs": [
    {
     "name": "stdout",
     "output_type": "stream",
     "text": [
      "\n",
      "Gridpoint 50\n"
     ]
    },
    {
     "data": {
      "application/vnd.jupyter.widget-view+json": {
       "model_id": "8630a37d1e9849a8b45974a0d15a57f0",
       "version_major": 2,
       "version_minor": 0
      },
      "text/plain": [
       "Predicting: 0it [00:00, ?it/s]"
      ]
     },
     "metadata": {},
     "output_type": "display_data"
    },
    {
     "name": "stdout",
     "output_type": "stream",
     "text": [
      "Computing references... done.\n",
      "0.1104254808022543\n",
      "\n"
     ]
    },
    {
     "data": {
      "application/vnd.jupyter.widget-view+json": {
       "model_id": "847f21061159472e854a92d8f9f53c52",
       "version_major": 2,
       "version_minor": 0
      },
      "text/plain": [
       "Predicting: 0it [00:00, ?it/s]"
      ]
     },
     "metadata": {},
     "output_type": "display_data"
    },
    {
     "name": "stdout",
     "output_type": "stream",
     "text": [
      "Computing references... done.\n",
      "0.11035205830972546\n",
      "\n"
     ]
    },
    {
     "data": {
      "application/vnd.jupyter.widget-view+json": {
       "model_id": "35ee6c43ea1b4466ab91ced42b407cfc",
       "version_major": 2,
       "version_minor": 0
      },
      "text/plain": [
       "Predicting: 0it [00:00, ?it/s]"
      ]
     },
     "metadata": {},
     "output_type": "display_data"
    },
    {
     "name": "stdout",
     "output_type": "stream",
     "text": [
      "Computing references... done.\n",
      "0.11069839509128522\n",
      "\n"
     ]
    },
    {
     "data": {
      "application/vnd.jupyter.widget-view+json": {
       "model_id": "f521907e0fa549dcbed46c7e30952cfe",
       "version_major": 2,
       "version_minor": 0
      },
      "text/plain": [
       "Predicting: 0it [00:00, ?it/s]"
      ]
     },
     "metadata": {},
     "output_type": "display_data"
    },
    {
     "name": "stdout",
     "output_type": "stream",
     "text": [
      "Computing references... done.\n",
      "0.11137555555555566\n",
      "\n"
     ]
    },
    {
     "data": {
      "application/vnd.jupyter.widget-view+json": {
       "model_id": "bad7b16350ce479d9e889b0061834aff",
       "version_major": 2,
       "version_minor": 0
      },
      "text/plain": [
       "Predicting: 0it [00:00, ?it/s]"
      ]
     },
     "metadata": {},
     "output_type": "display_data"
    },
    {
     "name": "stdout",
     "output_type": "stream",
     "text": [
      "Computing references... done.\n",
      "0.11578420983392444\n",
      "\n",
      "\n",
      "Gridpoint 55\n"
     ]
    },
    {
     "data": {
      "application/vnd.jupyter.widget-view+json": {
       "model_id": "85f06e54d84c4e149721451ec0e2f318",
       "version_major": 2,
       "version_minor": 0
      },
      "text/plain": [
       "Predicting: 0it [00:00, ?it/s]"
      ]
     },
     "metadata": {},
     "output_type": "display_data"
    },
    {
     "name": "stdout",
     "output_type": "stream",
     "text": [
      "Computing references... done.\n",
      "0.10930636389458123\n",
      "\n"
     ]
    },
    {
     "data": {
      "application/vnd.jupyter.widget-view+json": {
       "model_id": "86c3805e105a4d3590022ed6a4c8f177",
       "version_major": 2,
       "version_minor": 0
      },
      "text/plain": [
       "Predicting: 0it [00:00, ?it/s]"
      ]
     },
     "metadata": {},
     "output_type": "display_data"
    },
    {
     "name": "stdout",
     "output_type": "stream",
     "text": [
      "Computing references... done.\n",
      "0.1081927419704654\n",
      "\n"
     ]
    },
    {
     "data": {
      "application/vnd.jupyter.widget-view+json": {
       "model_id": "99efb3e47eac4ee3acd4eca97673301e",
       "version_major": 2,
       "version_minor": 0
      },
      "text/plain": [
       "Predicting: 0it [00:00, ?it/s]"
      ]
     },
     "metadata": {},
     "output_type": "display_data"
    },
    {
     "name": "stdout",
     "output_type": "stream",
     "text": [
      "Computing references... done.\n",
      "0.10948887986037444\n",
      "\n"
     ]
    },
    {
     "data": {
      "application/vnd.jupyter.widget-view+json": {
       "model_id": "08d2995aec544caf97061a5e8311d1b2",
       "version_major": 2,
       "version_minor": 0
      },
      "text/plain": [
       "Predicting: 0it [00:00, ?it/s]"
      ]
     },
     "metadata": {},
     "output_type": "display_data"
    },
    {
     "name": "stdout",
     "output_type": "stream",
     "text": [
      "Computing references... done.\n",
      "0.11129022222222207\n",
      "\n"
     ]
    },
    {
     "data": {
      "application/vnd.jupyter.widget-view+json": {
       "model_id": "0333e6903eb5416d8bac7217af6ae6f8",
       "version_major": 2,
       "version_minor": 0
      },
      "text/plain": [
       "Predicting: 0it [00:00, ?it/s]"
      ]
     },
     "metadata": {},
     "output_type": "display_data"
    },
    {
     "name": "stdout",
     "output_type": "stream",
     "text": [
      "Computing references... done.\n",
      "0.11483280000000043\n",
      "\n",
      "CPU times: user 5h 18min 41s, sys: 12.2 s, total: 5h 18min 53s\n",
      "Wall time: 2h 38min 46s\n"
     ]
    }
   ],
   "source": [
    "%%time\n",
    "sums3 = test_DRP_values(tries = 5, n_samps=1000, n_refs=10_000, n_prior_samps=10_00)"
   ]
  },
  {
   "cell_type": "code",
   "execution_count": 132,
   "id": "c89d4473-905c-449f-80c6-6ef3ac9008a4",
   "metadata": {},
   "outputs": [
    {
     "data": {
      "image/png": "[encoded data removed]",
      "text/plain": [
       "<Figure size 600x600 with 1 Axes>"
      ]
     },
     "execution_count": 132,
     "metadata": {},
     "output_type": "execute_result"
    }
   ],
   "source": [
    "sums = sums3\n",
    "new_fig = copy.deepcopy(fig)\n",
    "for gp, gridpoint in enumerate(gridpoints):\n",
    "    color = ['r','g'][gp]\n",
    "    for s in sums[gridpoint]:\n",
    "        new_fig.axes[0].axvline(s, color=color, linestyle=':')\n",
    "new_fig"
   ]
  },
  {
   "cell_type": "code",
   "execution_count": 139,
   "id": "e8b31ad1-0d3a-4bfa-9ae6-ae443df5d2ae",
   "metadata": {},
   "outputs": [
    {
     "name": "stdout",
     "output_type": "stream",
     "text": [
      "\n",
      "Gridpoint 50\n"
     ]
    },
    {
     "data": {
      "application/vnd.jupyter.widget-view+json": {
       "model_id": "1968e924d82845a2ac13b50dcea4ce1f",
       "version_major": 2,
       "version_minor": 0
      },
      "text/plain": [
       "Predicting: 0it [00:00, ?it/s]"
      ]
     },
     "metadata": {},
     "output_type": "display_data"
    },
    {
     "name": "stdout",
     "output_type": "stream",
     "text": [
      "Computing references... done.\n",
      "0.10075555555555549\n",
      "\n"
     ]
    },
    {
     "data": {
      "application/vnd.jupyter.widget-view+json": {
       "model_id": "11fc36a7c9a84235856dc4f9c1c91e78",
       "version_major": 2,
       "version_minor": 0
      },
      "text/plain": [
       "Predicting: 0it [00:00, ?it/s]"
      ]
     },
     "metadata": {},
     "output_type": "display_data"
    },
    {
     "name": "stdout",
     "output_type": "stream",
     "text": [
      "Computing references... done.\n",
      "0.10857111111111112\n",
      "\n"
     ]
    },
    {
     "data": {
      "application/vnd.jupyter.widget-view+json": {
       "model_id": "93b1c37187fa49cbb73b013fec1b3d6e",
       "version_major": 2,
       "version_minor": 0
      },
      "text/plain": [
       "Predicting: 0it [00:00, ?it/s]"
      ]
     },
     "metadata": {},
     "output_type": "display_data"
    },
    {
     "name": "stdout",
     "output_type": "stream",
     "text": [
      "Computing references... done.\n",
      "0.10787333333333335\n",
      "\n"
     ]
    },
    {
     "data": {
      "application/vnd.jupyter.widget-view+json": {
       "model_id": "698f7a0ee4794f798319f204fe48667f",
       "version_major": 2,
       "version_minor": 0
      },
      "text/plain": [
       "Predicting: 0it [00:00, ?it/s]"
      ]
     },
     "metadata": {},
     "output_type": "display_data"
    },
    {
     "name": "stdout",
     "output_type": "stream",
     "text": [
      "Computing references... done.\n",
      "0.1066911111111112\n",
      "\n"
     ]
    },
    {
     "data": {
      "application/vnd.jupyter.widget-view+json": {
       "model_id": "8432a327a28442ddb61aeefcae35ce7b",
       "version_major": 2,
       "version_minor": 0
      },
      "text/plain": [
       "Predicting: 0it [00:00, ?it/s]"
      ]
     },
     "metadata": {},
     "output_type": "display_data"
    },
    {
     "name": "stdout",
     "output_type": "stream",
     "text": [
      "Computing references... done.\n",
      "0.10737999999999999\n",
      "\n",
      "\n",
      "Gridpoint 55\n"
     ]
    },
    {
     "data": {
      "application/vnd.jupyter.widget-view+json": {
       "model_id": "5c0045919fce40bfb9a206c2c9b99280",
       "version_major": 2,
       "version_minor": 0
      },
      "text/plain": [
       "Predicting: 0it [00:00, ?it/s]"
      ]
     },
     "metadata": {},
     "output_type": "display_data"
    },
    {
     "name": "stdout",
     "output_type": "stream",
     "text": [
      "Computing references... done.\n",
      "0.10450888888888883\n",
      "\n"
     ]
    },
    {
     "data": {
      "application/vnd.jupyter.widget-view+json": {
       "model_id": "5c927e4ae0bd4425997f973d96e6257e",
       "version_major": 2,
       "version_minor": 0
      },
      "text/plain": [
       "Predicting: 0it [00:00, ?it/s]"
      ]
     },
     "metadata": {},
     "output_type": "display_data"
    },
    {
     "name": "stdout",
     "output_type": "stream",
     "text": [
      "Computing references... done.\n",
      "0.10584000000000006\n",
      "\n"
     ]
    },
    {
     "data": {
      "application/vnd.jupyter.widget-view+json": {
       "model_id": "e1545abdcd714b05beef5e999d9b57d2",
       "version_major": 2,
       "version_minor": 0
      },
      "text/plain": [
       "Predicting: 0it [00:00, ?it/s]"
      ]
     },
     "metadata": {},
     "output_type": "display_data"
    },
    {
     "name": "stdout",
     "output_type": "stream",
     "text": [
      "Computing references... done.\n",
      "0.11172444444444449\n",
      "\n"
     ]
    },
    {
     "data": {
      "application/vnd.jupyter.widget-view+json": {
       "model_id": "13e18519cc6c49c6bc4d9460da7e9182",
       "version_major": 2,
       "version_minor": 0
      },
      "text/plain": [
       "Predicting: 0it [00:00, ?it/s]"
      ]
     },
     "metadata": {},
     "output_type": "display_data"
    },
    {
     "name": "stdout",
     "output_type": "stream",
     "text": [
      "Computing references... done.\n",
      "0.10641111111111118\n",
      "\n"
     ]
    },
    {
     "data": {
      "application/vnd.jupyter.widget-view+json": {
       "model_id": "f232d0a0b8ea4a0ea1ee0937c36dca16",
       "version_major": 2,
       "version_minor": 0
      },
      "text/plain": [
       "Predicting: 0it [00:00, ?it/s]"
      ]
     },
     "metadata": {},
     "output_type": "display_data"
    },
    {
     "name": "stdout",
     "output_type": "stream",
     "text": [
      "Computing references... done.\n",
      "0.10635777777777776\n",
      "\n",
      "CPU times: user 2h 20min 47s, sys: 4min 26s, total: 2h 25min 13s\n",
      "Wall time: 2h 21min 56s\n"
     ]
    }
   ],
   "source": [
    "%%time\n",
    "sums4 = test_DRP_values(tries = 5, n_samps=1000, n_refs=100, n_prior_samps=400_00)"
   ]
  },
  {
   "cell_type": "code",
   "execution_count": 140,
   "id": "f1a09ed0-741f-49b2-b871-b394a4c723be",
   "metadata": {},
   "outputs": [
    {
     "data": {
      "image/png": "[encoded data removed]",
      "text/plain": [
       "<Figure size 600x600 with 1 Axes>"
      ]
     },
     "execution_count": 140,
     "metadata": {},
     "output_type": "execute_result"
    }
   ],
   "source": [
    "sums = sums4\n",
    "new_fig = copy.deepcopy(fig)\n",
    "for gp, gridpoint in enumerate(gridpoints):\n",
    "    color = ['r','g'][gp]\n",
    "    for s in sums[gridpoint]:\n",
    "        new_fig.axes[0].axvline(s, color=color, linestyle=':')\n",
    "new_fig"
   ]
  },
  {
   "cell_type": "code",
   "execution_count": 141,
   "id": "d8d43aa8-a984-4205-af0d-2225b526f62e",
   "metadata": {},
   "outputs": [
    {
     "name": "stdout",
     "output_type": "stream",
     "text": [
      "\n",
      "Gridpoint 50\n"
     ]
    },
    {
     "data": {
      "application/vnd.jupyter.widget-view+json": {
       "model_id": "48e3a30ec7904236a6ea4b45a9f81f83",
       "version_major": 2,
       "version_minor": 0
      },
      "text/plain": [
       "Predicting: 0it [00:00, ?it/s]"
      ]
     },
     "metadata": {},
     "output_type": "display_data"
    },
    {
     "name": "stdout",
     "output_type": "stream",
     "text": [
      "Computing references... done.\n",
      "0.11112155555555556\n",
      "\n"
     ]
    },
    {
     "data": {
      "application/vnd.jupyter.widget-view+json": {
       "model_id": "c09cebad703b45dc8af20b8cf3b981b5",
       "version_major": 2,
       "version_minor": 0
      },
      "text/plain": [
       "Predicting: 0it [00:00, ?it/s]"
      ]
     },
     "metadata": {},
     "output_type": "display_data"
    },
    {
     "name": "stdout",
     "output_type": "stream",
     "text": [
      "Computing references... done.\n",
      "0.1105268888888888\n",
      "\n"
     ]
    },
    {
     "data": {
      "application/vnd.jupyter.widget-view+json": {
       "model_id": "0623124d895349578da741d88e7c88d0",
       "version_major": 2,
       "version_minor": 0
      },
      "text/plain": [
       "Predicting: 0it [00:00, ?it/s]"
      ]
     },
     "metadata": {},
     "output_type": "display_data"
    },
    {
     "name": "stdout",
     "output_type": "stream",
     "text": [
      "Computing references... done.\n",
      "0.10802600000000001\n",
      "\n"
     ]
    },
    {
     "data": {
      "application/vnd.jupyter.widget-view+json": {
       "model_id": "35e1242b8c9b4f569ebee4880507d3c0",
       "version_major": 2,
       "version_minor": 0
      },
      "text/plain": [
       "Predicting: 0it [00:00, ?it/s]"
      ]
     },
     "metadata": {},
     "output_type": "display_data"
    },
    {
     "name": "stdout",
     "output_type": "stream",
     "text": [
      "Computing references... done.\n",
      "0.10847888888888882\n",
      "\n"
     ]
    },
    {
     "data": {
      "application/vnd.jupyter.widget-view+json": {
       "model_id": "02c74c9ec6104265be48270842d292a9",
       "version_major": 2,
       "version_minor": 0
      },
      "text/plain": [
       "Predicting: 0it [00:00, ?it/s]"
      ]
     },
     "metadata": {},
     "output_type": "display_data"
    },
    {
     "name": "stdout",
     "output_type": "stream",
     "text": [
      "Computing references... done.\n",
      "0.1076582222222223\n",
      "\n",
      "\n",
      "Gridpoint 55\n"
     ]
    },
    {
     "data": {
      "application/vnd.jupyter.widget-view+json": {
       "model_id": "4cafa248cb7e4267848f2d1b45c33254",
       "version_major": 2,
       "version_minor": 0
      },
      "text/plain": [
       "Predicting: 0it [00:00, ?it/s]"
      ]
     },
     "metadata": {},
     "output_type": "display_data"
    },
    {
     "name": "stdout",
     "output_type": "stream",
     "text": [
      "Computing references... done.\n",
      "0.11174600000000014\n",
      "\n"
     ]
    },
    {
     "data": {
      "application/vnd.jupyter.widget-view+json": {
       "model_id": "a646499844df4dd585b1588c6a678760",
       "version_major": 2,
       "version_minor": 0
      },
      "text/plain": [
       "Predicting: 0it [00:00, ?it/s]"
      ]
     },
     "metadata": {},
     "output_type": "display_data"
    },
    {
     "name": "stdout",
     "output_type": "stream",
     "text": [
      "Computing references... done.\n",
      "0.11186511111111103\n",
      "\n"
     ]
    },
    {
     "data": {
      "application/vnd.jupyter.widget-view+json": {
       "model_id": "901db9d37aff4fe8bad01d556df86d63",
       "version_major": 2,
       "version_minor": 0
      },
      "text/plain": [
       "Predicting: 0it [00:00, ?it/s]"
      ]
     },
     "metadata": {},
     "output_type": "display_data"
    },
    {
     "name": "stdout",
     "output_type": "stream",
     "text": [
      "Computing references... done.\n",
      "0.10631999999999986\n",
      "\n"
     ]
    },
    {
     "data": {
      "application/vnd.jupyter.widget-view+json": {
       "model_id": "62bba15b546a481e9f7d08422fb242d9",
       "version_major": 2,
       "version_minor": 0
      },
      "text/plain": [
       "Predicting: 0it [00:00, ?it/s]"
      ]
     },
     "metadata": {},
     "output_type": "display_data"
    },
    {
     "name": "stdout",
     "output_type": "stream",
     "text": [
      "Computing references... done.\n",
      "0.10822999999999997\n",
      "\n"
     ]
    },
    {
     "data": {
      "application/vnd.jupyter.widget-view+json": {
       "model_id": "184ba5516cdf48ec9cb5bb893ef7e34e",
       "version_major": 2,
       "version_minor": 0
      },
      "text/plain": [
       "Predicting: 0it [00:00, ?it/s]"
      ]
     },
     "metadata": {},
     "output_type": "display_data"
    },
    {
     "name": "stdout",
     "output_type": "stream",
     "text": [
      "Computing references... done.\n",
      "0.1064773333333334\n",
      "\n",
      "CPU times: user 2h 42min 49s, sys: 4min 19s, total: 2h 47min 8s\n",
      "Wall time: 2h 19min 6s\n"
     ]
    }
   ],
   "source": [
    "%%time\n",
    "sums5 = test_DRP_values(tries = 5, n_samps=1000, n_refs=1_000, n_prior_samps=400_00)"
   ]
  },
  {
   "cell_type": "code",
   "execution_count": 142,
   "id": "697f17fa-93d2-4349-9ecf-8c898c172687",
   "metadata": {},
   "outputs": [
    {
     "data": {
      "image/png": "[encoded data removed]",
      "text/plain": [
       "<Figure size 600x600 with 1 Axes>"
      ]
     },
     "execution_count": 142,
     "metadata": {},
     "output_type": "execute_result"
    }
   ],
   "source": [
    "sums = sums5\n",
    "new_fig = copy.deepcopy(fig)\n",
    "for gp, gridpoint in enumerate(gridpoints):\n",
    "    color = ['r','g'][gp]\n",
    "    for s in sums[gridpoint]:\n",
    "        new_fig.axes[0].axvline(s, color=color, linestyle=':')\n",
    "new_fig"
   ]
  },
  {
   "cell_type": "code",
   "execution_count": 143,
   "id": "5279a1b1-d9b5-4ec4-8dfc-671915bb5d0f",
   "metadata": {},
   "outputs": [
    {
     "name": "stdout",
     "output_type": "stream",
     "text": [
      "\n",
      "Gridpoint 50\n"
     ]
    },
    {
     "data": {
      "application/vnd.jupyter.widget-view+json": {
       "model_id": "9b669aa3bc3c4fed8a74dedccb954485",
       "version_major": 2,
       "version_minor": 0
      },
      "text/plain": [
       "Predicting: 0it [00:00, ?it/s]"
      ]
     },
     "metadata": {},
     "output_type": "display_data"
    },
    {
     "name": "stdout",
     "output_type": "stream",
     "text": [
      "Computing references... done.\n",
      "0.10826546666666709\n",
      "\n"
     ]
    },
    {
     "data": {
      "application/vnd.jupyter.widget-view+json": {
       "model_id": "88cfc7b4f6bb41e8a2b21cccc1bb8487",
       "version_major": 2,
       "version_minor": 0
      },
      "text/plain": [
       "Predicting: 0it [00:00, ?it/s]"
      ]
     },
     "metadata": {},
     "output_type": "display_data"
    },
    {
     "name": "stdout",
     "output_type": "stream",
     "text": [
      "Computing references... done.\n",
      "0.10900797777777849\n",
      "\n"
     ]
    },
    {
     "data": {
      "application/vnd.jupyter.widget-view+json": {
       "model_id": "691103d24dcf43c0be029d18a54eea89",
       "version_major": 2,
       "version_minor": 0
      },
      "text/plain": [
       "Predicting: 0it [00:00, ?it/s]"
      ]
     },
     "metadata": {},
     "output_type": "display_data"
    },
    {
     "name": "stdout",
     "output_type": "stream",
     "text": [
      "Computing references... done.\n",
      "0.10767899999999977\n",
      "\n"
     ]
    },
    {
     "data": {
      "application/vnd.jupyter.widget-view+json": {
       "model_id": "c4ef537071a440e7a9998ee3e44dc45c",
       "version_major": 2,
       "version_minor": 0
      },
      "text/plain": [
       "Predicting: 0it [00:00, ?it/s]"
      ]
     },
     "metadata": {},
     "output_type": "display_data"
    },
    {
     "name": "stdout",
     "output_type": "stream",
     "text": [
      "Computing references... done.\n",
      "0.10712217777777816\n",
      "\n"
     ]
    },
    {
     "data": {
      "application/vnd.jupyter.widget-view+json": {
       "model_id": "479ae09c118e4321a742d997a0cb0d4f",
       "version_major": 2,
       "version_minor": 0
      },
      "text/plain": [
       "Predicting: 0it [00:00, ?it/s]"
      ]
     },
     "metadata": {},
     "output_type": "display_data"
    },
    {
     "name": "stdout",
     "output_type": "stream",
     "text": [
      "Computing references... done.\n",
      "0.11026459999999959\n",
      "\n",
      "\n",
      "Gridpoint 55\n"
     ]
    },
    {
     "data": {
      "application/vnd.jupyter.widget-view+json": {
       "model_id": "f4c6f4cfaea948559155656c0a340f09",
       "version_major": 2,
       "version_minor": 0
      },
      "text/plain": [
       "Predicting: 0it [00:00, ?it/s]"
      ]
     },
     "metadata": {},
     "output_type": "display_data"
    },
    {
     "name": "stdout",
     "output_type": "stream",
     "text": [
      "Computing references... done.\n",
      "0.10867426666666703\n",
      "\n"
     ]
    },
    {
     "data": {
      "application/vnd.jupyter.widget-view+json": {
       "model_id": "fbeecbf5b06348cca7d74c59a7a285fb",
       "version_major": 2,
       "version_minor": 0
      },
      "text/plain": [
       "Predicting: 0it [00:00, ?it/s]"
      ]
     },
     "metadata": {},
     "output_type": "display_data"
    },
    {
     "name": "stdout",
     "output_type": "stream",
     "text": [
      "Computing references... done.\n",
      "0.10773742222222207\n",
      "\n"
     ]
    },
    {
     "data": {
      "application/vnd.jupyter.widget-view+json": {
       "model_id": "7e8934ae362d48a99c33cee8af540a7c",
       "version_major": 2,
       "version_minor": 0
      },
      "text/plain": [
       "Predicting: 0it [00:00, ?it/s]"
      ]
     },
     "metadata": {},
     "output_type": "display_data"
    },
    {
     "name": "stdout",
     "output_type": "stream",
     "text": [
      "Computing references... done.\n",
      "0.10886737777777779\n",
      "\n"
     ]
    },
    {
     "data": {
      "application/vnd.jupyter.widget-view+json": {
       "model_id": "3d0ebef9fdb54b22bda9734b82853a61",
       "version_major": 2,
       "version_minor": 0
      },
      "text/plain": [
       "Predicting: 0it [00:00, ?it/s]"
      ]
     },
     "metadata": {},
     "output_type": "display_data"
    },
    {
     "name": "stdout",
     "output_type": "stream",
     "text": [
      "Computing references... done.\n",
      "0.1065799111111111\n",
      "\n"
     ]
    },
    {
     "data": {
      "application/vnd.jupyter.widget-view+json": {
       "model_id": "11e4b2b208e54db2a18955229503b2e6",
       "version_major": 2,
       "version_minor": 0
      },
      "text/plain": [
       "Predicting: 0it [00:00, ?it/s]"
      ]
     },
     "metadata": {},
     "output_type": "display_data"
    },
    {
     "name": "stdout",
     "output_type": "stream",
     "text": [
      "Computing references... done.\n",
      "0.10888495555555576\n",
      "\n",
      "CPU times: user 11h 29min 43s, sys: 6min 18s, total: 11h 36min 2s\n",
      "Wall time: 7h 3min 15s\n"
     ]
    }
   ],
   "source": [
    "%%time\n",
    "sums6 = test_DRP_values(tries = 5, n_samps=1000, n_refs=10_000, n_prior_samps=400_00)"
   ]
  },
  {
   "cell_type": "code",
   "execution_count": 144,
   "id": "c9f27efe-30c9-4e1a-adfb-41fcdc1f7e54",
   "metadata": {},
   "outputs": [
    {
     "data": {
      "image/png": "[encoded data removed]",
      "text/plain": [
       "<Figure size 600x600 with 1 Axes>"
      ]
     },
     "execution_count": 144,
     "metadata": {},
     "output_type": "execute_result"
    }
   ],
   "source": [
    "sums = sums6\n",
    "new_fig = copy.deepcopy(fig)\n",
    "for gp, gridpoint in enumerate(gridpoints):\n",
    "    color = ['r','g'][gp]\n",
    "    for s in sums[gridpoint]:\n",
    "        new_fig.axes[0].axvline(s, color=color, linestyle=':')\n",
    "new_fig"
   ]
  },
  {
   "cell_type": "code",
   "execution_count": null,
   "id": "ece8bde2-743e-40ef-a66d-b28a5a503d35",
   "metadata": {},
   "outputs": [],
   "source": []
  },
  {
   "cell_type": "code",
   "execution_count": null,
   "id": "d1fecb4a-9c51-4a3e-b9de-d16ed5bb1d43",
   "metadata": {},
   "outputs": [],
   "source": []
  }
 ],
 "metadata": {
  "kernelspec": {
   "display_name": "Python 3 (ipykernel)",
   "language": "python",
   "name": "python3"
  },
  "language_info": {
   "codemirror_mode": {
    "name": "ipython",
    "version": 3
   },
   "file_extension": ".py",
   "mimetype": "text/x-python",
   "name": "python",
   "nbconvert_exporter": "python",
   "pygments_lexer": "ipython3",
   "version": "3.9.7"
  }
 },
 "nbformat": 4,
 "nbformat_minor": 5
}
