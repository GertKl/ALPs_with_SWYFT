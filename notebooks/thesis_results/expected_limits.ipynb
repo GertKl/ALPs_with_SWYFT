{
 "cells": [
  {
   "cell_type": "code",
   "execution_count": 1,
   "id": "7d9ec14a-ee5b-4572-ba67-4a239f003571",
   "metadata": {},
   "outputs": [],
   "source": [
    "import os\n",
    "import sys\n",
    "import numpy as np\n",
    "import swyft\n",
    "import pickle\n",
    "import matplotlib.pyplot as plt\n",
    "import torch\n",
    "import importlib\n",
    "from pytorch_lightning.loggers import WandbLogger\n",
    "from pytorch_lightning.callbacks import LearningRateMonitor\n",
    "torch.set_float32_matmul_precision('medium')\n",
    "device_notebook = \"cuda\" if torch.cuda.is_available() else \"cpu\"\n",
    "import wandb\n",
    "import copy\n",
    "from torch.multiprocessing import Pool\n",
    "torch.multiprocessing.set_start_method('spawn',force=True)\n",
    "torch.set_num_threads(28)\n",
    "import itertools\n",
    "import subprocess"
   ]
  },
  {
   "cell_type": "code",
   "execution_count": 2,
   "id": "becc7ee8-c272-4b84-ba2f-2e11bc30d40d",
   "metadata": {},
   "outputs": [],
   "source": [
    "main_dir = \"ALPs_with_SWYFT\"\n",
    "thesis_figs = os.getcwd().split(main_dir)[0]+\"/\"+main_dir+\"/thesis_figures/\""
   ]
  },
  {
   "cell_type": "code",
   "execution_count": 3,
   "id": "50b0e9ad-00f5-4c42-8674-004bd3fe210c",
   "metadata": {},
   "outputs": [],
   "source": [
    "def _get_HDI_thresholds(x, cred_level=[0.68268, 0.95450, 0.99730]):\n",
    "    x = x.flatten()\n",
    "    x = np.sort(x)[::-1]  # Sort backwards\n",
    "    total_mass = x.sum()\n",
    "    enclosed_mass = np.cumsum(x)\n",
    "    idx = [np.argmax(enclosed_mass >= total_mass * f) for f in cred_level]\n",
    "    levels = np.array(x[idx])\n",
    "    return levels\n",
    "    \n",
    "def generate_expected_limits(samples,\n",
    "                             prior_samples,\n",
    "                             bounds,\n",
    "                             net = None,  \n",
    "                             trainer = None,\n",
    "                             contour_matrix = None,\n",
    "                             predictions = None,\n",
    "                             ax=None,\n",
    "                             limit_credibility=0.9973,\n",
    "                             levels = [0.003,0.05,0.34,0.682,0.95,0.9973,1],\n",
    "                             fill=True,\n",
    "                             bins=50,\n",
    "                             batch_size = 1024,\n",
    "                             param_names = ['m','g'],\n",
    "                             colors = ['r','#FFA500','y','g','b','k'],\n",
    "                             alpha = 0.5,\n",
    "                             alpha_variable = False,\n",
    "                            ):\n",
    "    \n",
    "    if isinstance(samples,int):\n",
    "        n_limits = samples\n",
    "    else:\n",
    "        n_limits = len(samples)\n",
    "        \n",
    "    if isinstance(prior_samples, int):\n",
    "        n_prior_samples = prior_samples\n",
    "    else:\n",
    "        n_prior_samples = len(prior_samples)\n",
    "\n",
    "    \n",
    "    if not np.any(predictions) and not np.any(contour_matrix):\n",
    "        repeat = n_prior_samples // batch_size + (n_prior_samples % batch_size > 0)\n",
    "        \n",
    "        predictions = trainer.infer(\n",
    "            net,\n",
    "            samples.get_dataloader(batch_size=1,repeat=repeat),\n",
    "            prior_samples.get_dataloader(batch_size=batch_size)\n",
    "        )\n",
    "        \n",
    "    if not np.any(contour_matrix):\n",
    "        for i in range(n_limits):\n",
    "    \n",
    "            predictions_i = copy.deepcopy(predictions)\n",
    "    \n",
    "            predictions_i[0].logratios = predictions[0].logratios[i*n_prior_samples:(i+1)*n_prior_samples]\n",
    "            predictions_i[0].params = predictions[0].params[i*n_prior_samples:(i+1)*n_prior_samples]\n",
    "            predictions_i[1].logratios = predictions[1].logratios[i*n_prior_samples:(i+1)*n_prior_samples]\n",
    "            predictions_i[1].params = predictions[1].params[i*n_prior_samples:(i+1)*n_prior_samples]\n",
    "    \n",
    "            counts, _ = swyft.get_pdf(\n",
    "                predictions_i,\n",
    "                param_names,\n",
    "                bins = bins,\n",
    "            )\n",
    "    \n",
    "            if i==0:\n",
    "                X,Y = np.meshgrid(np.linspace(0,counts.shape[0]-1,counts.shape[0]),np.linspace(0,counts.shape[1]-1,counts.shape[1]))\n",
    "                matrix_total = np.zeros(X.shape)\n",
    "    \n",
    "            plt.figure('dummy')\n",
    "            levels_limits=sorted(_get_HDI_thresholds(counts,cred_level=[0,limit_credibility]))\n",
    "            limit_contour = plt.contourf(counts.T,levels=levels_limits)\n",
    "            # plt.clf()\n",
    "    \n",
    "            matrix_i = np.ones(X.shape)\n",
    "    \n",
    "            for collection in limit_contour.collections:\n",
    "                for path in collection.get_paths():\n",
    "                    mask = path.contains_points(np.vstack((X.flatten(), Y.flatten())).T,radius=1e-9)\n",
    "                    mask = mask.reshape(X.shape)\n",
    "                    matrix_i[mask] = 0\n",
    "            \n",
    "            matrix_total += matrix_i\n",
    "    \n",
    "    else:\n",
    "        matrix_total = contour_matrix\n",
    "\n",
    "    if not ax:\n",
    "        fig = plt.figure()\n",
    "        fig.add_subplot(1,1,1)\n",
    "        ax = fig.axes[0]\n",
    "    \n",
    "    for li in range(len(levels)-1):\n",
    "        ax.contourf(matrix_total,\n",
    "                    levels=[levels[li]*n_limits,levels[li+1]*n_limits],\n",
    "                    extent=[bounds[0][0], bounds[0][1], bounds[1][0], bounds[1][1]],\n",
    "                    colors = colors[li],\n",
    "                    alpha = (li+2)*alpha/len(levels) if alpha_variable else alpha,\n",
    "                   )\n",
    "\n",
    "    plt.close('dummy')\n",
    "    \n",
    "    if not ax:\n",
    "        return matrix_total, fig\n",
    "    else:\n",
    "        return matrix_total,ax"
   ]
  },
  {
   "cell_type": "code",
   "execution_count": 68,
   "id": "907096ca-f306-4872-9e79-8ded08603f3e",
   "metadata": {},
   "outputs": [],
   "source": [
    "def convert_pair_to_index(pair,n_indices):\n",
    "    pair = sorted(pair)\n",
    "    return (pair[0]+1)*(n_indices-1+n_indices-pair[0]-1)/2 - n_indices + pair[1]"
   ]
  },
  {
   "cell_type": "code",
   "execution_count": 69,
   "id": "0ba3a37a-2cf6-4cdf-883d-6591e67286c2",
   "metadata": {},
   "outputs": [
    {
     "ename": "ValueError",
     "evalue": "The truth value of an array with more than one element is ambiguous. Use a.any() or a.all()",
     "output_type": "error",
     "traceback": [
      "\u001b[0;31m---------------------------------------------------------------------------\u001b[0m",
      "\u001b[0;31mValueError\u001b[0m                                Traceback (most recent call last)",
      "Cell \u001b[0;32mIn[69], line 1\u001b[0m\n\u001b[0;32m----> 1\u001b[0m \u001b[43mconvert_pair_to_index\u001b[49m\u001b[43m(\u001b[49m\u001b[43m[\u001b[49m\u001b[43m(\u001b[49m\u001b[38;5;241;43m4\u001b[39;49m\u001b[43m,\u001b[49m\u001b[38;5;241;43m2\u001b[39;49m\u001b[43m)\u001b[49m\u001b[43m,\u001b[49m\u001b[43m(\u001b[49m\u001b[38;5;241;43m3\u001b[39;49m\u001b[43m,\u001b[49m\u001b[38;5;241;43m4\u001b[39;49m\u001b[43m)\u001b[49m\u001b[43m]\u001b[49m\u001b[43m,\u001b[49m\u001b[38;5;241;43m5\u001b[39;49m\u001b[43m)\u001b[49m\n",
      "Cell \u001b[0;32mIn[68], line 2\u001b[0m, in \u001b[0;36mconvert_pair_to_index\u001b[0;34m(pair, n_indices)\u001b[0m\n\u001b[1;32m      1\u001b[0m \u001b[38;5;28;01mdef\u001b[39;00m \u001b[38;5;21mconvert_pair_to_index\u001b[39m(pair,n_indices):\n\u001b[0;32m----> 2\u001b[0m     pair \u001b[38;5;241m=\u001b[39m \u001b[38;5;28;43msorted\u001b[39;49m\u001b[43m(\u001b[49m\u001b[43mnp\u001b[49m\u001b[38;5;241;43m.\u001b[39;49m\u001b[43marray\u001b[49m\u001b[43m(\u001b[49m\u001b[43mpair\u001b[49m\u001b[43m)\u001b[49m\u001b[43m)\u001b[49m\n\u001b[1;32m      3\u001b[0m     \u001b[38;5;28;01mreturn\u001b[39;00m (pair[\u001b[38;5;241m0\u001b[39m]\u001b[38;5;241m+\u001b[39m\u001b[38;5;241m1\u001b[39m)\u001b[38;5;241m*\u001b[39m(n_indices\u001b[38;5;241m-\u001b[39m\u001b[38;5;241m1\u001b[39m\u001b[38;5;241m+\u001b[39mn_indices\u001b[38;5;241m-\u001b[39mpair[\u001b[38;5;241m0\u001b[39m]\u001b[38;5;241m-\u001b[39m\u001b[38;5;241m1\u001b[39m)\u001b[38;5;241m/\u001b[39m\u001b[38;5;241m2\u001b[39m \u001b[38;5;241m-\u001b[39m n_indices \u001b[38;5;241m+\u001b[39m pair[\u001b[38;5;241m1\u001b[39m]\n",
      "\u001b[0;31mValueError\u001b[0m: The truth value of an array with more than one element is ambiguous. Use a.any() or a.all()"
     ]
    }
   ],
   "source": [
    "convert_pair_to_index([(4,2),(3,4)],5)"
   ]
  },
  {
   "cell_type": "code",
   "execution_count": 46,
   "id": "e4816f61-ea7a-457d-a610-e0abef2e0046",
   "metadata": {},
   "outputs": [
    {
     "data": {
      "text/plain": [
       "9.0"
      ]
     },
     "execution_count": 46,
     "metadata": {},
     "output_type": "execute_result"
    }
   ],
   "source": [
    "4*(5-1+5-3-1)/2 - 5 + 4"
   ]
  },
  {
   "cell_type": "code",
   "execution_count": null,
   "id": "2f42b5fd-79de-4e2e-ae19-7b8693f98051",
   "metadata": {},
   "outputs": [],
   "source": [
    "4 + 3 + 2 + 1"
   ]
  },
  {
   "cell_type": "code",
   "execution_count": 74,
   "id": "d1910f5f-ffc9-4dc8-bec4-19f8ffa2953e",
   "metadata": {},
   "outputs": [
    {
     "data": {
      "text/plain": [
       "torch.Size([100000, 3])"
      ]
     },
     "execution_count": 74,
     "metadata": {},
     "output_type": "execute_result"
    }
   ],
   "source": [
    "priors['agnostic3']['predictions'][1].logratios[:,[2,4,7]].shape"
   ]
  },
  {
   "cell_type": "code",
   "execution_count": 79,
   "id": "33c3884e-ee7d-4a7d-91ac-ea94ed953e7f",
   "metadata": {},
   "outputs": [
    {
     "data": {
      "text/plain": [
       "tensor([[[-1.6014,  3.8724],\n",
       "         [-0.8914, -8.1186],\n",
       "         [-8.1186,  3.8724]],\n",
       "\n",
       "        [[ 2.2802,  3.5610],\n",
       "         [ 0.8959, -9.7811],\n",
       "         [-9.7811,  3.5610]],\n",
       "\n",
       "        [[-0.0467,  0.6703],\n",
       "         [-0.0634, -8.7696],\n",
       "         [-8.7696,  0.6703]],\n",
       "\n",
       "        ...,\n",
       "\n",
       "        [[-1.8627,  3.1752],\n",
       "         [-1.1117, -8.4786],\n",
       "         [-8.4786,  3.1752]],\n",
       "\n",
       "        [[ 2.9359,  2.0395],\n",
       "         [-1.5558, -9.7220],\n",
       "         [-9.7220,  2.0395]],\n",
       "\n",
       "        [[-0.9742,  1.0217],\n",
       "         [ 0.8667, -9.2012],\n",
       "         [-9.2012,  1.0217]]], dtype=torch.float64)"
      ]
     },
     "execution_count": 79,
     "metadata": {},
     "output_type": "execute_result"
    }
   ],
   "source": [
    "priors['agnostic3']['predictions'][1].params[:,[2,4,7],:]"
   ]
  },
  {
   "cell_type": "code",
   "execution_count": 89,
   "id": "b48968b3-fe01-480a-a3c9-0923dab71ea1",
   "metadata": {},
   "outputs": [
    {
     "data": {
      "text/plain": [
       "(3, 4)"
      ]
     },
     "execution_count": 89,
     "metadata": {},
     "output_type": "execute_result"
    }
   ],
   "source": [
    "eval('(3,4))'[:-1])"
   ]
  },
  {
   "cell_type": "code",
   "execution_count": 85,
   "id": "36e1ab63-ad8f-4d1b-ac69-b19b9a22015e",
   "metadata": {},
   "outputs": [
    {
     "ename": "AttributeError",
     "evalue": "type object 'str' has no attribute 'concat'",
     "output_type": "error",
     "traceback": [
      "\u001b[0;31m---------------------------------------------------------------------------\u001b[0m",
      "\u001b[0;31mAttributeError\u001b[0m                            Traceback (most recent call last)",
      "Cell \u001b[0;32mIn[85], line 1\u001b[0m\n\u001b[0;32m----> 1\u001b[0m \u001b[38;5;28;43mstr\u001b[39;49m\u001b[38;5;241;43m.\u001b[39;49m\u001b[43mconcat\u001b[49m(\u001b[38;5;124m'\u001b[39m\u001b[38;5;124m(3,4\u001b[39m\u001b[38;5;124m'\u001b[39m,\u001b[38;5;124m'\u001b[39m\u001b[38;5;124m)\u001b[39m\u001b[38;5;124m'\u001b[39m)\n",
      "\u001b[0;31mAttributeError\u001b[0m: type object 'str' has no attribute 'concat'"
     ]
    }
   ],
   "source": [
    "eval()"
   ]
  },
  {
   "cell_type": "code",
   "execution_count": null,
   "id": "c9e5604b-cfe4-446b-98ed-74d767b5891b",
   "metadata": {},
   "outputs": [],
   "source": []
  },
  {
   "cell_type": "code",
   "execution_count": 81,
   "id": "b12313e0-2701-45eb-933d-c8929061e01c",
   "metadata": {},
   "outputs": [
    {
     "data": {
      "text/plain": [
       "['(3,4', '(1,2)']"
      ]
     },
     "execution_count": 81,
     "metadata": {},
     "output_type": "execute_result"
    }
   ],
   "source": [
    "'(3,4),(1,2)'.split('),')"
   ]
  },
  {
   "cell_type": "code",
   "execution_count": null,
   "id": "48e1b9a6-3693-4365-8262-5a1c5ec4ec5e",
   "metadata": {},
   "outputs": [],
   "source": []
  },
  {
   "cell_type": "code",
   "execution_count": null,
   "id": "33918e9c-c9e1-4d90-a0ad-a0a432ee9edb",
   "metadata": {},
   "outputs": [],
   "source": [
    "sys.getsizeof(priors['agnostic3']['predictions'][1].logratios[:,0].to(torch.float32))"
   ]
  },
  {
   "cell_type": "code",
   "execution_count": null,
   "id": "fa54477d-ab20-44e9-a0ea-506349f19db2",
   "metadata": {},
   "outputs": [],
   "source": [
    "sys.getsizeof(priors['confident2']['predictions'])"
   ]
  },
  {
   "cell_type": "code",
   "execution_count": 6,
   "id": "1b9bfc2a-6ae5-475e-9400-ee9d390ae414",
   "metadata": {},
   "outputs": [
    {
     "ename": "ModuleNotFoundError",
     "evalue": "No module named 'pympler'",
     "output_type": "error",
     "traceback": [
      "\u001b[0;31m---------------------------------------------------------------------------\u001b[0m",
      "\u001b[0;31mModuleNotFoundError\u001b[0m                       Traceback (most recent call last)",
      "Cell \u001b[0;32mIn[6], line 1\u001b[0m\n\u001b[0;32m----> 1\u001b[0m \u001b[38;5;28;01mimport\u001b[39;00m \u001b[38;5;21;01mpympler\u001b[39;00m\n",
      "\u001b[0;31mModuleNotFoundError\u001b[0m: No module named 'pympler'"
     ]
    }
   ],
   "source": [
    "import pympler"
   ]
  },
  {
   "cell_type": "code",
   "execution_count": 100,
   "id": "9b7bc943-1175-4a7c-a2f7-23964217b011",
   "metadata": {},
   "outputs": [
    {
     "data": {
      "text/plain": [
       "tensor(0.0537)"
      ]
     },
     "execution_count": 100,
     "metadata": {},
     "output_type": "execute_result"
    }
   ],
   "source": [
    "priors['confident2']['predictions'][1].logratios[:,[3,4]].float()[0][0]"
   ]
  },
  {
   "cell_type": "code",
   "execution_count": 97,
   "id": "e1e2d5ee-dc1d-4af8-b9cf-fab57ded389c",
   "metadata": {},
   "outputs": [
    {
     "data": {
      "text/plain": [
       "tensor([[ 0.0537,  0.2366],\n",
       "        [ 0.0043,  0.2580],\n",
       "        [ 0.0275,  0.2439],\n",
       "        ...,\n",
       "        [ 0.0499,  0.2460],\n",
       "        [-0.0132,  0.2781],\n",
       "        [ 0.0459,  0.2443]], dtype=torch.float64)"
      ]
     },
     "execution_count": 97,
     "metadata": {},
     "output_type": "execute_result"
    }
   ],
   "source": [
    "priors['confident2']['predictions'][1].logratios[:,[3,4]]"
   ]
  },
  {
   "cell_type": "code",
   "execution_count": null,
   "id": "dc6b907c-fed6-4e6c-88d6-d35ecce299e7",
   "metadata": {},
   "outputs": [],
   "source": []
  },
  {
   "cell_type": "code",
   "execution_count": null,
   "id": "f0df1976-37d8-477c-ae9e-98e3e94e1c9e",
   "metadata": {},
   "outputs": [],
   "source": []
  },
  {
   "cell_type": "code",
   "execution_count": null,
   "id": "982df393-e5e9-4711-88ad-4fd566a4679b",
   "metadata": {},
   "outputs": [],
   "source": []
  },
  {
   "cell_type": "code",
   "execution_count": 5,
   "id": "75fd7ce4-6c3c-40dd-8888-7e153efd0893",
   "metadata": {},
   "outputs": [
    {
     "name": "stderr",
     "output_type": "stream",
     "text": [
      "/home/gertwk/.conda/envs/swyft4-dev-notebook/lib/python3.9/site-packages/torch/nn/modules/lazy.py:180: UserWarning: Lazy modules are a new feature under heavy development so changes to the API or functionality can happen at any moment.\n",
      "  warnings.warn('Lazy modules are a new feature under heavy development '\n"
     ]
    }
   ],
   "source": [
    "names = ['agnostic3','confident2']\n",
    "colors_priors = ['r','#FFA500','y','g','b', ]\n",
    "\n",
    "priors = {}\n",
    "for ip, name in enumerate(names):\n",
    "\n",
    "    priors[name] = {'name': name}\n",
    "\n",
    "    priors[name]['results_path'] = '/home/gertwk/ALPs_with_SWYFT/cluster_runs/analysis_results/'+name\n",
    "\n",
    "    priors[name]['config_vars'] = priors[name]['results_path'] +'/config_variables.pickle'\n",
    "\n",
    "    priors[name]['config_phys'] = priors[name]['results_path'] +'/physics_variables.pickle'\n",
    "    \n",
    "    priors[name]['truncation_record'] = priors[name]['results_path'] +'/truncation_record.pickle'\n",
    "    \n",
    "    sys.path.append(priors[name]['results_path'])\n",
    "    import param_function\n",
    "    import ALP_quick_sim\n",
    "    with open(priors[name]['config_vars'], 'rb') as file: config_objects = pickle.load(file)\n",
    "    for key in config_objects.keys(): priors[name][key] = config_objects[key]\n",
    "    with open(priors[name]['config_phys'], 'rb') as file: config_objects = pickle.load(file)\n",
    "    for key in config_objects.keys(): priors[name][key] = config_objects[key]\n",
    "    with open(priors[name]['truncation_record'], 'rb') as file: config_objects = pickle.load(file)\n",
    "    for key in config_objects.keys(): priors[name][key] = config_objects[key]\n",
    "    sys.path.remove(priors[name]['results_path'])\n",
    "    sys.path.append(priors[name]['results_path']+'/train_output/net')\n",
    "    import network\n",
    "    sys.path.remove(priors[name]['results_path']+'/train_output/net')\n",
    "    \n",
    "    count = 0\n",
    "    for combo in itertools.product(*priors[name]['hyperparams'].values()):\n",
    "        if count == priors[name]['which_grid_point']:\n",
    "            hyperparams_point = {}\n",
    "            for i, key in enumerate(priors[name]['hyperparams'].keys()):\n",
    "                hyperparams_point[key]=combo[i]\n",
    "        count +=1\n",
    "        \n",
    "    priors[name]['net_path'] = (priors[name]['results_path'] + '/train_output/net/trained_network_round_'\n",
    "                                +str(priors[name]['which_truncation'])+'_gridpoint_'+str(priors[name]['which_grid_point'])+'.pt')\n",
    "\n",
    "    priors[name]['net'] = network.NetworkCorner(nbins=priors[name]['A'].nbins, marginals=priors[name]['POI_indices'], \n",
    "                                                param_names=priors[name]['A'].param_names, **hyperparams_point)\n",
    "\n",
    "    priors[name]['net'].load_state_dict(torch.load(priors[name]['net_path']))\n",
    "\n",
    "    with open('/home/gertwk/ALPs_with_SWYFT/cluster_runs/analysis_results/'+'test3'+'/explim_predictions.pickle', 'rb') as file:\n",
    "        priors[name]['predictions'] = pickle.load(file)\n",
    "    \n",
    "    del sys.modules['param_function']\n",
    "    del sys.modules['ALP_quick_sim']\n",
    "    del sys.modules['network']\n"
   ]
  },
  {
   "cell_type": "code",
   "execution_count": null,
   "id": "0ef8fb34-08ef-4ab9-967c-b0d47aaea579",
   "metadata": {},
   "outputs": [],
   "source": []
  },
  {
   "cell_type": "code",
   "execution_count": null,
   "id": "5c5039c0-2fed-43fd-83cf-9301e13ddcb0",
   "metadata": {},
   "outputs": [],
   "source": []
  },
  {
   "cell_type": "code",
   "execution_count": null,
   "id": "fe68822c-ada1-4eee-bb7a-59070ef69f6a",
   "metadata": {},
   "outputs": [],
   "source": []
  },
  {
   "cell_type": "code",
   "execution_count": null,
   "id": "d023e335-3246-4472-9984-7ea2635cd4a7",
   "metadata": {},
   "outputs": [],
   "source": [
    "fig = plt.figure(figsize=(12,12))\n",
    "for i in range(4):\n",
    "    fig.add_subplot(2,2,i+1)\n",
    "    name = names[i%2]\n",
    "    fig.axes[-1].set_title(name)\n",
    "    _ = generate_expected_limits(10, 10_000, bounds = [priors[name]['bounds'][0], priors[name]['bounds'][1]],\n",
    "                                 predictions=priors[name]['predictions'], ax=fig.axes[-1])\n",
    "    \n",
    "\n",
    "fig.savefig(thesis_figs+'expected_limits_4_priors.pdf')"
   ]
  },
  {
   "cell_type": "code",
   "execution_count": null,
   "id": "62b8cf04-6448-482a-9dac-179e01869122",
   "metadata": {},
   "outputs": [],
   "source": []
  },
  {
   "cell_type": "code",
   "execution_count": 101,
   "id": "fb6d2a64-ed5d-43b3-b228-ed8d6b5d9c1f",
   "metadata": {},
   "outputs": [],
   "source": [
    "with open('/home/gertwk/ALPs_with_SWYFT/cluster_runs/analysis_results/'+'flare0_agnostic_mock2'+'/explim_predictions.pickle', 'rb') as file:\n",
    "        preds = pickle.load(file)"
   ]
  },
  {
   "cell_type": "code",
   "execution_count": 106,
   "id": "998a59c0-97b8-401f-9b37-e072e4b05fe3",
   "metadata": {},
   "outputs": [
    {
     "data": {
      "text/plain": [
       "torch.Size([1000000, 2, 2])"
      ]
     },
     "execution_count": 106,
     "metadata": {},
     "output_type": "execute_result"
    }
   ],
   "source": [
    "preds[1].params.shape"
   ]
  },
  {
   "cell_type": "code",
   "execution_count": null,
   "id": "3e70eac9-e31d-4092-b472-5a16337faba6",
   "metadata": {},
   "outputs": [],
   "source": []
  },
  {
   "cell_type": "code",
   "execution_count": null,
   "id": "6eaf5e44-2734-4bb9-98aa-82e7ce9c5d95",
   "metadata": {},
   "outputs": [],
   "source": []
  },
  {
   "cell_type": "code",
   "execution_count": null,
   "id": "41ca9bef-5529-4233-b0d9-d40fb7d499ba",
   "metadata": {},
   "outputs": [],
   "source": []
  },
  {
   "cell_type": "code",
   "execution_count": null,
   "id": "77b3a92d-c64e-47b8-a525-2c1c5a22e0ce",
   "metadata": {},
   "outputs": [],
   "source": []
  },
  {
   "cell_type": "code",
   "execution_count": null,
   "id": "3a4873b6-0a5b-4e26-a240-eaba0ba7c943",
   "metadata": {},
   "outputs": [],
   "source": []
  },
  {
   "cell_type": "code",
   "execution_count": null,
   "id": "5af46cf2-7053-4f40-a1da-c97d01b18fc4",
   "metadata": {},
   "outputs": [],
   "source": []
  }
 ],
 "metadata": {
  "kernelspec": {
   "display_name": "Python 3 (ipykernel)",
   "language": "python",
   "name": "python3"
  },
  "language_info": {
   "codemirror_mode": {
    "name": "ipython",
    "version": 3
   },
   "file_extension": ".py",
   "mimetype": "text/x-python",
   "name": "python",
   "nbconvert_exporter": "python",
   "pygments_lexer": "ipython3",
   "version": "3.9.7"
  }
 },
 "nbformat": 4,
 "nbformat_minor": 5
}
