{
 "cells": [
  {
   "cell_type": "code",
   "execution_count": 2,
   "id": "7885c4b0-ccb2-49d9-b298-9fd9b7a9c88e",
   "metadata": {},
   "outputs": [],
   "source": [
    "import os\n",
    "import sys\n",
    "import numpy as np\n",
    "import swyft\n",
    "import pickle\n",
    "import matplotlib.pyplot as plt\n",
    "import torch\n",
    "import importlib\n",
    "from pytorch_lightning.loggers import WandbLogger\n",
    "from pytorch_lightning.callbacks import LearningRateMonitor\n",
    "torch.set_float32_matmul_precision('medium')\n",
    "device_notebook = \"cuda\" if torch.cuda.is_available() else \"cpu\"\n",
    "import wandb\n",
    "import copy\n",
    "from torch.multiprocessing import Pool\n",
    "torch.multiprocessing.set_start_method('spawn',force=True)\n",
    "torch.set_num_threads(28)\n",
    "import itertools\n",
    "import subprocess\n",
    "from tqdm.auto import tqdm\n",
    "sys.path.append('/home/gertwk/ALPs_with_SWYFT/analysis_scripts/ALP_sim')\n",
    "from explim_functions import generate_expected_limits\n",
    "import sympy as sy\n",
    "from scipy.stats import norm, lognorm\n",
    "from swyft.plot.mass import _get_jefferys_interval as interval\n",
    "import random"
   ]
  },
  {
   "cell_type": "code",
   "execution_count": 3,
   "id": "56feaf19-6395-4d74-a1ff-6d089c02f0fa",
   "metadata": {},
   "outputs": [],
   "source": [
    "main_dir = \"ALPs_with_SWYFT\"\n",
    "thesis_figs = os.getcwd().split(main_dir)[0]+\"/\"+main_dir+\"/thesis_figures/\""
   ]
  },
  {
   "cell_type": "code",
   "execution_count": 4,
   "id": "875729e6-31ab-4306-bc54-618e6d81cd3b",
   "metadata": {},
   "outputs": [
    {
     "name": "stderr",
     "output_type": "stream",
     "text": [
      "/home/gertwk/.conda/envs/swyft4-dev-notebook/lib/python3.9/site-packages/torch/nn/modules/lazy.py:180: UserWarning: Lazy modules are a new feature under heavy development so changes to the API or functionality can happen at any moment.\n",
      "  warnings.warn('Lazy modules are a new feature under heavy development '\n"
     ]
    }
   ],
   "source": [
    "names = ['grid_informed_power5',]\n",
    "gridpoints = [50,55]\n",
    "colors_priors = ['r','#FFA500','y','g','b', ]\n",
    "\n",
    "priors = {}\n",
    "for ip, name in enumerate(names):\n",
    "\n",
    "    priors[name] = {'name': name}\n",
    "\n",
    "    priors[name]['results_path'] = '/home/gertwk/ALPs_with_SWYFT/cluster_runs/analysis_results/'+name\n",
    "\n",
    "    priors[name]['store_path'] = priors[name]['results_path']+\"/sim_output/store\"\n",
    "\n",
    "    priors[name]['config_vars'] = priors[name]['results_path'] +'/config_variables.pickle'\n",
    "\n",
    "    priors[name]['config_phys'] = priors[name]['results_path'] +'/physics_variables.pickle'\n",
    "    \n",
    "    priors[name]['truncation_record'] = priors[name]['results_path'] +'/truncation_record.pickle'\n",
    "\n",
    "    removed_ALP_sim=0\n",
    "    try:\n",
    "        sys.path.remove('/home/gertwk/ALPs_with_SWYFT/analysis_scripts/ALP_sim')\n",
    "        removed_ALP_sim=1\n",
    "    except ValueError:\n",
    "        pass\n",
    "    try:\n",
    "        del sys.modules['ALP_quick_sim']\n",
    "    except KeyError:\n",
    "        pass\n",
    "    sys.path.append(priors[name]['results_path'])\n",
    "    import param_function\n",
    "    import ALP_quick_sim\n",
    "    with open(priors[name]['config_vars'], 'rb') as file: config_objects = pickle.load(file)\n",
    "    for key in config_objects.keys(): priors[name][key] = config_objects[key]\n",
    "    with open(priors[name]['config_phys'], 'rb') as file: config_objects = pickle.load(file)\n",
    "    for key in config_objects.keys(): priors[name][key] = config_objects[key]\n",
    "    with open(priors[name]['truncation_record'], 'rb') as file: config_objects = pickle.load(file)\n",
    "    for key in config_objects.keys(): priors[name][key] = config_objects[key]\n",
    "    sys.path.remove(priors[name]['results_path'])\n",
    "    sys.path.append(priors[name]['results_path']+'/train_output/net')\n",
    "    import network\n",
    "    sys.path.remove(priors[name]['results_path']+'/train_output/net')\n",
    "    \n",
    "    \n",
    "\n",
    "    priors[name]['net_path'] = {}\n",
    "    priors[name]['net'] = {}\n",
    "    for rnd in range(priors[name]['which_truncation']+1):\n",
    "        round = 'round_'+str(rnd)\n",
    "        priors[name]['net'][round] = {}\n",
    "        priors[name]['net_path'][round] = {}\n",
    "        for gp in gridpoints:\n",
    "            gridpoint = 'grid_point_' + str(gp)\n",
    "            priors[name]['net_path'][round][gridpoint] = (priors[name]['results_path'] + '/train_output/net/trained_network_'\n",
    "                                                             +round+'_gridpoint_'+str(int(gp))+'.pt')\n",
    "\n",
    "            count = 0\n",
    "            for combo in itertools.product(*priors[name]['hyperparams'].values()):\n",
    "                if count == gp:\n",
    "                    hyperparams_point = {}\n",
    "                    for i, key in enumerate(priors[name]['hyperparams'].keys()):\n",
    "                        hyperparams_point[key]=combo[i]\n",
    "                    break\n",
    "                count +=1\n",
    "          \n",
    "            priors[name]['net'][round][gridpoint] = network.NetworkCorner(\n",
    "                nbins=priors[name]['A'].nbins,\n",
    "                marginals=priors[name]['POI_indices'],\n",
    "                param_names=priors[name]['A'].param_names,\n",
    "                **hyperparams_point,\n",
    "            )\n",
    "            priors[name]['net'][round][gridpoint].load_state_dict(torch.load(priors[name]['net_path'][round][gridpoint]))\n",
    "\n",
    "    # with open(priors[name]['results_path']+'/explim_predictions.pickle', 'rb') as file:\n",
    "    #     priors[name]['predictions'] = pickle.load(file)\n",
    "\n",
    "    if priors[name]['which_truncation'] > 0:\n",
    "        store = swyft.ZarrStore(priors[name]['store_path'] + \"/\" + priors[name]['store_name']+\"_round_\"+str(priors[name]['which_truncation'])+\"_gridpoint_\"+str(priors[name]['which_grid_point']))\n",
    "        # store_explim = swyft.ZarrStore(priors[name]['store_path'] + \"/\" + priors[name]['store_name']+\"_explim_round_\"+str(priors[name]['which_truncation'])+\"_gridpoint_\"+str(priors[name]['which_grid_point']))\n",
    "        store_prior = swyft.ZarrStore(priors[name]['store_path'] + \"/\" + priors[name]['store_name']+\"_prior_round_\"+str(priors[name]['which_truncation'])+\"_gridpoint_\"+str(priors[name]['which_grid_point']))\n",
    "    else:\n",
    "        store = swyft.ZarrStore(priors[name]['store_path'] + \"/\" + priors[name]['store_name'])\n",
    "        # store_explim = swyft.ZarrStore(priors[name]['store_path'] + \"/\" + priors[name]['store_name']+\"_explim\")\n",
    "        store_prior = swyft.ZarrStore(priors[name]['store_path'] + \"/\" + priors[name]['store_name']+\"_prior\")\n",
    "    priors[name]['samples'] = store.get_sample_store()\n",
    "    # priors[name]['samples_explim'] = store_explim.get_sample_store()\n",
    "    priors[name]['samples_prior'] = store_prior.get_sample_store()\n",
    " \n",
    "    del sys.modules['param_function']\n",
    "    del sys.modules['ALP_quick_sim']\n",
    "    del sys.modules['network']\n",
    "    if removed_ALP_sim: sys.path.append('/home/gertwk/ALPs_with_SWYFT/analysis_scripts/ALP_sim')\n"
   ]
  },
  {
   "cell_type": "code",
   "execution_count": 5,
   "id": "339b4fe7-b2bd-4a4c-be5c-01cafebeb8e2",
   "metadata": {},
   "outputs": [
    {
     "name": "stderr",
     "output_type": "stream",
     "text": [
      "/home/gertwk/.conda/envs/swyft4-dev-notebook/lib/python3.9/site-packages/lightning_fabric/plugins/environments/slurm.py:165: PossibleUserWarning: The `srun` command is available on your system but is not used. HINT: If your intention is to run Lightning on SLURM, prepend your python command with `srun` like so: srun python /home/gertwk/.conda/envs/swyft4-dev-notebook/lib/pyt ...\n",
      "  rank_zero_warn(\n",
      "GPU available: True (cuda), used: True\n",
      "TPU available: False, using: 0 TPU cores\n",
      "IPU available: False, using: 0 IPUs\n",
      "HPU available: False, using: 0 HPUs\n"
     ]
    }
   ],
   "source": [
    "trainer = swyft.SwyftTrainer(accelerator = 'cuda', precision = 64,logger=False,)"
   ]
  },
  {
   "cell_type": "code",
   "execution_count": 6,
   "id": "72f18655-c822-47a8-b8a7-c667f7d668bd",
   "metadata": {},
   "outputs": [
    {
     "data": {
      "text/plain": [
       "['/home/gertwk/ALPs_with_SWYFT/notebooks/thesis_results',\n",
       " '/home/gertwk/.conda/envs/swyft4-dev-notebook/lib/python39.zip',\n",
       " '/home/gertwk/.conda/envs/swyft4-dev-notebook/lib/python3.9',\n",
       " '/home/gertwk/.conda/envs/swyft4-dev-notebook/lib/python3.9/lib-dynload',\n",
       " '',\n",
       " '/home/gertwk/.conda/envs/swyft4-dev-notebook/lib/python3.9/site-packages',\n",
       " '/tmp/tmp8r4m_cx8',\n",
       " '/home/gertwk/ALPs_with_SWYFT/analysis_scripts/ALP_sim']"
      ]
     },
     "execution_count": 6,
     "metadata": {},
     "output_type": "execute_result"
    }
   ],
   "source": [
    "sys.path"
   ]
  },
  {
   "cell_type": "code",
   "execution_count": 7,
   "id": "d7af9786-3a1b-4247-a172-23c26ce443ab",
   "metadata": {},
   "outputs": [],
   "source": [
    "def convert_pair_to_index(pair,n_indices):\n",
    "    pair = sorted(pair)\n",
    "    return int((pair[0]+1)*(n_indices-1+n_indices-pair[0]-1)/2 - n_indices + pair[1])"
   ]
  },
  {
   "cell_type": "code",
   "execution_count": 8,
   "id": "6a6d358e-2538-4bdf-883a-2da94cb5165d",
   "metadata": {},
   "outputs": [],
   "source": [
    "def weight(exp,n_bins):\n",
    "    x = np.linspace(-1,1,n_bins)\n",
    "    return 0.5+0.5*np.cos(np.pi*np.sign(x)*np.abs(x)**exp)"
   ]
  },
  {
   "cell_type": "code",
   "execution_count": 9,
   "id": "110e313d-fa3c-4992-ba22-386886c2e9bf",
   "metadata": {},
   "outputs": [],
   "source": [
    "stdnorm = norm()"
   ]
  },
  {
   "cell_type": "code",
   "execution_count": 10,
   "id": "7d838032-6a6e-494d-9bf5-3a32aa253dab",
   "metadata": {},
   "outputs": [],
   "source": [
    "def references2D(\n",
    "    parsed_samples,\n",
    "    x_freq = None,\n",
    "    y_freq = None,\n",
    "    x_exponent = None,\n",
    "    y_exponent = None,\n",
    "    x_phase = None,\n",
    "    y_phase = None,\n",
    "    min_freq = 1,\n",
    "    max_freq = 1.4,\n",
    "    min_freq_gap = 0.15,\n",
    "    min_exponent = 0.8,\n",
    "    max_exponent = 1.5,\n",
    "    min_exponent_gap = 0.3,\n",
    "    device = 'cpu'\n",
    "):\n",
    "  \n",
    "    try:\n",
    "        samples = parsed_samples['data']\n",
    "    except IndexError:\n",
    "        samples = parsed_samples\n",
    "\n",
    "    data_length = len(samples[0]) \n",
    "    start_of_range1 = np.random.randint(0,data_length)\n",
    "    end_of_range1 = (start_of_range1 + int(data_length/2)) #np.random.randint( start_of_range1+int(data_length/3) , start_of_range1+int(2*data_length/3) )\n",
    "    exp1 = np.random.uniform(0.5,2)\n",
    "    exp2 = np.random.uniform(0.5,2)\n",
    "    range1 = np.arange(start_of_range1,end_of_range1)%data_length\n",
    "    range2 = np.arange(end_of_range1,end_of_range1+(start_of_range1-end_of_range1)%data_length)%data_length\n",
    "\n",
    "    reordered_range1 = (np.concatenate([range1,range2])-int(data_length/2))%data_length\n",
    "    reordered_range2 = (np.concatenate([range2,range1])-int(data_length/2))%data_length\n",
    "    weights1 = weight(exp1,data_length)[reordered_range1]\n",
    "    weights2 = weight(exp2,data_length)[reordered_range2]\n",
    "\n",
    "    samples1 = samples.copy()\n",
    "    samples2 = samples.copy()\n",
    "    \n",
    "    # samples1 = samples[:,range1]\n",
    "    # samples2 = samples[:,range2]\n",
    " \n",
    "    bin_mins1 = np.min(samples1, axis=0)\n",
    "    bin_maxes1 = np.max(samples1, axis=0)\n",
    "    sums_of_standardized_bins1 = np.sum( weights1*((samples1-bin_mins1)/(bin_maxes1-bin_mins1)) ,axis=1)\n",
    "    sums_of_standardized_bins1 = np.where(np.isinf(sums_of_standardized_bins1),0,sums_of_standardized_bins1)\n",
    "    max_sum1 = np.max(sums_of_standardized_bins1)\n",
    "    min_sum1 = np.min(sums_of_standardized_bins1)\n",
    "    standardized_sums1 = (sums_of_standardized_bins1-min_sum1)/(max_sum1-min_sum1)\n",
    "\n",
    "    bin_mins2 = np.min(samples2, axis=0)\n",
    "    bin_maxes2 = np.max(samples2, axis=0)\n",
    "    sums_of_standardized_bins2 = np.sum( weights2*((samples2-bin_mins2)/(bin_maxes2-bin_mins2)) ,axis=1)\n",
    "    sums_of_standardized_bins2 = np.where(np.isinf(sums_of_standardized_bins2),0,sums_of_standardized_bins2)\n",
    "    max_sum2 = np.max(sums_of_standardized_bins2)\n",
    "    min_sum2 = np.min(sums_of_standardized_bins2)\n",
    "    standardized_sums2 = (sums_of_standardized_bins2-min_sum2)/(max_sum2-min_sum2)\n",
    "\n",
    "    sorted_sums1 = np.sort(standardized_sums1)\n",
    "    sorted_sums2 = np.sort(standardized_sums2)\n",
    "\n",
    "    fitted_parameters1 = lognorm.fit(standardized_sums1)\n",
    "    fitted_parameters2 = lognorm.fit(standardized_sums2)\n",
    "    \n",
    "    phase_function1 = lognorm(fitted_parameters1[0], fitted_parameters1[1], fitted_parameters1[2]).cdf\n",
    "    phase_function2 = lognorm(fitted_parameters2[0], fitted_parameters2[1], fitted_parameters2[2]).cdf\n",
    "\n",
    "    phase_for_check1 = phase_function1(sorted_sums1)\n",
    "    phase_for_check2 = phase_function2(sorted_sums2)\n",
    "    phase1 = phase_function1(standardized_sums1)\n",
    "    phase2 = phase_function2(standardized_sums2)\n",
    "\n",
    "    if x_phase is None: x_phase = np.random.uniform(0,1)\n",
    "    if y_phase is None: y_phase = np.random.uniform(0,1)\n",
    "\n",
    "    freq_range = max_freq-min_freq\n",
    "    if x_freq is None: x_freq = np.random.uniform(min_freq,max_freq)\n",
    "    if y_freq is None: y_freq = np.random.uniform(min(x_freq+min_freq_gap,max_freq)-min_freq, freq_range+max(x_freq-min_freq-min_freq_gap,0))%(freq_range) + min_freq\n",
    "    \n",
    "    if x_exponent is None: x_exponent = np.random.uniform(min_exponent,1) if x_freq > y_freq else np.random.uniform(1,max_exponent)\n",
    "    if y_exponent is None: y_exponent = np.random.uniform(min_exponent,min(1,x_exponent-min_exponent_gap)) if x_freq < y_freq else np.random.uniform(max(1,x_exponent+min_exponent_gap),max_exponent)\n",
    "\n",
    "    x_values_for_check = 0.5 + 0.5*np.sin(2*np.pi*(( x_freq*phase_for_check1)**x_exponent + x_phase ))\n",
    "    y_values_for_check = 0.5 + 0.5*np.sin(2*np.pi*(( y_freq*phase_for_check2)**y_exponent + y_phase ))\n",
    "    \n",
    "    x_values = 0.5 + 0.5*np.sin(2*np.pi*(( x_freq*phase1)**x_exponent + x_phase ))\n",
    "    y_values = 0.5 + 0.5*np.sin(2*np.pi*(( y_freq*phase2)**y_exponent + y_phase ))\n",
    "\n",
    "    random_variables = {\n",
    "        'range1':range1,\n",
    "        'range2':range2,\n",
    "        'x_freq':x_freq,\n",
    "        'y_freq':y_freq,\n",
    "        'x_exponent':x_exponent,\n",
    "        'y_exponent':y_exponent,\n",
    "        'x_phase':x_phase,\n",
    "        'y_phase':y_phase,\n",
    "        'sums1':standardized_sums1,\n",
    "        'sums2':standardized_sums2,\n",
    "        'sorted_sums1':sorted_sums1,\n",
    "        'sorted_sums2':sorted_sums2,\n",
    "        'fitted_parameters1': fitted_parameters1,\n",
    "        'fitted_parameters2': fitted_parameters2,\n",
    "    }\n",
    "    \n",
    "\n",
    "    return np.array([x_values,y_values]).transpose(), np.array([x_values_for_check,y_values_for_check]).transpose(), random_variables"
   ]
  },
  {
   "cell_type": "code",
   "execution_count": 11,
   "id": "bbdac0b6-c33a-4c7d-91bf-5635dc34946a",
   "metadata": {},
   "outputs": [
    {
     "data": {
      "text/plain": [
       "400000"
      ]
     },
     "execution_count": 11,
     "metadata": {},
     "output_type": "execute_result"
    }
   ],
   "source": [
    "len(priors[name]['samples_prior'])"
   ]
  },
  {
   "cell_type": "code",
   "execution_count": 16,
   "id": "4430502f-9e21-4f1c-a073-e11163d93372",
   "metadata": {},
   "outputs": [],
   "source": [
    "try:\n",
    "    del sys.modules['DRP_test']\n",
    "except KeyError:\n",
    "    pass\n",
    "from DRP_test import get_drp_coverage, get_drp_coverage_torch, draw_DRP_samples_fast"
   ]
  },
  {
   "cell_type": "code",
   "execution_count": 19,
   "id": "fe7d0275-90e8-4ff6-a5fc-1794d9dfca50",
   "metadata": {},
   "outputs": [
    {
     "name": "stdout",
     "output_type": "stream",
     "text": [
      "CPU times: user 6 µs, sys: 2 µs, total: 8 µs\n",
      "Wall time: 11.9 µs\n"
     ]
    }
   ],
   "source": [
    "%%time\n",
    "\n",
    "def test_DRP_values(tries=3,n_samps=1000, n_prior_samps=1000, n_refs=100):\n",
    "    name = names[0]\n",
    "    which_truncation = priors[name]['which_truncation']\n",
    "    which_grid_point = priors[name]['which_grid_point']\n",
    "    POIs = priors[name]['POI_indices']\n",
    "    A = priors[name]['A']\n",
    "    bounds = np.array(priors[name]['bounds_rounds'][which_grid_point][which_truncation])\n",
    "    \n",
    "    try:\n",
    "        random_indices = random.sample(list(np.arange(n_samps*tries)), n_samps*tries)\n",
    "    except ValueError:\n",
    "        random_indices = list(np.concatenate([random.sample(list(np.arange(n_samps)), n_samps) for trial in range(tries)]))\n",
    "\n",
    "    try:\n",
    "        random_prior_indices = random.sample(list(np.arange(n_prior_samps*tries)), n_prior_samps*tries)\n",
    "    except ValueError:\n",
    "        random_prior_indices = list(np.concatenate([random.sample(list(np.arange(n_prior_samps)), n_prior_samps) for trial in range(tries)]))\n",
    "        \n",
    "    \n",
    "    for gp in gridpoints:\n",
    "        print()\n",
    "        gridpoint = \"grid_point_\"+str(gp)\n",
    "        print('Gridpoint ' + str(gp))\n",
    "        for trial in range(tries):\n",
    "    \n",
    "            samples = swyft.Samples({key:val[random_indices[trial*n_samps:(trial+1)*n_samps]] for key,val in priors[name]['samples'].items()})\n",
    "            prior_samples = swyft.Samples({key:val[random_prior_indices[trial*n_prior_samps:(trial+1)*n_prior_samps]] for key,val in priors[name]['samples_prior'].items()})\n",
    "            \n",
    "            draws1d = {}\n",
    "            draws2d = {}\n",
    "            weights1d = {}\n",
    "            weights2d = {}\n",
    "\n",
    "            \n",
    "            for rnd in [0]:\n",
    "                round = 'round_'+str(rnd)\n",
    "\n",
    "                draws1d[round],draws2d[round],weights1d[round],weights2d[round] = draw_DRP_samples_fast(\n",
    "                    priors[name]['net'][round][gridpoint],\n",
    "                    trainer,\n",
    "                    samples,\n",
    "                    prior_samples,\n",
    "                )\n",
    "            \n",
    "            print('Computing references...', flush=True, end=\"\")\n",
    "            references_2d = [\n",
    "                references2D(samples)[0] for _ in range(n_refs)\n",
    "            ]\n",
    "            print(' done.')\n",
    "        \n",
    "        \n",
    "            ecp_pp = { 'round_'+str(rnd) : [[{} for ref_list in references_2d],[{} for ref_list in references_2d]] for rnd in range(which_truncation+1) }\n",
    "            alpha_pp = { 'round_'+str(rnd) : [[{} for ref_list in references_2d],[{} for ref_list in references_2d]] for rnd in range(which_truncation+1) }\n",
    "            \n",
    "            validation_sums = { 'round_'+str(rnd) : [{},{}] for rnd in range(which_truncation+1) }\n",
    "            \n",
    "            rows = len(POIs)\n",
    "            \n",
    "            for rnd in [0]:\n",
    "                round = 'round_'+str(rnd)\n",
    "                validation_sums[round][1][key] = 0\n",
    "                for ref_i in range(len(references_2d)): \n",
    "                    for i, key in enumerate(list(draws2d[round].keys())[0]):  \n",
    "                        ecp_pp[round][1][ref_i][key], alpha_pp[round][1][ref_i][key], _, _, _,_,f_score,_ = get_drp_coverage_torch(\n",
    "                            draws2d[round][key],\n",
    "                            samples['params'][:,[column,row]],\n",
    "                            weights = weights2d[round][key],\n",
    "                            theta_names=np.array(A.param_names)[[column,row]],\n",
    "                            bounds = np.array(bounds)[[column,row]],\n",
    "                            references = references_2d[ref_i],\n",
    "                            device='cuda'\n",
    "                        )\n",
    "                        uncertainty = (interval((alpha_pp[round][1][ref_i][key]*n_samps).astype(int),n_samps)[:,1]-interval((alpha_pp[round][1][ref_i][key]*n_samps).astype(int),n_samps)[:,0])/2\n",
    "                        validation_sums[round][1][key] += np.sum(((ecp_pp[round][1][ref_i][key]-alpha_pp[round][1][ref_i][key])/uncertainty)**2)/n_refs\n",
    "                        break\n",
    "            \n",
    "            for i, key in enumerate(list(draws2d['round_0'].keys())[0]):\n",
    "                print(key)\n",
    "                for rnd in [0]:\n",
    "                    print(validation_sums['round_'+str(rnd)][1][key])\n",
    "                print()\n",
    "                break\n",
    "    "
   ]
  },
  {
   "cell_type": "code",
   "execution_count": 12,
   "id": "991d0ace-9938-43fd-bcaa-31c524a8e526",
   "metadata": {},
   "outputs": [
    {
     "name": "stdout",
     "output_type": "stream",
     "text": [
      "\n",
      "Gridpoint 50\n"
     ]
    },
    {
     "data": {
      "application/vnd.jupyter.widget-view+json": {
       "model_id": "4553382ed93f4460b0e3f30134181bef",
       "version_major": 2,
       "version_minor": 0
      },
      "text/plain": [
       "Predicting: 0it [00:00, ?it/s]"
      ]
     },
     "metadata": {},
     "output_type": "display_data"
    },
    {
     "name": "stdout",
     "output_type": "stream",
     "text": [
      "Computing references... done.\n",
      "['m' 'g']\n",
      "16.375436387525042\n",
      "\n"
     ]
    },
    {
     "data": {
      "application/vnd.jupyter.widget-view+json": {
       "model_id": "922f0072d93543359116a3da58761450",
       "version_major": 2,
       "version_minor": 0
      },
      "text/plain": [
       "Predicting: 0it [00:00, ?it/s]"
      ]
     },
     "metadata": {},
     "output_type": "display_data"
    },
    {
     "name": "stdout",
     "output_type": "stream",
     "text": [
      "Computing references... done.\n",
      "['m' 'g']\n",
      "11.507890936416969\n",
      "\n"
     ]
    },
    {
     "data": {
      "application/vnd.jupyter.widget-view+json": {
       "model_id": "f475f6a391984756abd48ce4bdac8e91",
       "version_major": 2,
       "version_minor": 0
      },
      "text/plain": [
       "Predicting: 0it [00:00, ?it/s]"
      ]
     },
     "metadata": {},
     "output_type": "display_data"
    },
    {
     "name": "stdout",
     "output_type": "stream",
     "text": [
      "Computing references... done.\n",
      "['m' 'g']\n",
      "14.071782459519032\n",
      "\n",
      "\n",
      "Gridpoint 55\n"
     ]
    },
    {
     "data": {
      "application/vnd.jupyter.widget-view+json": {
       "model_id": "8c4d7fb73b9f4b0f99cf124db98d56fa",
       "version_major": 2,
       "version_minor": 0
      },
      "text/plain": [
       "Predicting: 0it [00:00, ?it/s]"
      ]
     },
     "metadata": {},
     "output_type": "display_data"
    },
    {
     "name": "stdout",
     "output_type": "stream",
     "text": [
      "Computing references... done.\n",
      "['m' 'g']\n",
      "16.55151350616942\n",
      "\n"
     ]
    },
    {
     "data": {
      "application/vnd.jupyter.widget-view+json": {
       "model_id": "25467a965a5e4ce89a295d0f2cec8f0a",
       "version_major": 2,
       "version_minor": 0
      },
      "text/plain": [
       "Predicting: 0it [00:00, ?it/s]"
      ]
     },
     "metadata": {},
     "output_type": "display_data"
    },
    {
     "name": "stdout",
     "output_type": "stream",
     "text": [
      "Computing references... done.\n",
      "['m' 'g']\n",
      "9.194062521487476\n",
      "\n"
     ]
    },
    {
     "data": {
      "application/vnd.jupyter.widget-view+json": {
       "model_id": "6f8694b43316496d929bf27e3d7e0d0a",
       "version_major": 2,
       "version_minor": 0
      },
      "text/plain": [
       "Predicting: 0it [00:00, ?it/s]"
      ]
     },
     "metadata": {},
     "output_type": "display_data"
    },
    {
     "name": "stdout",
     "output_type": "stream",
     "text": [
      "Computing references... done.\n",
      "['m' 'g']\n",
      "13.61947494003192\n",
      "\n",
      "CPU times: user 2min 48s, sys: 3.66 s, total: 2min 52s\n",
      "Wall time: 2min 51s\n"
     ]
    }
   ],
   "source": [
    "%%time\n",
    "test_DRP_values()"
   ]
  },
  {
   "cell_type": "code",
   "execution_count": 20,
   "id": "fc8c2261-7b73-4e15-9b0e-039f00c4b1ac",
   "metadata": {},
   "outputs": [
    {
     "name": "stdout",
     "output_type": "stream",
     "text": [
      "\n",
      "Gridpoint 50\n"
     ]
    },
    {
     "data": {
      "application/vnd.jupyter.widget-view+json": {
       "model_id": "7436814d9deb409c89eb24989a91a61d",
       "version_major": 2,
       "version_minor": 0
      },
      "text/plain": [
       "Predicting: 0it [00:00, ?it/s]"
      ]
     },
     "metadata": {},
     "output_type": "display_data"
    },
    {
     "name": "stdout",
     "output_type": "stream",
     "text": [
      "Computing references... done.\n",
      "['m' 'g']\n",
      "13.441108786559584\n",
      "\n"
     ]
    },
    {
     "data": {
      "application/vnd.jupyter.widget-view+json": {
       "model_id": "fcbbcee5fe534e8faa52070b636f2ac5",
       "version_major": 2,
       "version_minor": 0
      },
      "text/plain": [
       "Predicting: 0it [00:00, ?it/s]"
      ]
     },
     "metadata": {},
     "output_type": "display_data"
    },
    {
     "name": "stdout",
     "output_type": "stream",
     "text": [
      "Computing references... done.\n",
      "['m' 'g']\n",
      "10.49834079652017\n",
      "\n"
     ]
    },
    {
     "data": {
      "application/vnd.jupyter.widget-view+json": {
       "model_id": "adc0844a82f241338160ea602eb57ea5",
       "version_major": 2,
       "version_minor": 0
      },
      "text/plain": [
       "Predicting: 0it [00:00, ?it/s]"
      ]
     },
     "metadata": {},
     "output_type": "display_data"
    },
    {
     "name": "stdout",
     "output_type": "stream",
     "text": [
      "Computing references... done.\n",
      "['m' 'g']\n",
      "7.970448729109384\n",
      "\n",
      "\n",
      "Gridpoint 55\n"
     ]
    },
    {
     "data": {
      "application/vnd.jupyter.widget-view+json": {
       "model_id": "1d1725bf89f54cecb45bbcc23fd88b02",
       "version_major": 2,
       "version_minor": 0
      },
      "text/plain": [
       "Predicting: 0it [00:00, ?it/s]"
      ]
     },
     "metadata": {},
     "output_type": "display_data"
    },
    {
     "name": "stdout",
     "output_type": "stream",
     "text": [
      "Computing references... done.\n",
      "['m' 'g']\n",
      "13.104263138762931\n",
      "\n"
     ]
    },
    {
     "data": {
      "application/vnd.jupyter.widget-view+json": {
       "model_id": "c74ee849409c4944b5be4fe2f545b6d0",
       "version_major": 2,
       "version_minor": 0
      },
      "text/plain": [
       "Predicting: 0it [00:00, ?it/s]"
      ]
     },
     "metadata": {},
     "output_type": "display_data"
    },
    {
     "name": "stdout",
     "output_type": "stream",
     "text": [
      "Computing references... done.\n",
      "['m' 'g']\n",
      "9.836650174053338\n",
      "\n"
     ]
    },
    {
     "data": {
      "application/vnd.jupyter.widget-view+json": {
       "model_id": "fcc93ae3f4844152b540c07b23ce4347",
       "version_major": 2,
       "version_minor": 0
      },
      "text/plain": [
       "Predicting: 0it [00:00, ?it/s]"
      ]
     },
     "metadata": {},
     "output_type": "display_data"
    },
    {
     "name": "stdout",
     "output_type": "stream",
     "text": [
      "Computing references... done.\n",
      "['m' 'g']\n",
      "8.207537455848152\n",
      "\n",
      "CPU times: user 36min, sys: 22.5 s, total: 36min 22s\n",
      "Wall time: 36min 20s\n"
     ]
    }
   ],
   "source": [
    "%%time\n",
    "test_DRP_values(n_samps=1_000, n_prior_samps=10_000)"
   ]
  },
  {
   "cell_type": "code",
   "execution_count": 21,
   "id": "3b0632d3-7bd5-423c-9d2a-3c35fe84d625",
   "metadata": {},
   "outputs": [
    {
     "name": "stdout",
     "output_type": "stream",
     "text": [
      "\n",
      "Gridpoint 50\n"
     ]
    },
    {
     "data": {
      "application/vnd.jupyter.widget-view+json": {
       "model_id": "55b4a794bfc74af793b8cb217062622e",
       "version_major": 2,
       "version_minor": 0
      },
      "text/plain": [
       "Predicting: 0it [00:00, ?it/s]"
      ]
     },
     "metadata": {},
     "output_type": "display_data"
    },
    {
     "name": "stdout",
     "output_type": "stream",
     "text": [
      "Computing references... done.\n",
      "['m' 'g']\n",
      "9.938725022779929\n",
      "\n"
     ]
    },
    {
     "data": {
      "application/vnd.jupyter.widget-view+json": {
       "model_id": "b527c791813c490d8a1f15a3cd714b9f",
       "version_major": 2,
       "version_minor": 0
      },
      "text/plain": [
       "Predicting: 0it [00:00, ?it/s]"
      ]
     },
     "metadata": {},
     "output_type": "display_data"
    },
    {
     "name": "stdout",
     "output_type": "stream",
     "text": [
      "Computing references... done.\n",
      "['m' 'g']\n",
      "10.609914330406953\n",
      "\n"
     ]
    },
    {
     "data": {
      "application/vnd.jupyter.widget-view+json": {
       "model_id": "93ac09c30ec144b2878ed5881729acd9",
       "version_major": 2,
       "version_minor": 0
      },
      "text/plain": [
       "Predicting: 0it [00:00, ?it/s]"
      ]
     },
     "metadata": {},
     "output_type": "display_data"
    },
    {
     "name": "stdout",
     "output_type": "stream",
     "text": [
      "Computing references... done.\n",
      "['m' 'g']\n",
      "13.45526387505012\n",
      "\n",
      "\n",
      "Gridpoint 55\n"
     ]
    },
    {
     "data": {
      "application/vnd.jupyter.widget-view+json": {
       "model_id": "ab73db0970d9443d87438e207a0e6745",
       "version_major": 2,
       "version_minor": 0
      },
      "text/plain": [
       "Predicting: 0it [00:00, ?it/s]"
      ]
     },
     "metadata": {},
     "output_type": "display_data"
    },
    {
     "name": "stdout",
     "output_type": "stream",
     "text": [
      "Computing references... done.\n",
      "['m' 'g']\n",
      "8.89245522750768\n",
      "\n"
     ]
    },
    {
     "data": {
      "application/vnd.jupyter.widget-view+json": {
       "model_id": "2b140cd175eb402ab93f5b9ad6fef1c5",
       "version_major": 2,
       "version_minor": 0
      },
      "text/plain": [
       "Predicting: 0it [00:00, ?it/s]"
      ]
     },
     "metadata": {},
     "output_type": "display_data"
    },
    {
     "name": "stdout",
     "output_type": "stream",
     "text": [
      "Computing references... done.\n",
      "['m' 'g']\n",
      "12.60406737742662\n",
      "\n"
     ]
    },
    {
     "data": {
      "application/vnd.jupyter.widget-view+json": {
       "model_id": "acb5ebd2960e4d5b8b81f178ced5b3f2",
       "version_major": 2,
       "version_minor": 0
      },
      "text/plain": [
       "Predicting: 0it [00:00, ?it/s]"
      ]
     },
     "metadata": {},
     "output_type": "display_data"
    },
    {
     "name": "stdout",
     "output_type": "stream",
     "text": [
      "Computing references... done.\n",
      "['m' 'g']\n",
      "12.715831767533434\n",
      "\n",
      "CPU times: user 5h 41min 23s, sys: 7min 24s, total: 5h 48min 47s\n",
      "Wall time: 5h 48min 25s\n"
     ]
    }
   ],
   "source": [
    "%%time\n",
    "test_DRP_values(n_samps=1_000, n_prior_samps=100_000)"
   ]
  },
  {
   "cell_type": "code",
   "execution_count": 22,
   "id": "86018f1f-4c10-44a0-ac8f-e63a38640a5c",
   "metadata": {},
   "outputs": [
    {
     "name": "stdout",
     "output_type": "stream",
     "text": [
      "\n",
      "Gridpoint 50\n"
     ]
    },
    {
     "ename": "IndexError",
     "evalue": "index 462614 is out of bounds for axis 0 with size 400000",
     "output_type": "error",
     "traceback": [
      "\u001b[0;31m---------------------------------------------------------------------------\u001b[0m",
      "\u001b[0;31mIndexError\u001b[0m                                Traceback (most recent call last)",
      "File \u001b[0;32m<timed eval>:1\u001b[0m\n",
      "File \u001b[0;32m<timed exec>:32\u001b[0m, in \u001b[0;36mtest_DRP_values\u001b[0;34m(tries, n_samps, n_prior_samps, n_refs)\u001b[0m\n",
      "File \u001b[0;32m<timed exec>:32\u001b[0m, in \u001b[0;36m<dictcomp>\u001b[0;34m(.0)\u001b[0m\n",
      "\u001b[0;31mIndexError\u001b[0m: index 462614 is out of bounds for axis 0 with size 400000"
     ]
    }
   ],
   "source": [
    "%%time\n",
    "test_DRP_values(n_samps=1_000, n_prior_samps=400_000)"
   ]
  },
  {
   "cell_type": "code",
   "execution_count": null,
   "id": "0c85d7c9-f68d-40ac-aea3-b637285ceebe",
   "metadata": {},
   "outputs": [],
   "source": []
  },
  {
   "cell_type": "code",
   "execution_count": 24,
   "id": "ac7a8042-a8c5-4fc0-80f0-c9c1104c275c",
   "metadata": {},
   "outputs": [
    {
     "ename": "NameError",
     "evalue": "name 'alpha_pp' is not defined",
     "output_type": "error",
     "traceback": [
      "\u001b[0;31m---------------------------------------------------------------------------\u001b[0m",
      "\u001b[0;31mNameError\u001b[0m                                 Traceback (most recent call last)",
      "Cell \u001b[0;32mIn[24], line 1\u001b[0m\n\u001b[0;32m----> 1\u001b[0m \u001b[43malpha_pp\u001b[49m[\u001b[38;5;28mround\u001b[39m][\u001b[38;5;241m1\u001b[39m][ref_i][key]\n",
      "\u001b[0;31mNameError\u001b[0m: name 'alpha_pp' is not defined"
     ]
    }
   ],
   "source": [
    "alpha_pp[round][1][ref_i][key]"
   ]
  },
  {
   "cell_type": "code",
   "execution_count": 80,
   "id": "ddb21bd4-0faf-4511-b9ad-f8f94db0eb91",
   "metadata": {},
   "outputs": [
    {
     "data": {
      "text/plain": [
       "12.905897275888458"
      ]
     },
     "execution_count": 80,
     "metadata": {},
     "output_type": "execute_result"
    }
   ],
   "source": [
    "mock_n = 100\n",
    "mock_alpha = np.linspace(0,1,51)[:-1]\n",
    "mock_rates = np.random.binomial(mock_n,mock_alpha)/mock_n\n",
    "mock_upper = interval((mock_alpha*mock_n).astype(int),mock_n)[:,1]\n",
    "mock_lower = interval((mock_alpha*mock_n).astype(int),mock_n)[:,0]\n",
    "mock_uncertainty = (mock_upper-mock_lower)/2\n",
    "\n",
    "mock_validation_sum = np.sum(((mock_rates-mock_alpha)/mock_uncertainty)**2)/1\n",
    "mock_validation_sum"
   ]
  },
  {
   "cell_type": "code",
   "execution_count": 59,
   "id": "916baef1-1f79-4408-865c-993239489a79",
   "metadata": {},
   "outputs": [
    {
     "data": {
      "text/plain": [
       "[<matplotlib.lines.Line2D at 0x7fcc256c7d00>]"
      ]
     },
     "execution_count": 59,
     "metadata": {},
     "output_type": "execute_result"
    },
    {
     "data": {
      "image/png": "[encoded data removed]",
      "text/plain": [
       "<Figure size 640x480 with 1 Axes>"
      ]
     },
     "metadata": {},
     "output_type": "display_data"
    }
   ],
   "source": [
    "plt.plot(mock_alpha,mock_rates,'r')\n",
    "plt.plot(mock_alpha,mock_alpha,'k--')\n",
    "plt.plot(mock_alpha,mock_upper,'k:')\n",
    "plt.plot(mock_alpha,mock_lower,'k:')"
   ]
  },
  {
   "cell_type": "code",
   "execution_count": 189,
   "id": "36bb83f2-7efc-4ba6-b5e5-bb9957116ef9",
   "metadata": {},
   "outputs": [],
   "source": [
    "import time\n",
    "class Timer():\n",
    "    \n",
    "    def __init__(self):\n",
    "        self.start_time = None\n",
    "        self.stop_time = None\n",
    "    \n",
    "    def start(self):\n",
    "        self.start_time = time.time()\n",
    "        \n",
    "    def stop(self,what=\"Elapsed time\"):\n",
    "        self.stop_time = time.time()\n",
    "        h,m,s = Timer.process_time(self.stop_time-self.start_time)\n",
    "        print(what + \": \"+str(h)+\" h, \"+str(m)+\" min, \"+str(s)+\" sec.\")\n",
    "        self.start()\n",
    "\n",
    "    def check(self,what=\"Elapsed time\"):\n",
    "        checked_time = time.time()\n",
    "        if not self.start_time is None:\n",
    "            time_increment = checked_time-self.start_time\n",
    "        else:\n",
    "            raise Error('There is no start time')\n",
    "        h,m,s = Timer.process_time(time_increment)\n",
    "        print(what + \": \"+str(h)+\" h, \"+str(m)+\" min, \"+str(s)+\" sec.\")\n",
    "    \n",
    "    @staticmethod\n",
    "    def process_time(s, round=False):\n",
    "        h = int(s/3600)\n",
    "        m = int((s-3600*h)/60)\n",
    "        if round: \n",
    "            s = int(s-3600*h-60*m)\n",
    "        else: \n",
    "            s = s-3600*h-60*m\n",
    "        return h, m, s\n",
    "\n",
    "T = Timer()"
   ]
  },
  {
   "cell_type": "code",
   "execution_count": 275,
   "id": "3079f550-ff52-4448-a1ea-814bd1fa661d",
   "metadata": {},
   "outputs": [],
   "source": [
    "def test_theoretical_DRP_stability(mock_n=1000, mock_n_ref=10_000, mock_tries=1):\n",
    "    # mock_n = 1000\n",
    "    # mock_n_ref = 10_000\n",
    "    # mock_tries = 10\n",
    "    T.start()\n",
    "    mock_bins = min(50, mock_n // min(10,mock_n))\n",
    "    mock_alpha = np.linspace(0,1,mock_bins+1)[1:]\n",
    "    mock_dx = mock_alpha[1]-mock_alpha[0]\n",
    "    mock_interval = interval((mock_alpha*mock_n).astype(int),mock_n)\n",
    "    mock_upper = mock_interval[:,1]\n",
    "    mock_lower = mock_interval[:,0]\n",
    "    mock_uncertainty = (mock_upper-mock_lower)/2\n",
    "    mock_validation_sums = np.zeros((mock_tries,))\n",
    "    for trial in range(mock_tries):\n",
    "        print('Computing trial '+str(trial), flush=True, end='\\r')\n",
    "        mock_validation_sum = 0\n",
    "        for ref_i in range(mock_n_ref):\n",
    "            mock_f = np.random.uniform(size=(mock_n,))\n",
    "            mock_histogram = torch.histogram(torch.tensor(mock_f), density=True, bins=mock_bins ,range=(0,1))\n",
    "            mock_h = np.array(mock_histogram.hist)\n",
    "            mock_rates = np.cumsum(mock_h)*mock_dx\n",
    "            mock_validation_sum += np.sum(((mock_rates-mock_alpha)/mock_uncertainty)**2)/mock_n_ref\n",
    "        mock_validation_sums[trial] = mock_validation_sum\n",
    "    print()\n",
    "    plt.hist(mock_validation_sums)"
   ]
  },
  {
   "cell_type": "code",
   "execution_count": 270,
   "id": "4439606a-7bf2-4357-b445-9b3cd0115bac",
   "metadata": {},
   "outputs": [
    {
     "name": "stdout",
     "output_type": "stream",
     "text": [
      "CPU times: user 54min 18s, sys: 1.34 s, total: 54min 19s\n",
      "Wall time: 1min 56s\n"
     ]
    },
    {
     "data": {
      "image/png": "[encoded data removed]",
      "text/plain": [
       "<Figure size 640x480 with 1 Axes>"
      ]
     },
     "metadata": {},
     "output_type": "display_data"
    }
   ],
   "source": [
    "%%time\n",
    "test_theoretical_DRP_stability(mock_n=1000, mock_n_ref=1_000, mock_tries=100)\n",
    "test_theoretical_DRP_stability(mock_n=1000, mock_n_ref=10_000, mock_tries=100)"
   ]
  },
  {
   "cell_type": "code",
   "execution_count": 276,
   "id": "080d6f17-bce0-42d2-a1dc-977550b1bcd2",
   "metadata": {},
   "outputs": [
    {
     "name": "stdout",
     "output_type": "stream",
     "text": [
      "Computing trial 99\n",
      "Computing trial 99\n",
      "Computing trial 99\n",
      "Computing trial 99\n",
      "CPU times: user 2h 52min 50s, sys: 963 ms, total: 2h 52min 51s\n",
      "Wall time: 6min 11s\n"
     ]
    },
    {
     "data": {
      "image/png": "[encoded data removed]",
      "text/plain": [
       "<Figure size 640x480 with 1 Axes>"
      ]
     },
     "metadata": {},
     "output_type": "display_data"
    }
   ],
   "source": [
    "%%time\n",
    "test_theoretical_DRP_stability(mock_n=500, mock_n_ref=1000, mock_tries=100)\n",
    "test_theoretical_DRP_stability(mock_n=1000, mock_n_ref=1000, mock_tries=100)\n",
    "test_theoretical_DRP_stability(mock_n=10_000, mock_n_ref=1000, mock_tries=100)\n",
    "test_theoretical_DRP_stability(mock_n=100_000, mock_n_ref=1000, mock_tries=100)"
   ]
  },
  {
   "cell_type": "code",
   "execution_count": 348,
   "id": "85bf47d9-1d8b-4fde-938f-3bf82a109c02",
   "metadata": {},
   "outputs": [
    {
     "ename": "IndexError",
     "evalue": "index 1 is out of bounds for axis 0 with size 1",
     "output_type": "error",
     "traceback": [
      "\u001b[0;31m---------------------------------------------------------------------------\u001b[0m",
      "\u001b[0;31mIndexError\u001b[0m                                Traceback (most recent call last)",
      "File \u001b[0;32m<timed exec>:1\u001b[0m\n",
      "Cell \u001b[0;32mIn[275], line 8\u001b[0m, in \u001b[0;36mtest_theoretical_DRP_stability\u001b[0;34m(mock_n, mock_n_ref, mock_tries)\u001b[0m\n\u001b[1;32m      6\u001b[0m mock_bins \u001b[38;5;241m=\u001b[39m \u001b[38;5;28mmin\u001b[39m(\u001b[38;5;241m50\u001b[39m, mock_n \u001b[38;5;241m/\u001b[39m\u001b[38;5;241m/\u001b[39m \u001b[38;5;28mmin\u001b[39m(\u001b[38;5;241m10\u001b[39m,mock_n))\n\u001b[1;32m      7\u001b[0m mock_alpha \u001b[38;5;241m=\u001b[39m np\u001b[38;5;241m.\u001b[39mlinspace(\u001b[38;5;241m0\u001b[39m,\u001b[38;5;241m1\u001b[39m,mock_bins\u001b[38;5;241m+\u001b[39m\u001b[38;5;241m1\u001b[39m)[\u001b[38;5;241m1\u001b[39m:]\n\u001b[0;32m----> 8\u001b[0m mock_dx \u001b[38;5;241m=\u001b[39m \u001b[43mmock_alpha\u001b[49m\u001b[43m[\u001b[49m\u001b[38;5;241;43m1\u001b[39;49m\u001b[43m]\u001b[49m\u001b[38;5;241m-\u001b[39mmock_alpha[\u001b[38;5;241m0\u001b[39m]\n\u001b[1;32m      9\u001b[0m mock_interval \u001b[38;5;241m=\u001b[39m interval((mock_alpha\u001b[38;5;241m*\u001b[39mmock_n)\u001b[38;5;241m.\u001b[39mastype(\u001b[38;5;28mint\u001b[39m),mock_n)\n\u001b[1;32m     10\u001b[0m mock_upper \u001b[38;5;241m=\u001b[39m mock_interval[:,\u001b[38;5;241m1\u001b[39m]\n",
      "\u001b[0;31mIndexError\u001b[0m: index 1 is out of bounds for axis 0 with size 1"
     ]
    }
   ],
   "source": [
    "%%time\n",
    "test_theoretical_DRP_stability(mock_n=10, mock_n_ref=1000, mock_tries=100)\n",
    "test_theoretical_DRP_stability(mock_n=500, mock_n_ref=1000, mock_tries=100)"
   ]
  },
  {
   "cell_type": "code",
   "execution_count": null,
   "id": "9a54abf3-81e2-4b34-a839-d093f8856574",
   "metadata": {},
   "outputs": [],
   "source": []
  },
  {
   "cell_type": "code",
   "execution_count": 277,
   "id": "45349f18-691f-49b1-97de-1906d21104ce",
   "metadata": {},
   "outputs": [
    {
     "name": "stdout",
     "output_type": "stream",
     "text": [
      "Computing trial 199\n",
      "Computing trial 199\n",
      "Computing trial 199\n",
      "CPU times: user 17h 4min 16s, sys: 29.1 s, total: 17h 4min 45s\n",
      "Wall time: 36min 46s\n"
     ]
    },
    {
     "data": {
      "image/png": "[encoded data removed]",
      "text/plain": [
       "<Figure size 640x480 with 1 Axes>"
      ]
     },
     "metadata": {},
     "output_type": "display_data"
    }
   ],
   "source": [
    "%%time\n",
    "test_theoretical_DRP_stability(mock_n=500, mock_n_ref=1_000, mock_tries=200)\n",
    "test_theoretical_DRP_stability(mock_n=500, mock_n_ref=10_000, mock_tries=200)\n",
    "test_theoretical_DRP_stability(mock_n=500, mock_n_ref=100_000, mock_tries=200)"
   ]
  },
  {
   "cell_type": "code",
   "execution_count": 366,
   "id": "e744c06e-3488-4d85-b26d-c0e32cea41b4",
   "metadata": {},
   "outputs": [
    {
     "data": {
      "text/plain": [
       "1.316227766016838"
      ]
     },
     "execution_count": 366,
     "metadata": {},
     "output_type": "execute_result"
    }
   ],
   "source": [
    "(10+10**0.5)/10"
   ]
  },
  {
   "cell_type": "code",
   "execution_count": 379,
   "id": "5c049d97-0bbd-4335-ac6c-3cf3b55a5df7",
   "metadata": {},
   "outputs": [
    {
     "data": {
      "text/plain": [
       "0.05131670194948623"
      ]
     },
     "execution_count": 379,
     "metadata": {},
     "output_type": "execute_result"
    }
   ],
   "source": [
    "(1-3*10**(-0.5))"
   ]
  },
  {
   "cell_type": "code",
   "execution_count": 393,
   "id": "65fd4439-5c92-4c79-829c-e30211765193",
   "metadata": {},
   "outputs": [],
   "source": [
    "def test_theoretical_f_stability(mock_bins=50,mock_n_per_bin=10, mock_n_ref=10_000, mock_tries=1):\n",
    "    mock_n = mock_bins*mock_n_per_bin \n",
    "    mock_alpha = np.linspace(0,1,mock_bins+1)[1:]\n",
    "    mock_dx = mock_alpha[1]-mock_alpha[0]\n",
    "    mock_upper = 1+3*mock_n_per_bin**(-0.5)\n",
    "    mock_lower = 1-3*mock_n_per_bin**(-0.5)\n",
    "    mock_uncertainty = (mock_upper-mock_lower)/2\n",
    "    mock_validation_sums = np.zeros((mock_tries,))\n",
    "    for trial in range(mock_tries):\n",
    "        print('Computing trial '+str(trial), flush=True, end='\\r')\n",
    "        mock_validation_sum = 0\n",
    "        for ref_i in range(mock_n_ref):\n",
    "            mock_f = np.random.uniform(size=(mock_n,))\n",
    "            mock_histogram = torch.histogram(torch.tensor(mock_f), density=True, bins=mock_bins ,range=(0,1))\n",
    "            mock_h = np.array(mock_histogram.hist)\n",
    "            mock_validation_sum += np.sum(((mock_h-1)/mock_uncertainty)**2)/(mock_n_ref*mock_bins)\n",
    "        mock_validation_sums[trial] = mock_validation_sum\n",
    "    print()\n",
    "    plt.hist(mock_validation_sums, density=True)"
   ]
  },
  {
   "cell_type": "code",
   "execution_count": 394,
   "id": "d2dc1941-6583-4cf0-9386-69d590d6e58d",
   "metadata": {},
   "outputs": [
    {
     "name": "stdout",
     "output_type": "stream",
     "text": [
      "Computing trial 199\n",
      "Computing trial 199\n",
      "CPU times: user 9min 22s, sys: 403 ms, total: 9min 22s\n",
      "Wall time: 20.2 s\n"
     ]
    },
    {
     "data": {
      "image/png": "[encoded data removed]",
      "text/plain": [
       "<Figure size 640x480 with 1 Axes>"
      ]
     },
     "metadata": {},
     "output_type": "display_data"
    }
   ],
   "source": [
    "%%time\n",
    "test_theoretical_f_stability(mock_bins=50, mock_n_ref=100, mock_tries=200)\n",
    "test_theoretical_f_stability(mock_bins=50, mock_n_ref=1000, mock_tries=200)"
   ]
  },
  {
   "cell_type": "code",
   "execution_count": 397,
   "id": "c50cb2d9-1491-4de1-9b9b-07bc9196035d",
   "metadata": {},
   "outputs": [
    {
     "name": "stdout",
     "output_type": "stream",
     "text": [
      "Computing trial 199\n",
      "Computing trial 199\n",
      "Computing trial 199\n",
      "CPU times: user 1h 29min 7s, sys: 2.81 s, total: 1h 29min 9s\n",
      "Wall time: 3min 11s\n"
     ]
    },
    {
     "data": {
      "image/png": "[encoded data removed]",
      "text/plain": [
       "<Figure size 640x480 with 1 Axes>"
      ]
     },
     "metadata": {},
     "output_type": "display_data"
    }
   ],
   "source": [
    "%%time\n",
    "test_theoretical_f_stability(mock_bins=50, mock_n_ref=100, mock_tries=200)\n",
    "test_theoretical_f_stability(mock_bins=50, mock_n_ref=1000, mock_tries=200)\n",
    "test_theoretical_f_stability(mock_bins=50, mock_n_ref=10_000, mock_tries=200)"
   ]
  },
  {
   "cell_type": "code",
   "execution_count": 399,
   "id": "a4ae2717-a5c1-4944-a262-b74765fe7f4d",
   "metadata": {},
   "outputs": [
    {
     "name": "stdout",
     "output_type": "stream",
     "text": [
      "Computing trial 199\n",
      "Computing trial 199\n",
      "Computing trial 199\n",
      "CPU times: user 1h 49min 3s, sys: 3.01 s, total: 1h 49min 6s\n",
      "Wall time: 3min 54s\n"
     ]
    },
    {
     "data": {
      "image/png": "[encoded data removed]",
      "text/plain": [
       "<Figure size 640x480 with 1 Axes>"
      ]
     },
     "metadata": {},
     "output_type": "display_data"
    }
   ],
   "source": [
    "%%time\n",
    "test_theoretical_f_stability(mock_bins=50, mock_n_ref=100, mock_tries=200, mock_n_per_bin=20)\n",
    "test_theoretical_f_stability(mock_bins=50, mock_n_ref=1000, mock_tries=200, mock_n_per_bin=20)\n",
    "test_theoretical_f_stability(mock_bins=50, mock_n_ref=10_000, mock_tries=200, mock_n_per_bin=20)"
   ]
  },
  {
   "cell_type": "code",
   "execution_count": 395,
   "id": "a56e38e4-d73a-4ca8-a38c-08460a4829f5",
   "metadata": {},
   "outputs": [
    {
     "name": "stdout",
     "output_type": "stream",
     "text": [
      "Computing trial 199\n",
      "Computing trial 199\n",
      "CPU times: user 2min 13s, sys: 119 ms, total: 2min 13s\n",
      "Wall time: 4.81 s\n"
     ]
    },
    {
     "data": {
      "image/png": "[encoded data removed]",
      "text/plain": [
       "<Figure size 640x480 with 1 Axes>"
      ]
     },
     "metadata": {},
     "output_type": "display_data"
    }
   ],
   "source": [
    "%%time\n",
    "test_theoretical_f_stability(mock_bins=50, mock_n_ref=100, mock_tries=200)\n",
    "test_theoretical_f_stability(mock_bins=50, mock_n_ref=100,mock_n_per_bin=100, mock_tries=200)"
   ]
  },
  {
   "cell_type": "code",
   "execution_count": 347,
   "id": "252b93bf-75e9-405f-9906-5ea6f72c6b9a",
   "metadata": {},
   "outputs": [
    {
     "data": {
      "text/plain": [
       "<matplotlib.lines.Line2D at 0x7fcc3a7a8dc0>"
      ]
     },
     "execution_count": 347,
     "metadata": {},
     "output_type": "execute_result"
    },
    {
     "data": {
      "image/png": "[encoded data removed]",
      "text/plain": [
       "<Figure size 640x480 with 1 Axes>"
      ]
     },
     "metadata": {},
     "output_type": "display_data"
    }
   ],
   "source": [
    "lam = 10\n",
    "n = 10000000\n",
    "ran=(max(0,lam-5*lam**0.5),int(lam+5*lam**0.5))\n",
    "a = plt.hist(np.random.poisson(lam=lam,size=(n,)),ran[1]-ran[0], range=ran,density=1)\n",
    "x = (a[1][1:]+a[1][:-1])/2\n",
    "\n",
    "plt.plot(x,norm.pdf(x, loc=lam, scale=lam**0.5))\n",
    "plt.axvline(lam-3*lam**0.5, color='k', linestyle=':')\n",
    "plt.axvline(lam+3*lam**0.5, color='k', linestyle=':')"
   ]
  },
  {
   "cell_type": "code",
   "execution_count": 398,
   "id": "49a9719a-9a45-4466-86d0-5c03d707d8df",
   "metadata": {},
   "outputs": [
    {
     "data": {
      "text/plain": [
       "<matplotlib.lines.Line2D at 0x7fcc24df5640>"
      ]
     },
     "execution_count": 398,
     "metadata": {},
     "output_type": "execute_result"
    },
    {
     "data": {
      "image/png": "[encoded data removed]",
      "text/plain": [
       "<Figure size 640x480 with 1 Axes>"
      ]
     },
     "metadata": {},
     "output_type": "display_data"
    }
   ],
   "source": [
    "lam = 20\n",
    "n = 10000000\n",
    "ran=(max(0,lam-5*lam**0.5),int(lam+5*lam**0.5))\n",
    "a = plt.hist(np.random.poisson(lam=lam,size=(n,)),ran[1]-ran[0], range=ran,density=1)\n",
    "x = (a[1][1:]+a[1][:-1])/2\n",
    "\n",
    "plt.plot(x,norm.pdf(x, loc=lam, scale=lam**0.5))\n",
    "plt.axvline(lam-3*lam**0.5, color='k', linestyle=':')\n",
    "plt.axvline(lam+3*lam**0.5, color='k', linestyle=':')"
   ]
  },
  {
   "cell_type": "code",
   "execution_count": null,
   "id": "b66a6f2f-54c5-4221-aa10-09d22fa8400c",
   "metadata": {},
   "outputs": [],
   "source": []
  },
  {
   "cell_type": "code",
   "execution_count": null,
   "id": "b0dbb290-7229-4717-a969-2c36df5da44a",
   "metadata": {},
   "outputs": [],
   "source": []
  },
  {
   "cell_type": "code",
   "execution_count": 115,
   "id": "45c9a747-1155-4ae8-aba7-c60e731a18d4",
   "metadata": {},
   "outputs": [
    {
     "data": {
      "text/plain": [
       "[<matplotlib.lines.Line2D at 0x7fcc258ad250>]"
      ]
     },
     "execution_count": 115,
     "metadata": {},
     "output_type": "execute_result"
    },
    {
     "data": {
      "image/png": "[encoded data removed]",
      "text/plain": [
       "<Figure size 640x480 with 1 Axes>"
      ]
     },
     "metadata": {},
     "output_type": "display_data"
    }
   ],
   "source": [
    "plt.plot(mock_alpha,mock_rates,'r')\n",
    "plt.plot(mock_alpha,mock_alpha,'k--')\n",
    "plt.plot(mock_alpha,mock_upper,'k:')\n",
    "plt.plot(mock_alpha,mock_lower,'k:')"
   ]
  },
  {
   "cell_type": "code",
   "execution_count": 247,
   "id": "c96f91c8-7305-4614-96e0-9c85e5e4bb40",
   "metadata": {},
   "outputs": [],
   "source": [
    "stuff = np.linspace(0,1,10000)\n",
    "stuff_t = torch.tensor(stuff).to('cpu')"
   ]
  },
  {
   "cell_type": "code",
   "execution_count": 248,
   "id": "83d1074f-d8ff-40b6-9937-f3e9055afda3",
   "metadata": {},
   "outputs": [
    {
     "name": "stdout",
     "output_type": "stream",
     "text": [
      "Elapsed time: 0 h, 0 min, 0.0005509853363037109 sec.\n"
     ]
    }
   ],
   "source": [
    "T.start()\n",
    "np.histogram(stuff, density=True, bins=50, range=(0,1))\n",
    "T.stop()"
   ]
  },
  {
   "cell_type": "code",
   "execution_count": 249,
   "id": "8890c8e3-3770-40c4-97df-6eb2a2358698",
   "metadata": {},
   "outputs": [
    {
     "name": "stdout",
     "output_type": "stream",
     "text": [
      "Elapsed time: 0 h, 0 min, 0.0003006458282470703 sec.\n"
     ]
    }
   ],
   "source": [
    "T.start()\n",
    "torch.histogram(stuff_t, density=True, bins=50, range=(0,1))\n",
    "T.stop()"
   ]
  },
  {
   "cell_type": "code",
   "execution_count": 298,
   "id": "22003ddd-96eb-48b2-9aa0-8892a6b8c97c",
   "metadata": {},
   "outputs": [
    {
     "ename": "NameError",
     "evalue": "name 'normal' is not defined",
     "output_type": "error",
     "traceback": [
      "\u001b[0;31m---------------------------------------------------------------------------\u001b[0m",
      "\u001b[0;31mNameError\u001b[0m                                 Traceback (most recent call last)",
      "Cell \u001b[0;32mIn[298], line 1\u001b[0m\n\u001b[0;32m----> 1\u001b[0m \u001b[43mnormal\u001b[49m\n",
      "\u001b[0;31mNameError\u001b[0m: name 'normal' is not defined"
     ]
    }
   ],
   "source": [
    "norm.pdf()"
   ]
  },
  {
   "cell_type": "code",
   "execution_count": 344,
   "id": "0068c6fd-c310-4287-93f2-9fa3522dd980",
   "metadata": {},
   "outputs": [
    {
     "data": {
      "text/plain": [
       "(array([4.08407147e-04, 1.82203189e-03, 6.06682617e-03, 1.51301048e-02,\n",
       "        8.07969339e-02, 7.19646194e-02, 9.01786181e-02, 1.00053671e-01,\n",
       "        1.91069664e-01, 7.57946064e-02, 5.82574995e-02, 4.16784894e-02,\n",
       "        4.52009510e-02, 1.02158588e-02, 5.65433895e-03, 2.96909196e-03,\n",
       "        2.20451858e-03, 3.21765631e-04, 1.38242419e-04, 7.37612908e-05]),\n",
       " array([ 0.  ,  1.25,  2.5 ,  3.75,  5.  ,  6.25,  7.5 ,  8.75, 10.  ,\n",
       "        11.25, 12.5 , 13.75, 15.  , 16.25, 17.5 , 18.75, 20.  , 21.25,\n",
       "        22.5 , 23.75, 25.  ]),\n",
       " <BarContainer object of 20 artists>)"
      ]
     },
     "execution_count": 344,
     "metadata": {},
     "output_type": "execute_result"
    }
   ],
   "source": [
    "a"
   ]
  },
  {
   "cell_type": "code",
   "execution_count": 337,
   "id": "f2eddf1c-43e4-4867-8136-ab11b25c1919",
   "metadata": {},
   "outputs": [
    {
     "data": {
      "text/plain": [
       "array([ 8,  7,  7, ...,  7,  8, 10])"
      ]
     },
     "execution_count": 337,
     "metadata": {},
     "output_type": "execute_result"
    }
   ],
   "source": [
    "np.random.poisson(lam=lam,size=(n,))"
   ]
  }
 ],
 "metadata": {
  "kernelspec": {
   "display_name": "Python 3 (ipykernel)",
   "language": "python",
   "name": "python3"
  },
  "language_info": {
   "codemirror_mode": {
    "name": "ipython",
    "version": 3
   },
   "file_extension": ".py",
   "mimetype": "text/x-python",
   "name": "python",
   "nbconvert_exporter": "python",
   "pygments_lexer": "ipython3",
   "version": "3.9.7"
  }
 },
 "nbformat": 4,
 "nbformat_minor": 5
}
