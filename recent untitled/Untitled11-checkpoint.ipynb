{
 "cells": [
  {
   "cell_type": "code",
   "execution_count": 85,
   "id": "37ae53e8-f963-41d4-8482-b86a62d8ee70",
   "metadata": {},
   "outputs": [],
   "source": [
    "import torch"
   ]
  },
  {
   "cell_type": "code",
   "execution_count": 86,
   "id": "b396e660-5e11-420c-8b10-80ef62d157cb",
   "metadata": {},
   "outputs": [],
   "source": [
    "from torch.multiprocessing import Pool"
   ]
  },
  {
   "cell_type": "code",
   "execution_count": 87,
   "id": "87916078-7128-424d-bc28-09ee0336a1a2",
   "metadata": {},
   "outputs": [],
   "source": [
    "from tqdm.auto import tqdm"
   ]
  },
  {
   "cell_type": "code",
   "execution_count": 88,
   "id": "3f9016a3-c552-4597-af3f-409e48be2520",
   "metadata": {},
   "outputs": [],
   "source": [
    "import time"
   ]
  },
  {
   "cell_type": "code",
   "execution_count": 89,
   "id": "031b0dde-a2bd-41d8-8458-720218203742",
   "metadata": {},
   "outputs": [],
   "source": [
    "import numpy as np"
   ]
  },
  {
   "cell_type": "code",
   "execution_count": 90,
   "id": "0f047db5-c293-4ecf-af27-a27df6320b6d",
   "metadata": {},
   "outputs": [],
   "source": [
    "from sleeper import sleeper, sleeper2"
   ]
  },
  {
   "cell_type": "code",
   "execution_count": 91,
   "id": "9e9cb560-9380-498d-b172-5a91dec946aa",
   "metadata": {},
   "outputs": [],
   "source": [
    "# def sleeper(t):\n",
    "#     x = []\n",
    "#     for i in tqdm(range(int(t))):\n",
    "#         x.append(np.exp(np.random.randn(1))[0])\n",
    "#     return x"
   ]
  },
  {
   "cell_type": "code",
   "execution_count": 92,
   "id": "c95fbd35-b9b5-4bfa-9035-ed11b208581a",
   "metadata": {},
   "outputs": [],
   "source": [
    "torch.multiprocessing.set_start_method('spawn', force=True)"
   ]
  },
  {
   "cell_type": "code",
   "execution_count": 93,
   "id": "a85a0659-6d49-4a33-a173-66268ff7a079",
   "metadata": {},
   "outputs": [],
   "source": [
    "n = 1e8"
   ]
  },
  {
   "cell_type": "code",
   "execution_count": 94,
   "id": "e6a22470-4c53-41c1-a721-e58a16aa4d43",
   "metadata": {},
   "outputs": [
    {
     "name": "stderr",
     "output_type": "stream",
     "text": [
      "100%|██████████| 25000000/25000000 [01:49<00:00, 228074.24it/s]\n",
      "100%|██████████| 25000000/25000000 [01:53<00:00, 220580.93it/s]\n",
      "100%|██████████| 25000000/25000000 [01:55<00:00, 216638.21it/s]\n",
      "100%|██████████| 25000000/25000000 [02:01<00:00, 206161.86it/s]\n"
     ]
    },
    {
     "name": "stdout",
     "output_type": "stream",
     "text": [
      "CPU times: user 862 ms, sys: 309 ms, total: 1.17 s\n",
      "Wall time: 2min 2s\n"
     ]
    }
   ],
   "source": [
    "%%time\n",
    "# n = 1e4\n",
    "n_procs = 4\n",
    "with Pool(n_procs) as pool: \n",
    "    pool.map(sleeper, [int(n/n_procs)]*n_procs)"
   ]
  },
  {
   "cell_type": "code",
   "execution_count": null,
   "id": "f04a2b44-72ff-41ba-8806-3b57ff2f7da9",
   "metadata": {},
   "outputs": [],
   "source": [
    "%%time\n",
    "# n = 1e+4\n",
    "n_procs = 4\n",
    "with Pool(n_procs) as pool: \n",
    "    pool.map(sleeper2, [1]*int(n), chunksize=int(n/n_procs))"
   ]
  },
  {
   "cell_type": "code",
   "execution_count": null,
   "id": "fe4477f8-ffe2-42d8-8f4c-510da421f4e0",
   "metadata": {},
   "outputs": [],
   "source": [
    "%%time\n",
    "# n = 1e4\n",
    "n_procs = 2\n",
    "with Pool(n_procs) as pool: \n",
    "    pool.map(sleeper, [int(n/n_procs)]*n_procs)"
   ]
  },
  {
   "cell_type": "code",
   "execution_count": null,
   "id": "79978d92-be4e-40a2-8d53-5dc81abf159c",
   "metadata": {},
   "outputs": [],
   "source": [
    "%%time\n",
    "# n = 1e4\n",
    "n_procs = 1\n",
    "with Pool(n_procs) as pool: \n",
    "    pool.map(sleeper, [int(n/n_procs)]*n_procs)"
   ]
  },
  {
   "cell_type": "code",
   "execution_count": null,
   "id": "1ae07695-539f-4b7f-a841-d4fc37c20b63",
   "metadata": {},
   "outputs": [],
   "source": [
    "np.random.randn(1)[0]"
   ]
  },
  {
   "cell_type": "code",
   "execution_count": null,
   "id": "4bfcde04-77c5-4111-8ca3-ae4567424b51",
   "metadata": {},
   "outputs": [],
   "source": []
  }
 ],
 "metadata": {
  "kernelspec": {
   "display_name": "Python 3 (ipykernel)",
   "language": "python",
   "name": "python3"
  },
  "language_info": {
   "codemirror_mode": {
    "name": "ipython",
    "version": 3
   },
   "file_extension": ".py",
   "mimetype": "text/x-python",
   "name": "python",
   "nbconvert_exporter": "python",
   "pygments_lexer": "ipython3",
   "version": "3.9.7"
  }
 },
 "nbformat": 4,
 "nbformat_minor": 5
}
